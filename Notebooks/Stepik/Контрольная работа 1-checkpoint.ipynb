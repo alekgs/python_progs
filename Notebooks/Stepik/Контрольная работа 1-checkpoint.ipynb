{
 "cells": [
  {
   "cell_type": "markdown",
   "metadata": {},
   "source": [
    "# Контрольная работа № 1"
   ]
  },
  {
   "cell_type": "code",
   "execution_count": 2,
   "metadata": {},
   "outputs": [],
   "source": [
    "import pandas as pd\n",
    "import numpy as np\n",
    "pd.options.mode.chained_assignment = 'warn'"
   ]
  },
  {
   "cell_type": "markdown",
   "metadata": {},
   "source": [
    "### Датафрейм с которым вы будете сегодня работать"
   ]
  },
  {
   "cell_type": "code",
   "execution_count": 3,
   "metadata": {},
   "outputs": [],
   "source": [
    "data = [['Girev', 'Andrey', 'ВИП', 2815, 29, 58, 6358, 'Moscow', 'Xiaomi'],\n",
    "       ['Bykin', 'Stas', 'Все за 300', 3634, 37, 78, 602, 'Kazan',\n",
    "        'Samsung'],\n",
    "       ['Ivanov', 'Alex', 'Всё за 800', 410, 47, 81, 3582, 'Moscow',\n",
    "        'Huawei'],\n",
    "       ['Andreev', 'Sergey', 'Всё за 500', 1981, 75, 98, 5442, 'Kazan',\n",
    "        'Apple'],\n",
    "       ['Girev', 'Stas', 'Всё за 800', 4969, 43, 61, 8510, 'Moscow',\n",
    "        'Samsung'],\n",
    "       ['Bykin', 'Andrey', 'Всё за 500', 4308, 49, 39, 2525, 'Moscow',\n",
    "        'Xiaomi'],\n",
    "       ['Kozlov', 'Igor', 'Всё за 800', 300, 60, 31, 8543, 'Yakutsk',\n",
    "        'Samsung'],\n",
    "       ['Girev', 'Alex', 'Промо', 4199, 47, 90, 3925, 'Kazan', 'Apple'],\n",
    "       ['Petrov', 'Nikolay', 'ВИП', 4810, 72, 88, 7188, 'Moscow',\n",
    "        'Apple'],\n",
    "       ['Andreev', 'Sergey', 'Всё за 800', 4118, 52, 53, 419, 'Yakutsk',\n",
    "        'Apple'],\n",
    "       ['Smolov', 'Stas', 'Промо', 1991, 28, 67, 5016, 'Kazan', 'Xiaomi'],\n",
    "       ['Girev', 'Igor', 'Корпоративный', 1430, 69, 19, 9520, 'Yakutsk',\n",
    "        'Samsung'],\n",
    "       ['Kozlov', 'Andrey', 'Корпоративный', 113, 71, 82, 2785, 'Kazan',\n",
    "        'Apple'],\n",
    "       ['Ivanov', 'Sergey', 'Промо', 3394, 39, 12, 2718, 'Yakutsk',\n",
    "        'Xiaomi'],\n",
    "       ['Smolov', 'Sergey', 'Всё за 250 (архив)', 3493, 32, 6, 8959,\n",
    "        'Yakutsk', 'Huawei'],\n",
    "       ['Kozlov', 'Stas', 'Всё за 800', 4565, 59, 82, 3168, 'Moscow',\n",
    "        'Apple'],\n",
    "       ['Vlasov', 'Andrey', 'Всё за 800', 3192, 29, 74, 2852, 'Yakutsk',\n",
    "        'Xiaomi'],\n",
    "       ['Smolov', 'Alex', 'Корпоративный', 3764, 71, 22, 2768, 'Moscow',\n",
    "        'Huawei'],\n",
    "       ['Vlasov', 'Sergey', 'Всё за 800', 3816, 28, 35, 5734,\n",
    "        'Vladivostok', 'Apple'],\n",
    "       ['Bykin', 'Alex', 'Промо', 817, 65, 34, 2131, 'Vladivostok',\n",
    "        'Samsung'],\n",
    "       ['Andreev', 'Nikolay', 'Всё за 500', 385, 49, 62, 1815, 'Kazan',\n",
    "        'Xiaomi'],\n",
    "       ['Bykin', 'Igor', 'Всё за 500', 2642, 38, 11, 3787, 'Moscow',\n",
    "        'Xiaomi'],\n",
    "       ['Girev', 'Sergey', 'Все за 300', 4230, 62, 68, 5512,\n",
    "        'Vladivostok', 'Samsung'],\n",
    "       ['Bykin', 'Sergey', 'Всё за 800', 4100, 48, 39, 227, 'Moscow',\n",
    "        'Xiaomi'],\n",
    "       ['Girev', 'Stas', 'Все за 300', 3371, 53, 24, 7946, 'Kazan',\n",
    "        'Apple'],\n",
    "       ['Smolov', 'Sergey', 'Корпоративный', 3577, 70, 71, 8847,\n",
    "        'Yakutsk', 'Huawei'],\n",
    "       ['Mezov', 'Nikolay', 'Всё за 250 (архив)', 2742, 28, 19, 7115,\n",
    "        'Yakutsk', 'Huawei'],\n",
    "       ['Smolov', 'Stas', 'Всё за 500', 2644, 41, 33, 8341, 'Moscow',\n",
    "        'Xiaomi'],\n",
    "       ['Vlasov', 'Andrey', 'Всё за 500', 4725, 26, 93, 9441,\n",
    "        'Vladivostok', 'Xiaomi'],\n",
    "       ['Ivanov', 'Nikolay', 'Всё за 500', 2785, 41, 5, 2901, 'Moscow',\n",
    "        'Samsung']]\n",
    "\n",
    "df = pd.DataFrame(data, columns = ['surname', 'name', 'tarif', 'balance', 'age', 'sms', 'voice', 'city', 'phone'])"
   ]
  },
  {
   "cell_type": "code",
   "execution_count": 4,
   "metadata": {},
   "outputs": [
    {
     "data": {
      "text/html": [
       "<div>\n",
       "<style scoped>\n",
       "    .dataframe tbody tr th:only-of-type {\n",
       "        vertical-align: middle;\n",
       "    }\n",
       "\n",
       "    .dataframe tbody tr th {\n",
       "        vertical-align: top;\n",
       "    }\n",
       "\n",
       "    .dataframe thead th {\n",
       "        text-align: right;\n",
       "    }\n",
       "</style>\n",
       "<table border=\"1\" class=\"dataframe\">\n",
       "  <thead>\n",
       "    <tr style=\"text-align: right;\">\n",
       "      <th></th>\n",
       "      <th>surname</th>\n",
       "      <th>name</th>\n",
       "      <th>tarif</th>\n",
       "      <th>balance</th>\n",
       "      <th>age</th>\n",
       "      <th>sms</th>\n",
       "      <th>voice</th>\n",
       "      <th>city</th>\n",
       "      <th>phone</th>\n",
       "    </tr>\n",
       "  </thead>\n",
       "  <tbody>\n",
       "    <tr>\n",
       "      <th>0</th>\n",
       "      <td>Girev</td>\n",
       "      <td>Andrey</td>\n",
       "      <td>ВИП</td>\n",
       "      <td>2815</td>\n",
       "      <td>29</td>\n",
       "      <td>58</td>\n",
       "      <td>6358</td>\n",
       "      <td>Moscow</td>\n",
       "      <td>Xiaomi</td>\n",
       "    </tr>\n",
       "    <tr>\n",
       "      <th>1</th>\n",
       "      <td>Bykin</td>\n",
       "      <td>Stas</td>\n",
       "      <td>Все за 300</td>\n",
       "      <td>3634</td>\n",
       "      <td>37</td>\n",
       "      <td>78</td>\n",
       "      <td>602</td>\n",
       "      <td>Kazan</td>\n",
       "      <td>Samsung</td>\n",
       "    </tr>\n",
       "    <tr>\n",
       "      <th>2</th>\n",
       "      <td>Ivanov</td>\n",
       "      <td>Alex</td>\n",
       "      <td>Всё за 800</td>\n",
       "      <td>410</td>\n",
       "      <td>47</td>\n",
       "      <td>81</td>\n",
       "      <td>3582</td>\n",
       "      <td>Moscow</td>\n",
       "      <td>Huawei</td>\n",
       "    </tr>\n",
       "    <tr>\n",
       "      <th>3</th>\n",
       "      <td>Andreev</td>\n",
       "      <td>Sergey</td>\n",
       "      <td>Всё за 500</td>\n",
       "      <td>1981</td>\n",
       "      <td>75</td>\n",
       "      <td>98</td>\n",
       "      <td>5442</td>\n",
       "      <td>Kazan</td>\n",
       "      <td>Apple</td>\n",
       "    </tr>\n",
       "    <tr>\n",
       "      <th>4</th>\n",
       "      <td>Girev</td>\n",
       "      <td>Stas</td>\n",
       "      <td>Всё за 800</td>\n",
       "      <td>4969</td>\n",
       "      <td>43</td>\n",
       "      <td>61</td>\n",
       "      <td>8510</td>\n",
       "      <td>Moscow</td>\n",
       "      <td>Samsung</td>\n",
       "    </tr>\n",
       "    <tr>\n",
       "      <th>5</th>\n",
       "      <td>Bykin</td>\n",
       "      <td>Andrey</td>\n",
       "      <td>Всё за 500</td>\n",
       "      <td>4308</td>\n",
       "      <td>49</td>\n",
       "      <td>39</td>\n",
       "      <td>2525</td>\n",
       "      <td>Moscow</td>\n",
       "      <td>Xiaomi</td>\n",
       "    </tr>\n",
       "    <tr>\n",
       "      <th>6</th>\n",
       "      <td>Kozlov</td>\n",
       "      <td>Igor</td>\n",
       "      <td>Всё за 800</td>\n",
       "      <td>300</td>\n",
       "      <td>60</td>\n",
       "      <td>31</td>\n",
       "      <td>8543</td>\n",
       "      <td>Yakutsk</td>\n",
       "      <td>Samsung</td>\n",
       "    </tr>\n",
       "    <tr>\n",
       "      <th>7</th>\n",
       "      <td>Girev</td>\n",
       "      <td>Alex</td>\n",
       "      <td>Промо</td>\n",
       "      <td>4199</td>\n",
       "      <td>47</td>\n",
       "      <td>90</td>\n",
       "      <td>3925</td>\n",
       "      <td>Kazan</td>\n",
       "      <td>Apple</td>\n",
       "    </tr>\n",
       "    <tr>\n",
       "      <th>8</th>\n",
       "      <td>Petrov</td>\n",
       "      <td>Nikolay</td>\n",
       "      <td>ВИП</td>\n",
       "      <td>4810</td>\n",
       "      <td>72</td>\n",
       "      <td>88</td>\n",
       "      <td>7188</td>\n",
       "      <td>Moscow</td>\n",
       "      <td>Apple</td>\n",
       "    </tr>\n",
       "    <tr>\n",
       "      <th>9</th>\n",
       "      <td>Andreev</td>\n",
       "      <td>Sergey</td>\n",
       "      <td>Всё за 800</td>\n",
       "      <td>4118</td>\n",
       "      <td>52</td>\n",
       "      <td>53</td>\n",
       "      <td>419</td>\n",
       "      <td>Yakutsk</td>\n",
       "      <td>Apple</td>\n",
       "    </tr>\n",
       "    <tr>\n",
       "      <th>10</th>\n",
       "      <td>Smolov</td>\n",
       "      <td>Stas</td>\n",
       "      <td>Промо</td>\n",
       "      <td>1991</td>\n",
       "      <td>28</td>\n",
       "      <td>67</td>\n",
       "      <td>5016</td>\n",
       "      <td>Kazan</td>\n",
       "      <td>Xiaomi</td>\n",
       "    </tr>\n",
       "    <tr>\n",
       "      <th>11</th>\n",
       "      <td>Girev</td>\n",
       "      <td>Igor</td>\n",
       "      <td>Корпоративный</td>\n",
       "      <td>1430</td>\n",
       "      <td>69</td>\n",
       "      <td>19</td>\n",
       "      <td>9520</td>\n",
       "      <td>Yakutsk</td>\n",
       "      <td>Samsung</td>\n",
       "    </tr>\n",
       "    <tr>\n",
       "      <th>12</th>\n",
       "      <td>Kozlov</td>\n",
       "      <td>Andrey</td>\n",
       "      <td>Корпоративный</td>\n",
       "      <td>113</td>\n",
       "      <td>71</td>\n",
       "      <td>82</td>\n",
       "      <td>2785</td>\n",
       "      <td>Kazan</td>\n",
       "      <td>Apple</td>\n",
       "    </tr>\n",
       "    <tr>\n",
       "      <th>13</th>\n",
       "      <td>Ivanov</td>\n",
       "      <td>Sergey</td>\n",
       "      <td>Промо</td>\n",
       "      <td>3394</td>\n",
       "      <td>39</td>\n",
       "      <td>12</td>\n",
       "      <td>2718</td>\n",
       "      <td>Yakutsk</td>\n",
       "      <td>Xiaomi</td>\n",
       "    </tr>\n",
       "    <tr>\n",
       "      <th>14</th>\n",
       "      <td>Smolov</td>\n",
       "      <td>Sergey</td>\n",
       "      <td>Всё за 250 (архив)</td>\n",
       "      <td>3493</td>\n",
       "      <td>32</td>\n",
       "      <td>6</td>\n",
       "      <td>8959</td>\n",
       "      <td>Yakutsk</td>\n",
       "      <td>Huawei</td>\n",
       "    </tr>\n",
       "    <tr>\n",
       "      <th>15</th>\n",
       "      <td>Kozlov</td>\n",
       "      <td>Stas</td>\n",
       "      <td>Всё за 800</td>\n",
       "      <td>4565</td>\n",
       "      <td>59</td>\n",
       "      <td>82</td>\n",
       "      <td>3168</td>\n",
       "      <td>Moscow</td>\n",
       "      <td>Apple</td>\n",
       "    </tr>\n",
       "    <tr>\n",
       "      <th>16</th>\n",
       "      <td>Vlasov</td>\n",
       "      <td>Andrey</td>\n",
       "      <td>Всё за 800</td>\n",
       "      <td>3192</td>\n",
       "      <td>29</td>\n",
       "      <td>74</td>\n",
       "      <td>2852</td>\n",
       "      <td>Yakutsk</td>\n",
       "      <td>Xiaomi</td>\n",
       "    </tr>\n",
       "    <tr>\n",
       "      <th>17</th>\n",
       "      <td>Smolov</td>\n",
       "      <td>Alex</td>\n",
       "      <td>Корпоративный</td>\n",
       "      <td>3764</td>\n",
       "      <td>71</td>\n",
       "      <td>22</td>\n",
       "      <td>2768</td>\n",
       "      <td>Moscow</td>\n",
       "      <td>Huawei</td>\n",
       "    </tr>\n",
       "    <tr>\n",
       "      <th>18</th>\n",
       "      <td>Vlasov</td>\n",
       "      <td>Sergey</td>\n",
       "      <td>Всё за 800</td>\n",
       "      <td>3816</td>\n",
       "      <td>28</td>\n",
       "      <td>35</td>\n",
       "      <td>5734</td>\n",
       "      <td>Vladivostok</td>\n",
       "      <td>Apple</td>\n",
       "    </tr>\n",
       "    <tr>\n",
       "      <th>19</th>\n",
       "      <td>Bykin</td>\n",
       "      <td>Alex</td>\n",
       "      <td>Промо</td>\n",
       "      <td>817</td>\n",
       "      <td>65</td>\n",
       "      <td>34</td>\n",
       "      <td>2131</td>\n",
       "      <td>Vladivostok</td>\n",
       "      <td>Samsung</td>\n",
       "    </tr>\n",
       "    <tr>\n",
       "      <th>20</th>\n",
       "      <td>Andreev</td>\n",
       "      <td>Nikolay</td>\n",
       "      <td>Всё за 500</td>\n",
       "      <td>385</td>\n",
       "      <td>49</td>\n",
       "      <td>62</td>\n",
       "      <td>1815</td>\n",
       "      <td>Kazan</td>\n",
       "      <td>Xiaomi</td>\n",
       "    </tr>\n",
       "    <tr>\n",
       "      <th>21</th>\n",
       "      <td>Bykin</td>\n",
       "      <td>Igor</td>\n",
       "      <td>Всё за 500</td>\n",
       "      <td>2642</td>\n",
       "      <td>38</td>\n",
       "      <td>11</td>\n",
       "      <td>3787</td>\n",
       "      <td>Moscow</td>\n",
       "      <td>Xiaomi</td>\n",
       "    </tr>\n",
       "    <tr>\n",
       "      <th>22</th>\n",
       "      <td>Girev</td>\n",
       "      <td>Sergey</td>\n",
       "      <td>Все за 300</td>\n",
       "      <td>4230</td>\n",
       "      <td>62</td>\n",
       "      <td>68</td>\n",
       "      <td>5512</td>\n",
       "      <td>Vladivostok</td>\n",
       "      <td>Samsung</td>\n",
       "    </tr>\n",
       "    <tr>\n",
       "      <th>23</th>\n",
       "      <td>Bykin</td>\n",
       "      <td>Sergey</td>\n",
       "      <td>Всё за 800</td>\n",
       "      <td>4100</td>\n",
       "      <td>48</td>\n",
       "      <td>39</td>\n",
       "      <td>227</td>\n",
       "      <td>Moscow</td>\n",
       "      <td>Xiaomi</td>\n",
       "    </tr>\n",
       "    <tr>\n",
       "      <th>24</th>\n",
       "      <td>Girev</td>\n",
       "      <td>Stas</td>\n",
       "      <td>Все за 300</td>\n",
       "      <td>3371</td>\n",
       "      <td>53</td>\n",
       "      <td>24</td>\n",
       "      <td>7946</td>\n",
       "      <td>Kazan</td>\n",
       "      <td>Apple</td>\n",
       "    </tr>\n",
       "    <tr>\n",
       "      <th>25</th>\n",
       "      <td>Smolov</td>\n",
       "      <td>Sergey</td>\n",
       "      <td>Корпоративный</td>\n",
       "      <td>3577</td>\n",
       "      <td>70</td>\n",
       "      <td>71</td>\n",
       "      <td>8847</td>\n",
       "      <td>Yakutsk</td>\n",
       "      <td>Huawei</td>\n",
       "    </tr>\n",
       "    <tr>\n",
       "      <th>26</th>\n",
       "      <td>Mezov</td>\n",
       "      <td>Nikolay</td>\n",
       "      <td>Всё за 250 (архив)</td>\n",
       "      <td>2742</td>\n",
       "      <td>28</td>\n",
       "      <td>19</td>\n",
       "      <td>7115</td>\n",
       "      <td>Yakutsk</td>\n",
       "      <td>Huawei</td>\n",
       "    </tr>\n",
       "    <tr>\n",
       "      <th>27</th>\n",
       "      <td>Smolov</td>\n",
       "      <td>Stas</td>\n",
       "      <td>Всё за 500</td>\n",
       "      <td>2644</td>\n",
       "      <td>41</td>\n",
       "      <td>33</td>\n",
       "      <td>8341</td>\n",
       "      <td>Moscow</td>\n",
       "      <td>Xiaomi</td>\n",
       "    </tr>\n",
       "    <tr>\n",
       "      <th>28</th>\n",
       "      <td>Vlasov</td>\n",
       "      <td>Andrey</td>\n",
       "      <td>Всё за 500</td>\n",
       "      <td>4725</td>\n",
       "      <td>26</td>\n",
       "      <td>93</td>\n",
       "      <td>9441</td>\n",
       "      <td>Vladivostok</td>\n",
       "      <td>Xiaomi</td>\n",
       "    </tr>\n",
       "    <tr>\n",
       "      <th>29</th>\n",
       "      <td>Ivanov</td>\n",
       "      <td>Nikolay</td>\n",
       "      <td>Всё за 500</td>\n",
       "      <td>2785</td>\n",
       "      <td>41</td>\n",
       "      <td>5</td>\n",
       "      <td>2901</td>\n",
       "      <td>Moscow</td>\n",
       "      <td>Samsung</td>\n",
       "    </tr>\n",
       "  </tbody>\n",
       "</table>\n",
       "</div>"
      ],
      "text/plain": [
       "    surname     name               tarif  balance  age  sms  voice  \\\n",
       "0     Girev   Andrey                 ВИП     2815   29   58   6358   \n",
       "1     Bykin     Stas          Все за 300     3634   37   78    602   \n",
       "2    Ivanov     Alex          Всё за 800      410   47   81   3582   \n",
       "3   Andreev   Sergey          Всё за 500     1981   75   98   5442   \n",
       "4     Girev     Stas          Всё за 800     4969   43   61   8510   \n",
       "5     Bykin   Andrey          Всё за 500     4308   49   39   2525   \n",
       "6    Kozlov     Igor          Всё за 800      300   60   31   8543   \n",
       "7     Girev     Alex               Промо     4199   47   90   3925   \n",
       "8    Petrov  Nikolay                 ВИП     4810   72   88   7188   \n",
       "9   Andreev   Sergey          Всё за 800     4118   52   53    419   \n",
       "10   Smolov     Stas               Промо     1991   28   67   5016   \n",
       "11    Girev     Igor       Корпоративный     1430   69   19   9520   \n",
       "12   Kozlov   Andrey       Корпоративный      113   71   82   2785   \n",
       "13   Ivanov   Sergey               Промо     3394   39   12   2718   \n",
       "14   Smolov   Sergey  Всё за 250 (архив)     3493   32    6   8959   \n",
       "15   Kozlov     Stas          Всё за 800     4565   59   82   3168   \n",
       "16   Vlasov   Andrey          Всё за 800     3192   29   74   2852   \n",
       "17   Smolov     Alex       Корпоративный     3764   71   22   2768   \n",
       "18   Vlasov   Sergey          Всё за 800     3816   28   35   5734   \n",
       "19    Bykin     Alex               Промо      817   65   34   2131   \n",
       "20  Andreev  Nikolay          Всё за 500      385   49   62   1815   \n",
       "21    Bykin     Igor          Всё за 500     2642   38   11   3787   \n",
       "22    Girev   Sergey          Все за 300     4230   62   68   5512   \n",
       "23    Bykin   Sergey          Всё за 800     4100   48   39    227   \n",
       "24    Girev     Stas          Все за 300     3371   53   24   7946   \n",
       "25   Smolov   Sergey       Корпоративный     3577   70   71   8847   \n",
       "26    Mezov  Nikolay  Всё за 250 (архив)     2742   28   19   7115   \n",
       "27   Smolov     Stas          Всё за 500     2644   41   33   8341   \n",
       "28   Vlasov   Andrey          Всё за 500     4725   26   93   9441   \n",
       "29   Ivanov  Nikolay          Всё за 500     2785   41    5   2901   \n",
       "\n",
       "           city    phone  \n",
       "0        Moscow   Xiaomi  \n",
       "1         Kazan  Samsung  \n",
       "2        Moscow   Huawei  \n",
       "3         Kazan    Apple  \n",
       "4        Moscow  Samsung  \n",
       "5        Moscow   Xiaomi  \n",
       "6       Yakutsk  Samsung  \n",
       "7         Kazan    Apple  \n",
       "8        Moscow    Apple  \n",
       "9       Yakutsk    Apple  \n",
       "10        Kazan   Xiaomi  \n",
       "11      Yakutsk  Samsung  \n",
       "12        Kazan    Apple  \n",
       "13      Yakutsk   Xiaomi  \n",
       "14      Yakutsk   Huawei  \n",
       "15       Moscow    Apple  \n",
       "16      Yakutsk   Xiaomi  \n",
       "17       Moscow   Huawei  \n",
       "18  Vladivostok    Apple  \n",
       "19  Vladivostok  Samsung  \n",
       "20        Kazan   Xiaomi  \n",
       "21       Moscow   Xiaomi  \n",
       "22  Vladivostok  Samsung  \n",
       "23       Moscow   Xiaomi  \n",
       "24        Kazan    Apple  \n",
       "25      Yakutsk   Huawei  \n",
       "26      Yakutsk   Huawei  \n",
       "27       Moscow   Xiaomi  \n",
       "28  Vladivostok   Xiaomi  \n",
       "29       Moscow  Samsung  "
      ]
     },
     "execution_count": 4,
     "metadata": {},
     "output_type": "execute_result"
    }
   ],
   "source": [
    "df"
   ]
  },
  {
   "cell_type": "code",
   "execution_count": 4,
   "metadata": {},
   "outputs": [],
   "source": [
    "#surname    - Фамилия клиента \n",
    "#name       - Имя клиента\n",
    "#tarif      - Тариф клиента\n",
    "#balance\t- Баланс клиента\n",
    "#age\t    - Возраст клиента\n",
    "#sms\t    - Количество отправленных СМС\n",
    "#voice\t    - Количество секунд разговора (звонки)\n",
    "#city\t    - Город клиента\n",
    "#phone      - Марка телефона клиента"
   ]
  },
  {
   "cell_type": "markdown",
   "metadata": {},
   "source": [
    "## Ответы на вопросы загрузите на степик"
   ]
  },
  {
   "cell_type": "markdown",
   "metadata": {},
   "source": [
    "### Вопрос 1: определите средний возраст клиента"
   ]
  },
  {
   "cell_type": "code",
   "execution_count": 5,
   "metadata": {},
   "outputs": [
    {
     "data": {
      "text/plain": [
       "48.6"
      ]
     },
     "execution_count": 5,
     "metadata": {},
     "output_type": "execute_result"
    }
   ],
   "source": [
    "df['age'].mean()"
   ]
  },
  {
   "cell_type": "markdown",
   "metadata": {},
   "source": [
    "### Вопрос 2: на каком тарифе средний возраст клиента наименьший"
   ]
  },
  {
   "cell_type": "code",
   "execution_count": 81,
   "metadata": {},
   "outputs": [
    {
     "data": {
      "text/plain": [
       "tarif\n",
       "ВИП                   50.500000\n",
       "Все за 300            50.666667\n",
       "Всё за 250 (архив)    30.000000\n",
       "Всё за 500            45.571429\n",
       "Всё за 800            45.750000\n",
       "Корпоративный         70.250000\n",
       "Промо                 44.750000\n",
       "Name: age, dtype: float64"
      ]
     },
     "execution_count": 81,
     "metadata": {},
     "output_type": "execute_result"
    }
   ],
   "source": [
    "df.groupby(['tarif'])['age'].mean()"
   ]
  },
  {
   "cell_type": "markdown",
   "metadata": {},
   "source": [
    "### Вопрос 3: с какого города больше всего клиентов?"
   ]
  },
  {
   "cell_type": "code",
   "execution_count": 92,
   "metadata": {},
   "outputs": [
    {
     "data": {
      "text/plain": [
       "Moscow         11\n",
       "Yakutsk         8\n",
       "Kazan           7\n",
       "Vladivostok     4\n",
       "Name: city, dtype: int64"
      ]
     },
     "execution_count": 92,
     "metadata": {},
     "output_type": "execute_result"
    }
   ],
   "source": [
    "df['city'].value_counts()"
   ]
  },
  {
   "cell_type": "markdown",
   "metadata": {},
   "source": [
    "### Вопрос 4: на каком тарифе отправили больше всего СМС?"
   ]
  },
  {
   "cell_type": "code",
   "execution_count": 120,
   "metadata": {},
   "outputs": [
    {
     "data": {
      "text/plain": [
       "'Всё за 800'"
      ]
     },
     "execution_count": 120,
     "metadata": {},
     "output_type": "execute_result"
    }
   ],
   "source": [
    "df.groupby(['tarif'])['sms'].sum().idxmax()\n",
    "\n"
   ]
  },
  {
   "cell_type": "markdown",
   "metadata": {},
   "source": [
    "### Вопрос 5: определите самую популярную марку смартфона у пользователей до 40 (включительно) "
   ]
  },
  {
   "cell_type": "code",
   "execution_count": 209,
   "metadata": {},
   "outputs": [
    {
     "data": {
      "text/plain": [
       "'Xiaomi'"
      ]
     },
     "execution_count": 209,
     "metadata": {},
     "output_type": "execute_result"
    }
   ],
   "source": [
    "#df[df.age <= 40]['phone'].value_counts()\n",
    "#df.loc[df['age'] < 40]['phone'].describe()[2:]\n",
    "\n",
    "df[df['age'] <= 40].value_counts('phone').idxmax()\n"
   ]
  },
  {
   "cell_type": "markdown",
   "metadata": {},
   "source": [
    "### Вопрос 6: определите самую популярную марку смартфона у пользователей старше 40 "
   ]
  },
  {
   "cell_type": "code",
   "execution_count": 208,
   "metadata": {},
   "outputs": [
    {
     "data": {
      "text/plain": [
       "'Apple'"
      ]
     },
     "execution_count": 208,
     "metadata": {},
     "output_type": "execute_result"
    }
   ],
   "source": [
    "df[df['age'] > 40].value_counts('phone').idxmax()"
   ]
  },
  {
   "cell_type": "markdown",
   "metadata": {},
   "source": [
    "### Вопрос 7: В каком городе клиенты меньше всего отправляют СМС"
   ]
  },
  {
   "cell_type": "code",
   "execution_count": 259,
   "metadata": {},
   "outputs": [
    {
     "name": "stdout",
     "output_type": "stream",
     "text": [
      "Moscow 519\n",
      "Kazan 501\n",
      "Yakutsk 285\n",
      "Vladivostok 230\n"
     ]
    }
   ],
   "source": [
    "# df.groupby('city').sms.sum()\n",
    "\n",
    "for z in df['city'].unique():\n",
    "    print(z,df.loc[df['city']==z,'sms'].sum())\n"
   ]
  },
  {
   "cell_type": "markdown",
   "metadata": {},
   "source": [
    "### Вопрос 8: В каком городе клиенты больше всего говорят по телефону?"
   ]
  },
  {
   "cell_type": "code",
   "execution_count": 262,
   "metadata": {},
   "outputs": [
    {
     "data": {
      "text/plain": [
       "city\n",
       "Kazan          27531\n",
       "Moscow         49355\n",
       "Vladivostok    22818\n",
       "Yakutsk        48973\n",
       "Name: voice, dtype: int64"
      ]
     },
     "execution_count": 262,
     "metadata": {},
     "output_type": "execute_result"
    }
   ],
   "source": [
    "df.groupby(['city'])['voice'].sum()\n",
    "\n",
    "#for z in df['city'].unique():\n",
    "#    print(z,df.loc[df['city'] == z,'voice'].sum())\n",
    " \n",
    "\n"
   ]
  },
  {
   "cell_type": "markdown",
   "metadata": {},
   "source": [
    "### Вопрос 9: Сколько заработала фирма на СМС сообщениях? Стоимость одного сообщения 3 рубля."
   ]
  },
  {
   "cell_type": "code",
   "execution_count": 272,
   "metadata": {},
   "outputs": [
    {
     "data": {
      "text/plain": [
       "4605"
      ]
     },
     "execution_count": 272,
     "metadata": {},
     "output_type": "execute_result"
    }
   ],
   "source": [
    "df['sms'].sum() * 3\n",
    "   \n",
    "#for z in df['city'].unique():\n",
    "#    print(z,df.loc[df['city']==z,'sms'].sum()*3)\n"
   ]
  },
  {
   "cell_type": "markdown",
   "metadata": {},
   "source": [
    "### Вопрос 10: Сколько заработала фирма на СМС сообщениях? "
   ]
  },
  {
   "cell_type": "markdown",
   "metadata": {},
   "source": [
    "Тарифная сетка:\n",
    "ВИП                   - 1 рубль за СМС\n",
    "Все за 300            - 2 рубля за СМС\n",
    "Всё за 500            - 3 рубля за СМС\n",
    "Всё за 800            - 4 рубля за СМС\n",
    "Промо                 - 7 рублей за СМС\n",
    "Корпоративный         - 0 рублей за СМС\n",
    "Всё за 250 (архив)    - 5 рублей за СМС"
   ]
  },
  {
   "cell_type": "code",
   "execution_count": 333,
   "metadata": {},
   "outputs": [
    {
     "name": "stdout",
     "output_type": "stream",
     "text": [
      "4879\n"
     ]
    }
   ],
   "source": [
    "#df.groupby('tarif').sum().df['sms'] * [1, 2, 5, 3, 4, 0, 7]).sum()\n",
    "\n",
    "# создаем серию из прайса\n",
    "d1 = pd.Series([1,2,3,4,7,0,5], ['ВИП', 'Все за 300', 'Всё за 500', 'Всё за 800', 'Промо', 'Корпоративный', 'Всё за 250 (архив)'])\n",
    "\n",
    "# перемножаем кол-во СМС и прайс и суммируем итог\n",
    "print((df['sms'] * d1[df['tarif']].values).sum())\n",
    "\n",
    "\n"
   ]
  },
  {
   "cell_type": "markdown",
   "metadata": {},
   "source": [
    "### Вопрос 11: Определите процент клиентов, у которых баланс выше 4000"
   ]
  },
  {
   "cell_type": "code",
   "execution_count": 403,
   "metadata": {},
   "outputs": [
    {
     "data": {
      "text/plain": [
       "30"
      ]
     },
     "execution_count": 403,
     "metadata": {},
     "output_type": "execute_result"
    }
   ],
   "source": [
    "#int(((df['balance'] > 4000).sum() / df.count() * 100)[0])\n",
    "#df['balance'].loc[df['balance'] > 4000].count() / df['balance'].count()\n",
    "\n",
    "int(len(df[df.balance > 4000])/len(df) * 100)\n",
    "\n"
   ]
  },
  {
   "cell_type": "markdown",
   "metadata": {},
   "source": [
    "### Вопрос 12: Определите процент клиентов, у которых баланс выше 2000 и тариф 'Всё за 500'"
   ]
  },
  {
   "cell_type": "code",
   "execution_count": 404,
   "metadata": {},
   "outputs": [
    {
     "data": {
      "text/plain": [
       "16"
      ]
     },
     "execution_count": 404,
     "metadata": {},
     "output_type": "execute_result"
    }
   ],
   "source": [
    "int(len(df[(df['balance'] > 2000) & (df['tarif'] == 'Всё за 500')])/len(df) * 100)"
   ]
  },
  {
   "cell_type": "markdown",
   "metadata": {},
   "source": [
    "### Вопрос 13: Сколько клиентов из Москвы, у которых баланс выше 1500 и марка телефона 'Apple'?"
   ]
  },
  {
   "cell_type": "code",
   "execution_count": 420,
   "metadata": {},
   "outputs": [
    {
     "data": {
      "text/plain": [
       "2"
      ]
     },
     "execution_count": 420,
     "metadata": {},
     "output_type": "execute_result"
    }
   ],
   "source": [
    "#len(df[(df['balance'] > 1500) & (df['city'] == 'Moscow') & (df['phone'] == 'Apple')])\n",
    "#df[(df['balance'] > 1500) & (df['city'] == 'Moscow') & (df['phone'] == 'Apple')].city.count()\n",
    "\n",
    "#df[(df['balance'] > 1500) & (df['city'] == 'Moscow') & (df['phone'] == 'Apple')]\n",
    "\n",
    "# сумма True\n",
    "((df['balance'] > 1500) & (df['city'] == 'Moscow') & (df['phone'] == 'Apple')).sum()"
   ]
  },
  {
   "cell_type": "markdown",
   "metadata": {},
   "source": [
    "### Вопрос 14: Самое распространённое имя среди наших клиентов?"
   ]
  },
  {
   "cell_type": "code",
   "execution_count": 5,
   "metadata": {},
   "outputs": [
    {
     "data": {
      "text/plain": [
       "'Sergey'"
      ]
     },
     "execution_count": 5,
     "metadata": {},
     "output_type": "execute_result"
    }
   ],
   "source": [
    "#df['name'].value_counts().idxmax()\n",
    "#df.value_counts('name').idxmax()\n",
    "\n",
    "df['name'].describe()['top']\n",
    "\n"
   ]
  },
  {
   "cell_type": "markdown",
   "metadata": {},
   "source": [
    "### Вопрос 15: Определите процент клиентов у которых телефон Apple и они из Владивостока"
   ]
  },
  {
   "cell_type": "code",
   "execution_count": 435,
   "metadata": {},
   "outputs": [
    {
     "data": {
      "text/plain": [
       "3"
      ]
     },
     "execution_count": 435,
     "metadata": {},
     "output_type": "execute_result"
    }
   ],
   "source": [
    "int(len(df[(df['phone'] =='Apple') & (df['city'] == 'Vladivostok')])/len(df) * 100)"
   ]
  },
  {
   "cell_type": "markdown",
   "metadata": {},
   "source": [
    "## Контрольная работа (продолжение)"
   ]
  },
  {
   "cell_type": "markdown",
   "metadata": {},
   "source": [
    "### Вопрос 1: Объедините столбцы surname и name в столбец с именем client_name"
   ]
  },
  {
   "cell_type": "code",
   "execution_count": 37,
   "metadata": {},
   "outputs": [],
   "source": [
    "df['client_name'] = df['surname'] + ' ' + df['name']"
   ]
  },
  {
   "cell_type": "markdown",
   "metadata": {},
   "source": [
    "### Вопрос 2: Поступила задача разбить клиентов на группы:\n",
    "\n",
    "    до 25 лет (включительно) - A (англ. буква)\n",
    "    с 26 до 40 лет (включительно) - B (англ. буква)\n",
    "    старше 40 лет - C (англ. буква)\n",
    "\n",
    "Запишите название группы в столбец group"
   ]
  },
  {
   "cell_type": "code",
   "execution_count": 6,
   "metadata": {},
   "outputs": [
    {
     "data": {
      "text/html": [
       "<div>\n",
       "<style scoped>\n",
       "    .dataframe tbody tr th:only-of-type {\n",
       "        vertical-align: middle;\n",
       "    }\n",
       "\n",
       "    .dataframe tbody tr th {\n",
       "        vertical-align: top;\n",
       "    }\n",
       "\n",
       "    .dataframe thead th {\n",
       "        text-align: right;\n",
       "    }\n",
       "</style>\n",
       "<table border=\"1\" class=\"dataframe\">\n",
       "  <thead>\n",
       "    <tr style=\"text-align: right;\">\n",
       "      <th></th>\n",
       "      <th>surname</th>\n",
       "      <th>name</th>\n",
       "      <th>tarif</th>\n",
       "      <th>balance</th>\n",
       "      <th>age</th>\n",
       "      <th>sms</th>\n",
       "      <th>voice</th>\n",
       "      <th>city</th>\n",
       "      <th>phone</th>\n",
       "      <th>group</th>\n",
       "    </tr>\n",
       "  </thead>\n",
       "  <tbody>\n",
       "    <tr>\n",
       "      <th>0</th>\n",
       "      <td>Girev</td>\n",
       "      <td>Andrey</td>\n",
       "      <td>ВИП</td>\n",
       "      <td>2815</td>\n",
       "      <td>29</td>\n",
       "      <td>58</td>\n",
       "      <td>6358</td>\n",
       "      <td>Moscow</td>\n",
       "      <td>Xiaomi</td>\n",
       "      <td>B</td>\n",
       "    </tr>\n",
       "    <tr>\n",
       "      <th>1</th>\n",
       "      <td>Bykin</td>\n",
       "      <td>Stas</td>\n",
       "      <td>Все за 300</td>\n",
       "      <td>3634</td>\n",
       "      <td>37</td>\n",
       "      <td>78</td>\n",
       "      <td>602</td>\n",
       "      <td>Kazan</td>\n",
       "      <td>Samsung</td>\n",
       "      <td>B</td>\n",
       "    </tr>\n",
       "    <tr>\n",
       "      <th>2</th>\n",
       "      <td>Ivanov</td>\n",
       "      <td>Alex</td>\n",
       "      <td>Всё за 800</td>\n",
       "      <td>410</td>\n",
       "      <td>47</td>\n",
       "      <td>81</td>\n",
       "      <td>3582</td>\n",
       "      <td>Moscow</td>\n",
       "      <td>Huawei</td>\n",
       "      <td>C</td>\n",
       "    </tr>\n",
       "    <tr>\n",
       "      <th>3</th>\n",
       "      <td>Andreev</td>\n",
       "      <td>Sergey</td>\n",
       "      <td>Всё за 500</td>\n",
       "      <td>1981</td>\n",
       "      <td>75</td>\n",
       "      <td>98</td>\n",
       "      <td>5442</td>\n",
       "      <td>Kazan</td>\n",
       "      <td>Apple</td>\n",
       "      <td>C</td>\n",
       "    </tr>\n",
       "    <tr>\n",
       "      <th>4</th>\n",
       "      <td>Girev</td>\n",
       "      <td>Stas</td>\n",
       "      <td>Всё за 800</td>\n",
       "      <td>4969</td>\n",
       "      <td>43</td>\n",
       "      <td>61</td>\n",
       "      <td>8510</td>\n",
       "      <td>Moscow</td>\n",
       "      <td>Samsung</td>\n",
       "      <td>C</td>\n",
       "    </tr>\n",
       "    <tr>\n",
       "      <th>5</th>\n",
       "      <td>Bykin</td>\n",
       "      <td>Andrey</td>\n",
       "      <td>Всё за 500</td>\n",
       "      <td>4308</td>\n",
       "      <td>49</td>\n",
       "      <td>39</td>\n",
       "      <td>2525</td>\n",
       "      <td>Moscow</td>\n",
       "      <td>Xiaomi</td>\n",
       "      <td>C</td>\n",
       "    </tr>\n",
       "    <tr>\n",
       "      <th>6</th>\n",
       "      <td>Kozlov</td>\n",
       "      <td>Igor</td>\n",
       "      <td>Всё за 800</td>\n",
       "      <td>300</td>\n",
       "      <td>60</td>\n",
       "      <td>31</td>\n",
       "      <td>8543</td>\n",
       "      <td>Yakutsk</td>\n",
       "      <td>Samsung</td>\n",
       "      <td>C</td>\n",
       "    </tr>\n",
       "    <tr>\n",
       "      <th>7</th>\n",
       "      <td>Girev</td>\n",
       "      <td>Alex</td>\n",
       "      <td>Промо</td>\n",
       "      <td>4199</td>\n",
       "      <td>47</td>\n",
       "      <td>90</td>\n",
       "      <td>3925</td>\n",
       "      <td>Kazan</td>\n",
       "      <td>Apple</td>\n",
       "      <td>C</td>\n",
       "    </tr>\n",
       "    <tr>\n",
       "      <th>8</th>\n",
       "      <td>Petrov</td>\n",
       "      <td>Nikolay</td>\n",
       "      <td>ВИП</td>\n",
       "      <td>4810</td>\n",
       "      <td>72</td>\n",
       "      <td>88</td>\n",
       "      <td>7188</td>\n",
       "      <td>Moscow</td>\n",
       "      <td>Apple</td>\n",
       "      <td>C</td>\n",
       "    </tr>\n",
       "    <tr>\n",
       "      <th>9</th>\n",
       "      <td>Andreev</td>\n",
       "      <td>Sergey</td>\n",
       "      <td>Всё за 800</td>\n",
       "      <td>4118</td>\n",
       "      <td>52</td>\n",
       "      <td>53</td>\n",
       "      <td>419</td>\n",
       "      <td>Yakutsk</td>\n",
       "      <td>Apple</td>\n",
       "      <td>C</td>\n",
       "    </tr>\n",
       "    <tr>\n",
       "      <th>10</th>\n",
       "      <td>Smolov</td>\n",
       "      <td>Stas</td>\n",
       "      <td>Промо</td>\n",
       "      <td>1991</td>\n",
       "      <td>28</td>\n",
       "      <td>67</td>\n",
       "      <td>5016</td>\n",
       "      <td>Kazan</td>\n",
       "      <td>Xiaomi</td>\n",
       "      <td>B</td>\n",
       "    </tr>\n",
       "    <tr>\n",
       "      <th>11</th>\n",
       "      <td>Girev</td>\n",
       "      <td>Igor</td>\n",
       "      <td>Корпоративный</td>\n",
       "      <td>1430</td>\n",
       "      <td>69</td>\n",
       "      <td>19</td>\n",
       "      <td>9520</td>\n",
       "      <td>Yakutsk</td>\n",
       "      <td>Samsung</td>\n",
       "      <td>C</td>\n",
       "    </tr>\n",
       "    <tr>\n",
       "      <th>12</th>\n",
       "      <td>Kozlov</td>\n",
       "      <td>Andrey</td>\n",
       "      <td>Корпоративный</td>\n",
       "      <td>113</td>\n",
       "      <td>71</td>\n",
       "      <td>82</td>\n",
       "      <td>2785</td>\n",
       "      <td>Kazan</td>\n",
       "      <td>Apple</td>\n",
       "      <td>C</td>\n",
       "    </tr>\n",
       "    <tr>\n",
       "      <th>13</th>\n",
       "      <td>Ivanov</td>\n",
       "      <td>Sergey</td>\n",
       "      <td>Промо</td>\n",
       "      <td>3394</td>\n",
       "      <td>39</td>\n",
       "      <td>12</td>\n",
       "      <td>2718</td>\n",
       "      <td>Yakutsk</td>\n",
       "      <td>Xiaomi</td>\n",
       "      <td>B</td>\n",
       "    </tr>\n",
       "    <tr>\n",
       "      <th>14</th>\n",
       "      <td>Smolov</td>\n",
       "      <td>Sergey</td>\n",
       "      <td>Всё за 250 (архив)</td>\n",
       "      <td>3493</td>\n",
       "      <td>32</td>\n",
       "      <td>6</td>\n",
       "      <td>8959</td>\n",
       "      <td>Yakutsk</td>\n",
       "      <td>Huawei</td>\n",
       "      <td>B</td>\n",
       "    </tr>\n",
       "    <tr>\n",
       "      <th>15</th>\n",
       "      <td>Kozlov</td>\n",
       "      <td>Stas</td>\n",
       "      <td>Всё за 800</td>\n",
       "      <td>4565</td>\n",
       "      <td>59</td>\n",
       "      <td>82</td>\n",
       "      <td>3168</td>\n",
       "      <td>Moscow</td>\n",
       "      <td>Apple</td>\n",
       "      <td>C</td>\n",
       "    </tr>\n",
       "    <tr>\n",
       "      <th>16</th>\n",
       "      <td>Vlasov</td>\n",
       "      <td>Andrey</td>\n",
       "      <td>Всё за 800</td>\n",
       "      <td>3192</td>\n",
       "      <td>29</td>\n",
       "      <td>74</td>\n",
       "      <td>2852</td>\n",
       "      <td>Yakutsk</td>\n",
       "      <td>Xiaomi</td>\n",
       "      <td>B</td>\n",
       "    </tr>\n",
       "    <tr>\n",
       "      <th>17</th>\n",
       "      <td>Smolov</td>\n",
       "      <td>Alex</td>\n",
       "      <td>Корпоративный</td>\n",
       "      <td>3764</td>\n",
       "      <td>71</td>\n",
       "      <td>22</td>\n",
       "      <td>2768</td>\n",
       "      <td>Moscow</td>\n",
       "      <td>Huawei</td>\n",
       "      <td>C</td>\n",
       "    </tr>\n",
       "    <tr>\n",
       "      <th>18</th>\n",
       "      <td>Vlasov</td>\n",
       "      <td>Sergey</td>\n",
       "      <td>Всё за 800</td>\n",
       "      <td>3816</td>\n",
       "      <td>28</td>\n",
       "      <td>35</td>\n",
       "      <td>5734</td>\n",
       "      <td>Vladivostok</td>\n",
       "      <td>Apple</td>\n",
       "      <td>B</td>\n",
       "    </tr>\n",
       "    <tr>\n",
       "      <th>19</th>\n",
       "      <td>Bykin</td>\n",
       "      <td>Alex</td>\n",
       "      <td>Промо</td>\n",
       "      <td>817</td>\n",
       "      <td>65</td>\n",
       "      <td>34</td>\n",
       "      <td>2131</td>\n",
       "      <td>Vladivostok</td>\n",
       "      <td>Samsung</td>\n",
       "      <td>C</td>\n",
       "    </tr>\n",
       "    <tr>\n",
       "      <th>20</th>\n",
       "      <td>Andreev</td>\n",
       "      <td>Nikolay</td>\n",
       "      <td>Всё за 500</td>\n",
       "      <td>385</td>\n",
       "      <td>49</td>\n",
       "      <td>62</td>\n",
       "      <td>1815</td>\n",
       "      <td>Kazan</td>\n",
       "      <td>Xiaomi</td>\n",
       "      <td>C</td>\n",
       "    </tr>\n",
       "    <tr>\n",
       "      <th>21</th>\n",
       "      <td>Bykin</td>\n",
       "      <td>Igor</td>\n",
       "      <td>Всё за 500</td>\n",
       "      <td>2642</td>\n",
       "      <td>38</td>\n",
       "      <td>11</td>\n",
       "      <td>3787</td>\n",
       "      <td>Moscow</td>\n",
       "      <td>Xiaomi</td>\n",
       "      <td>B</td>\n",
       "    </tr>\n",
       "    <tr>\n",
       "      <th>22</th>\n",
       "      <td>Girev</td>\n",
       "      <td>Sergey</td>\n",
       "      <td>Все за 300</td>\n",
       "      <td>4230</td>\n",
       "      <td>62</td>\n",
       "      <td>68</td>\n",
       "      <td>5512</td>\n",
       "      <td>Vladivostok</td>\n",
       "      <td>Samsung</td>\n",
       "      <td>C</td>\n",
       "    </tr>\n",
       "    <tr>\n",
       "      <th>23</th>\n",
       "      <td>Bykin</td>\n",
       "      <td>Sergey</td>\n",
       "      <td>Всё за 800</td>\n",
       "      <td>4100</td>\n",
       "      <td>48</td>\n",
       "      <td>39</td>\n",
       "      <td>227</td>\n",
       "      <td>Moscow</td>\n",
       "      <td>Xiaomi</td>\n",
       "      <td>C</td>\n",
       "    </tr>\n",
       "    <tr>\n",
       "      <th>24</th>\n",
       "      <td>Girev</td>\n",
       "      <td>Stas</td>\n",
       "      <td>Все за 300</td>\n",
       "      <td>3371</td>\n",
       "      <td>53</td>\n",
       "      <td>24</td>\n",
       "      <td>7946</td>\n",
       "      <td>Kazan</td>\n",
       "      <td>Apple</td>\n",
       "      <td>C</td>\n",
       "    </tr>\n",
       "    <tr>\n",
       "      <th>25</th>\n",
       "      <td>Smolov</td>\n",
       "      <td>Sergey</td>\n",
       "      <td>Корпоративный</td>\n",
       "      <td>3577</td>\n",
       "      <td>70</td>\n",
       "      <td>71</td>\n",
       "      <td>8847</td>\n",
       "      <td>Yakutsk</td>\n",
       "      <td>Huawei</td>\n",
       "      <td>C</td>\n",
       "    </tr>\n",
       "    <tr>\n",
       "      <th>26</th>\n",
       "      <td>Mezov</td>\n",
       "      <td>Nikolay</td>\n",
       "      <td>Всё за 250 (архив)</td>\n",
       "      <td>2742</td>\n",
       "      <td>28</td>\n",
       "      <td>19</td>\n",
       "      <td>7115</td>\n",
       "      <td>Yakutsk</td>\n",
       "      <td>Huawei</td>\n",
       "      <td>B</td>\n",
       "    </tr>\n",
       "    <tr>\n",
       "      <th>27</th>\n",
       "      <td>Smolov</td>\n",
       "      <td>Stas</td>\n",
       "      <td>Всё за 500</td>\n",
       "      <td>2644</td>\n",
       "      <td>41</td>\n",
       "      <td>33</td>\n",
       "      <td>8341</td>\n",
       "      <td>Moscow</td>\n",
       "      <td>Xiaomi</td>\n",
       "      <td>C</td>\n",
       "    </tr>\n",
       "    <tr>\n",
       "      <th>28</th>\n",
       "      <td>Vlasov</td>\n",
       "      <td>Andrey</td>\n",
       "      <td>Всё за 500</td>\n",
       "      <td>4725</td>\n",
       "      <td>26</td>\n",
       "      <td>93</td>\n",
       "      <td>9441</td>\n",
       "      <td>Vladivostok</td>\n",
       "      <td>Xiaomi</td>\n",
       "      <td>B</td>\n",
       "    </tr>\n",
       "    <tr>\n",
       "      <th>29</th>\n",
       "      <td>Ivanov</td>\n",
       "      <td>Nikolay</td>\n",
       "      <td>Всё за 500</td>\n",
       "      <td>2785</td>\n",
       "      <td>41</td>\n",
       "      <td>5</td>\n",
       "      <td>2901</td>\n",
       "      <td>Moscow</td>\n",
       "      <td>Samsung</td>\n",
       "      <td>C</td>\n",
       "    </tr>\n",
       "  </tbody>\n",
       "</table>\n",
       "</div>"
      ],
      "text/plain": [
       "    surname     name               tarif  balance  age  sms  voice  \\\n",
       "0     Girev   Andrey                 ВИП     2815   29   58   6358   \n",
       "1     Bykin     Stas          Все за 300     3634   37   78    602   \n",
       "2    Ivanov     Alex          Всё за 800      410   47   81   3582   \n",
       "3   Andreev   Sergey          Всё за 500     1981   75   98   5442   \n",
       "4     Girev     Stas          Всё за 800     4969   43   61   8510   \n",
       "5     Bykin   Andrey          Всё за 500     4308   49   39   2525   \n",
       "6    Kozlov     Igor          Всё за 800      300   60   31   8543   \n",
       "7     Girev     Alex               Промо     4199   47   90   3925   \n",
       "8    Petrov  Nikolay                 ВИП     4810   72   88   7188   \n",
       "9   Andreev   Sergey          Всё за 800     4118   52   53    419   \n",
       "10   Smolov     Stas               Промо     1991   28   67   5016   \n",
       "11    Girev     Igor       Корпоративный     1430   69   19   9520   \n",
       "12   Kozlov   Andrey       Корпоративный      113   71   82   2785   \n",
       "13   Ivanov   Sergey               Промо     3394   39   12   2718   \n",
       "14   Smolov   Sergey  Всё за 250 (архив)     3493   32    6   8959   \n",
       "15   Kozlov     Stas          Всё за 800     4565   59   82   3168   \n",
       "16   Vlasov   Andrey          Всё за 800     3192   29   74   2852   \n",
       "17   Smolov     Alex       Корпоративный     3764   71   22   2768   \n",
       "18   Vlasov   Sergey          Всё за 800     3816   28   35   5734   \n",
       "19    Bykin     Alex               Промо      817   65   34   2131   \n",
       "20  Andreev  Nikolay          Всё за 500      385   49   62   1815   \n",
       "21    Bykin     Igor          Всё за 500     2642   38   11   3787   \n",
       "22    Girev   Sergey          Все за 300     4230   62   68   5512   \n",
       "23    Bykin   Sergey          Всё за 800     4100   48   39    227   \n",
       "24    Girev     Stas          Все за 300     3371   53   24   7946   \n",
       "25   Smolov   Sergey       Корпоративный     3577   70   71   8847   \n",
       "26    Mezov  Nikolay  Всё за 250 (архив)     2742   28   19   7115   \n",
       "27   Smolov     Stas          Всё за 500     2644   41   33   8341   \n",
       "28   Vlasov   Andrey          Всё за 500     4725   26   93   9441   \n",
       "29   Ivanov  Nikolay          Всё за 500     2785   41    5   2901   \n",
       "\n",
       "           city    phone group  \n",
       "0        Moscow   Xiaomi     B  \n",
       "1         Kazan  Samsung     B  \n",
       "2        Moscow   Huawei     C  \n",
       "3         Kazan    Apple     C  \n",
       "4        Moscow  Samsung     C  \n",
       "5        Moscow   Xiaomi     C  \n",
       "6       Yakutsk  Samsung     C  \n",
       "7         Kazan    Apple     C  \n",
       "8        Moscow    Apple     C  \n",
       "9       Yakutsk    Apple     C  \n",
       "10        Kazan   Xiaomi     B  \n",
       "11      Yakutsk  Samsung     C  \n",
       "12        Kazan    Apple     C  \n",
       "13      Yakutsk   Xiaomi     B  \n",
       "14      Yakutsk   Huawei     B  \n",
       "15       Moscow    Apple     C  \n",
       "16      Yakutsk   Xiaomi     B  \n",
       "17       Moscow   Huawei     C  \n",
       "18  Vladivostok    Apple     B  \n",
       "19  Vladivostok  Samsung     C  \n",
       "20        Kazan   Xiaomi     C  \n",
       "21       Moscow   Xiaomi     B  \n",
       "22  Vladivostok  Samsung     C  \n",
       "23       Moscow   Xiaomi     C  \n",
       "24        Kazan    Apple     C  \n",
       "25      Yakutsk   Huawei     C  \n",
       "26      Yakutsk   Huawei     B  \n",
       "27       Moscow   Xiaomi     C  \n",
       "28  Vladivostok   Xiaomi     B  \n",
       "29       Moscow  Samsung     C  "
      ]
     },
     "execution_count": 6,
     "metadata": {},
     "output_type": "execute_result"
    }
   ],
   "source": [
    "\n",
    "df.loc[df['age'] <= 25, 'group'] = \"A\"\n",
    "df.loc[(df['age'] <= 40) & (df['age'] >= 26), 'group'] = \"B\"\n",
    "df.loc[df['age'] > 40, 'group'] = \"C\"\n",
    "df"
   ]
  },
  {
   "cell_type": "markdown",
   "metadata": {},
   "source": [
    "### Вопрос 3: Пришла информация, что на сервере в Москве возник сбой и баланс за отправленные смс не списался (у пользователей из Москвы). Спишите с каждого пользователя из Москвы деньги за смс. Количество отправленных смс за которые не списали деньги в столбце sms. Стоимость 1 смс - 3 рубля. (обновите колонку balance):"
   ]
  },
  {
   "cell_type": "code",
   "execution_count": 36,
   "metadata": {},
   "outputs": [],
   "source": [
    "# df.loc[df['city'] == 'Moscow', 'balance'] = df.loc['balance'] - df.loc['sms'] * 3\n",
    "\n",
    "df.loc[df['city'] == 'Moscow','balance'] -= df['sms'] * 3\n"
   ]
  },
  {
   "cell_type": "markdown",
   "metadata": {},
   "source": [
    "### Вопрос 4: Ваш коллега Юра отправил вам результаты обработки данных в файле .npz, но торопился и не успел написать под какими ключами сохранил массивы в файл. Скачайте файл, определите название ключа под которым сохранён первый массив в файле."
   ]
  },
  {
   "cell_type": "code",
   "execution_count": 29,
   "metadata": {},
   "outputs": [
    {
     "name": "stdout",
     "output_type": "stream",
     "text": [
      "mykey1 [1 2 3]\n",
      "mykey2 [4 5 6]\n"
     ]
    }
   ],
   "source": [
    "f = np.load('d:\\Download\\data.npz')\n",
    "\n",
    "for k in f:\n",
    "    print(k, f[k])\n"
   ]
  },
  {
   "cell_type": "markdown",
   "metadata": {},
   "source": [
    "### Вопрос 5: На совещании было принято решение детальнее проработать вопрос списания денежных средств. Теперь, спишите деньги (у пользователей из Москвы за смс) с учетом тарифной сетки:\n",
    "\n",
    "    ВИП - 1 рубль за СМС\n",
    "    Все за 300 - 2 рубля за СМС\n",
    "    Всё за 500 - 3 рубля за СМС\n",
    "    Всё за 800 - 4 рубля за СМС\n",
    "    Промо - 7 рублей за СМС\n",
    "    Корпоративный - 0 рублей за СМС\n",
    "    Всё за 250 (архив) - 5 рублей за СМС\n"
   ]
  },
  {
   "cell_type": "code",
   "execution_count": 34,
   "metadata": {},
   "outputs": [],
   "source": [
    "# создаем серию из прайса\n",
    "d1 = pd.Series([1,2,3,4,7,0,5], ['ВИП', 'Все за 300', 'Всё за 500', 'Всё за 800', 'Промо', 'Корпоративный', 'Всё за 250 (архив)'])\n",
    "df.loc[df['city'] == 'Moscow','balance'] -= df['sms'] * d1[df['tarif']].values\n"
   ]
  },
  {
   "cell_type": "markdown",
   "metadata": {},
   "source": [
    "### Вопрос 6: Пользователь Girev Sergey написал заявление о том, что переехал из города Vladivostok в Kazan. Внесите изменения в датафрейм:"
   ]
  },
  {
   "cell_type": "code",
   "execution_count": 11,
   "metadata": {},
   "outputs": [],
   "source": [
    "df.loc[(df['surname'] == 'Girev') & (df['name'] == 'Sergey') ,'city'] = 'Kazan'"
   ]
  },
  {
   "cell_type": "markdown",
   "metadata": {},
   "source": [
    "### Вопрос 7: Измените название колонки balance на client_balance:"
   ]
  },
  {
   "cell_type": "code",
   "execution_count": 79,
   "metadata": {},
   "outputs": [],
   "source": [
    "# df.columns = ['surname', 'name', 'tarif', 'client_balance', 'age', 'sms', 'voice', 'city', 'phone']\n",
    "# df.rename(columns={'balance': 'client_balance'})\n",
    "\n",
    "columns = list(df.columns)\n",
    "columns[3] = 'client_balance' \n",
    "df.columns = columns\n"
   ]
  },
  {
   "cell_type": "markdown",
   "metadata": {},
   "source": [
    "### Вопрос 8: Пересчитайте баланс пользователей в доллары по курсу 1 доллар = 60 рублей. Результат запишите в колонку balance_usd (ответ округлите до двух знаков после запятой). Исходный баланс лежит в столбце balance:"
   ]
  },
  {
   "cell_type": "code",
   "execution_count": 129,
   "metadata": {},
   "outputs": [],
   "source": [
    "\n",
    "df.loc[:,'balance_usd'] = (df['balance'] / 60).round(2)\n"
   ]
  },
  {
   "cell_type": "markdown",
   "metadata": {},
   "source": [
    "### Вопрос 9: Высшее руководство компании в ячейке с балансом (в долларах) хотят видеть знак доллара $ Вам как самому ответственному и подготовленному специалисту доверили довести дело до конца! Добавьте, пожалуйста, знак доллара)"
   ]
  },
  {
   "cell_type": "code",
   "execution_count": 131,
   "metadata": {},
   "outputs": [],
   "source": [
    "df['balance_usd'] = df['balance_usd'].astype(str) + ' $'"
   ]
  },
  {
   "cell_type": "markdown",
   "metadata": {},
   "source": [
    "### Вопрос 10: Расcчитайте долю смс для каждого пользователя. Для этого определите сколько всего было отправлено СМС, а затем расcчитайте отношение отправленных смс клиента к общему количеству. Столбец назовите sms_volume. Оставьте TOP-3."
   ]
  },
  {
   "cell_type": "code",
   "execution_count": 186,
   "metadata": {},
   "outputs": [
    {
     "data": {
      "text/html": [
       "<div>\n",
       "<style scoped>\n",
       "    .dataframe tbody tr th:only-of-type {\n",
       "        vertical-align: middle;\n",
       "    }\n",
       "\n",
       "    .dataframe tbody tr th {\n",
       "        vertical-align: top;\n",
       "    }\n",
       "\n",
       "    .dataframe thead th {\n",
       "        text-align: right;\n",
       "    }\n",
       "</style>\n",
       "<table border=\"1\" class=\"dataframe\">\n",
       "  <thead>\n",
       "    <tr style=\"text-align: right;\">\n",
       "      <th></th>\n",
       "      <th>surname</th>\n",
       "      <th>name</th>\n",
       "      <th>tarif</th>\n",
       "      <th>balance</th>\n",
       "      <th>age</th>\n",
       "      <th>sms</th>\n",
       "      <th>voice</th>\n",
       "      <th>city</th>\n",
       "      <th>phone</th>\n",
       "      <th>balance_usd</th>\n",
       "      <th>sms_volume</th>\n",
       "    </tr>\n",
       "  </thead>\n",
       "  <tbody>\n",
       "    <tr>\n",
       "      <th>3</th>\n",
       "      <td>Andreev</td>\n",
       "      <td>Sergey</td>\n",
       "      <td>Всё за 500</td>\n",
       "      <td>1981</td>\n",
       "      <td>75</td>\n",
       "      <td>98</td>\n",
       "      <td>5442</td>\n",
       "      <td>Kazan</td>\n",
       "      <td>Apple</td>\n",
       "      <td>33.02 $</td>\n",
       "      <td>0.063844</td>\n",
       "    </tr>\n",
       "    <tr>\n",
       "      <th>28</th>\n",
       "      <td>Vlasov</td>\n",
       "      <td>Andrey</td>\n",
       "      <td>Всё за 500</td>\n",
       "      <td>4725</td>\n",
       "      <td>26</td>\n",
       "      <td>93</td>\n",
       "      <td>9441</td>\n",
       "      <td>Vladivostok</td>\n",
       "      <td>Xiaomi</td>\n",
       "      <td>78.75 $</td>\n",
       "      <td>0.060586</td>\n",
       "    </tr>\n",
       "    <tr>\n",
       "      <th>7</th>\n",
       "      <td>Girev</td>\n",
       "      <td>Alex</td>\n",
       "      <td>Промо</td>\n",
       "      <td>4199</td>\n",
       "      <td>47</td>\n",
       "      <td>90</td>\n",
       "      <td>3925</td>\n",
       "      <td>Kazan</td>\n",
       "      <td>Apple</td>\n",
       "      <td>69.98 $</td>\n",
       "      <td>0.058632</td>\n",
       "    </tr>\n",
       "  </tbody>\n",
       "</table>\n",
       "</div>"
      ],
      "text/plain": [
       "    surname    name       tarif  balance  age  sms  voice         city  \\\n",
       "3   Andreev  Sergey  Всё за 500     1981   75   98   5442        Kazan   \n",
       "28   Vlasov  Andrey  Всё за 500     4725   26   93   9441  Vladivostok   \n",
       "7     Girev    Alex       Промо     4199   47   90   3925        Kazan   \n",
       "\n",
       "     phone balance_usd  sms_volume  \n",
       "3    Apple     33.02 $    0.063844  \n",
       "28  Xiaomi     78.75 $    0.060586  \n",
       "7    Apple     69.98 $    0.058632  "
      ]
     },
     "execution_count": 186,
     "metadata": {},
     "output_type": "execute_result"
    }
   ],
   "source": [
    "df['sms_volume'] = df['sms'] / df['sms'].sum()\n",
    "df.sort_values('sms_volume', ascending = False, inplace = True)\n",
    "df[:3]\n"
   ]
  },
  {
   "cell_type": "markdown",
   "metadata": {},
   "source": [
    "### Вопрос 11: Cредний возраст клиентов из Казани выше чем во Владивостоке? Функция должна вернуть True - если да и False - если нет."
   ]
  },
  {
   "cell_type": "code",
   "execution_count": 209,
   "metadata": {},
   "outputs": [
    {
     "data": {
      "text/plain": [
       "True"
      ]
     },
     "execution_count": 209,
     "metadata": {},
     "output_type": "execute_result"
    }
   ],
   "source": [
    "k = df.loc[df['city'] == 'Kazan','age'].mean()\n",
    "v = df.loc[df['city'] == 'Vladivostok','age'].mean()\n",
    "k > v"
   ]
  },
  {
   "cell_type": "markdown",
   "metadata": {},
   "source": [
    "### Вопрос 12: Создайте индекс для строк на основе столбцов surname и name. После создания индекса удалите столбцы surname и name"
   ]
  },
  {
   "cell_type": "code",
   "execution_count": 255,
   "metadata": {},
   "outputs": [],
   "source": [
    "\n",
    "df.index = (df['surname'] + '_' + df['name']).str.upper()\n",
    "df.drop(columns=['surname','name'], inplace=True)\n"
   ]
  },
  {
   "cell_type": "markdown",
   "metadata": {},
   "source": [
    "### Вопрос 13: Являются ли лейблы строк уникальными (не повторяющимися)? Верните True - если уникальные и False - если есть дубли. "
   ]
  },
  {
   "cell_type": "code",
   "execution_count": 263,
   "metadata": {},
   "outputs": [
    {
     "data": {
      "text/plain": [
       "False"
      ]
     },
     "execution_count": 263,
     "metadata": {},
     "output_type": "execute_result"
    }
   ],
   "source": [
    "df.index.is_unique"
   ]
  },
  {
   "cell_type": "markdown",
   "metadata": {},
   "source": [
    "## Доработайте код таким образом, чтобы оставить только 2 наиболее встречающихся значения, а для остальных установите значение 'Yet another value'.\n",
    "\n",
    "Ответ должен возвращать серию"
   ]
  },
  {
   "cell_type": "code",
   "execution_count": 291,
   "metadata": {},
   "outputs": [],
   "source": [
    "s = pd.Series(list('abdcbdhafceeabcahbcaedadaecbbbecafgh'))\n",
    "\"\"\"\n",
    "выбираем символы, которые встречаются менее чем самые частые (a,b)\n",
    "s.value_counts() выдает серию с частотой появления\n",
    "a    8\n",
    "b    7\n",
    "c    6\n",
    "e    5\n",
    "d    4\n",
    "h    3\n",
    "f    2\n",
    "g    1\n",
    "dtype: int64\n",
    "затем отсекаем первые 2 с макс. частотой появления\n",
    "функцией isin() получаем булеву маску для серии s\n",
    "по этой маске меняем значения в строках на \"Yet another value\"\n",
    "\"\"\"\n",
    "s[s.isin(s.value_counts().index[2:])] = \"Yet another value\"\n"
   ]
  },
  {
   "cell_type": "markdown",
   "metadata": {},
   "source": [
    "## Работа с csv-файлами"
   ]
  },
  {
   "cell_type": "markdown",
   "metadata": {},
   "source": [
    "#### Загрузка из локального хранилища"
   ]
  },
  {
   "cell_type": "code",
   "execution_count": 279,
   "metadata": {},
   "outputs": [
    {
     "data": {
      "text/html": [
       "<div>\n",
       "<style scoped>\n",
       "    .dataframe tbody tr th:only-of-type {\n",
       "        vertical-align: middle;\n",
       "    }\n",
       "\n",
       "    .dataframe tbody tr th {\n",
       "        vertical-align: top;\n",
       "    }\n",
       "\n",
       "    .dataframe thead th {\n",
       "        text-align: right;\n",
       "    }\n",
       "</style>\n",
       "<table border=\"1\" class=\"dataframe\">\n",
       "  <thead>\n",
       "    <tr style=\"text-align: right;\">\n",
       "      <th></th>\n",
       "      <th>my_datetime</th>\n",
       "      <th>event</th>\n",
       "      <th>country</th>\n",
       "      <th>user_id</th>\n",
       "      <th>source</th>\n",
       "      <th>topic</th>\n",
       "    </tr>\n",
       "  </thead>\n",
       "  <tbody>\n",
       "    <tr>\n",
       "      <th>0</th>\n",
       "      <td>2018-01-01 00:01:01</td>\n",
       "      <td>read</td>\n",
       "      <td>country_7</td>\n",
       "      <td>2458151261</td>\n",
       "      <td>SEO</td>\n",
       "      <td>North America</td>\n",
       "    </tr>\n",
       "    <tr>\n",
       "      <th>1</th>\n",
       "      <td>2018-01-01 00:03:20</td>\n",
       "      <td>read</td>\n",
       "      <td>country_7</td>\n",
       "      <td>2458151262</td>\n",
       "      <td>SEO</td>\n",
       "      <td>South America</td>\n",
       "    </tr>\n",
       "    <tr>\n",
       "      <th>2</th>\n",
       "      <td>2018-01-01 00:04:01</td>\n",
       "      <td>read</td>\n",
       "      <td>country_7</td>\n",
       "      <td>2458151263</td>\n",
       "      <td>AdWords</td>\n",
       "      <td>Africa</td>\n",
       "    </tr>\n",
       "    <tr>\n",
       "      <th>3</th>\n",
       "      <td>2018-01-01 00:04:02</td>\n",
       "      <td>read</td>\n",
       "      <td>country_7</td>\n",
       "      <td>2458151264</td>\n",
       "      <td>AdWords</td>\n",
       "      <td>Europe</td>\n",
       "    </tr>\n",
       "    <tr>\n",
       "      <th>4</th>\n",
       "      <td>2018-01-01 00:05:03</td>\n",
       "      <td>read</td>\n",
       "      <td>country_8</td>\n",
       "      <td>2458151265</td>\n",
       "      <td>Reddit</td>\n",
       "      <td>North America</td>\n",
       "    </tr>\n",
       "    <tr>\n",
       "      <th>...</th>\n",
       "      <td>...</td>\n",
       "      <td>...</td>\n",
       "      <td>...</td>\n",
       "      <td>...</td>\n",
       "      <td>...</td>\n",
       "      <td>...</td>\n",
       "    </tr>\n",
       "    <tr>\n",
       "      <th>1790</th>\n",
       "      <td>2018-01-01 23:57:14</td>\n",
       "      <td>read</td>\n",
       "      <td>country_2</td>\n",
       "      <td>2458153051</td>\n",
       "      <td>AdWords</td>\n",
       "      <td>North America</td>\n",
       "    </tr>\n",
       "    <tr>\n",
       "      <th>1791</th>\n",
       "      <td>2018-01-01 23:58:33</td>\n",
       "      <td>read</td>\n",
       "      <td>country_8</td>\n",
       "      <td>2458153052</td>\n",
       "      <td>SEO</td>\n",
       "      <td>Asia</td>\n",
       "    </tr>\n",
       "    <tr>\n",
       "      <th>1792</th>\n",
       "      <td>2018-01-01 23:59:36</td>\n",
       "      <td>read</td>\n",
       "      <td>country_6</td>\n",
       "      <td>2458153053</td>\n",
       "      <td>Reddit</td>\n",
       "      <td>Asia</td>\n",
       "    </tr>\n",
       "    <tr>\n",
       "      <th>1793</th>\n",
       "      <td>2018-01-01 23:59:36</td>\n",
       "      <td>read</td>\n",
       "      <td>country_7</td>\n",
       "      <td>2458153054</td>\n",
       "      <td>AdWords</td>\n",
       "      <td>Europe</td>\n",
       "    </tr>\n",
       "    <tr>\n",
       "      <th>1794</th>\n",
       "      <td>2018-01-01 23:59:38</td>\n",
       "      <td>read</td>\n",
       "      <td>country_5</td>\n",
       "      <td>2458153055</td>\n",
       "      <td>Reddit</td>\n",
       "      <td>Asia</td>\n",
       "    </tr>\n",
       "  </tbody>\n",
       "</table>\n",
       "<p>1795 rows × 6 columns</p>\n",
       "</div>"
      ],
      "text/plain": [
       "              my_datetime event    country     user_id   source          topic\n",
       "0     2018-01-01 00:01:01  read  country_7  2458151261      SEO  North America\n",
       "1     2018-01-01 00:03:20  read  country_7  2458151262      SEO  South America\n",
       "2     2018-01-01 00:04:01  read  country_7  2458151263  AdWords         Africa\n",
       "3     2018-01-01 00:04:02  read  country_7  2458151264  AdWords         Europe\n",
       "4     2018-01-01 00:05:03  read  country_8  2458151265   Reddit  North America\n",
       "...                   ...   ...        ...         ...      ...            ...\n",
       "1790  2018-01-01 23:57:14  read  country_2  2458153051  AdWords  North America\n",
       "1791  2018-01-01 23:58:33  read  country_8  2458153052      SEO           Asia\n",
       "1792  2018-01-01 23:59:36  read  country_6  2458153053   Reddit           Asia\n",
       "1793  2018-01-01 23:59:36  read  country_7  2458153054  AdWords         Europe\n",
       "1794  2018-01-01 23:59:38  read  country_5  2458153055   Reddit           Asia\n",
       "\n",
       "[1795 rows x 6 columns]"
      ]
     },
     "execution_count": 279,
     "metadata": {},
     "output_type": "execute_result"
    }
   ],
   "source": [
    "pd.read_csv('pandas_tutorial_read.csv', delimiter=';', names=['my_datetime', 'event', 'country', 'user_id', 'source', 'topic'])"
   ]
  },
  {
   "cell_type": "markdown",
   "metadata": {},
   "source": [
    "#### Загрузка из сети"
   ]
  },
  {
   "cell_type": "code",
   "execution_count": 281,
   "metadata": {
    "scrolled": true
   },
   "outputs": [],
   "source": [
    "# pd.read_csv('https://pythonru.com/downloads/pandas_tutorial_read.csv', delimiter=';', names=['my_datetime', 'event', 'country','user_id', 'source', 'topic'])\n"
   ]
  },
  {
   "cell_type": "code",
   "execution_count": null,
   "metadata": {},
   "outputs": [],
   "source": []
  },
  {
   "cell_type": "code",
   "execution_count": null,
   "metadata": {},
   "outputs": [],
   "source": []
  },
  {
   "cell_type": "code",
   "execution_count": null,
   "metadata": {},
   "outputs": [],
   "source": []
  }
 ],
 "metadata": {
  "kernelspec": {
   "display_name": "Python 3 (ipykernel)",
   "language": "python",
   "name": "python3"
  },
  "language_info": {
   "codemirror_mode": {
    "name": "ipython",
    "version": 3
   },
   "file_extension": ".py",
   "mimetype": "text/x-python",
   "name": "python",
   "nbconvert_exporter": "python",
   "pygments_lexer": "ipython3",
   "version": "3.10.8"
  }
 },
 "nbformat": 4,
 "nbformat_minor": 4
}
