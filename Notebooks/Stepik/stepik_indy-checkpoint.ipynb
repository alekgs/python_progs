{
 "cells": [
  {
   "cell_type": "code",
   "execution_count": 5,
   "id": "26ad5396",
   "metadata": {},
   "outputs": [],
   "source": [
    "s =set(range(10))"
   ]
  },
  {
   "cell_type": "code",
   "execution_count": 13,
   "id": "10c9358b",
   "metadata": {},
   "outputs": [
    {
     "data": {
      "text/plain": [
       "{0, 1, 2, 3, 4, 5, 6, 7, 8, 9}"
      ]
     },
     "execution_count": 13,
     "metadata": {},
     "output_type": "execute_result"
    }
   ],
   "source": [
    "s"
   ]
  },
  {
   "cell_type": "code",
   "execution_count": 20,
   "id": "5334a01c",
   "metadata": {},
   "outputs": [],
   "source": [
    "a, b = {'a', 'b', 'c', 'd'}, {'c', 'd','e'}"
   ]
  },
  {
   "cell_type": "code",
   "execution_count": 21,
   "id": "f1f8a939",
   "metadata": {},
   "outputs": [
    {
     "data": {
      "text/plain": [
       "{'a', 'b', 'c', 'd'}"
      ]
     },
     "execution_count": 21,
     "metadata": {},
     "output_type": "execute_result"
    }
   ],
   "source": [
    "a"
   ]
  },
  {
   "cell_type": "code",
   "execution_count": 22,
   "id": "e9011343",
   "metadata": {},
   "outputs": [
    {
     "data": {
      "text/plain": [
       "{'c', 'd', 'e'}"
      ]
     },
     "execution_count": 22,
     "metadata": {},
     "output_type": "execute_result"
    }
   ],
   "source": [
    "b"
   ]
  },
  {
   "cell_type": "code",
   "execution_count": 23,
   "id": "9f03a790",
   "metadata": {},
   "outputs": [
    {
     "data": {
      "text/plain": [
       "{'c', 'd'}"
      ]
     },
     "execution_count": 23,
     "metadata": {},
     "output_type": "execute_result"
    }
   ],
   "source": [
    "a & b"
   ]
  },
  {
   "cell_type": "code",
   "execution_count": 24,
   "id": "9e96a935",
   "metadata": {},
   "outputs": [],
   "source": [
    "set_a = {31, 37, 39, 41, 47, 58, 60, 62, 70, 75,\n",
    "         76, 77, 78, 79, 80, 81, 85, 86, 88, 90, 93, 96, 98, 99}\n",
    "\n",
    "set_b = {0, 1, 8, 16, 17, 18, 22, 24, 29, 31,\n",
    "         33, 34, 36, 42, 46, 47, 51, 53, 62, 64, 65, 66, 67}"
   ]
  },
  {
   "cell_type": "code",
   "execution_count": 25,
   "id": "fdae9b26",
   "metadata": {},
   "outputs": [
    {
     "data": {
      "text/plain": [
       "{31, 47, 62}"
      ]
     },
     "execution_count": 25,
     "metadata": {},
     "output_type": "execute_result"
    }
   ],
   "source": [
    "set_a & set_b"
   ]
  },
  {
   "cell_type": "code",
   "execution_count": 26,
   "id": "2819b07d",
   "metadata": {},
   "outputs": [
    {
     "data": {
      "text/plain": [
       "{'a', 'b', 'c', 'd', 'e'}"
      ]
     },
     "execution_count": 26,
     "metadata": {},
     "output_type": "execute_result"
    }
   ],
   "source": [
    "a | b"
   ]
  },
  {
   "cell_type": "code",
   "execution_count": 27,
   "id": "b49883f9",
   "metadata": {},
   "outputs": [
    {
     "data": {
      "text/plain": [
       "{'a', 'b'}"
      ]
     },
     "execution_count": 27,
     "metadata": {},
     "output_type": "execute_result"
    }
   ],
   "source": [
    "a - b"
   ]
  },
  {
   "cell_type": "code",
   "execution_count": 28,
   "id": "0e39b733",
   "metadata": {},
   "outputs": [
    {
     "data": {
      "text/plain": [
       "{'e'}"
      ]
     },
     "execution_count": 28,
     "metadata": {},
     "output_type": "execute_result"
    }
   ],
   "source": [
    "b - a"
   ]
  },
  {
   "cell_type": "code",
   "execution_count": 29,
   "id": "8ad1f4a2",
   "metadata": {},
   "outputs": [
    {
     "data": {
      "text/plain": [
       "{'a', 'b', 'e'}"
      ]
     },
     "execution_count": 29,
     "metadata": {},
     "output_type": "execute_result"
    }
   ],
   "source": [
    "a ^ b"
   ]
  },
  {
   "cell_type": "code",
   "execution_count": 31,
   "id": "76101b71",
   "metadata": {},
   "outputs": [
    {
     "data": {
      "text/plain": [
       "{'a', 'b', 'c', 'd', 'e'}"
      ]
     },
     "execution_count": 31,
     "metadata": {},
     "output_type": "execute_result"
    }
   ],
   "source": [
    "a.union(b)"
   ]
  },
  {
   "cell_type": "markdown",
   "id": "6a3e3ba6",
   "metadata": {},
   "source": [
    "### Сколько обойдется данная покупка? Хотим купим все товары в указанном количестве"
   ]
  },
  {
   "cell_type": "code",
   "execution_count": 1,
   "id": "6277cac3",
   "metadata": {},
   "outputs": [
    {
     "name": "stdout",
     "output_type": "stream",
     "text": [
      "-----------------------------------------\n",
      "milk           20 шт. *  1.19₽    =23.80₽\n",
      "biscuits       32 шт. *  1.45₽    =46.40₽\n",
      "butter         20 шт. *  2.29₽    =45.80₽\n",
      "cheese         15 шт. *  1.90₽    =28.50₽\n",
      "bread          15 шт. *  2.59₽    =38.85₽\n",
      "cookies        20 шт. *  4.99₽    =99.80₽\n",
      "yogurt         18 шт. *  3.65₽    =65.70₽\n",
      "apples         35 шт. *  3.15₽    =110.25₽\n",
      "oranges        40 шт. *  0.99₽    =39.60₽\n",
      "bananas        23 шт. *  1.29₽    =29.67₽\n",
      "-----------------------------------------\n",
      "ИТОГ:                            =528.37₽\n",
      "           СПАСИБО ЗА ПОКУПКУ!           \n"
     ]
    }
   ],
   "source": [
    "supermarket = {\n",
    "    \"milk\": {\"quantity\": 20, \"price\": 1.19},\n",
    "    \"biscuits\": {\"quantity\": 32, \"price\": 1.45},\n",
    "    \"butter\": {\"quantity\": 20, \"price\": 2.29},\n",
    "    \"cheese\": {\"quantity\": 15, \"price\": 1.90},\n",
    "    \"bread\": {\"quantity\": 15, \"price\": 2.59},\n",
    "    \"cookies\": {\"quantity\": 20, \"price\": 4.99},\n",
    "    \"yogurt\": {\"quantity\": 18, \"price\": 3.65},\n",
    "    \"apples\": {\"quantity\": 35, \"price\": 3.15},\n",
    "    \"oranges\": {\"quantity\": 40, \"price\": 0.99},\n",
    "    \"bananas\": {\"quantity\": 23, \"price\": 1.29}\n",
    "}\n",
    "print('-' * 41)\n",
    "sum_p = 0\n",
    "for p, q in supermarket.items():\n",
    "    print(f\"{p:<15}{q['quantity']} шт. * {q['price']:>5.2f}₽{'=':>5}{q['quantity'] * q['price']:.2f}₽\")\n",
    "    sum_p += q['quantity'] * q['price']\n",
    "\n",
    "print('-' * 41)\n",
    "print(f\"ИТОГ: {'=':>28}{sum_p:.2f}₽\")\n",
    "print(f'{\"СПАСИБО ЗА ПОКУПКУ!\":^41}')"
   ]
  },
  {
   "cell_type": "markdown",
   "id": "5edade22",
   "metadata": {},
   "source": [
    "## 6.11 Операции с множествами\n",
    "### Перед вами располагается список words, состоящий из 55 слов, которые могут повторяться. Ваша задача вывести на экран количество уникальных слов, длина которых больше 6. Под уникальностью здесь подразумевается то, что в случае возникновения дублирующих слов, в подсчете вы не должны учитывать дубли."
   ]
  },
  {
   "cell_type": "code",
   "execution_count": 40,
   "id": "b1365728",
   "metadata": {},
   "outputs": [
    {
     "data": {
      "text/plain": [
       "['mention',\n",
       " 'pneumonia',\n",
       " 'wrestle',\n",
       " 'national',\n",
       " 'control',\n",
       " 'service',\n",
       " 'concert',\n",
       " 'generation',\n",
       " 'proposal',\n",
       " 'disclose',\n",
       " 'government',\n",
       " 'tradition',\n",
       " 'glasses']"
      ]
     },
     "execution_count": 40,
     "metadata": {},
     "output_type": "execute_result"
    }
   ],
   "source": [
    "words = ['mention', 'soup', 'pneumonia', 'tradition', 'concert', 'tease', 'generation',\n",
    "         'winter', 'national', 'jacket', 'winter', 'wrestle', 'proposal', 'error', \n",
    "         'pneumonia', 'concert', 'value', 'value', 'disclose', 'glasses', 'tank',\n",
    "         'national', 'soup', 'feel', 'few', 'concert', 'wrestle', 'proposal', 'soup',\n",
    "         'sail', 'brown', 'service', 'proposal', 'winter', 'jacket', 'mention', 'tradition',\n",
    "         'value', 'feel', 'bear', 'few', 'value', 'winter', 'proposal', 'government', \n",
    "         'control', 'value', 'few', 'generation', 'service', 'national',\n",
    "         'tradition', 'government', 'mention', 'proposal']\n",
    "\n",
    "# print(len({i for i in words if len(i) > 6}))\n",
    "print(len([i for i in set(words) if len(i) > 6]))\n"
   ]
  },
  {
   "cell_type": "markdown",
   "id": "9d260543",
   "metadata": {},
   "source": [
    "### Вашей программе будут поступать на вход N списков, содержащих целые числа. Для каждого введенного списка определите, сколько в нем встречается различных чисел.\n",
    "\n",
    "<b>Входные данные</b><br>\n",
    "Сперва поступает натуральное число N - количество списков\n",
    "В следующих N строк вводятся значения каждого списка, разделенные через пробел\n",
    "\n",
    "<b>Выходные данные</b><br>\n",
    "Вывести на отдельной строке количество различных чисел каждого введенного списка в том же порядке, в котором вводились списки\n",
    "\n",
    "<pre>\n",
    "Sample Input 1:\n",
    "2\n",
    "1 2 3 2 1\n",
    "2 2 2 2 2 2\n",
    "\n",
    "Sample Output 1:\n",
    "3\n",
    "1\n",
    "</pre>    "
   ]
  },
  {
   "cell_type": "code",
   "execution_count": 62,
   "id": "db97f286",
   "metadata": {},
   "outputs": [
    {
     "data": {
      "text/plain": [
       "{' ', 'ъ', 'э', 'ю', 'я'}"
      ]
     },
     "execution_count": 62,
     "metadata": {},
     "output_type": "execute_result"
    }
   ],
   "source": [
    "set('ъъъ эээ ююю яяя')\n"
   ]
  },
  {
   "cell_type": "code",
   "execution_count": 63,
   "id": "8187cbf0",
   "metadata": {},
   "outputs": [
    {
     "data": {
      "text/plain": [
       "{' ', '1', '2', 'a', 'b', 'c'}"
      ]
     },
     "execution_count": 63,
     "metadata": {},
     "output_type": "execute_result"
    }
   ],
   "source": [
    "set('aaabcccc    11222')"
   ]
  },
  {
   "cell_type": "code",
   "execution_count": 64,
   "id": "06c1d95b",
   "metadata": {},
   "outputs": [
    {
     "name": "stdout",
     "output_type": "stream",
     "text": [
      "False\n"
     ]
    }
   ],
   "source": [
    "myset1 = set([1, 2, 3, 4, 5])\n",
    "myset2 = set('12345')\n",
    "print(myset1 == myset2)"
   ]
  },
  {
   "cell_type": "code",
   "execution_count": 68,
   "id": "0d41a598",
   "metadata": {},
   "outputs": [
    {
     "name": "stdout",
     "output_type": "stream",
     "text": [
      "pineapple grapefruit cherry banana avocado apricot apple\n"
     ]
    }
   ],
   "source": [
    "fruits = {'apple', 'banana', 'cherry', 'avocado', 'pineapple', 'apricot', 'banana', 'avocado', 'grapefruit'}\n",
    "print(*sorted(fruits, reverse=True))"
   ]
  },
  {
   "cell_type": "code",
   "execution_count": 69,
   "id": "aaf8354d",
   "metadata": {},
   "outputs": [
    {
     "name": "stdout",
     "output_type": "stream",
     "text": [
      "10000000\n",
      "NO\n"
     ]
    }
   ],
   "source": [
    "a=input()\n",
    "print(('NO','YES')[len(a)==len(set(a))])"
   ]
  },
  {
   "cell_type": "code",
   "execution_count": 70,
   "id": "65ff7a38",
   "metadata": {},
   "outputs": [
    {
     "name": "stdout",
     "output_type": "stream",
     "text": [
      "34546567673412332\n",
      "NO\n"
     ]
    }
   ],
   "source": [
    "print(['NO','YES'][len(set(n:= input())) == len(n)])"
   ]
  },
  {
   "cell_type": "code",
   "execution_count": 71,
   "id": "72a8d861",
   "metadata": {},
   "outputs": [
    {
     "name": "stdout",
     "output_type": "stream",
     "text": [
      "шарада баллада услада\n",
      "NO\n"
     ]
    }
   ],
   "source": [
    "s = input().split()\n",
    "print('YES' if len(set(''.join(s))) == len(s[0]) else 'NO')\n"
   ]
  },
  {
   "cell_type": "code",
   "execution_count": 74,
   "id": "51f51f73",
   "metadata": {},
   "outputs": [
    {
     "name": "stdout",
     "output_type": "stream",
     "text": [
      "2\n"
     ]
    }
   ],
   "source": [
    "myset = set()\n",
    "for i in range(10):\n",
    "    if i % 2 == 0:\n",
    "        myset.add('even')\n",
    "    else:\n",
    "        myset.add('odd')\n",
    "print(len(myset))"
   ]
  },
  {
   "cell_type": "code",
   "execution_count": 77,
   "id": "a7579254",
   "metadata": {},
   "outputs": [
    {
     "name": "stdout",
     "output_type": "stream",
     "text": [
      "Snowflakes, snowflakes falling down. Snowflakes, covering up the ground. Making a blanket, soft and white. Making a blanket in the night.\n",
      "{'snowflakes', 'blanket', 'covering', 'down', 'white', 'up', 'ground', 'falling', 'a', 'making', 'the', 'and', 'in', 'soft', 'night'}\n"
     ]
    }
   ],
   "source": [
    "words = [word.lower().strip('.,;:-?!') for word in input().split()]\n",
    "#print(len(set(words)))\n",
    "print(set(words))"
   ]
  },
  {
   "cell_type": "code",
   "execution_count": 86,
   "id": "4945a4aa",
   "metadata": {},
   "outputs": [],
   "source": [
    "listASCII = ''.join([chr(i) for i in range(33, 127) if not chr(i).isalnum()])"
   ]
  },
  {
   "cell_type": "code",
   "execution_count": 87,
   "id": "f1fc32a6",
   "metadata": {},
   "outputs": [
    {
     "data": {
      "text/plain": [
       "'!\"#$%&\\'()*+,-./:;<=>?@[\\\\]^_`{|}~'"
      ]
     },
     "execution_count": 87,
     "metadata": {},
     "output_type": "execute_result"
    }
   ],
   "source": [
    "listASCII"
   ]
  },
  {
   "cell_type": "code",
   "execution_count": 5,
   "id": "a73a0e91",
   "metadata": {},
   "outputs": [
    {
     "name": "stdout",
     "output_type": "stream",
     "text": [
      "User Current Version:- 3.9.13 (main, Aug 25 2022, 23:51:50) [MSC v.1916 64 bit (AMD64)]\n"
     ]
    }
   ],
   "source": [
    "import sys\n",
    "print(\"User Current Version:-\", sys.version)"
   ]
  },
  {
   "cell_type": "code",
   "execution_count": 6,
   "id": "03cdfed2",
   "metadata": {},
   "outputs": [],
   "source": [
    "set1 = {'Yellow', 'Orange', 'Black'}\n",
    "set2 = {'Orange', 'Blue', 'Pink'}\n",
    "\n",
    "set1.difference_update(set2)"
   ]
  },
  {
   "cell_type": "code",
   "execution_count": 7,
   "id": "ff052590",
   "metadata": {},
   "outputs": [
    {
     "data": {
      "text/plain": [
       "{'Black', 'Yellow'}"
      ]
     },
     "execution_count": 7,
     "metadata": {},
     "output_type": "execute_result"
    }
   ],
   "source": [
    "set1"
   ]
  },
  {
   "cell_type": "code",
   "execution_count": 8,
   "id": "0d2d7e34",
   "metadata": {},
   "outputs": [
    {
     "name": "stdout",
     "output_type": "stream",
     "text": [
      "{'Black', 'Blue', 'Red', 'Green', 'Yellow', 'Orange'}\n"
     ]
    }
   ],
   "source": [
    "myset = {'Yellow', 'Orange', 'Black'}\n",
    "\n",
    "myset.update(['Blue', 'Green', 'Red', 'Orange'])\n",
    "print(myset)"
   ]
  },
  {
   "cell_type": "code",
   "execution_count": 9,
   "id": "e84ea8b1",
   "metadata": {},
   "outputs": [
    {
     "name": "stdout",
     "output_type": "stream",
     "text": [
      "True\n",
      "True\n"
     ]
    }
   ],
   "source": [
    "set1 = {10, 20, 30, 40, 50}\n",
    "set2 = {60, 70, 10, 30, 40, 80, 20, 50}\n",
    "\n",
    "print(set1.issubset(set2))\n",
    "print(set2.issuperset(set1))"
   ]
  },
  {
   "cell_type": "code",
   "execution_count": 10,
   "id": "a8c6f610",
   "metadata": {},
   "outputs": [
    {
     "name": "stdout",
     "output_type": "stream",
     "text": [
      "{'p'}\n"
     ]
    }
   ],
   "source": [
    "set1 = {'p'}\n",
    "set2 = {'a', 't', 'f'}\n",
    "\n",
    "print(set1 - set2)"
   ]
  },
  {
   "cell_type": "markdown",
   "id": "d3546970",
   "metadata": {},
   "source": [
    "### Контрольная работа по множествам"
   ]
  },
  {
   "cell_type": "markdown",
   "id": "74370ac1",
   "metadata": {},
   "source": [
    " \n",
    "### 1. В таблице приведены запросы и количество страниц, которые нашел поисковый сервер Google по этим запросам в сегменте Интернета:\n",
    "Запрос \tКоличество страниц (тыс.)\n",
    "математика & ЕГЭ \t315\n",
    "математика & параметры \t225\n",
    "математика & параметры & ЕГЭ \t110\n",
    "\n",
    "Какое количество страниц (в тысячах) будет найдено по запросу (параметры | ЕГЭ) & математика?\n",
    "\n",
    "<b>Примечание</b> В языке запросов поискового сервера для обозначения логической операции «ИЛИ» (объединение) используется символ «|», а для обозначения логической операции «И» (пересечение) — символ «&».\n"
   ]
  },
  {
   "cell_type": "code",
   "execution_count": 14,
   "id": "4f8369ec",
   "metadata": {},
   "outputs": [
    {
     "data": {
      "text/plain": [
       "430"
      ]
     },
     "execution_count": 14,
     "metadata": {},
     "output_type": "execute_result"
    }
   ],
   "source": [
    "# (математика & ЕГЭ) +  (математика & параметры) -  (математика & параметры & ЕГЭ)\n",
    "\n",
    "315 + 225 - 110"
   ]
  },
  {
   "cell_type": "markdown",
   "id": "05982385",
   "metadata": {},
   "source": [
    "### 2. Учитель проверяет домашнее задание в классе и получил следующие ответы: из nn школьников у mm домашнее задание съела собака, у kk отключили свет, а pp учеников постигли оба несчастья. Напишите программу, которая определяет сколько человек выполнило домашнее задание."
   ]
  },
  {
   "cell_type": "markdown",
   "id": "32de5e7d",
   "metadata": {},
   "source": [
    "#### Формат входных данных\n",
    "На вход программе подаются числа n,m,k,pn,m,k,p, каждое на отдельной строке.\n",
    "\n",
    "#### Формат выходных данных\n",
    "Программа должна вывести количество учеников, сделавших домашнее задание."
   ]
  },
  {
   "cell_type": "code",
   "execution_count": 16,
   "id": "b5606d72",
   "metadata": {},
   "outputs": [
    {
     "name": "stdout",
     "output_type": "stream",
     "text": [
      "35\n",
      "10\n",
      "20\n",
      "3\n",
      "Сделали дом. задание: 8\n"
     ]
    }
   ],
   "source": [
    "n, m, k, p = (int(input()) for i in range(4))\n",
    "# n - всего школьников\n",
    "# m - съела собака\n",
    "# k - отключили свет\n",
    "# p - съела собака и отключили свет (m & k)\n",
    "print(f'Сделали дом. задание: {n - m - k + p}')"
   ]
  },
  {
   "cell_type": "markdown",
   "id": "167d820f",
   "metadata": {},
   "source": [
    "### 3. На спутнике «Восход» установлен прибор для измерения солнечной активности. Каждую минуту он передаёт в обсерваторию по каналу связи положительное целое число — количество энергии солнечного излучения. Для правильного анализа результатов нет необходимости держать повторяющиеся данные. Напишите программу, которая выводит максимальное количество показаний спутника, при удалении которых результат будет правильно проанализирован.\n",
    "\n",
    "#### Формат входных данных\n",
    "На вход программе подаётся одна строка, содержащая числа – показания спутника «Восход». Числа указываются через пробел и не содержат ведущих нулей.\n",
    "#### Формат выходных данных\n",
    "Программа должна вывести максимальное количество показаний, после удаления которых анализ результатов будет произведен верно."
   ]
  },
  {
   "cell_type": "code",
   "execution_count": 17,
   "id": "fc009ff9",
   "metadata": {},
   "outputs": [
    {
     "name": "stdout",
     "output_type": "stream",
     "text": [
      "1 2 3 4 5 6 7 8 9 1 2 3\n",
      "3\n"
     ]
    }
   ],
   "source": [
    "n = input().split()\n",
    "print (len(n) - len(set(n)))"
   ]
  },
  {
   "cell_type": "markdown",
   "id": "024ae441",
   "metadata": {},
   "source": [
    "### 4. Тимур и Руслан играют в игру города. Они очень любят эту игру и знают много городов, особенно Тимур, однако к концу игры ввиду своего возраста забывают, какие города уже называли.\n",
    "\n",
    "Напишите программу, считывающую информацию об игре и сообщающую ребятам, что очередной город назван повторно.\n",
    "\n",
    "#### Формат входных данных\n",
    "На вход программе в первой строке подаётся натуральное число nn – количество названных городов, в последующих nn строках вводятся названные города и ещё одна строка с новым, только что названым городом.\n",
    "\n",
    "#### Формат выходных данных\n",
    "Программа должна вывести OK, если этот город ещё не вспоминали, и REPEAT, если город уже был назван."
   ]
  },
  {
   "cell_type": "code",
   "execution_count": 18,
   "id": "c41f1ae1",
   "metadata": {},
   "outputs": [
    {
     "name": "stdout",
     "output_type": "stream",
     "text": [
      "3\n",
      "Каир\n",
      "Рим\n",
      "Москва\n",
      "Агра\n",
      "OK\n"
     ]
    }
   ],
   "source": [
    "cities = {input() for i in range(int(input()))}\n",
    "print(['OK','REPEAT'][input() in cities])\n"
   ]
  },
  {
   "cell_type": "markdown",
   "id": "1936465a",
   "metadata": {},
   "source": [
    "### 5. Руслан получил в конце учебного года список литературы на лето. Теперь ему надо выяснить, какие книги из этого списка у него есть. У Руслана на компьютере в текстовом файле записаны все книги из его домашней библиотеки в случайном порядке.\n",
    "\n",
    "Напишите программу, определяющую для каждой книги из списка на прочтение, есть она у Руслана или нет.\n",
    "\n",
    "#### Формат входных данных\n",
    "На вход программе в первой строке подается натуральное число mm — количество книг в домашней библиотеке Руслана. Во второй строке записано натуральное число nn —  количество книг в списке на лето. Далее идут mm строк с названиями книг из домашней библиотеки и nn строк названий из списка на лето.\n",
    "\n",
    "#### Формат выходных данных\n",
    "Программа должна вывести nn строк, в каждой из которых написано слово YES, если книга найдена в библиотеке, и NO, если нет."
   ]
  },
  {
   "cell_type": "code",
   "execution_count": 21,
   "id": "87072bd0",
   "metadata": {},
   "outputs": [
    {
     "name": "stdout",
     "output_type": "stream",
     "text": [
      "4\n",
      "4\n",
      "Хоббит\n",
      "Алиса в стране чудес\n",
      "Том Сойер\n",
      "Остров сокровищ\n",
      "Буратино\n",
      "Хоббит\n",
      "Остров сокровищ\n",
      "Война и мир\n",
      "NO\n",
      "YES\n",
      "YES\n",
      "NO\n"
     ]
    }
   ],
   "source": [
    "m,n = int(input()), int(input())\n",
    "\n",
    "# книги в дом. библиотеке\n",
    "m_s = {input() for _ in range(m)} \n",
    "\n",
    "# проверка списка книг на лето\n",
    "print(*['YES' if input() in m_s else 'NO' for _ in range(n)], sep='\\n')\n",
    "\n"
   ]
  },
  {
   "cell_type": "markdown",
   "id": "8421968b",
   "metadata": {},
   "source": [
    "### 6. Как известно, математики странные люди. Не составляет исключения и Тимур — автор данного курса. Каждый день Тимур решает ровно две сложные математические задачи. Решая первую задачу, он записывает на первом листочке все числа, которые в ней встречаются. Далее он делает паузу и берется за вторую задачу. Затем записывает на втором листочке все числа, которые в ней встречаются. После этого он берет еще один листок и выписывает на него все совпадающие числа из первых двух листочков. Если такие числа есть, день удался, если общих чисел нет, Тимур считает день неудачным.\n",
    "\n",
    "Напишите программу, которая находит общие числа двух листочков или сообщает, что день не удался 😏\n",
    "\n",
    "#### Формат входных данных\n",
    "На вход программе подаются две строки с числами: в первой строке числа с первого листочка, во второй со второго.\n",
    "#### Формат выходных данных\n",
    "Программа должна вывести числа, встретившиеся на обоих листках в отсортированном по убыванию порядке, либо словосочетание BAD DAY, если таких чисел нет."
   ]
  },
  {
   "cell_type": "code",
   "execution_count": 22,
   "id": "8edfa5e9",
   "metadata": {
    "scrolled": true
   },
   "outputs": [
    {
     "name": "stdout",
     "output_type": "stream",
     "text": [
      "6 56 7 34 14\n",
      "675 45 246 2 1\n",
      "BAD DAY\n"
     ]
    }
   ],
   "source": [
    "s1 = {int(i) for i in input().split()}\n",
    "s2 = {int(i) for i in input().split()}\n",
    "\n",
    "s3 = s1 & s2\n",
    "print(*sorted(s3, reverse = True) if len(s3) else ['BAD DAY'])\n"
   ]
  },
  {
   "cell_type": "code",
   "execution_count": null,
   "id": "28963d6f",
   "metadata": {},
   "outputs": [],
   "source": []
  },
  {
   "cell_type": "code",
   "execution_count": null,
   "id": "a2fc3ac6",
   "metadata": {},
   "outputs": [],
   "source": []
  },
  {
   "cell_type": "markdown",
   "id": "26e76da9",
   "metadata": {},
   "source": [
    "### Каждый ученик, обучающийся в онлайн-школе BEEGEEK изучает либо математику, либо информатику, либо оба этих предмета. У руководителя школы есть списки учеников, изучающих каждый предмет. Случайно списки всех учеников перемешались.\n",
    "\n",
    "Напишите программу, которая позволит руководителю выяснить, сколько учеников изучает только один предмет.\n",
    "\n",
    "#### Формат входных данных\n",
    "На вход программе в первых двух строках подаются числа mm и nn – количества учеников, изучающих математику и информатику соответственно. Далее идут m+nm+n строк — фамилии учеников, изучающих математику и информатику, в произвольном порядке.\n",
    "\n",
    "#### Формат выходных данных\n",
    "Программа должна вывести количество учеников, которые изучают только один предмет. Если таких учеников не окажется, то необходимо вывести NO.\n",
    "\n",
    "#### Примечание. \n",
    "Гарантируется, что среди учеников школы BEEGEEK нет однофамильцев."
   ]
  },
  {
   "cell_type": "code",
   "execution_count": null,
   "id": "c8a8f1e9",
   "metadata": {},
   "outputs": [],
   "source": [
    "n = int(input()) + int(input())\n",
    "s = {input() for _ in range(n)}\n",
    "print(2 * len(s) - n or 'NO')"
   ]
  },
  {
   "cell_type": "markdown",
   "id": "3a6e3a11",
   "metadata": {},
   "source": [
    "### Руководителю онлайн-школы BEEGEEK захотелось узнать, кто из его учеников присутствовал на всех уроках с начала учебного года. Для каждого урока есть листок со списком присутствовавших учеников.\n",
    "\n",
    "Напишите программу, определяющую фамилии учеников, которые присутствовали на всех уроках.\n",
    "\n",
    "#### Формат входных данных\n",
    "На вход программе в первой строке дается число n – количество уроков, проведенных с начала учебного года. Далее идёт m блоков строк, описывающих листки с фамилиями. На первой строке каждого блока указано количество фамилий, затем идёт строчек с фамилиями тех, кто был на i-ом уроке.\n",
    "\n",
    "#### Формат выходных данных\n",
    "Программа должна вывести фамилии учеников, которые были на всех уроках, отсортированных в лексикографическом порядке. Каждая фамилия должна быть записана на отдельной строке.\n",
    "\n",
    "#### Примечание 1. Гарантируется, что среди учеников школы BEEGEEK нет однофамильцев.\n",
    "\n",
    "#### Примечание 2. Гарантируется, что хотя бы один ученик был на всех уроках."
   ]
  },
  {
   "cell_type": "code",
   "execution_count": 23,
   "id": "11d1cb33",
   "metadata": {
    "collapsed": true
   },
   "outputs": [
    {
     "name": "stdout",
     "output_type": "stream",
     "text": [
      "2\n",
      "4\n",
      "Черкасов\n",
      "Фокин\n",
      "Самойлов\n",
      "Устинов\n",
      "2\n",
      "Черкасов\n",
      "Устинов\n",
      "Устинов\n",
      "Черкасов\n"
     ]
    }
   ],
   "source": [
    "n = int(input())\n",
    "result = {input() for _ in range(int(input()))}\n",
    "\n",
    "for _ in range(n - 1):\n",
    "    result &= {input() for _ in range(int(input()))}\n",
    "    \n",
    "print(*sorted(result), sep='\\n')"
   ]
  },
  {
   "cell_type": "markdown",
   "id": "25967d1f",
   "metadata": {},
   "source": [
    "## СЛОВАРИ\n"
   ]
  },
  {
   "cell_type": "code",
   "execution_count": 3,
   "id": "b83e5219",
   "metadata": {},
   "outputs": [
    {
     "name": "stdout",
     "output_type": "stream",
     "text": [
      "Helga\n",
      "LJ\n",
      "Maria\n",
      "Riyad\n",
      "Ruslan\n"
     ]
    }
   ],
   "source": [
    "users = [{'name': 'Todd', 'phone': '551-1414', 'email': 'todd@gmail.com'},\n",
    "         {'name': 'Helga', 'phone': '555-1618', 'email': 'helga@mail.net'},\n",
    "         {'name': 'Olivia', 'phone': '449-3141', 'email': ''},\n",
    "         {'name': 'LJ', 'phone': '555-2718', 'email': 'lj@gmail.net'},\n",
    "         {'name': 'Ruslan', 'phone': '422-145-9098', 'email': 'rus-lan.cha@yandex.ru'},\n",
    "         {'name': 'John', 'phone': '233-421-32', 'email': ''},\n",
    "         {'name': 'Lara', 'phone': '+7998-676-2532', 'email': 'g.lara89@gmail.com'},\n",
    "         {'name': 'Alina', 'phone': '+7948-799-2434', 'email': 'ali.ch.b@gmail.com'},\n",
    "         {'name': 'Robert', 'phone': '420-2011', 'email': ''},\n",
    "         {'name': 'Riyad', 'phone': '128-8890-128', 'email': 'r.mahrez@mail.net'},\n",
    "         {'name': 'Khabib', 'phone': '+7995-600-9080', 'email': 'kh.nurmag@gmail.com'},\n",
    "         {'name': 'Olga', 'phone': '6449-314-1213', 'email': ''},\n",
    "         {'name': 'Roman', 'phone': '+7459-145-8059', 'email': 'roma988@mail.ru'},\n",
    "         {'name': 'Maria', 'phone': '12-129-3148', 'email': 'm.sharapova@gmail.com'},\n",
    "         {'name': 'Fedor', 'phone': '+7445-341-0545', 'email': ''},\n",
    "         {'name': 'Tim', 'phone': '242-449-3141', 'email': 'timm.ggg@yandex.ru'}]\n",
    "\n",
    "print(*sorted([i['name'] for i in users if i['phone'][-1:]=='8']), sep='\\n')\n"
   ]
  },
  {
   "cell_type": "code",
   "execution_count": 37,
   "id": "45ea78fe",
   "metadata": {},
   "outputs": [
    {
     "name": "stdout",
     "output_type": "stream",
     "text": [
      "Alina\n",
      "Fedor\n",
      "Helga\n",
      "John\n",
      "Olga\n",
      "Olivia\n",
      "Robert\n",
      "Roman\n"
     ]
    }
   ],
   "source": [
    "users = [{'name': 'Todd', 'phone': '551-1414', 'email': 'todd@gmail.com'},\n",
    "         {'name': 'Helga', 'phone': '555-1618'},\n",
    "         {'name': 'Olivia', 'phone': '449-3141', 'email': ''},\n",
    "         {'name': 'LJ', 'phone': '555-2718', 'email': 'lj@gmail.net'},\n",
    "         {'name': 'Ruslan', 'phone': '422-145-9098', 'email': 'rus-lan.cha@yandex.ru'},\n",
    "         {'name': 'John', 'phone': '233-421-32', 'email': ''},\n",
    "         {'name': 'Lara', 'phone': '+7998-676-2532', 'email': 'g.lara89@gmail.com'},\n",
    "         {'name': 'Alina', 'phone': '+7948-799-2434'},\n",
    "         {'name': 'Robert', 'phone': '420-2011', 'email': ''},\n",
    "         {'name': 'Riyad', 'phone': '128-8890-128', 'email': 'r.mahrez@mail.net'},\n",
    "         {'name': 'Khabib', 'phone': '+7995-600-9080', 'email': 'kh.nurmag@gmail.com'},\n",
    "         {'name': 'Olga', 'phone': '6449-314-1213', 'email': ''},\n",
    "         {'name': 'Roman', 'phone': '+7459-145-8059'},\n",
    "         {'name': 'Maria', 'phone': '12-129-3148', 'email': 'm.sharapova@gmail.com'},\n",
    "         {'name': 'Fedor', 'phone': '+7445-341-0545', 'email': ''},\n",
    "         {'name': 'Tim', 'phone': '242-449-3141', 'email': 'timm.ggg@yandex.ru'}]\n",
    "\n",
    "print(*sorted(i['name'] for i in users if not 'email' in i or i['email'] == ''), sep='\\n')\n"
   ]
  },
  {
   "cell_type": "code",
   "execution_count": 38,
   "id": "8f52f2f8",
   "metadata": {},
   "outputs": [
    {
     "name": "stdout",
     "output_type": "stream",
     "text": [
      "CM241\n",
      "CM241: 1411, Ли, 13:00\n"
     ]
    }
   ],
   "source": [
    "s = {'CS101': {'room': 3004, 'teacher': 'Хайнс', 'time': '8:00'},\n",
    "    'CS102': {'room': 4501, 'teacher': 'Альварадо', 'time': '9:00'},\n",
    "    'CS103': {'room': 6755,\t'teacher': 'Рич', 'time': '10:00'},\n",
    "    'NT110': {'room': 1244, 'teacher': 'Берк','time': '11:00'},\n",
    "    'CM241': {'room': 1411, 'teacher': 'Ли', 'time': '13:00'}\n",
    "   }\n",
    "\n",
    "kurs = input()\n",
    "print(f\"{kurs}: {s[kurs]['room']}, {s[kurs]['teacher']}, {s[kurs]['time']}\")\n"
   ]
  },
  {
   "cell_type": "markdown",
   "id": "cc5d44f1",
   "metadata": {},
   "source": [
    "### Набор сообщений\n",
    "\n",
    "На мобильных кнопочных телефонах текстовые сообщения можно отправлять с помощью цифровой клавиатуры. Поскольку с каждой клавишей связано несколько букв, для большинства букв требуется несколько нажатий клавиш. При однократном нажатии цифры генерируется первый символ, указанный для этой клавиши. Нажатие цифры 2,3,42,3,4 или 55 раз генерирует второй, третий, четвертый или пятый символ клавиши.\n",
    "<code>\n",
    "1 \t.,?!:\n",
    "2 \tABC\n",
    "3 \tDEF\n",
    "4 \tGHI\n",
    "5 \tJKL\n",
    "6 \tMNO\n",
    "7 \tPQRS\n",
    "8 \tTUV\n",
    "9 \tWXYZ\n",
    "0 \tspace (пробел)\n",
    "</code>\n",
    "\n",
    "Напишите программу, которая отображает нажатия клавиш, необходимые для введенного сообщения.\n",
    "\n",
    "#### Формат входных данных\n",
    "На вход программе подается одна строка – текстовое сообщение.\n",
    "\n",
    "#### Формат выходных данных\n",
    "Программа должна вывести нажатия клавиш, необходимых для введенного сообщения.\n",
    "\n",
    "#### Примечание 1. Ваша программа должна обрабатывать как прописные, так и строчные буквы.\n",
    "\n",
    "#### Примечание 2. Ваша программа должна игнорировать любые символы, не указанные в приведенной выше таблице.\n",
    "\n",
    "Примечание 3. Nokia 3310, чтобы вспомнить как это было 😄\n",
    "\n"
   ]
  },
  {
   "cell_type": "code",
   "execution_count": 4,
   "id": "b297a2e4",
   "metadata": {},
   "outputs": [
    {
     "name": "stdout",
     "output_type": "stream",
     "text": [
      "Hello, World !\n",
      "44335555556661109666777555301111"
     ]
    }
   ],
   "source": [
    "symbols = {1: '.,?!:', 2: 'ABC', 3:\t'DEF',\n",
    "           4: 'GHI', 5: 'JKL', 6: 'MNO',\n",
    "           7: 'PQRS', 8: 'TUV', 9: 'WXYZ',\n",
    "           0: ' '}\n",
    "\n",
    "for s in list(input().upper()):\n",
    "    for key, val in symbols.items():\n",
    "        if s in val: \n",
    "            print(str(key) * (val.index(s) + 1), end='')\n",
    "            "
   ]
  },
  {
   "cell_type": "code",
   "execution_count": 6,
   "id": "a60312e8",
   "metadata": {},
   "outputs": [
    {
     "name": "stdout",
     "output_type": "stream",
     "text": [
      "None\n"
     ]
    }
   ],
   "source": [
    "dict1 = {'a': 100, 'z': 333, 'b': 200, 'c': 300, 'd': 45, 'e': 98, 't': 76, 'q': 34, 'f': 90, 'm': 230}\n",
    "dict2 = {'a': 300, 'b': 200, 'd': 400, 't': 777, 'c': 12, 'p': 123, 'w': 111, 'z': 666}\n",
    "\n",
    "result = dict1.update(dict2)\n",
    "print(result)"
   ]
  },
  {
   "cell_type": "markdown",
   "id": "0a0aaf9f",
   "metadata": {},
   "source": [
    "### 6.13 А вы знали, что цифры на банковской карте выбираются не просто случайным образом?\n",
    "\n",
    "#### Алгоритм Луна\n",
    "Упрощенная версия алгоритма выглядит так:\n",
    "<ol>\n",
    "    <li>Цифры проверяемой последовательности нумеруются справа налево.</li>\n",
    "    <li>Цифры, оказавшиеся на нечётных местах, остаются без изменений.</li>\n",
    "    <li>Цифры, стоящие на чётных местах, умножаются на 2.</li>\n",
    "    <li>Если в результате такого умножения возникает число больше 9, оно уменьшается на значение 9</li>\n",
    "    <li>Все полученные в результате преобразования 16 цифр складываются. Если сумма кратна 10, то исходные данные верны.</li>\n",
    "</ol>\n",
    "    \n",
    "#### Сумма определенных цифр на карте должны проходить условия алгоритма Луна"
   ]
  },
  {
   "cell_type": "markdown",
   "id": "c20415a0",
   "metadata": {},
   "source": [
    "#### Вариант 1"
   ]
  },
  {
   "cell_type": "code",
   "execution_count": 4,
   "id": "83c0db93",
   "metadata": {},
   "outputs": [
    {
     "name": "stdout",
     "output_type": "stream",
     "text": [
      "3942682966937054\n",
      "True\n"
     ]
    }
   ],
   "source": [
    "sum_n = 0\n",
    "for i, n in enumerate(list(map(int, input())),2):\n",
    "    if not i % 2:\n",
    "        n *= 2\n",
    "        # sum_n += sum(map(int, str(n))) \n",
    "        if n > 9:\n",
    "            n -= 9\n",
    "    sum_n += n                \n",
    "print(not sum_n % 10)"
   ]
  },
  {
   "cell_type": "markdown",
   "id": "6b2640d6",
   "metadata": {},
   "source": [
    "#### Вариант 2 ( by Алекс Глозман)\n"
   ]
  },
  {
   "cell_type": "markdown",
   "id": "2e25491e",
   "metadata": {},
   "source": [
    "1. Нумеровать можно обычным образом, слева направо, только четность меняется на противоположную, потому что в строке четное кол-во цифр (16).\n",
    "\n",
    "1 <b>2</b> 3 <b>4</b> 5 <b>6</b> 7 <b>8</b> 9 <b>10</b> 11 <b>12</b> 13 <b>14</b> 15 <b>16</b>  (жирным помечены индексы, под которыми элементы подлежащие изменению)\n",
    "\n",
    "Учитывая нумерацию с нуля, получается, что как раз не надо изменять цифры с нечетными индексами :). Но для лаконичности, будет формировать новый список цифр с помощью списочного выражения (точнее списочного генератора).\n",
    "\n",
    "2. Условие 2 * d > 9 можно заменить на d > 4, а вместо 2 * d можно взять d и увязать добавление второго d а так же вычитание числа 9 с выполнением соотвествующих условий. \n",
    "\n",
    "3. Для лаконичности можно заменить тернарник на смешанное арифм-логическое выражение."
   ]
  },
  {
   "cell_type": "code",
   "execution_count": 2,
   "id": "b28c693d",
   "metadata": {},
   "outputs": [
    {
     "name": "stdout",
     "output_type": "stream",
     "text": [
      "3942682966937054\n",
      "True\n"
     ]
    }
   ],
   "source": [
    "print(not sum(d + (i + 1) % 2 * (d - 9 * (d > 4)) for i, d in enumerate(map(int, input()))) % 10)"
   ]
  },
  {
   "cell_type": "markdown",
   "id": "0b6cb437",
   "metadata": {},
   "source": [
    "#### Вариант 3 ( by Алекс Глозман)\n"
   ]
  },
  {
   "cell_type": "markdown",
   "id": "9644c9a2",
   "metadata": {},
   "source": [
    "1. Нумеровать можно обычным образом, слева направо, только четность меняется на противоположную, потому что в строке четное кол-во цифр (16).\n",
    "\n",
    "1 <b>2</b> 3 <b>4</b> 5 <b>6</b> 7 <b>8</b> 9 <b>10</b> 11 <b>12</b> 13 <b>14</b> 15 <b>16</b>  (жирным помечены индексы, под которыми элементы подлежащие изменению)\n",
    "\n",
    "Учитывая нумерацию с нуля, получается, что как раз не надо изменять цифры с нечетными индексами :). Но для лаконичности, будет формировать новый список цифр с помощью списочного выражения (точнее списочного генератора).\n",
    "\n",
    "2. Условие связанное с вычитанием числа 9 в случае когда  2 * d > 9 можно заменить на сложение цифр числа 2 * d,  что достигается формулой sum(divmod(2 * d, 10)). Тут требуется пояснение. Числа представляющие собой удвоенную цифру не могут превышать 2 * 9 = 18. Интуитивно, при образовании подобного двузначного числа мы переносим число 10 в разряд десятков в виде цифры 1, а то что осталось от десятки оставляем в единицах. Т.е. например число 2 * 8 = 16, цифра 1 переходит в разряд десятков, а цифра 6 остается. 10 + 6 = 1 + 9 + 6. Поэтому если вычесть из 16-ти число 9 то получится тот же результат что и при сложении цифр числа 16: 1 + 6 = 16 - 9 = 7\n",
    "    "
   ]
  },
  {
   "cell_type": "code",
   "execution_count": 6,
   "id": "e55977a5",
   "metadata": {},
   "outputs": [
    {
     "name": "stdout",
     "output_type": "stream",
     "text": [
      "3942682966937054\n",
      "True\n"
     ]
    }
   ],
   "source": [
    "print(not sum(d if i % 2 else sum(divmod(2 * d, 10)) for i, d in enumerate(map(int, input()))) % 10)"
   ]
  },
  {
   "cell_type": "code",
   "execution_count": 4,
   "id": "001ee5b9",
   "metadata": {},
   "outputs": [
    {
     "name": "stdout",
     "output_type": "stream",
     "text": [
      "Requirement already satisfied: numpy in e:\\miniconda3\\env\\my_env\\lib\\site-packages (1.23.5)\n",
      "Collecting numpy\n",
      "  Downloading numpy-1.24.1-cp310-cp310-win_amd64.whl (14.8 MB)\n",
      "     ---------------------------------------- 14.8/14.8 MB 1.7 MB/s eta 0:00:00\n",
      "Installing collected packages: numpy\n",
      "  Attempting uninstall: numpy\n",
      "    Found existing installation: numpy 1.23.5\n",
      "    Uninstalling numpy-1.23.5:\n",
      "      Successfully uninstalled numpy-1.23.5\n",
      "Successfully installed numpy-1.24.1\n"
     ]
    }
   ],
   "source": [
    "!pip install --upgrade numpy"
   ]
  },
  {
   "cell_type": "code",
   "execution_count": null,
   "id": "29417734",
   "metadata": {},
   "outputs": [],
   "source": []
  }
 ],
 "metadata": {
  "kernelspec": {
   "display_name": "Python 3 (ipykernel)",
   "language": "python",
   "name": "python3"
  },
  "language_info": {
   "codemirror_mode": {
    "name": "ipython",
    "version": 3
   },
   "file_extension": ".py",
   "mimetype": "text/x-python",
   "name": "python",
   "nbconvert_exporter": "python",
   "pygments_lexer": "ipython3",
   "version": "3.10.8"
  }
 },
 "nbformat": 4,
 "nbformat_minor": 5
}
