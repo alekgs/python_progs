{
  "cells": [
    {
      "cell_type": "markdown",
      "metadata": {
        "id": "QID395PDrDeC"
      },
      "source": [
        "# Использование типа данных категории в pandas\n",
        "\n",
        "<a href=\"https://t.me/init_python\"><img src=\"https://dfedorov.spb.ru/pandas/logo-telegram.png\" width=\"35\" height=\"35\" alt=\"telegram\" align=\"left\"></a>"
      ]
    },
    {
      "cell_type": "markdown",
      "metadata": {
        "id": "jVCKj9z3rDeF"
      },
      "source": [
        "<a href=\"https://colab.research.google.com/github/dm-fedorov/pandas_basic/blob/master/быстрое%20введение%20в%20pandas/Использование%20типа%20данных%20категории%20в%20pandas.ipynb\"><img align=\"left\" src=\"https://colab.research.google.com/assets/colab-badge.svg\" alt=\"Open in Colab\" title=\"Open and Execute in Google Colaboratory\" target=\"_blank\"></a>"
      ]
    },
    {
      "cell_type": "markdown",
      "metadata": {
        "id": "HlCscxuMrDeH"
      },
      "source": [
        "## Введение\n",
        "\n",
        "В [предыдущей статье](https://pbpython.com/pandas_dtypes.html) (а [тут](http://dfedorov.spb.ru/pandas/%D0%9E%D0%B1%D0%B7%D0%BE%D1%80%20%D1%82%D0%B8%D0%BF%D0%BE%D0%B2%20%D0%B4%D0%B0%D0%BD%D0%BD%D1%8B%D1%85%20pandas.html) перевод на русский язык) я писал о типах данных в pandas; что это такое и как преобразовать данные в соответствующий тип. В этой статье основное внимание будет уделено [категориальному типу данных](https://pandas.pydata.org/pandas-docs/stable/user_guide/categorical.html), а также некоторым преимуществам и недостаткам его использования.\n",
        "\n",
        "> Оригинал статьи Криса [тут](https://pbpython.com/pandas_dtypes_cat.html)."
      ]
    },
    {
      "cell_type": "markdown",
      "metadata": {
        "id": "fkYAXi3vrDeJ"
      },
      "source": [
        "## Тип данных Category в pandas\n",
        "\n",
        "В этой статье речь пойдет о категориальных данных. Напоминаю, что категориальные данные - это данные, которые принимают конечное число возможных значений. Например, если мы говорим о таком товаре как футболка, у него могут быть следующие категориальные значения:\n",
        "\n",
        "- `Размер` (X-Small, Small, Medium, Large, X-Large) \n",
        "- `Цвет` (красный, черный, белый) \n",
        "- `Стиль` (короткий рукав, длинный рукав) \n",
        "- `Материал` (хлопок, полиэстер)\n",
        "\n",
        "Такие атрибуты, как стоимость, цена, количество, обычно являются целыми числами или числами с плавающей точкой. \n",
        "\n",
        "Является ли переменная категориальной, зависит от ее применения. Поскольку у нас всего 3 цвета рубашек, то это хорошая категориальная переменная. Однако в другом случае \"цвет\" может представлять тысячи значений.\n",
        "\n",
        "*Не существует жесткого правила, определяющего, сколько значений должна иметь категориальная переменная*. Вы должны использовать собственные знания о предметной области, чтобы сделать выбор. В этой статье мы рассмотрим один из подходов к определению категориальных значений.\n",
        "\n",
        "Тип данных категории (`category data type`) в pandas - это гибридный тип. Во многих случаях он выглядит и ведет себя как строка, но внутренне представлен массивом целых чисел. Это позволяет сортировать данные в произвольном порядке и более эффективно их хранить.\n",
        "\n",
        "В конце концов, почему мы так беспокоимся об использовании категориальных значений? Есть 3 основные причины:\n",
        "\n",
        "- Мы можем определить собственный порядок сортировки, который позволяет улучшить обобщение данных и составление отчетов. В приведенном выше примере `X-Small < Small < Medium < Large < X-Large`. Алфавитная сортировка не сможет воспроизвести этот порядок.\n",
        "- Некоторые из питоновских библиотек визуализации позволяют интерпретировать категориальный тип данных для применения подходящих статистических моделей или типов графиков.\n",
        "- Категориальные данные используют меньше памяти, что приводит к повышению производительности.\n",
        "\n",
        "## Подготовка данных\n",
        "\n",
        "Одно из основных преимуществ категориальных типов данных - более эффективное использование памяти. Для демонстрации этого будем использовать [большой набор данных из Центров услуг Медикэр и Медикэйд в США](https://www.cms.gov/OpenPayments/Explore-the-Data/Dataset-Downloads.html). Этот набор данных включает csv файл размером 500 МБ+, содержащий информацию о платежах за исследования врачам и больницам в 2017 финансовом году ([прямая ссылка](https://download.cms.gov/openpayments/PGYR17_P063020.ZIP) на скачивание архива).\n",
        "\n",
        "Сначала настройте импорт и прочтите все данные:"
      ]
    },
    {
      "cell_type": "code",
      "execution_count": null,
      "metadata": {
        "id": "RFQGnHjFrDeM"
      },
      "outputs": [],
      "source": [
        "import pandas as pd\n",
        "\n",
        "# https://pandas.pydata.org/pandas-docs/stable/user_guide/categorical.html#categoricaldtype\n",
        "from pandas.api.types import CategoricalDtype "
      ]
    },
    {
      "cell_type": "code",
      "execution_count": null,
      "metadata": {
        "id": "yIO1oDYKrDeN"
      },
      "outputs": [],
      "source": [
        "!wget https://www.dropbox.com/s/jou3p1zdyvjmq4e/OP_DTL_RSRCH_PGYR2017_P06302020.csv"
      ]
    },
    {
      "cell_type": "code",
      "execution_count": null,
      "metadata": {
        "id": "8x7vKKh5rDeO",
        "outputId": "72b86ce4-1507-4c21-c65e-04ea3c1abaf1"
      },
      "outputs": [
        {
          "data": {
            "text/html": [
              "<div>\n",
              "<style scoped>\n",
              "    .dataframe tbody tr th:only-of-type {\n",
              "        vertical-align: middle;\n",
              "    }\n",
              "\n",
              "    .dataframe tbody tr th {\n",
              "        vertical-align: top;\n",
              "    }\n",
              "\n",
              "    .dataframe thead th {\n",
              "        text-align: right;\n",
              "    }\n",
              "</style>\n",
              "<table border=\"1\" class=\"dataframe\">\n",
              "  <thead>\n",
              "    <tr style=\"text-align: right;\">\n",
              "      <th></th>\n",
              "      <th>Change_Type</th>\n",
              "      <th>Covered_Recipient_Type</th>\n",
              "      <th>Noncovered_Recipient_Entity_Name</th>\n",
              "      <th>Teaching_Hospital_CCN</th>\n",
              "      <th>Teaching_Hospital_ID</th>\n",
              "      <th>Teaching_Hospital_Name</th>\n",
              "      <th>Physician_Profile_ID</th>\n",
              "      <th>Physician_First_Name</th>\n",
              "      <th>Physician_Middle_Name</th>\n",
              "      <th>Physician_Last_Name</th>\n",
              "      <th>...</th>\n",
              "      <th>Preclinical_Research_Indicator</th>\n",
              "      <th>Delay_in_Publication_Indicator</th>\n",
              "      <th>Name_of_Study</th>\n",
              "      <th>Dispute_Status_for_Publication</th>\n",
              "      <th>Record_ID</th>\n",
              "      <th>Program_Year</th>\n",
              "      <th>Payment_Publication_Date</th>\n",
              "      <th>ClinicalTrials_Gov_Identifier</th>\n",
              "      <th>Research_Information_Link</th>\n",
              "      <th>Context_of_Research</th>\n",
              "    </tr>\n",
              "  </thead>\n",
              "  <tbody>\n",
              "    <tr>\n",
              "      <th>0</th>\n",
              "      <td>UNCHANGED</td>\n",
              "      <td>Covered Recipient Teaching Hospital</td>\n",
              "      <td>NaN</td>\n",
              "      <td>410007.0</td>\n",
              "      <td>4819.0</td>\n",
              "      <td>RHODE ISLAND HOSPITAL</td>\n",
              "      <td>NaN</td>\n",
              "      <td>NaN</td>\n",
              "      <td>NaN</td>\n",
              "      <td>NaN</td>\n",
              "      <td>...</td>\n",
              "      <td>No</td>\n",
              "      <td>No</td>\n",
              "      <td>PALLASPALBOCICLIB COLLABORATIVE ADJUVANT STUDY...</td>\n",
              "      <td>No</td>\n",
              "      <td>501845079</td>\n",
              "      <td>2017</td>\n",
              "      <td>06/30/2020</td>\n",
              "      <td>NaN</td>\n",
              "      <td>NaN</td>\n",
              "      <td>NaN</td>\n",
              "    </tr>\n",
              "    <tr>\n",
              "      <th>1</th>\n",
              "      <td>UNCHANGED</td>\n",
              "      <td>Covered Recipient Teaching Hospital</td>\n",
              "      <td>NaN</td>\n",
              "      <td>390111.0</td>\n",
              "      <td>5027.0</td>\n",
              "      <td>HOSPITAL OF THE UNIV OF PENNA</td>\n",
              "      <td>NaN</td>\n",
              "      <td>NaN</td>\n",
              "      <td>NaN</td>\n",
              "      <td>NaN</td>\n",
              "      <td>...</td>\n",
              "      <td>No</td>\n",
              "      <td>No</td>\n",
              "      <td>An Open-Label, Single-Arm, Multicenter, Phase ...</td>\n",
              "      <td>No</td>\n",
              "      <td>506101597</td>\n",
              "      <td>2017</td>\n",
              "      <td>06/30/2020</td>\n",
              "      <td>NaN</td>\n",
              "      <td>NaN</td>\n",
              "      <td>10011004 C2D15 Dec 15 2016</td>\n",
              "    </tr>\n",
              "    <tr>\n",
              "      <th>2</th>\n",
              "      <td>UNCHANGED</td>\n",
              "      <td>Covered Recipient Teaching Hospital</td>\n",
              "      <td>NaN</td>\n",
              "      <td>10033.0</td>\n",
              "      <td>5681.0</td>\n",
              "      <td>UNIVERSITY OF ALABAMA HOSPITAL</td>\n",
              "      <td>NaN</td>\n",
              "      <td>NaN</td>\n",
              "      <td>NaN</td>\n",
              "      <td>NaN</td>\n",
              "      <td>...</td>\n",
              "      <td>No</td>\n",
              "      <td>No</td>\n",
              "      <td>PHASE 3 STUDY OF ANTI PDL1 WITH ABRAXANE IN TN...</td>\n",
              "      <td>No</td>\n",
              "      <td>485544131</td>\n",
              "      <td>2017</td>\n",
              "      <td>06/30/2020</td>\n",
              "      <td>NaN</td>\n",
              "      <td>NaN</td>\n",
              "      <td>NaN</td>\n",
              "    </tr>\n",
              "    <tr>\n",
              "      <th>3</th>\n",
              "      <td>UNCHANGED</td>\n",
              "      <td>Covered Recipient Teaching Hospital</td>\n",
              "      <td>NaN</td>\n",
              "      <td>490007.0</td>\n",
              "      <td>5507.0</td>\n",
              "      <td>SENTARA NORFOLK GENERAL HOSPITAL</td>\n",
              "      <td>NaN</td>\n",
              "      <td>NaN</td>\n",
              "      <td>NaN</td>\n",
              "      <td>NaN</td>\n",
              "      <td>...</td>\n",
              "      <td>No</td>\n",
              "      <td>No</td>\n",
              "      <td>QP ExCELs</td>\n",
              "      <td>No</td>\n",
              "      <td>509865461</td>\n",
              "      <td>2017</td>\n",
              "      <td>06/30/2020</td>\n",
              "      <td>NaN</td>\n",
              "      <td>NaN</td>\n",
              "      <td>NaN</td>\n",
              "    </tr>\n",
              "    <tr>\n",
              "      <th>4</th>\n",
              "      <td>UNCHANGED</td>\n",
              "      <td>Covered Recipient Teaching Hospital</td>\n",
              "      <td>NaN</td>\n",
              "      <td>520078.0</td>\n",
              "      <td>5350.0</td>\n",
              "      <td>ST. FRANCIS HOSPITAL</td>\n",
              "      <td>NaN</td>\n",
              "      <td>NaN</td>\n",
              "      <td>NaN</td>\n",
              "      <td>NaN</td>\n",
              "      <td>...</td>\n",
              "      <td>No</td>\n",
              "      <td>No</td>\n",
              "      <td>Dimethyl Fumarate (DMF) Observational Study</td>\n",
              "      <td>No</td>\n",
              "      <td>455803127</td>\n",
              "      <td>2017</td>\n",
              "      <td>06/30/2020</td>\n",
              "      <td>NaN</td>\n",
              "      <td>NaN</td>\n",
              "      <td>NaN</td>\n",
              "    </tr>\n",
              "  </tbody>\n",
              "</table>\n",
              "<p>5 rows × 176 columns</p>\n",
              "</div>"
            ],
            "text/plain": [
              "  Change_Type               Covered_Recipient_Type  \\\n",
              "0   UNCHANGED  Covered Recipient Teaching Hospital   \n",
              "1   UNCHANGED  Covered Recipient Teaching Hospital   \n",
              "2   UNCHANGED  Covered Recipient Teaching Hospital   \n",
              "3   UNCHANGED  Covered Recipient Teaching Hospital   \n",
              "4   UNCHANGED  Covered Recipient Teaching Hospital   \n",
              "\n",
              "  Noncovered_Recipient_Entity_Name  Teaching_Hospital_CCN  \\\n",
              "0                              NaN               410007.0   \n",
              "1                              NaN               390111.0   \n",
              "2                              NaN                10033.0   \n",
              "3                              NaN               490007.0   \n",
              "4                              NaN               520078.0   \n",
              "\n",
              "   Teaching_Hospital_ID            Teaching_Hospital_Name  \\\n",
              "0                4819.0             RHODE ISLAND HOSPITAL   \n",
              "1                5027.0     HOSPITAL OF THE UNIV OF PENNA   \n",
              "2                5681.0    UNIVERSITY OF ALABAMA HOSPITAL   \n",
              "3                5507.0  SENTARA NORFOLK GENERAL HOSPITAL   \n",
              "4                5350.0              ST. FRANCIS HOSPITAL   \n",
              "\n",
              "   Physician_Profile_ID Physician_First_Name Physician_Middle_Name  \\\n",
              "0                   NaN                  NaN                   NaN   \n",
              "1                   NaN                  NaN                   NaN   \n",
              "2                   NaN                  NaN                   NaN   \n",
              "3                   NaN                  NaN                   NaN   \n",
              "4                   NaN                  NaN                   NaN   \n",
              "\n",
              "  Physician_Last_Name  ... Preclinical_Research_Indicator  \\\n",
              "0                 NaN  ...                             No   \n",
              "1                 NaN  ...                             No   \n",
              "2                 NaN  ...                             No   \n",
              "3                 NaN  ...                             No   \n",
              "4                 NaN  ...                             No   \n",
              "\n",
              "  Delay_in_Publication_Indicator  \\\n",
              "0                             No   \n",
              "1                             No   \n",
              "2                             No   \n",
              "3                             No   \n",
              "4                             No   \n",
              "\n",
              "                                       Name_of_Study  \\\n",
              "0  PALLASPALBOCICLIB COLLABORATIVE ADJUVANT STUDY...   \n",
              "1  An Open-Label, Single-Arm, Multicenter, Phase ...   \n",
              "2  PHASE 3 STUDY OF ANTI PDL1 WITH ABRAXANE IN TN...   \n",
              "3                                          QP ExCELs   \n",
              "4        Dimethyl Fumarate (DMF) Observational Study   \n",
              "\n",
              "  Dispute_Status_for_Publication  Record_ID Program_Year  \\\n",
              "0                             No  501845079         2017   \n",
              "1                             No  506101597         2017   \n",
              "2                             No  485544131         2017   \n",
              "3                             No  509865461         2017   \n",
              "4                             No  455803127         2017   \n",
              "\n",
              "  Payment_Publication_Date ClinicalTrials_Gov_Identifier  \\\n",
              "0               06/30/2020                           NaN   \n",
              "1               06/30/2020                           NaN   \n",
              "2               06/30/2020                           NaN   \n",
              "3               06/30/2020                           NaN   \n",
              "4               06/30/2020                           NaN   \n",
              "\n",
              "  Research_Information_Link         Context_of_Research  \n",
              "0                       NaN                         NaN  \n",
              "1                       NaN  10011004 C2D15 Dec 15 2016  \n",
              "2                       NaN                         NaN  \n",
              "3                       NaN                         NaN  \n",
              "4                       NaN                         NaN  \n",
              "\n",
              "[5 rows x 176 columns]"
            ]
          },
          "execution_count": 3,
          "metadata": {},
          "output_type": "execute_result"
        }
      ],
      "source": [
        "df_raw = pd.read_csv('OP_DTL_RSRCH_PGYR2017_P06302020.csv', low_memory=False)\n",
        "df_raw.head()"
      ]
    },
    {
      "cell_type": "markdown",
      "metadata": {
        "id": "OSevRZ9JrDeO"
      },
      "source": [
        "Я установил параметр `low_memory=False`, как указано в предупрждении:\n",
        "\n",
        "```\n",
        "interactiveshell.py:2728: DtypeWarning: Columns (..) have mixed types. Specify dtype option on import or set low_memory=False.\n",
        "interactivity=interactivity, compiler=compiler, result=result)\n",
        "```"
      ]
    },
    {
      "cell_type": "markdown",
      "metadata": {
        "id": "hA6Xi--GrDeP"
      },
      "source": [
        "> Не стесняйтесь прочитать об этом параметре в документации по [`read_csv`](https://pandas.pydata.org/pandas-docs/stable/reference/api/pandas.read_csv.html).\n",
        "\n",
        "В этом наборе данных есть одна интересная особенность: в нем более 176 столбцов, но многие из них пусты. Я нашел [решение на stack overflow](https://stackoverflow.com/questions/49791246/drop-columns-with-more-than-60-percent-of-empty-values-in-pandas), позволяющее быстро удалить столбцы, в которых не менее 90% данных отсутствуют. \n",
        "\n",
        "Думаю, что это решение может быть полезно и для других:"
      ]
    },
    {
      "cell_type": "code",
      "execution_count": null,
      "metadata": {
        "id": "fmTTWFUrrDeQ"
      },
      "outputs": [],
      "source": [
        "drop_thresh = df_raw.shape[0]*.9\n",
        "df = df_raw.dropna(thresh=drop_thresh, how='all', axis='columns').copy()"
      ]
    },
    {
      "cell_type": "markdown",
      "metadata": {
        "id": "2mdJdBoorDeR"
      },
      "source": [
        "Давайте посмотрим на размер различных кадров данных. Вот исходный набор данных:"
      ]
    },
    {
      "cell_type": "code",
      "execution_count": null,
      "metadata": {
        "id": "Y15-eSAqrDeS",
        "outputId": "72d79975-9266-42fb-f5ab-71caa96910f2"
      },
      "outputs": [
        {
          "name": "stdout",
          "output_type": "stream",
          "text": [
            "<class 'pandas.core.frame.DataFrame'>\n",
            "RangeIndex: 673227 entries, 0 to 673226\n",
            "Columns: 176 entries, Change_Type to Context_of_Research\n",
            "dtypes: float64(34), int64(3), object(139)\n",
            "memory usage: 904.0+ MB\n"
          ]
        }
      ],
      "source": [
        "df_raw.info()"
      ]
    },
    {
      "cell_type": "markdown",
      "metadata": {
        "id": "ek0e9GLLrDeT"
      },
      "source": [
        "CSV-файл размером `560 МБ` занимает в памяти около `904 МБ`. Кажется, что это много, но даже в слабом ноутбуке есть несколько гигабайт оперативной памяти, поэтому нам не понадобятся специализированные инструменты обработки."
      ]
    },
    {
      "cell_type": "markdown",
      "metadata": {
        "id": "rEnMH1d5rDeT"
      },
      "source": [
        "Вот набор данных, который мы будем использовать в оставшейся части Блокнота:"
      ]
    },
    {
      "cell_type": "code",
      "execution_count": null,
      "metadata": {
        "scrolled": true,
        "id": "ckL4aAK9rDeU",
        "outputId": "4ae6385b-159b-4d56-af75-cd7f863a8b8e"
      },
      "outputs": [
        {
          "name": "stdout",
          "output_type": "stream",
          "text": [
            "<class 'pandas.core.frame.DataFrame'>\n",
            "RangeIndex: 673227 entries, 0 to 673226\n",
            "Data columns (total 34 columns):\n",
            " #   Column                                                            Non-Null Count   Dtype  \n",
            "---  ------                                                            --------------   -----  \n",
            " 0   Change_Type                                                       673227 non-null  object \n",
            " 1   Covered_Recipient_Type                                            673227 non-null  object \n",
            " 2   Recipient_Primary_Business_Street_Address_Line1                   672568 non-null  object \n",
            " 3   Recipient_City                                                    672568 non-null  object \n",
            " 4   Recipient_State                                                   672008 non-null  object \n",
            " 5   Recipient_Zip_Code                                                672008 non-null  object \n",
            " 6   Recipient_Country                                                 672568 non-null  object \n",
            " 7   Principal_Investigator_1_Profile_ID                               636770 non-null  float64\n",
            " 8   Principal_Investigator_1_First_Name                               636770 non-null  object \n",
            " 9   Principal_Investigator_1_Last_Name                                636770 non-null  object \n",
            " 10  Principal_Investigator_1_Business_Street_Address_Line1            636770 non-null  object \n",
            " 11  Principal_Investigator_1_City                                     636770 non-null  object \n",
            " 12  Principal_Investigator_1_State                                    636749 non-null  object \n",
            " 13  Principal_Investigator_1_Zip_Code                                 636749 non-null  object \n",
            " 14  Principal_Investigator_1_Country                                  636770 non-null  object \n",
            " 15  Principal_Investigator_1_Primary_Type                             636770 non-null  object \n",
            " 16  Principal_Investigator_1_Specialty                                635907 non-null  object \n",
            " 17  Principal_Investigator_1_License_State_code1                      636770 non-null  object \n",
            " 18  Submitting_Applicable_Manufacturer_or_Applicable_GPO_Name         673227 non-null  object \n",
            " 19  Applicable_Manufacturer_or_Applicable_GPO_Making_Payment_ID       673227 non-null  int64  \n",
            " 20  Applicable_Manufacturer_or_Applicable_GPO_Making_Payment_Name     673227 non-null  object \n",
            " 21  Applicable_Manufacturer_or_Applicable_GPO_Making_Payment_State    608591 non-null  object \n",
            " 22  Applicable_Manufacturer_or_Applicable_GPO_Making_Payment_Country  673227 non-null  object \n",
            " 23  Related_Product_Indicator                                         673227 non-null  object \n",
            " 24  Total_Amount_of_Payment_USDollars                                 673227 non-null  float64\n",
            " 25  Date_of_Payment                                                   673227 non-null  object \n",
            " 26  Form_of_Payment_or_Transfer_of_Value                              673227 non-null  object \n",
            " 27  Preclinical_Research_Indicator                                    673227 non-null  object \n",
            " 28  Delay_in_Publication_Indicator                                    673227 non-null  object \n",
            " 29  Name_of_Study                                                     666425 non-null  object \n",
            " 30  Dispute_Status_for_Publication                                    673227 non-null  object \n",
            " 31  Record_ID                                                         673227 non-null  int64  \n",
            " 32  Program_Year                                                      673227 non-null  int64  \n",
            " 33  Payment_Publication_Date                                          673227 non-null  object \n",
            "dtypes: float64(2), int64(3), object(29)\n",
            "memory usage: 174.6+ MB\n"
          ]
        }
      ],
      "source": [
        "df.info()"
      ]
    },
    {
      "cell_type": "markdown",
      "metadata": {
        "id": "H867V-DMrDeV"
      },
      "source": [
        "Теперь, когда у нас есть 33 столбца, занимающих `174,6 МБ` памяти, давайте посмотрим, какие столбцы могут стать хорошими кандидатами для категориального типа данных.\n",
        "\n",
        "Чтобы упростить задачу, я создал небольшую вспомогательную функцию для формирования кадра данных, показывающего все уникальные значения в столбце."
      ]
    },
    {
      "cell_type": "code",
      "execution_count": null,
      "metadata": {
        "id": "dcI9XZxlrDeV"
      },
      "outputs": [],
      "source": [
        "# from_records: создает объект DataFrame из структурированного массива\n",
        "\n",
        "unique_counts = pd.DataFrame.from_records([(col, df[col].nunique()) for col in df.columns],\n",
        "                                          columns=['Column_Name', 'Num_Unique']).sort_values(by=['Num_Unique'])"
      ]
    },
    {
      "cell_type": "code",
      "execution_count": null,
      "metadata": {
        "scrolled": true,
        "id": "7yegwQsCrDeW",
        "outputId": "93af967c-0170-41f4-833e-f9cc51aabacc"
      },
      "outputs": [
        {
          "data": {
            "text/html": [
              "<div>\n",
              "<style scoped>\n",
              "    .dataframe tbody tr th:only-of-type {\n",
              "        vertical-align: middle;\n",
              "    }\n",
              "\n",
              "    .dataframe tbody tr th {\n",
              "        vertical-align: top;\n",
              "    }\n",
              "\n",
              "    .dataframe thead th {\n",
              "        text-align: right;\n",
              "    }\n",
              "</style>\n",
              "<table border=\"1\" class=\"dataframe\">\n",
              "  <thead>\n",
              "    <tr style=\"text-align: right;\">\n",
              "      <th></th>\n",
              "      <th>Column_Name</th>\n",
              "      <th>Num_Unique</th>\n",
              "    </tr>\n",
              "  </thead>\n",
              "  <tbody>\n",
              "    <tr>\n",
              "      <th>33</th>\n",
              "      <td>Payment_Publication_Date</td>\n",
              "      <td>1</td>\n",
              "    </tr>\n",
              "    <tr>\n",
              "      <th>28</th>\n",
              "      <td>Delay_in_Publication_Indicator</td>\n",
              "      <td>1</td>\n",
              "    </tr>\n",
              "    <tr>\n",
              "      <th>32</th>\n",
              "      <td>Program_Year</td>\n",
              "      <td>1</td>\n",
              "    </tr>\n",
              "    <tr>\n",
              "      <th>30</th>\n",
              "      <td>Dispute_Status_for_Publication</td>\n",
              "      <td>2</td>\n",
              "    </tr>\n",
              "    <tr>\n",
              "      <th>27</th>\n",
              "      <td>Preclinical_Research_Indicator</td>\n",
              "      <td>2</td>\n",
              "    </tr>\n",
              "    <tr>\n",
              "      <th>23</th>\n",
              "      <td>Related_Product_Indicator</td>\n",
              "      <td>2</td>\n",
              "    </tr>\n",
              "    <tr>\n",
              "      <th>26</th>\n",
              "      <td>Form_of_Payment_or_Transfer_of_Value</td>\n",
              "      <td>3</td>\n",
              "    </tr>\n",
              "    <tr>\n",
              "      <th>14</th>\n",
              "      <td>Principal_Investigator_1_Country</td>\n",
              "      <td>4</td>\n",
              "    </tr>\n",
              "    <tr>\n",
              "      <th>0</th>\n",
              "      <td>Change_Type</td>\n",
              "      <td>4</td>\n",
              "    </tr>\n",
              "    <tr>\n",
              "      <th>1</th>\n",
              "      <td>Covered_Recipient_Type</td>\n",
              "      <td>4</td>\n",
              "    </tr>\n",
              "    <tr>\n",
              "      <th>15</th>\n",
              "      <td>Principal_Investigator_1_Primary_Type</td>\n",
              "      <td>6</td>\n",
              "    </tr>\n",
              "    <tr>\n",
              "      <th>6</th>\n",
              "      <td>Recipient_Country</td>\n",
              "      <td>9</td>\n",
              "    </tr>\n",
              "    <tr>\n",
              "      <th>22</th>\n",
              "      <td>Applicable_Manufacturer_or_Applicable_GPO_Maki...</td>\n",
              "      <td>21</td>\n",
              "    </tr>\n",
              "    <tr>\n",
              "      <th>21</th>\n",
              "      <td>Applicable_Manufacturer_or_Applicable_GPO_Maki...</td>\n",
              "      <td>35</td>\n",
              "    </tr>\n",
              "    <tr>\n",
              "      <th>4</th>\n",
              "      <td>Recipient_State</td>\n",
              "      <td>54</td>\n",
              "    </tr>\n",
              "    <tr>\n",
              "      <th>17</th>\n",
              "      <td>Principal_Investigator_1_License_State_code1</td>\n",
              "      <td>54</td>\n",
              "    </tr>\n",
              "    <tr>\n",
              "      <th>12</th>\n",
              "      <td>Principal_Investigator_1_State</td>\n",
              "      <td>55</td>\n",
              "    </tr>\n",
              "    <tr>\n",
              "      <th>16</th>\n",
              "      <td>Principal_Investigator_1_Specialty</td>\n",
              "      <td>244</td>\n",
              "    </tr>\n",
              "    <tr>\n",
              "      <th>25</th>\n",
              "      <td>Date_of_Payment</td>\n",
              "      <td>365</td>\n",
              "    </tr>\n",
              "    <tr>\n",
              "      <th>18</th>\n",
              "      <td>Submitting_Applicable_Manufacturer_or_Applicab...</td>\n",
              "      <td>569</td>\n",
              "    </tr>\n",
              "    <tr>\n",
              "      <th>19</th>\n",
              "      <td>Applicable_Manufacturer_or_Applicable_GPO_Maki...</td>\n",
              "      <td>637</td>\n",
              "    </tr>\n",
              "    <tr>\n",
              "      <th>20</th>\n",
              "      <td>Applicable_Manufacturer_or_Applicable_GPO_Maki...</td>\n",
              "      <td>649</td>\n",
              "    </tr>\n",
              "    <tr>\n",
              "      <th>11</th>\n",
              "      <td>Principal_Investigator_1_City</td>\n",
              "      <td>4209</td>\n",
              "    </tr>\n",
              "    <tr>\n",
              "      <th>3</th>\n",
              "      <td>Recipient_City</td>\n",
              "      <td>4454</td>\n",
              "    </tr>\n",
              "    <tr>\n",
              "      <th>8</th>\n",
              "      <td>Principal_Investigator_1_First_Name</td>\n",
              "      <td>8639</td>\n",
              "    </tr>\n",
              "    <tr>\n",
              "      <th>5</th>\n",
              "      <td>Recipient_Zip_Code</td>\n",
              "      <td>13901</td>\n",
              "    </tr>\n",
              "    <tr>\n",
              "      <th>13</th>\n",
              "      <td>Principal_Investigator_1_Zip_Code</td>\n",
              "      <td>14406</td>\n",
              "    </tr>\n",
              "    <tr>\n",
              "      <th>29</th>\n",
              "      <td>Name_of_Study</td>\n",
              "      <td>14460</td>\n",
              "    </tr>\n",
              "    <tr>\n",
              "      <th>9</th>\n",
              "      <td>Principal_Investigator_1_Last_Name</td>\n",
              "      <td>22355</td>\n",
              "    </tr>\n",
              "    <tr>\n",
              "      <th>10</th>\n",
              "      <td>Principal_Investigator_1_Business_Street_Addre...</td>\n",
              "      <td>30726</td>\n",
              "    </tr>\n",
              "    <tr>\n",
              "      <th>7</th>\n",
              "      <td>Principal_Investigator_1_Profile_ID</td>\n",
              "      <td>31221</td>\n",
              "    </tr>\n",
              "    <tr>\n",
              "      <th>2</th>\n",
              "      <td>Recipient_Primary_Business_Street_Address_Line1</td>\n",
              "      <td>41664</td>\n",
              "    </tr>\n",
              "    <tr>\n",
              "      <th>24</th>\n",
              "      <td>Total_Amount_of_Payment_USDollars</td>\n",
              "      <td>156164</td>\n",
              "    </tr>\n",
              "    <tr>\n",
              "      <th>31</th>\n",
              "      <td>Record_ID</td>\n",
              "      <td>673227</td>\n",
              "    </tr>\n",
              "  </tbody>\n",
              "</table>\n",
              "</div>"
            ],
            "text/plain": [
              "                                          Column_Name  Num_Unique\n",
              "33                           Payment_Publication_Date           1\n",
              "28                     Delay_in_Publication_Indicator           1\n",
              "32                                       Program_Year           1\n",
              "30                     Dispute_Status_for_Publication           2\n",
              "27                     Preclinical_Research_Indicator           2\n",
              "23                          Related_Product_Indicator           2\n",
              "26               Form_of_Payment_or_Transfer_of_Value           3\n",
              "14                   Principal_Investigator_1_Country           4\n",
              "0                                         Change_Type           4\n",
              "1                              Covered_Recipient_Type           4\n",
              "15              Principal_Investigator_1_Primary_Type           6\n",
              "6                                   Recipient_Country           9\n",
              "22  Applicable_Manufacturer_or_Applicable_GPO_Maki...          21\n",
              "21  Applicable_Manufacturer_or_Applicable_GPO_Maki...          35\n",
              "4                                     Recipient_State          54\n",
              "17       Principal_Investigator_1_License_State_code1          54\n",
              "12                     Principal_Investigator_1_State          55\n",
              "16                 Principal_Investigator_1_Specialty         244\n",
              "25                                    Date_of_Payment         365\n",
              "18  Submitting_Applicable_Manufacturer_or_Applicab...         569\n",
              "19  Applicable_Manufacturer_or_Applicable_GPO_Maki...         637\n",
              "20  Applicable_Manufacturer_or_Applicable_GPO_Maki...         649\n",
              "11                      Principal_Investigator_1_City        4209\n",
              "3                                      Recipient_City        4454\n",
              "8                 Principal_Investigator_1_First_Name        8639\n",
              "5                                  Recipient_Zip_Code       13901\n",
              "13                  Principal_Investigator_1_Zip_Code       14406\n",
              "29                                      Name_of_Study       14460\n",
              "9                  Principal_Investigator_1_Last_Name       22355\n",
              "10  Principal_Investigator_1_Business_Street_Addre...       30726\n",
              "7                 Principal_Investigator_1_Profile_ID       31221\n",
              "2     Recipient_Primary_Business_Street_Address_Line1       41664\n",
              "24                  Total_Amount_of_Payment_USDollars      156164\n",
              "31                                          Record_ID      673227"
            ]
          },
          "execution_count": 8,
          "metadata": {},
          "output_type": "execute_result"
        }
      ],
      "source": [
        "unique_counts"
      ]
    },
    {
      "cell_type": "markdown",
      "metadata": {
        "id": "vyC7XjE5rDeX"
      },
      "source": [
        "Эта таблица указывает на несколько моментов, которые помогают определить категориальные значения. Во-первых, когда мы превышаем `649` уникальных значений, то происходит резкий скачок. Это может стать полезным пределом для данного набора.\n",
        "\n",
        "Кроме того, поля с датами не следует преобразовывать в категориальные.\n",
        "\n",
        "Самый простой способ преобразовать столбец в категориальный тип - использовать `astype('category')`. \n",
        "\n",
        "Мы можем использовать цикл для преобразования всех столбцов, которые нам нужны, используя `astype('category')`:"
      ]
    },
    {
      "cell_type": "code",
      "execution_count": null,
      "metadata": {
        "id": "xhg7rhPNrDeY"
      },
      "outputs": [],
      "source": [
        "cols_to_exclude = ['Program_Year', 'Date_of_Payment', 'Payment_Publication_Date']\n",
        "\n",
        "for col in df.columns:\n",
        "    if df[col].nunique() < 700 and col not in cols_to_exclude:\n",
        "        df[col] = df[col].astype('category')"
      ]
    },
    {
      "cell_type": "markdown",
      "metadata": {
        "id": "rpM1bg38rDeZ"
      },
      "source": [
        "Если мы вызовем `df.info()` для просмотра используемой памяти, то увидим уменьшение кадра данных с `175 МБ` до `92 МБ`: "
      ]
    },
    {
      "cell_type": "code",
      "execution_count": null,
      "metadata": {
        "scrolled": true,
        "id": "JrLIFi28rDeZ",
        "outputId": "12d6af79-f5d1-4274-a070-1ffb2460ca1b"
      },
      "outputs": [
        {
          "name": "stdout",
          "output_type": "stream",
          "text": [
            "<class 'pandas.core.frame.DataFrame'>\n",
            "RangeIndex: 673227 entries, 0 to 673226\n",
            "Data columns (total 34 columns):\n",
            " #   Column                                                            Non-Null Count   Dtype   \n",
            "---  ------                                                            --------------   -----   \n",
            " 0   Change_Type                                                       673227 non-null  category\n",
            " 1   Covered_Recipient_Type                                            673227 non-null  category\n",
            " 2   Recipient_Primary_Business_Street_Address_Line1                   672568 non-null  object  \n",
            " 3   Recipient_City                                                    672568 non-null  object  \n",
            " 4   Recipient_State                                                   672008 non-null  category\n",
            " 5   Recipient_Zip_Code                                                672008 non-null  object  \n",
            " 6   Recipient_Country                                                 672568 non-null  category\n",
            " 7   Principal_Investigator_1_Profile_ID                               636770 non-null  float64 \n",
            " 8   Principal_Investigator_1_First_Name                               636770 non-null  object  \n",
            " 9   Principal_Investigator_1_Last_Name                                636770 non-null  object  \n",
            " 10  Principal_Investigator_1_Business_Street_Address_Line1            636770 non-null  object  \n",
            " 11  Principal_Investigator_1_City                                     636770 non-null  object  \n",
            " 12  Principal_Investigator_1_State                                    636749 non-null  category\n",
            " 13  Principal_Investigator_1_Zip_Code                                 636749 non-null  object  \n",
            " 14  Principal_Investigator_1_Country                                  636770 non-null  category\n",
            " 15  Principal_Investigator_1_Primary_Type                             636770 non-null  category\n",
            " 16  Principal_Investigator_1_Specialty                                635907 non-null  category\n",
            " 17  Principal_Investigator_1_License_State_code1                      636770 non-null  category\n",
            " 18  Submitting_Applicable_Manufacturer_or_Applicable_GPO_Name         673227 non-null  category\n",
            " 19  Applicable_Manufacturer_or_Applicable_GPO_Making_Payment_ID       673227 non-null  category\n",
            " 20  Applicable_Manufacturer_or_Applicable_GPO_Making_Payment_Name     673227 non-null  category\n",
            " 21  Applicable_Manufacturer_or_Applicable_GPO_Making_Payment_State    608591 non-null  category\n",
            " 22  Applicable_Manufacturer_or_Applicable_GPO_Making_Payment_Country  673227 non-null  category\n",
            " 23  Related_Product_Indicator                                         673227 non-null  category\n",
            " 24  Total_Amount_of_Payment_USDollars                                 673227 non-null  float64 \n",
            " 25  Date_of_Payment                                                   673227 non-null  object  \n",
            " 26  Form_of_Payment_or_Transfer_of_Value                              673227 non-null  category\n",
            " 27  Preclinical_Research_Indicator                                    673227 non-null  category\n",
            " 28  Delay_in_Publication_Indicator                                    673227 non-null  category\n",
            " 29  Name_of_Study                                                     666425 non-null  object  \n",
            " 30  Dispute_Status_for_Publication                                    673227 non-null  category\n",
            " 31  Record_ID                                                         673227 non-null  int64   \n",
            " 32  Program_Year                                                      673227 non-null  int64   \n",
            " 33  Payment_Publication_Date                                          673227 non-null  object  \n",
            "dtypes: category(19), float64(2), int64(2), object(11)\n",
            "memory usage: 91.9+ MB\n"
          ]
        }
      ],
      "source": [
        "df.info()"
      ]
    },
    {
      "cell_type": "markdown",
      "metadata": {
        "id": "0klLWB9KrDea"
      },
      "source": [
        "Это впечатляет! Мы сократили использование памяти почти вдвое, просто преобразовав большинство столбцов в категориальные значения."
      ]
    },
    {
      "cell_type": "markdown",
      "metadata": {
        "id": "paj8oU6BrDea"
      },
      "source": [
        "Есть еще одна функция, которую можно использовать с категориальными данными - определение пользовательского порядка. \n",
        "\n",
        "Чтобы проиллюстрировать это, давайте сделаем краткую сводку общей суммы платежей, произведенных с использованием одного из способов оплаты:"
      ]
    },
    {
      "cell_type": "code",
      "execution_count": null,
      "metadata": {
        "id": "HFqHQ4N6rDea",
        "outputId": "f05aa1f7-f3f3-4524-a404-3be543647d97"
      },
      "outputs": [
        {
          "data": {
            "text/html": [
              "<div>\n",
              "<style scoped>\n",
              "    .dataframe tbody tr th:only-of-type {\n",
              "        vertical-align: middle;\n",
              "    }\n",
              "\n",
              "    .dataframe tbody tr th {\n",
              "        vertical-align: top;\n",
              "    }\n",
              "\n",
              "    .dataframe thead th {\n",
              "        text-align: right;\n",
              "    }\n",
              "</style>\n",
              "<table border=\"1\" class=\"dataframe\">\n",
              "  <thead>\n",
              "    <tr style=\"text-align: right;\">\n",
              "      <th></th>\n",
              "      <th>Total_Amount_of_Payment_USDollars</th>\n",
              "    </tr>\n",
              "    <tr>\n",
              "      <th>Covered_Recipient_Type</th>\n",
              "      <th></th>\n",
              "    </tr>\n",
              "  </thead>\n",
              "  <tbody>\n",
              "    <tr>\n",
              "      <th>Covered Recipient Physician</th>\n",
              "      <td>1.037440e+08</td>\n",
              "    </tr>\n",
              "    <tr>\n",
              "      <th>Covered Recipient Teaching Hospital</th>\n",
              "      <td>1.140148e+09</td>\n",
              "    </tr>\n",
              "    <tr>\n",
              "      <th>Non-covered Recipient Entity</th>\n",
              "      <td>4.009361e+09</td>\n",
              "    </tr>\n",
              "    <tr>\n",
              "      <th>Non-covered Recipient Individual</th>\n",
              "      <td>3.200450e+06</td>\n",
              "    </tr>\n",
              "  </tbody>\n",
              "</table>\n",
              "</div>"
            ],
            "text/plain": [
              "                                     Total_Amount_of_Payment_USDollars\n",
              "Covered_Recipient_Type                                                \n",
              "Covered Recipient Physician                               1.037440e+08\n",
              "Covered Recipient Teaching Hospital                       1.140148e+09\n",
              "Non-covered Recipient Entity                              4.009361e+09\n",
              "Non-covered Recipient Individual                          3.200450e+06"
            ]
          },
          "execution_count": 11,
          "metadata": {},
          "output_type": "execute_result"
        }
      ],
      "source": [
        "# to_frame(): преобразует Series в DataFrame\n",
        "\n",
        "df.groupby('Covered_Recipient_Type')['Total_Amount_of_Payment_USDollars'].sum().to_frame()"
      ]
    },
    {
      "cell_type": "markdown",
      "metadata": {
        "id": "6Gy2VLFWrDeb"
      },
      "source": [
        "Если мы хотим изменить порядок `Covered_Recipient_Type`, то нам нужно определить настраиваемый [`CategoricalDtype`](https://pandas.pydata.org/pandas-docs/stable/user_guide/categorical.html#categoricaldtype):"
      ]
    },
    {
      "cell_type": "code",
      "execution_count": null,
      "metadata": {
        "id": "pTNhYhoorDec"
      },
      "outputs": [],
      "source": [
        "# расположение в списке задает будущий порядок сортировки категорий от меньшей к большей\n",
        "\n",
        "cats_to_order = [\"Non-covered Recipient Entity\", \n",
        "                 \"Covered Recipient Teaching Hospital\",\n",
        "                 \"Covered Recipient Physician\", \n",
        "                 \"Non-covered Recipient Individual\"]"
      ]
    },
    {
      "cell_type": "code",
      "execution_count": null,
      "metadata": {
        "id": "PSVUFJ6JrDec",
        "outputId": "2e5e6a94-8104-41e8-ec20-493a55eb51d9"
      },
      "outputs": [
        {
          "data": {
            "text/plain": [
              "CategoricalDtype(categories=['Non-covered Recipient Entity',\n",
              "                  'Covered Recipient Teaching Hospital',\n",
              "                  'Covered Recipient Physician',\n",
              "                  'Non-covered Recipient Individual'],\n",
              "                 ordered=True)"
            ]
          },
          "execution_count": 13,
          "metadata": {},
          "output_type": "execute_result"
        }
      ],
      "source": [
        "covered_type = CategoricalDtype(categories=cats_to_order, \n",
        "                                ordered=True) # учитывать порядок категорий\n",
        "covered_type"
      ]
    },
    {
      "cell_type": "markdown",
      "metadata": {
        "id": "PAGdyxFBrDed"
      },
      "source": [
        "Затем явно измените порядок категории в столбце:"
      ]
    },
    {
      "cell_type": "code",
      "execution_count": null,
      "metadata": {
        "id": "E5_JSBpbrDed",
        "outputId": "621d06aa-a71c-4202-cae8-d0cd3df29f5a"
      },
      "outputs": [
        {
          "data": {
            "text/plain": [
              "0    Covered Recipient Teaching Hospital\n",
              "1    Covered Recipient Teaching Hospital\n",
              "2    Covered Recipient Teaching Hospital\n",
              "Name: Covered_Recipient_Type, dtype: category\n",
              "Categories (4, object): ['Non-covered Recipient Entity' < 'Covered Recipient Teaching Hospital' < 'Covered Recipient Physician' < 'Non-covered Recipient Individual']"
            ]
          },
          "execution_count": 14,
          "metadata": {},
          "output_type": "execute_result"
        }
      ],
      "source": [
        "# https://pandas.pydata.org/docs/reference/api/pandas.Series.cat.reorder_categories.html\n",
        "\n",
        "df['Covered_Recipient_Type'] = df['Covered_Recipient_Type'].cat.reorder_categories(cats_to_order, ordered=True)\n",
        "df['Covered_Recipient_Type'][:3]"
      ]
    },
    {
      "cell_type": "markdown",
      "metadata": {
        "id": "GQ92_lPerDed"
      },
      "source": [
        "Теперь можем увидеть порядок сортировки в `groupby`:"
      ]
    },
    {
      "cell_type": "code",
      "execution_count": null,
      "metadata": {
        "id": "1iV_aCqNrDee",
        "outputId": "18b922eb-d454-467c-e7eb-c9adf4657a2d"
      },
      "outputs": [
        {
          "data": {
            "text/html": [
              "<div>\n",
              "<style scoped>\n",
              "    .dataframe tbody tr th:only-of-type {\n",
              "        vertical-align: middle;\n",
              "    }\n",
              "\n",
              "    .dataframe tbody tr th {\n",
              "        vertical-align: top;\n",
              "    }\n",
              "\n",
              "    .dataframe thead th {\n",
              "        text-align: right;\n",
              "    }\n",
              "</style>\n",
              "<table border=\"1\" class=\"dataframe\">\n",
              "  <thead>\n",
              "    <tr style=\"text-align: right;\">\n",
              "      <th></th>\n",
              "      <th>Total_Amount_of_Payment_USDollars</th>\n",
              "    </tr>\n",
              "    <tr>\n",
              "      <th>Covered_Recipient_Type</th>\n",
              "      <th></th>\n",
              "    </tr>\n",
              "  </thead>\n",
              "  <tbody>\n",
              "    <tr>\n",
              "      <th>Non-covered Recipient Entity</th>\n",
              "      <td>4.009361e+09</td>\n",
              "    </tr>\n",
              "    <tr>\n",
              "      <th>Covered Recipient Teaching Hospital</th>\n",
              "      <td>1.140148e+09</td>\n",
              "    </tr>\n",
              "    <tr>\n",
              "      <th>Covered Recipient Physician</th>\n",
              "      <td>1.037440e+08</td>\n",
              "    </tr>\n",
              "    <tr>\n",
              "      <th>Non-covered Recipient Individual</th>\n",
              "      <td>3.200450e+06</td>\n",
              "    </tr>\n",
              "  </tbody>\n",
              "</table>\n",
              "</div>"
            ],
            "text/plain": [
              "                                     Total_Amount_of_Payment_USDollars\n",
              "Covered_Recipient_Type                                                \n",
              "Non-covered Recipient Entity                              4.009361e+09\n",
              "Covered Recipient Teaching Hospital                       1.140148e+09\n",
              "Covered Recipient Physician                               1.037440e+08\n",
              "Non-covered Recipient Individual                          3.200450e+06"
            ]
          },
          "execution_count": 15,
          "metadata": {},
          "output_type": "execute_result"
        }
      ],
      "source": [
        "df.groupby('Covered_Recipient_Type')['Total_Amount_of_Payment_USDollars'].sum().to_frame()"
      ]
    },
    {
      "cell_type": "markdown",
      "metadata": {
        "id": "atAFTYhZrDee"
      },
      "source": [
        "Можете указать это преобразование при чтении CSV файла, передав словарь имен и типов столбцов через параметр `dtype`:"
      ]
    },
    {
      "cell_type": "code",
      "execution_count": null,
      "metadata": {
        "id": "qiXNRoyfrDef"
      },
      "outputs": [],
      "source": [
        "df_raw_2 = pd.read_csv('OP_DTL_RSRCH_PGYR2017_P06302020.csv',\n",
        "                       dtype={'Covered_Recipient_Type':covered_type},\n",
        "                       low_memory=False)"
      ]
    },
    {
      "cell_type": "markdown",
      "metadata": {
        "id": "h3oFU0TurDef"
      },
      "source": [
        "## Производительность\n",
        "\n",
        "Мы показали, что размер кадра данных уменьшается за счет преобразования значений в категориальные типы данных. Влияет ли это на другие сферы деятельности? Ответ положительный.\n",
        "\n",
        "Вот пример операции `groupby` над категориальными (`categorical`) типами данных против типа данных `object`. \n",
        "\n",
        "Сначала выполните анализ исходного кадра данных:"
      ]
    },
    {
      "cell_type": "code",
      "execution_count": null,
      "metadata": {
        "id": "qtE4Vk2lrDeg",
        "outputId": "af182ad8-f41f-46ef-dae8-ba571ed63b77"
      },
      "outputs": [
        {
          "name": "stdout",
          "output_type": "stream",
          "text": [
            "70.5 ms ± 6.12 ms per loop (mean ± std. dev. of 7 runs, 1 loop each)\n"
          ]
        }
      ],
      "source": [
        "%%timeit\n",
        "df_raw.groupby('Covered_Recipient_Type')['Total_Amount_of_Payment_USDollars'].sum().to_frame()"
      ]
    },
    {
      "cell_type": "markdown",
      "metadata": {
        "id": "vX3UC0dMrDeg"
      },
      "source": [
        "Далее кадр данных с категориальными типами:"
      ]
    },
    {
      "cell_type": "code",
      "execution_count": null,
      "metadata": {
        "id": "A3C65KYhrDeg",
        "outputId": "0b9637b2-5874-46fd-c3f1-4aedb281022c"
      },
      "outputs": [
        {
          "name": "stdout",
          "output_type": "stream",
          "text": [
            "3.97 ms ± 60 µs per loop (mean ± std. dev. of 7 runs, 100 loops each)\n"
          ]
        }
      ],
      "source": [
        "%%timeit\n",
        "df.groupby('Covered_Recipient_Type')['Total_Amount_of_Payment_USDollars'].sum().to_frame()"
      ]
    },
    {
      "cell_type": "markdown",
      "metadata": {
        "id": "I1VuWMr6rDeh"
      },
      "source": [
        "Мы ускорили код в 10 раз с `55,3 мс` до `4,17 мс`. Вы можете себе представить, что на гораздо больших наборах данных ускорение может быть еще большим!"
      ]
    },
    {
      "cell_type": "markdown",
      "metadata": {
        "id": "t0Bt12wsrDei"
      },
      "source": [
        "## Осторожно\n",
        "\n",
        "Категориальные данные кажутся довольно изящными. Это экономит память и ускоряет код, так почему бы не использовать их везде? Что ж, [Дональд Кнут](https://ru.wikipedia.org/wiki/%D0%9A%D0%BD%D1%83%D1%82,_%D0%94%D0%BE%D0%BD%D0%B0%D0%BB%D1%8C%D0%B4_%D0%AD%D1%80%D0%B2%D0%B8%D0%BD) прав, когда предупреждает о преждевременной оптимизации (рекомендую [сайт](http://optimization.guide/) на русском языке):\n",
        "\n",
        "> Программисты тратят огромное количество времени, размышляя и беспокоясь о некритичных местах кода, и пытаются оптимизировать их, что исключительно негативно сказывается на последующей отладке и поддержке. Мы должны вообще забыть об оптимизации в, скажем, 97% случаев. Поспешная оптимизация является корнем всех зол. И, напротив, мы должны уделить все внимание оставшимся 3%.\n",
        "\n",
        "В приведенных выше примерах код работает быстрее, но это не имеет значения, когда он используется для быстрых сводных действий, которые выполняются нечасто. Кроме того, вся работа по вычислению и преобразованию в категориальные данные, вероятно, не стоит затраченных усилий для этого набора данных и простого анализа.\n",
        "\n",
        "Также категориальные данные могут привести к неожиданным результатам при использовании в реальном мире. Приведенные ниже примеры проиллюстрируют несколько проблем.\n",
        "\n",
        "Давайте создадим простой кадр данных с одной упорядоченной категориальной переменной, которая представляет статус клиента. Этот тривиальный пример выделит некоторые потенциальные тонкие ошибки при работе с категориальными переменными. \n",
        "\n",
        "Стоит отметить, что в примере показано, как использовать `astype()` для преобразования в упорядоченную категорию за один шаг вместо двухэтапного процесса, который использовался ранее."
      ]
    },
    {
      "cell_type": "code",
      "execution_count": null,
      "metadata": {
        "id": "Kv7p9yKOrDei"
      },
      "outputs": [],
      "source": [
        "import pandas as pd\n",
        "from pandas.api.types import CategoricalDtype"
      ]
    },
    {
      "cell_type": "code",
      "execution_count": null,
      "metadata": {
        "id": "Cw2Bm0GWrDej"
      },
      "outputs": [],
      "source": [
        "sales_1 = [{'account': 'Jones LLC', 'Status': 'Gold', 'Jan': 150, 'Feb': 200, 'Mar': 140},\n",
        "           {'account': 'Alpha Co', 'Status': 'Gold', 'Jan': 200, 'Feb': 210, 'Mar': 215},\n",
        "           {'account': 'Blue Inc',  'Status': 'Silver', 'Jan': 50,  'Feb': 90,  'Mar': 95 }]"
      ]
    },
    {
      "cell_type": "code",
      "execution_count": null,
      "metadata": {
        "id": "ei-HyKH8rDej",
        "outputId": "a4bd298e-9ff4-43d9-bf74-018ecdad973a"
      },
      "outputs": [
        {
          "data": {
            "text/html": [
              "<div>\n",
              "<style scoped>\n",
              "    .dataframe tbody tr th:only-of-type {\n",
              "        vertical-align: middle;\n",
              "    }\n",
              "\n",
              "    .dataframe tbody tr th {\n",
              "        vertical-align: top;\n",
              "    }\n",
              "\n",
              "    .dataframe thead th {\n",
              "        text-align: right;\n",
              "    }\n",
              "</style>\n",
              "<table border=\"1\" class=\"dataframe\">\n",
              "  <thead>\n",
              "    <tr style=\"text-align: right;\">\n",
              "      <th></th>\n",
              "      <th>account</th>\n",
              "      <th>Status</th>\n",
              "      <th>Jan</th>\n",
              "      <th>Feb</th>\n",
              "      <th>Mar</th>\n",
              "    </tr>\n",
              "  </thead>\n",
              "  <tbody>\n",
              "    <tr>\n",
              "      <th>0</th>\n",
              "      <td>Jones LLC</td>\n",
              "      <td>Gold</td>\n",
              "      <td>150</td>\n",
              "      <td>200</td>\n",
              "      <td>140</td>\n",
              "    </tr>\n",
              "    <tr>\n",
              "      <th>1</th>\n",
              "      <td>Alpha Co</td>\n",
              "      <td>Gold</td>\n",
              "      <td>200</td>\n",
              "      <td>210</td>\n",
              "      <td>215</td>\n",
              "    </tr>\n",
              "    <tr>\n",
              "      <th>2</th>\n",
              "      <td>Blue Inc</td>\n",
              "      <td>Silver</td>\n",
              "      <td>50</td>\n",
              "      <td>90</td>\n",
              "      <td>95</td>\n",
              "    </tr>\n",
              "  </tbody>\n",
              "</table>\n",
              "</div>"
            ],
            "text/plain": [
              "     account  Status  Jan  Feb  Mar\n",
              "0  Jones LLC    Gold  150  200  140\n",
              "1   Alpha Co    Gold  200  210  215\n",
              "2   Blue Inc  Silver   50   90   95"
            ]
          },
          "execution_count": 21,
          "metadata": {},
          "output_type": "execute_result"
        }
      ],
      "source": [
        "df_1 = pd.DataFrame(sales_1)\n",
        "df_1"
      ]
    },
    {
      "cell_type": "code",
      "execution_count": null,
      "metadata": {
        "id": "J6OSw3EjrDek"
      },
      "outputs": [],
      "source": [
        "status_type = CategoricalDtype(categories=['Silver', 'Gold'], \n",
        "                               ordered=True)"
      ]
    },
    {
      "cell_type": "code",
      "execution_count": null,
      "metadata": {
        "id": "cWJBNOBmrDel"
      },
      "outputs": [],
      "source": [
        "df_1['Status'] = df_1['Status'].astype(status_type)"
      ]
    },
    {
      "cell_type": "markdown",
      "metadata": {
        "id": "mtYtPiTgrDel"
      },
      "source": [
        "В результате получается простой кадр данных, который выглядит так:"
      ]
    },
    {
      "cell_type": "code",
      "execution_count": null,
      "metadata": {
        "id": "BNK90PSorDem",
        "outputId": "d59a8f58-a82e-45cc-f4cd-1e1929798c2c"
      },
      "outputs": [
        {
          "data": {
            "text/html": [
              "<div>\n",
              "<style scoped>\n",
              "    .dataframe tbody tr th:only-of-type {\n",
              "        vertical-align: middle;\n",
              "    }\n",
              "\n",
              "    .dataframe tbody tr th {\n",
              "        vertical-align: top;\n",
              "    }\n",
              "\n",
              "    .dataframe thead th {\n",
              "        text-align: right;\n",
              "    }\n",
              "</style>\n",
              "<table border=\"1\" class=\"dataframe\">\n",
              "  <thead>\n",
              "    <tr style=\"text-align: right;\">\n",
              "      <th></th>\n",
              "      <th>account</th>\n",
              "      <th>Status</th>\n",
              "      <th>Jan</th>\n",
              "      <th>Feb</th>\n",
              "      <th>Mar</th>\n",
              "    </tr>\n",
              "  </thead>\n",
              "  <tbody>\n",
              "    <tr>\n",
              "      <th>0</th>\n",
              "      <td>Jones LLC</td>\n",
              "      <td>Gold</td>\n",
              "      <td>150</td>\n",
              "      <td>200</td>\n",
              "      <td>140</td>\n",
              "    </tr>\n",
              "    <tr>\n",
              "      <th>1</th>\n",
              "      <td>Alpha Co</td>\n",
              "      <td>Gold</td>\n",
              "      <td>200</td>\n",
              "      <td>210</td>\n",
              "      <td>215</td>\n",
              "    </tr>\n",
              "    <tr>\n",
              "      <th>2</th>\n",
              "      <td>Blue Inc</td>\n",
              "      <td>Silver</td>\n",
              "      <td>50</td>\n",
              "      <td>90</td>\n",
              "      <td>95</td>\n",
              "    </tr>\n",
              "  </tbody>\n",
              "</table>\n",
              "</div>"
            ],
            "text/plain": [
              "     account  Status  Jan  Feb  Mar\n",
              "0  Jones LLC    Gold  150  200  140\n",
              "1   Alpha Co    Gold  200  210  215\n",
              "2   Blue Inc  Silver   50   90   95"
            ]
          },
          "execution_count": 24,
          "metadata": {},
          "output_type": "execute_result"
        }
      ],
      "source": [
        "df_1"
      ]
    },
    {
      "cell_type": "markdown",
      "metadata": {
        "id": "dgdTVhqQrDeo"
      },
      "source": [
        "Можем рассмотреть категориальный столбец более подробно:"
      ]
    },
    {
      "cell_type": "code",
      "execution_count": null,
      "metadata": {
        "id": "Iniy1UfNrDeo",
        "outputId": "cf2b697c-5419-4445-aaee-750f5a975e2a"
      },
      "outputs": [
        {
          "data": {
            "text/plain": [
              "0      Gold\n",
              "1      Gold\n",
              "2    Silver\n",
              "Name: Status, dtype: category\n",
              "Categories (2, object): ['Silver' < 'Gold']"
            ]
          },
          "execution_count": 25,
          "metadata": {},
          "output_type": "execute_result"
        }
      ],
      "source": [
        "df_1['Status']"
      ]
    },
    {
      "cell_type": "markdown",
      "metadata": {
        "id": "J6AU_g1PrDep"
      },
      "source": [
        "Все выглядит хорошо. \n",
        "\n",
        "Мы видим, что все данные присутствуют и `Gold > Silver`. \n",
        "\n",
        "Теперь давайте добавим еще один кадр данных и применим ту же категорию к столбцу статуса:"
      ]
    },
    {
      "cell_type": "code",
      "execution_count": null,
      "metadata": {
        "id": "2hJ9s_ClrDep"
      },
      "outputs": [],
      "source": [
        "sales_2 = [{'account': 'Smith Co', 'Status': 'Silver', 'Jan': 100, 'Feb': 100, 'Mar': 70},\n",
        "           {'account': 'Bingo', 'Status': 'Bronze', 'Jan': 310, 'Feb': 65, 'Mar': 80}]"
      ]
    },
    {
      "cell_type": "code",
      "execution_count": null,
      "metadata": {
        "id": "X2rFoIbUrDeq",
        "outputId": "7ec6c300-8280-462b-df75-59df696ebd34"
      },
      "outputs": [
        {
          "data": {
            "text/html": [
              "<div>\n",
              "<style scoped>\n",
              "    .dataframe tbody tr th:only-of-type {\n",
              "        vertical-align: middle;\n",
              "    }\n",
              "\n",
              "    .dataframe tbody tr th {\n",
              "        vertical-align: top;\n",
              "    }\n",
              "\n",
              "    .dataframe thead th {\n",
              "        text-align: right;\n",
              "    }\n",
              "</style>\n",
              "<table border=\"1\" class=\"dataframe\">\n",
              "  <thead>\n",
              "    <tr style=\"text-align: right;\">\n",
              "      <th></th>\n",
              "      <th>account</th>\n",
              "      <th>Status</th>\n",
              "      <th>Jan</th>\n",
              "      <th>Feb</th>\n",
              "      <th>Mar</th>\n",
              "    </tr>\n",
              "  </thead>\n",
              "  <tbody>\n",
              "    <tr>\n",
              "      <th>0</th>\n",
              "      <td>Smith Co</td>\n",
              "      <td>Silver</td>\n",
              "      <td>100</td>\n",
              "      <td>100</td>\n",
              "      <td>70</td>\n",
              "    </tr>\n",
              "    <tr>\n",
              "      <th>1</th>\n",
              "      <td>Bingo</td>\n",
              "      <td>Bronze</td>\n",
              "      <td>310</td>\n",
              "      <td>65</td>\n",
              "      <td>80</td>\n",
              "    </tr>\n",
              "  </tbody>\n",
              "</table>\n",
              "</div>"
            ],
            "text/plain": [
              "    account  Status  Jan  Feb  Mar\n",
              "0  Smith Co  Silver  100  100   70\n",
              "1     Bingo  Bronze  310   65   80"
            ]
          },
          "execution_count": 27,
          "metadata": {},
          "output_type": "execute_result"
        }
      ],
      "source": [
        "df_2 = pd.DataFrame(sales_2)\n",
        "df_2.head()"
      ]
    },
    {
      "cell_type": "code",
      "execution_count": null,
      "metadata": {
        "id": "3rQ5r14TrDeq",
        "outputId": "074e1e0a-340b-460a-c302-5f1e11045f56"
      },
      "outputs": [
        {
          "data": {
            "text/plain": [
              "0    Silver\n",
              "1       NaN\n",
              "Name: Status, dtype: category\n",
              "Categories (2, object): ['Silver' < 'Gold']"
            ]
          },
          "execution_count": 28,
          "metadata": {},
          "output_type": "execute_result"
        }
      ],
      "source": [
        "df_2['Status'] = df_2['Status'].astype(status_type)\n",
        "df_2['Status']"
      ]
    },
    {
      "cell_type": "code",
      "execution_count": null,
      "metadata": {
        "id": "0J0CSErwrDeq",
        "outputId": "47b542c4-9025-4ea9-b344-6df2f2951b67"
      },
      "outputs": [
        {
          "data": {
            "text/html": [
              "<div>\n",
              "<style scoped>\n",
              "    .dataframe tbody tr th:only-of-type {\n",
              "        vertical-align: middle;\n",
              "    }\n",
              "\n",
              "    .dataframe tbody tr th {\n",
              "        vertical-align: top;\n",
              "    }\n",
              "\n",
              "    .dataframe thead th {\n",
              "        text-align: right;\n",
              "    }\n",
              "</style>\n",
              "<table border=\"1\" class=\"dataframe\">\n",
              "  <thead>\n",
              "    <tr style=\"text-align: right;\">\n",
              "      <th></th>\n",
              "      <th>account</th>\n",
              "      <th>Status</th>\n",
              "      <th>Jan</th>\n",
              "      <th>Feb</th>\n",
              "      <th>Mar</th>\n",
              "    </tr>\n",
              "  </thead>\n",
              "  <tbody>\n",
              "    <tr>\n",
              "      <th>0</th>\n",
              "      <td>Smith Co</td>\n",
              "      <td>Silver</td>\n",
              "      <td>100</td>\n",
              "      <td>100</td>\n",
              "      <td>70</td>\n",
              "    </tr>\n",
              "    <tr>\n",
              "      <th>1</th>\n",
              "      <td>Bingo</td>\n",
              "      <td>NaN</td>\n",
              "      <td>310</td>\n",
              "      <td>65</td>\n",
              "      <td>80</td>\n",
              "    </tr>\n",
              "  </tbody>\n",
              "</table>\n",
              "</div>"
            ],
            "text/plain": [
              "    account  Status  Jan  Feb  Mar\n",
              "0  Smith Co  Silver  100  100   70\n",
              "1     Bingo     NaN  310   65   80"
            ]
          },
          "execution_count": 29,
          "metadata": {},
          "output_type": "execute_result"
        }
      ],
      "source": [
        "df_2"
      ]
    },
    {
      "cell_type": "markdown",
      "metadata": {
        "id": "FTHZw5vurDes"
      },
      "source": [
        "Хм. Что-то случилось с нашим статусом. \n",
        "\n",
        "Посмотрим на столбец:"
      ]
    },
    {
      "cell_type": "code",
      "execution_count": null,
      "metadata": {
        "id": "pwxApBrbrDes",
        "outputId": "71e61ac4-86ed-459e-e044-d7a15614cefe"
      },
      "outputs": [
        {
          "data": {
            "text/plain": [
              "0    Silver\n",
              "1       NaN\n",
              "Name: Status, dtype: category\n",
              "Categories (2, object): ['Silver' < 'Gold']"
            ]
          },
          "execution_count": 30,
          "metadata": {},
          "output_type": "execute_result"
        }
      ],
      "source": [
        "df_2['Status']"
      ]
    },
    {
      "cell_type": "markdown",
      "metadata": {
        "id": "IwCatEJurDet"
      },
      "source": [
        "Поскольку мы не определили `Bronze` как действующий статус, то получаем значение `NaN`. Pandas делает это по вполне уважительной причине. Предполагается, что вы заранее определили все допустимые категории. \n",
        "\n",
        "Можно только представить, насколько запутанной могла бы стать эта проблема, если бы вы ее сразу не нашли.\n",
        "\n",
        "Этот сценарий относительно легко обнаружить, но что бы вы сделали, если бы было 100 значений, а данные не были очищены и нормализованы?\n",
        "\n",
        "Вот еще один хитрый пример, когда вы можете \"потерять\" категориальный тип данных:"
      ]
    },
    {
      "cell_type": "code",
      "execution_count": null,
      "metadata": {
        "id": "N1Bc2NJprDet"
      },
      "outputs": [],
      "source": [
        "sales_1 = [{'account': 'Jones LLC', 'Status': 'Gold', 'Jan': 150, 'Feb': 200, 'Mar': 140},\n",
        "           {'account': 'Alpha Co', 'Status': 'Gold', 'Jan': 200, 'Feb': 210, 'Mar': 215},\n",
        "           {'account': 'Blue Inc',  'Status': 'Silver', 'Jan': 50,  'Feb': 90,  'Mar': 95 }]"
      ]
    },
    {
      "cell_type": "code",
      "execution_count": null,
      "metadata": {
        "id": "evOw0olBrDeu",
        "outputId": "9c92f769-c8d8-4c97-8611-149431e8f3b9"
      },
      "outputs": [
        {
          "data": {
            "text/html": [
              "<div>\n",
              "<style scoped>\n",
              "    .dataframe tbody tr th:only-of-type {\n",
              "        vertical-align: middle;\n",
              "    }\n",
              "\n",
              "    .dataframe tbody tr th {\n",
              "        vertical-align: top;\n",
              "    }\n",
              "\n",
              "    .dataframe thead th {\n",
              "        text-align: right;\n",
              "    }\n",
              "</style>\n",
              "<table border=\"1\" class=\"dataframe\">\n",
              "  <thead>\n",
              "    <tr style=\"text-align: right;\">\n",
              "      <th></th>\n",
              "      <th>account</th>\n",
              "      <th>Status</th>\n",
              "      <th>Jan</th>\n",
              "      <th>Feb</th>\n",
              "      <th>Mar</th>\n",
              "    </tr>\n",
              "  </thead>\n",
              "  <tbody>\n",
              "    <tr>\n",
              "      <th>0</th>\n",
              "      <td>Jones LLC</td>\n",
              "      <td>Gold</td>\n",
              "      <td>150</td>\n",
              "      <td>200</td>\n",
              "      <td>140</td>\n",
              "    </tr>\n",
              "    <tr>\n",
              "      <th>1</th>\n",
              "      <td>Alpha Co</td>\n",
              "      <td>Gold</td>\n",
              "      <td>200</td>\n",
              "      <td>210</td>\n",
              "      <td>215</td>\n",
              "    </tr>\n",
              "    <tr>\n",
              "      <th>2</th>\n",
              "      <td>Blue Inc</td>\n",
              "      <td>Silver</td>\n",
              "      <td>50</td>\n",
              "      <td>90</td>\n",
              "      <td>95</td>\n",
              "    </tr>\n",
              "  </tbody>\n",
              "</table>\n",
              "</div>"
            ],
            "text/plain": [
              "     account  Status  Jan  Feb  Mar\n",
              "0  Jones LLC    Gold  150  200  140\n",
              "1   Alpha Co    Gold  200  210  215\n",
              "2   Blue Inc  Silver   50   90   95"
            ]
          },
          "execution_count": 32,
          "metadata": {},
          "output_type": "execute_result"
        }
      ],
      "source": [
        "df_1 = pd.DataFrame(sales_1)\n",
        "df_1"
      ]
    },
    {
      "cell_type": "code",
      "execution_count": null,
      "metadata": {
        "id": "-sGZgwpqrDeu",
        "outputId": "26547434-f167-414e-95b7-9164f03fe6cd"
      },
      "outputs": [
        {
          "data": {
            "text/plain": [
              "0      Gold\n",
              "1      Gold\n",
              "2    Silver\n",
              "Name: Status, dtype: category\n",
              "Categories (2, object): ['Gold', 'Silver']"
            ]
          },
          "execution_count": 33,
          "metadata": {},
          "output_type": "execute_result"
        }
      ],
      "source": [
        "# Определим неупорядоченную категорию\n",
        "df_1['Status'] = df_1['Status'].astype('category')\n",
        "df_1['Status']"
      ]
    },
    {
      "cell_type": "code",
      "execution_count": null,
      "metadata": {
        "id": "Cgpfqad0rDew"
      },
      "outputs": [],
      "source": [
        "sales_2 = [{'account': 'Smith Co', 'Status': 'Silver', 'Jan': 100, 'Feb': 100, 'Mar': 70},\n",
        "           {'account': 'Bingo', 'Status': 'Bronze', 'Jan': 310, 'Feb': 65, 'Mar': 80}]"
      ]
    },
    {
      "cell_type": "code",
      "execution_count": null,
      "metadata": {
        "id": "e0JTN29SrDew",
        "outputId": "245f1f0e-d02d-4b4d-c9d9-98580d516d5d"
      },
      "outputs": [
        {
          "data": {
            "text/html": [
              "<div>\n",
              "<style scoped>\n",
              "    .dataframe tbody tr th:only-of-type {\n",
              "        vertical-align: middle;\n",
              "    }\n",
              "\n",
              "    .dataframe tbody tr th {\n",
              "        vertical-align: top;\n",
              "    }\n",
              "\n",
              "    .dataframe thead th {\n",
              "        text-align: right;\n",
              "    }\n",
              "</style>\n",
              "<table border=\"1\" class=\"dataframe\">\n",
              "  <thead>\n",
              "    <tr style=\"text-align: right;\">\n",
              "      <th></th>\n",
              "      <th>account</th>\n",
              "      <th>Status</th>\n",
              "      <th>Jan</th>\n",
              "      <th>Feb</th>\n",
              "      <th>Mar</th>\n",
              "    </tr>\n",
              "  </thead>\n",
              "  <tbody>\n",
              "    <tr>\n",
              "      <th>0</th>\n",
              "      <td>Smith Co</td>\n",
              "      <td>Silver</td>\n",
              "      <td>100</td>\n",
              "      <td>100</td>\n",
              "      <td>70</td>\n",
              "    </tr>\n",
              "    <tr>\n",
              "      <th>1</th>\n",
              "      <td>Bingo</td>\n",
              "      <td>Bronze</td>\n",
              "      <td>310</td>\n",
              "      <td>65</td>\n",
              "      <td>80</td>\n",
              "    </tr>\n",
              "  </tbody>\n",
              "</table>\n",
              "</div>"
            ],
            "text/plain": [
              "    account  Status  Jan  Feb  Mar\n",
              "0  Smith Co  Silver  100  100   70\n",
              "1     Bingo  Bronze  310   65   80"
            ]
          },
          "execution_count": 35,
          "metadata": {},
          "output_type": "execute_result"
        }
      ],
      "source": [
        "df_2 = pd.DataFrame(sales_2)\n",
        "df_2"
      ]
    },
    {
      "cell_type": "code",
      "execution_count": null,
      "metadata": {
        "id": "tNyrRK81rDex",
        "outputId": "86ebfc69-ff78-4a93-8604-034a40530f4d"
      },
      "outputs": [
        {
          "data": {
            "text/plain": [
              "0    Silver\n",
              "1    Bronze\n",
              "Name: Status, dtype: category\n",
              "Categories (2, object): ['Bronze', 'Silver']"
            ]
          },
          "execution_count": 36,
          "metadata": {},
          "output_type": "execute_result"
        }
      ],
      "source": [
        "df_2['Status'] = df_2['Status'].astype('category')\n",
        "df_2['Status']"
      ]
    },
    {
      "cell_type": "code",
      "execution_count": null,
      "metadata": {
        "id": "K4gZHItJrDez"
      },
      "outputs": [],
      "source": [
        "# Объединим два кадра данных в 1\n",
        "df_combined = pd.concat([df_1, df_2])"
      ]
    },
    {
      "cell_type": "code",
      "execution_count": null,
      "metadata": {
        "id": "EL29EZ0-rDez",
        "outputId": "5f5b86c3-8128-4cec-f66c-04a1eac744eb"
      },
      "outputs": [
        {
          "data": {
            "text/html": [
              "<div>\n",
              "<style scoped>\n",
              "    .dataframe tbody tr th:only-of-type {\n",
              "        vertical-align: middle;\n",
              "    }\n",
              "\n",
              "    .dataframe tbody tr th {\n",
              "        vertical-align: top;\n",
              "    }\n",
              "\n",
              "    .dataframe thead th {\n",
              "        text-align: right;\n",
              "    }\n",
              "</style>\n",
              "<table border=\"1\" class=\"dataframe\">\n",
              "  <thead>\n",
              "    <tr style=\"text-align: right;\">\n",
              "      <th></th>\n",
              "      <th>account</th>\n",
              "      <th>Status</th>\n",
              "      <th>Jan</th>\n",
              "      <th>Feb</th>\n",
              "      <th>Mar</th>\n",
              "    </tr>\n",
              "  </thead>\n",
              "  <tbody>\n",
              "    <tr>\n",
              "      <th>0</th>\n",
              "      <td>Jones LLC</td>\n",
              "      <td>Gold</td>\n",
              "      <td>150</td>\n",
              "      <td>200</td>\n",
              "      <td>140</td>\n",
              "    </tr>\n",
              "    <tr>\n",
              "      <th>1</th>\n",
              "      <td>Alpha Co</td>\n",
              "      <td>Gold</td>\n",
              "      <td>200</td>\n",
              "      <td>210</td>\n",
              "      <td>215</td>\n",
              "    </tr>\n",
              "    <tr>\n",
              "      <th>2</th>\n",
              "      <td>Blue Inc</td>\n",
              "      <td>Silver</td>\n",
              "      <td>50</td>\n",
              "      <td>90</td>\n",
              "      <td>95</td>\n",
              "    </tr>\n",
              "    <tr>\n",
              "      <th>0</th>\n",
              "      <td>Smith Co</td>\n",
              "      <td>Silver</td>\n",
              "      <td>100</td>\n",
              "      <td>100</td>\n",
              "      <td>70</td>\n",
              "    </tr>\n",
              "    <tr>\n",
              "      <th>1</th>\n",
              "      <td>Bingo</td>\n",
              "      <td>Bronze</td>\n",
              "      <td>310</td>\n",
              "      <td>65</td>\n",
              "      <td>80</td>\n",
              "    </tr>\n",
              "  </tbody>\n",
              "</table>\n",
              "</div>"
            ],
            "text/plain": [
              "     account  Status  Jan  Feb  Mar\n",
              "0  Jones LLC    Gold  150  200  140\n",
              "1   Alpha Co    Gold  200  210  215\n",
              "2   Blue Inc  Silver   50   90   95\n",
              "0   Smith Co  Silver  100  100   70\n",
              "1      Bingo  Bronze  310   65   80"
            ]
          },
          "execution_count": 38,
          "metadata": {},
          "output_type": "execute_result"
        }
      ],
      "source": [
        "df_combined"
      ]
    },
    {
      "cell_type": "markdown",
      "metadata": {
        "id": "0-6Z8HGsrDe0"
      },
      "source": [
        "Все выглядит нормально, но при дополнительном осмотре мы потеряли категоририальный тип данных:"
      ]
    },
    {
      "cell_type": "code",
      "execution_count": null,
      "metadata": {
        "id": "sNJTCU3srDe0",
        "outputId": "c56214bf-d9c0-4d52-a7d5-82d630b1b4ed"
      },
      "outputs": [
        {
          "data": {
            "text/plain": [
              "0      Gold\n",
              "1      Gold\n",
              "2    Silver\n",
              "0    Silver\n",
              "1    Bronze\n",
              "Name: Status, dtype: object"
            ]
          },
          "execution_count": 39,
          "metadata": {},
          "output_type": "execute_result"
        }
      ],
      "source": [
        "df_combined['Status']"
      ]
    },
    {
      "cell_type": "markdown",
      "metadata": {
        "id": "S1f-mcYjrDe1"
      },
      "source": [
        "В этом примере все данные на месте, но тип был преобразован в `object`. Опять же, это попытка pandas объединить данные без ошибок и без предположений. Если вы хотите преобразовать данные в тип категории, то можете использовать `astype('category')`.\n",
        "\n",
        "## Общие рекомендации\n",
        "\n",
        "Теперь, когда вы знаете об этих подводных камнях, то можете их отслеживать. \n",
        "Я дам несколько рекомендаций, как использовать категориальные типы данных:\n",
        "\n",
        "1. Не думайте, что вам нужно преобразовать все категориальные данные в тип данных категории (`category`) pandas.\n",
        "2. Если набор данных занимает значительный процент используемой памяти, рассмотрите возможность использования категориальных типов данных.\n",
        "3. Если у вас очень серьезные проблемы с производительностью с часто выполняемыми операциями, обратите внимание на использование категориальных данных.\n",
        "4. Если вы используете категориальные данные, добавьте несколько проверок, чтобы убедиться, что данные чистые и полные, перед преобразованием в тип категории pandas. Кроме того, проверьте значения `NaN` после объединения или преобразования кадров данных.\n",
        "\n",
        "Надеюсь, эта статья была полезной. Категориальные типы данных в pandas могут быть очень полезны. Однако есть несколько проблем, на которые нужно обратить внимание, чтобы не запутаться в последующей обработке. "
      ]
    },
    {
      "cell_type": "markdown",
      "metadata": {
        "id": "oSCMcd15rDe3"
      },
      "source": [
        "<a href=\"https://t.me/init_python\"><img src=\"https://dfedorov.spb.ru/pandas/logo-telegram.png\" width=\"35\" height=\"35\" alt=\"telegram\" align=\"left\"></a>"
      ]
    },
    {
      "cell_type": "code",
      "execution_count": null,
      "metadata": {
        "id": "qTM-sLS3rDe3"
      },
      "outputs": [],
      "source": []
    }
  ],
  "metadata": {
    "kernelspec": {
      "display_name": "Python 3",
      "language": "python",
      "name": "python3"
    },
    "language_info": {
      "codemirror_mode": {
        "name": "ipython",
        "version": 3
      },
      "file_extension": ".py",
      "mimetype": "text/x-python",
      "name": "python",
      "nbconvert_exporter": "python",
      "pygments_lexer": "ipython3",
      "version": "3.8.3"
    },
    "colab": {
      "provenance": []
    }
  },
  "nbformat": 4,
  "nbformat_minor": 0
}