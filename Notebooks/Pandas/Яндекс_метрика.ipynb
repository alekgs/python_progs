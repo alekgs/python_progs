{
  "cells": [
    {
      "cell_type": "markdown",
      "metadata": {
        "id": "XAVAqvlNqWUc"
      },
      "source": [
        "Проведем анализ частоты запросов по версии [Яндекс.Метрики](https://yandex.ru/support/metrica/general/glossary.html)."
      ]
    },
    {
      "cell_type": "markdown",
      "metadata": {
        "id": "ypmzczpFqWUe"
      },
      "source": [
        "<a href=\"https://colab.research.google.com/github/dm-fedorov/pandas_basic/blob/master/кейсы%20по%20анализу%20данных/Яндекс-метрика.ipynb\" target=\"_blank\"><img align=\"left\" src=\"https://colab.research.google.com/assets/colab-badge.svg\" alt=\"Open in Colab\" title=\"Open and Execute in Google Colaboratory\"></a>"
      ]
    },
    {
      "cell_type": "markdown",
      "metadata": {
        "id": "pi3Y7W1cqWUg"
      },
      "source": [
        "Для работы понадобится модуль [pymorphy2](https://pymorphy2.readthedocs.io/en/stable/)."
      ]
    },
    {
      "cell_type": "code",
      "execution_count": null,
      "metadata": {
        "id": "CUIk27V1qWUg"
      },
      "outputs": [],
      "source": [
        "#!pip3 install pymorphy2"
      ]
    },
    {
      "cell_type": "code",
      "execution_count": null,
      "metadata": {
        "id": "yBhKoGhGqWUh"
      },
      "outputs": [],
      "source": [
        "import pandas as pd\n",
        "import pymorphy2"
      ]
    },
    {
      "cell_type": "code",
      "execution_count": null,
      "metadata": {
        "id": "yE-J_fdmqWUi"
      },
      "outputs": [],
      "source": [
        "url = \"https://raw.githubusercontent.com/dm-fedorov/pandas_basic/master/data/data_stat/yandex-stat-q.csv\""
      ]
    },
    {
      "cell_type": "code",
      "execution_count": null,
      "metadata": {
        "id": "H75JXqoIqWUj"
      },
      "outputs": [],
      "source": [
        "morph = pymorphy2.MorphAnalyzer()"
      ]
    },
    {
      "cell_type": "code",
      "execution_count": null,
      "metadata": {
        "id": "OgwI5eUwqWUk",
        "outputId": "ebc238aa-db23-4d90-82e5-e142a7da6f4f"
      },
      "outputs": [
        {
          "data": {
            "text/html": [
              "<div>\n",
              "<style scoped>\n",
              "    .dataframe tbody tr th:only-of-type {\n",
              "        vertical-align: middle;\n",
              "    }\n",
              "\n",
              "    .dataframe tbody tr th {\n",
              "        vertical-align: top;\n",
              "    }\n",
              "\n",
              "    .dataframe thead th {\n",
              "        text-align: right;\n",
              "    }\n",
              "</style>\n",
              "<table border=\"1\" class=\"dataframe\">\n",
              "  <thead>\n",
              "    <tr style=\"text-align: right;\">\n",
              "      <th></th>\n",
              "      <th>Поисковая фраза</th>\n",
              "      <th>Поисковая система</th>\n",
              "      <th>Визиты</th>\n",
              "      <th>Посетители</th>\n",
              "      <th>Отказы</th>\n",
              "      <th>Глубина просмотра</th>\n",
              "      <th>Время на сайте</th>\n",
              "    </tr>\n",
              "  </thead>\n",
              "  <tbody>\n",
              "    <tr>\n",
              "      <th>0</th>\n",
              "      <td>Итого и средние</td>\n",
              "      <td>NaN</td>\n",
              "      <td>72394</td>\n",
              "      <td>57803</td>\n",
              "      <td>0.120328</td>\n",
              "      <td>1.298934</td>\n",
              "      <td>00:01:18</td>\n",
              "    </tr>\n",
              "    <tr>\n",
              "      <th>1</th>\n",
              "      <td>pycode.ru</td>\n",
              "      <td>Яндекс</td>\n",
              "      <td>2068</td>\n",
              "      <td>1225</td>\n",
              "      <td>0.093810</td>\n",
              "      <td>1.674565</td>\n",
              "      <td>00:01:38</td>\n",
              "    </tr>\n",
              "    <tr>\n",
              "      <th>2</th>\n",
              "      <td>холопов алексей васильевич</td>\n",
              "      <td>Яндекс</td>\n",
              "      <td>1240</td>\n",
              "      <td>467</td>\n",
              "      <td>0.082258</td>\n",
              "      <td>1.941129</td>\n",
              "      <td>00:03:53</td>\n",
              "    </tr>\n",
              "    <tr>\n",
              "      <th>3</th>\n",
              "      <td>золотое правило дидактики</td>\n",
              "      <td>Яндекс</td>\n",
              "      <td>778</td>\n",
              "      <td>751</td>\n",
              "      <td>0.082262</td>\n",
              "      <td>1.087404</td>\n",
              "      <td>00:00:41</td>\n",
              "    </tr>\n",
              "    <tr>\n",
              "      <th>4</th>\n",
              "      <td>золотое правило дидактики я.а коменского</td>\n",
              "      <td>Яндекс</td>\n",
              "      <td>743</td>\n",
              "      <td>724</td>\n",
              "      <td>0.068641</td>\n",
              "      <td>1.044415</td>\n",
              "      <td>00:00:31</td>\n",
              "    </tr>\n",
              "  </tbody>\n",
              "</table>\n",
              "</div>"
            ],
            "text/plain": [
              "                            Поисковая фраза Поисковая система  Визиты  \\\n",
              "0                           Итого и средние               NaN   72394   \n",
              "1                                 pycode.ru            Яндекс    2068   \n",
              "2                холопов алексей васильевич            Яндекс    1240   \n",
              "3                 золотое правило дидактики            Яндекс     778   \n",
              "4  золотое правило дидактики я.а коменского            Яндекс     743   \n",
              "\n",
              "   Посетители    Отказы  Глубина просмотра Время на сайте  \n",
              "0       57803  0.120328           1.298934       00:01:18  \n",
              "1        1225  0.093810           1.674565       00:01:38  \n",
              "2         467  0.082258           1.941129       00:03:53  \n",
              "3         751  0.082262           1.087404       00:00:41  \n",
              "4         724  0.068641           1.044415       00:00:31  "
            ]
          },
          "execution_count": 5,
          "metadata": {},
          "output_type": "execute_result"
        }
      ],
      "source": [
        "df = pd.read_csv(url)\n",
        "df.head()"
      ]
    },
    {
      "cell_type": "markdown",
      "metadata": {
        "id": "fR3uWX7SqWUo"
      },
      "source": [
        "### Задача: определите статистику встречаемости отдельных слов в поисковых фразах. Это позволит понять тематику данного сайта и настроить показ рекламы.\n",
        "\n",
        "За помощью обратитетесь к [инструкции](https://dfedorov.spb.ru/pandas/10.%20%D0%9A%D0%B0%D0%BA%20%D0%BC%D0%B0%D0%BD%D0%B8%D0%BF%D1%83%D0%BB%D0%B8%D1%80%D0%BE%D0%B2%D0%B0%D1%82%D1%8C%20%D1%82%D0%B5%D0%BA%D1%81%D1%82%D0%BE%D0%B2%D1%8B%D0%BC%D0%B8%20%D0%B4%D0%B0%D0%BD%D0%BD%D1%8B%D0%BC%D0%B8_.html) и возможностям модуля [pymorphy2](https://pymorphy2.readthedocs.io/en/stable/)."
      ]
    },
    {
      "cell_type": "code",
      "execution_count": null,
      "metadata": {
        "id": "w4ZTgsaSqWUq",
        "outputId": "ed232ae3-a8dd-4ded-94d3-f71a37da444c"
      },
      "outputs": [
        {
          "data": {
            "text/plain": [
              "0                                          итого и средние\n",
              "1                                                pycode.ru\n",
              "2                               холопов алексей васильевич\n",
              "3                                золотое правило дидактики\n",
              "4                 золотое правило дидактики я.а коменского\n",
              "                               ...                        \n",
              "33784     тезисы доклада в сборнике конференции на тем...\n",
              "33785     структурированные тезисы (введение, цель, ма...\n",
              "33786     в чем проявляются различия между «прикладной...\n",
              "33787       преимущества метода кейс-стади (метод кейсов)\n",
              "33788    ﻿понятие безопасности в классической и совреме...\n",
              "Name: Поисковая фраза, Length: 33789, dtype: object"
            ]
          },
          "execution_count": 6,
          "metadata": {},
          "output_type": "execute_result"
        }
      ],
      "source": [
        "df[\"Поисковая фраза\"].str.lower()"
      ]
    },
    {
      "cell_type": "code",
      "execution_count": null,
      "metadata": {
        "id": "lpTJCqmtqWUr",
        "outputId": "80b4c342-de88-42f5-f568-66c26d289058"
      },
      "outputs": [
        {
          "data": {
            "text/plain": [
              "[(0, 'итого и средние'),\n",
              " (1, 'pycode.ru'),\n",
              " (2, 'холопов алексей васильевич'),\n",
              " (3, 'золотое правило дидактики'),\n",
              " (4, 'золотое правило дидактики я.а коменского'),\n",
              " (5, 'как писать тезисы к исследовательской работе'),\n",
              " (6, 'pycode'),\n",
              " (7, 'тезисы доклада на конференцию пример'),\n",
              " (8,\n",
              "  'опираться на “золотое правило” дидактики, описанное я. а. коменским, продуктивно...'),\n",
              " (9, 'холопов алексей васильевич официальный сайт'),\n",
              " (10, 'pycode ru'),\n",
              " (11, 'холопов'),\n",
              " (12, 'основы программирования на python учебник вводный курс'),\n",
              " (13, 'руcode'),\n",
              " (14, 'тезисы на конференцию примеры'),\n",
              " (15, 'rucode'),\n",
              " (16, 'холопов алексей васильевич лекции смотреть'),\n",
              " (17, 'pycode.ru холопов'),\n",
              " (18, 'примеры тезисов на конференцию'),\n",
              " (19, 'как написать тезисы к исследовательской работе образец')]"
            ]
          },
          "execution_count": 7,
          "metadata": {},
          "output_type": "execute_result"
        }
      ],
      "source": [
        "list(enumerate(df[\"Поисковая фраза\"].str.lower()))[:20]"
      ]
    },
    {
      "cell_type": "code",
      "execution_count": null,
      "metadata": {
        "id": "mZZ3oVU9qWUr",
        "outputId": "0319bd99-0284-4f63-91f6-2c0338ce23fb"
      },
      "outputs": [
        {
          "data": {
            "text/plain": [
              "['итого и средние',\n",
              " 'pycode.ru',\n",
              " 'холопов алексей васильевич',\n",
              " 'золотое правило дидактики',\n",
              " 'золотое правило дидактики я.а коменского',\n",
              " 'как писать тезисы к исследовательской работе',\n",
              " 'pycode',\n",
              " 'тезисы доклада на конференцию пример',\n",
              " 'опираться на “золотое правило” дидактики, описанное я. а. коменским, продуктивно...',\n",
              " 'холопов алексей васильевич официальный сайт',\n",
              " 'pycode ru',\n",
              " 'холопов',\n",
              " 'основы программирования на python учебник вводный курс',\n",
              " 'руcode',\n",
              " 'тезисы на конференцию примеры',\n",
              " 'rucode',\n",
              " 'холопов алексей васильевич лекции смотреть',\n",
              " 'pycode.ru холопов',\n",
              " 'примеры тезисов на конференцию',\n",
              " 'как написать тезисы к исследовательской работе образец']"
            ]
          },
          "execution_count": 8,
          "metadata": {},
          "output_type": "execute_result"
        }
      ],
      "source": [
        "lst_phrases = [j for i, j in enumerate(df[\"Поисковая фраза\"].str.lower())]\n",
        "lst_phrases[:20]"
      ]
    },
    {
      "cell_type": "code",
      "execution_count": null,
      "metadata": {
        "id": "B9BEhl1TqWUs",
        "outputId": "124ea3d4-6988-4e14-d86c-0f6f99049215"
      },
      "outputs": [
        {
          "data": {
            "text/plain": [
              "[['итого', 'и', 'средние'],\n",
              " ['pycode.ru'],\n",
              " ['холопов', 'алексей', 'васильевич'],\n",
              " ['золотое', 'правило', 'дидактики'],\n",
              " ['золотое', 'правило', 'дидактики', 'я.а', 'коменского'],\n",
              " ['как', 'писать', 'тезисы', 'к', 'исследовательской', 'работе'],\n",
              " ['pycode'],\n",
              " ['тезисы', 'доклада', 'на', 'конференцию', 'пример'],\n",
              " ['опираться',\n",
              "  'на',\n",
              "  '“золотое',\n",
              "  'правило”',\n",
              "  'дидактики,',\n",
              "  'описанное',\n",
              "  'я.',\n",
              "  'а.',\n",
              "  'коменским,',\n",
              "  'продуктивно...'],\n",
              " ['холопов', 'алексей', 'васильевич', 'официальный', 'сайт'],\n",
              " ['pycode', 'ru'],\n",
              " ['холопов'],\n",
              " ['основы', 'программирования', 'на', 'python', 'учебник', 'вводный', 'курс'],\n",
              " ['руcode'],\n",
              " ['тезисы', 'на', 'конференцию', 'примеры'],\n",
              " ['rucode'],\n",
              " ['холопов', 'алексей', 'васильевич', 'лекции', 'смотреть'],\n",
              " ['pycode.ru', 'холопов'],\n",
              " ['примеры', 'тезисов', 'на', 'конференцию'],\n",
              " ['как', 'написать', 'тезисы', 'к', 'исследовательской', 'работе', 'образец']]"
            ]
          },
          "execution_count": 9,
          "metadata": {},
          "output_type": "execute_result"
        }
      ],
      "source": [
        "splited_phrases = list(map(lambda x: x.split(), lst_phrases))\n",
        "splited_phrases[:20]"
      ]
    },
    {
      "cell_type": "code",
      "execution_count": null,
      "metadata": {
        "id": "3ULvPuXhqWUt",
        "outputId": "a0547d1a-8292-4313-92c3-406ee105d4a4"
      },
      "outputs": [
        {
          "data": {
            "text/plain": [
              "['итого',\n",
              " 'и',\n",
              " 'средние',\n",
              " 'pycode.ru',\n",
              " 'холопов',\n",
              " 'алексей',\n",
              " 'васильевич',\n",
              " 'золотое',\n",
              " 'правило',\n",
              " 'дидактики',\n",
              " 'золотое',\n",
              " 'правило',\n",
              " 'дидактики',\n",
              " 'я.а',\n",
              " 'коменского',\n",
              " 'как',\n",
              " 'писать',\n",
              " 'тезисы',\n",
              " 'к',\n",
              " 'исследовательской']"
            ]
          },
          "execution_count": 10,
          "metadata": {},
          "output_type": "execute_result"
        }
      ],
      "source": [
        "[item for sublist in splited_phrases for item in sublist][:20]"
      ]
    },
    {
      "cell_type": "code",
      "execution_count": null,
      "metadata": {
        "id": "vtE45H5fqWUt",
        "outputId": "7804aac4-acce-4ffe-9fb5-c989a6e6972c"
      },
      "outputs": [
        {
          "data": {
            "text/plain": [
              "[Parse(word='итого', tag=OpencorporaTag('ADVB'), normal_form='итого', score=1.0, methods_stack=((DictionaryAnalyzer(), 'итого', 3, 0),))]"
            ]
          },
          "execution_count": 11,
          "metadata": {},
          "output_type": "execute_result"
        }
      ],
      "source": [
        "morph.parse('итого')"
      ]
    },
    {
      "cell_type": "code",
      "execution_count": null,
      "metadata": {
        "id": "X8kgc_ycqWUu",
        "outputId": "90757993-37e0-4b6d-dc9b-6d11b1ffcdce"
      },
      "outputs": [
        {
          "data": {
            "text/plain": [
              "Parse(word='итого', tag=OpencorporaTag('ADVB'), normal_form='итого', score=1.0, methods_stack=((DictionaryAnalyzer(), 'итого', 3, 0),))"
            ]
          },
          "execution_count": 12,
          "metadata": {},
          "output_type": "execute_result"
        }
      ],
      "source": [
        "morph.parse('итого')[0]"
      ]
    },
    {
      "cell_type": "code",
      "execution_count": null,
      "metadata": {
        "id": "P_0lOiPPqWUu",
        "outputId": "252c0c9a-14b6-4843-8bd2-cab9c3ef0adf"
      },
      "outputs": [
        {
          "data": {
            "text/plain": [
              "'итого'"
            ]
          },
          "execution_count": 13,
          "metadata": {},
          "output_type": "execute_result"
        }
      ],
      "source": [
        "morph.parse('итого')[0].normal_form"
      ]
    },
    {
      "cell_type": "code",
      "execution_count": null,
      "metadata": {
        "id": "8kq_hb0AqWUv",
        "outputId": "435472e8-ef46-464f-eb6b-3ccecf8686bb"
      },
      "outputs": [
        {
          "data": {
            "text/plain": [
              "['итого',\n",
              " 'и',\n",
              " 'средний',\n",
              " 'pycode.ru',\n",
              " 'холоп',\n",
              " 'алексей',\n",
              " 'василиевич',\n",
              " 'золотой',\n",
              " 'правило',\n",
              " 'дидактика',\n",
              " 'золотой',\n",
              " 'правило',\n",
              " 'дидактика',\n",
              " 'я.а',\n",
              " 'коменский',\n",
              " 'как',\n",
              " 'писать',\n",
              " 'тезис',\n",
              " 'к',\n",
              " 'исследовательский']"
            ]
          },
          "execution_count": 14,
          "metadata": {},
          "output_type": "execute_result"
        }
      ],
      "source": [
        "flat_list = [morph.parse(item)[0].normal_form for sublist in splited_phrases for item in sublist]\n",
        "flat_list[:20]"
      ]
    },
    {
      "cell_type": "code",
      "execution_count": null,
      "metadata": {
        "id": "UEVKtiApqWUv",
        "outputId": "0c3ece82-d65a-4654-df4b-59d0177dc338"
      },
      "outputs": [
        {
          "data": {
            "text/plain": [
              "0               итого\n",
              "1                   и\n",
              "2             средний\n",
              "3           pycode.ru\n",
              "4               холоп\n",
              "             ...     \n",
              "202416              и\n",
              "202417    современный\n",
              "202418      философия\n",
              "202419           а.ю.\n",
              "202420      моздаковы\n",
              "Length: 202421, dtype: object"
            ]
          },
          "execution_count": 15,
          "metadata": {},
          "output_type": "execute_result"
        }
      ],
      "source": [
        "series_phrases = pd.Series(flat_list)\n",
        "series_phrases"
      ]
    },
    {
      "cell_type": "code",
      "execution_count": null,
      "metadata": {
        "id": "FnfOMMnIqWUv",
        "outputId": "a193d905-a745-46d5-ac09-f0d5c4127b2d"
      },
      "outputs": [
        {
          "data": {
            "image/png": "[encoded data removed]",
            "text/plain": [
              "<Figure size 432x288 with 1 Axes>"
            ]
          },
          "metadata": {},
          "output_type": "display_data"
        }
      ],
      "source": [
        "import matplotlib.pyplot as plt\n",
        "import seaborn as sns\n",
        "sns.set()\n",
        "\n",
        "plt.title('Слова, которые встречаются больше 2000 раз')\n",
        "\n",
        "series_phrases.value_counts()[series_phrases.value_counts()>2000].plot.bar()\n",
        "\n",
        "plt.ylabel('Кол-во встречаемости слова')\n",
        "plt.xlabel('Слова')\n",
        "plt.show();"
      ]
    },
    {
      "cell_type": "code",
      "execution_count": null,
      "metadata": {
        "id": "JsBVNCtiqWUx"
      },
      "outputs": [],
      "source": []
    }
  ],
  "metadata": {
    "kernelspec": {
      "display_name": "Python 3",
      "language": "python",
      "name": "python3"
    },
    "language_info": {
      "codemirror_mode": {
        "name": "ipython",
        "version": 3
      },
      "file_extension": ".py",
      "mimetype": "text/x-python",
      "name": "python",
      "nbconvert_exporter": "python",
      "pygments_lexer": "ipython3",
      "version": "3.8.3"
    },
    "colab": {
      "provenance": []
    }
  },
  "nbformat": 4,
  "nbformat_minor": 0
}