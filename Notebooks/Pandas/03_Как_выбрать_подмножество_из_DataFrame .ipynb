{
  "cells": [
    {
      "cell_type": "markdown",
      "metadata": {
        "id": "8AfkArCtrYhd"
      },
      "source": [
        "<a href=\"https://colab.research.google.com/github/dm-fedorov/pandas_basic/blob/master/%D0%B1%D1%8B%D1%81%D1%82%D1%80%D0%BE%D0%B5%20%D0%B2%D0%B2%D0%B5%D0%B4%D0%B5%D0%BD%D0%B8%D0%B5%20%D0%B2%20pandas/03.%20%D0%9A%D0%B0%D0%BA%20%D0%B2%D1%8B%D0%B1%D1%80%D0%B0%D1%82%D1%8C%20%D0%BF%D0%BE%D0%B4%D0%BC%D0%BD%D0%BE%D0%B6%D0%B5%D1%81%D1%82%D0%B2%D0%BE%20%D0%B8%D0%B7%20DataFrame%3F.ipynb\"><img align=\"left\" src=\"https://colab.research.google.com/assets/colab-badge.svg\" alt=\"Open in Colab\" title=\"Open and Execute in Google Colaboratory\" target=\"_blank\"></a>"
      ]
    },
    {
      "cell_type": "markdown",
      "metadata": {
        "id": "7ecqXQbMrYhg"
      },
      "source": [
        "<a href=\"https://t.me/init_python\"><img src=\"https://dfedorov.spb.ru/pandas/logo-telegram.png\" width=\"35\" height=\"35\" alt=\"telegram\" align=\"left\"></a>"
      ]
    },
    {
      "cell_type": "code",
      "execution_count": null,
      "metadata": {
        "id": "cNma_N4grYhh"
      },
      "outputs": [],
      "source": [
        "import pandas as pd"
      ]
    },
    {
      "cell_type": "code",
      "execution_count": null,
      "metadata": {
        "id": "NbT_Tza3rYhh"
      },
      "outputs": [],
      "source": [
        "url = \"https://raw.githubusercontent.com/dm-fedorov/pandas_basic/master/%D0%B1%D1%8B%D1%81%D1%82%D1%80%D0%BE%D0%B5%20%D0%B2%D0%B2%D0%B5%D0%B4%D0%B5%D0%BD%D0%B8%D0%B5%20%D0%B2%20pandas/data/titanic.csv\""
      ]
    },
    {
      "cell_type": "code",
      "execution_count": null,
      "metadata": {
        "id": "thic0PW0rYhi"
      },
      "outputs": [],
      "source": [
        "titanic = pd.read_csv(url)"
      ]
    },
    {
      "cell_type": "markdown",
      "metadata": {
        "id": "pSjO2sbhrYhk"
      },
      "source": [
        "### Как выбрать определенные столбцы из DataFrame?"
      ]
    },
    {
      "cell_type": "markdown",
      "metadata": {
        "id": "2h_T7dKnrYhl"
      },
      "source": [
        "<img src=\"https://pandas.pydata.org/pandas-docs/stable/_images/03_subset_columns.svg\">"
      ]
    },
    {
      "cell_type": "markdown",
      "metadata": {
        "id": "BTWwef2XrYhl"
      },
      "source": [
        "Меня интересует возраст пассажиров:"
      ]
    },
    {
      "cell_type": "code",
      "execution_count": null,
      "metadata": {
        "id": "3ZHJTOwgrYhm"
      },
      "outputs": [],
      "source": [
        "ages = titanic[\"Age\"]\n",
        "ages"
      ]
    },
    {
      "cell_type": "markdown",
      "metadata": {
        "id": "gtdWAeRwrYhn"
      },
      "source": [
        "Чтобы выбрать один столбец, используйте квадратные скобки `[]` с именем интересующего столбца."
      ]
    },
    {
      "cell_type": "markdown",
      "metadata": {
        "id": "VmPpxppQrYhn"
      },
      "source": [
        "Каждый столбец в [`DataFrame`](https://pandas.pydata.org/pandas-docs/stable/reference/api/pandas.DataFrame.html#pandas.DataFrame) является [`Series`](https://pandas.pydata.org/pandas-docs/stable/reference/api/pandas.Series.html#pandas.Series). \n",
        "\n",
        "Поскольку выбран один столбец, то возвращаемый объект является `Series`. \n",
        "\n",
        "Мы можем проверить это:"
      ]
    },
    {
      "cell_type": "code",
      "execution_count": null,
      "metadata": {
        "id": "nA4RAf-MrYho"
      },
      "outputs": [],
      "source": [
        "type(titanic[\"Age\"])"
      ]
    },
    {
      "cell_type": "markdown",
      "metadata": {
        "id": "-ki5EAINrYhp"
      },
      "source": [
        "Посмотрим на результат обращения к атрибуту `shape`:"
      ]
    },
    {
      "cell_type": "code",
      "execution_count": null,
      "metadata": {
        "id": "xvmRKMc7rYhp"
      },
      "outputs": [],
      "source": [
        "titanic[\"Age\"].shape"
      ]
    },
    {
      "cell_type": "markdown",
      "metadata": {
        "id": "IfnouOT0rYhp"
      },
      "source": [
        "[`DataFrame.shape`](https://pandas.pydata.org/pandas-docs/stable/reference/api/pandas.DataFrame.shape.html#pandas.DataFrame.shape) является атрибутом `Series` и `DataFrame` и содержит количество строк и столбцов `(nrows, ncolumns)`. \n",
        "\n",
        "Серия является одномерной, поэтому возвращается только количество строк."
      ]
    },
    {
      "cell_type": "markdown",
      "metadata": {
        "id": "ktpmvxSLrYhq"
      },
      "source": [
        "Меня интересует возраст и пол пассажиров:"
      ]
    },
    {
      "cell_type": "code",
      "execution_count": null,
      "metadata": {
        "id": "sMoKUeAjrYhq"
      },
      "outputs": [],
      "source": [
        "age_sex = titanic[[\"Age\", \"Sex\"]]"
      ]
    },
    {
      "cell_type": "code",
      "execution_count": null,
      "metadata": {
        "id": "S5AUVwpjrYhq"
      },
      "outputs": [],
      "source": [
        "age_sex.head()"
      ]
    },
    {
      "cell_type": "markdown",
      "metadata": {
        "id": "JlLNEHNTrYhr"
      },
      "source": [
        "Чтобы выбрать несколько столбцов, используйте список имен столбцов в квадратных скобках `[]`."
      ]
    },
    {
      "cell_type": "markdown",
      "metadata": {
        "id": "ZtlM8RQ1rYhs"
      },
      "source": [
        "Внутренние квадратные скобки определяют [список Python](https://docs.python.org/3/tutorial/datastructures.html#tut-morelists) с именами столбцов, тогда как внешние квадратные скобки используются для выбора данных."
      ]
    },
    {
      "cell_type": "markdown",
      "metadata": {
        "id": "nWVqunn7rYhs"
      },
      "source": [
        "Возвращаемый тип данных - `DataFrame`:"
      ]
    },
    {
      "cell_type": "code",
      "execution_count": null,
      "metadata": {
        "id": "v_8JI1sxrYhs"
      },
      "outputs": [],
      "source": [
        "type(titanic[[\"Age\", \"Sex\"]])"
      ]
    },
    {
      "cell_type": "code",
      "execution_count": null,
      "metadata": {
        "id": "v6xSXU3YrYhs"
      },
      "outputs": [],
      "source": [
        "titanic[[\"Age\", \"Sex\"]].shape"
      ]
    },
    {
      "cell_type": "markdown",
      "metadata": {
        "id": "9p0TW97UrYht"
      },
      "source": [
        "Видим, что `DataFrame` содержит 891 строк и 2 столбца. "
      ]
    },
    {
      "cell_type": "markdown",
      "metadata": {
        "id": "ZujojlU7rYht"
      },
      "source": [
        "Для получения информации об индексации см. [Раздел руководства пользователя по индексированию и выбору данных](https://pandas.pydata.org/pandas-docs/stable/user_guide/indexing.html#indexing-basics)."
      ]
    },
    {
      "cell_type": "markdown",
      "metadata": {
        "id": "zy9QZwfJrYht"
      },
      "source": [
        "### Как отфильтровать определенные строки из DataFrame?\n",
        "\n",
        "<img src=\"https://pandas.pydata.org/pandas-docs/stable/_images/03_subset_rows.svg\">"
      ]
    },
    {
      "cell_type": "markdown",
      "metadata": {
        "id": "Zsdh6177rYhu"
      },
      "source": [
        "Меня интересуют пассажиры старше 35 лет:"
      ]
    },
    {
      "cell_type": "code",
      "execution_count": null,
      "metadata": {
        "id": "NeLb5HDcrYhu"
      },
      "outputs": [],
      "source": [
        "above_35 = titanic[titanic[\"Age\"] > 35]"
      ]
    },
    {
      "cell_type": "code",
      "execution_count": null,
      "metadata": {
        "id": "LiXkNPT9rYhu"
      },
      "outputs": [],
      "source": [
        "above_35.head()"
      ]
    },
    {
      "cell_type": "markdown",
      "metadata": {
        "id": "0DKfB7V8rYhu"
      },
      "source": [
        "Условие внутри скобок проверяет, для каких строк столбец имеет значение больше 35:"
      ]
    },
    {
      "cell_type": "code",
      "execution_count": null,
      "metadata": {
        "id": "6oTvZMBnrYhv"
      },
      "outputs": [],
      "source": [
        "titanic[\"Age\"] > 35"
      ]
    },
    {
      "cell_type": "markdown",
      "metadata": {
        "id": "VjMMcPJJrYhv"
      },
      "source": [
        "Вывод условного выражения (`>`, но также будут работать `==`, `!=`, `<`, `<=`, ... ) является `Series` булевых значений (`True` или `False`) с тем же числом строк, что и в оригинальном `DataFrame`. \n",
        "\n",
        "Подобный `Series` может быть использован для фильтрации `DataFrame`, помещая его внутрь скобок выбора `[]`. \n",
        "\n",
        "Будут выбраны только те строки, для которых это значение `True`.\n",
        "\n",
        "Давайте посмотрим на количество строк, которые удовлетворяют условию, проверив атрибут `shape` полученного `DataFrame`:"
      ]
    },
    {
      "cell_type": "code",
      "execution_count": null,
      "metadata": {
        "id": "xHs-KoJsrYhw"
      },
      "outputs": [],
      "source": [
        "above_35.shape"
      ]
    },
    {
      "cell_type": "markdown",
      "metadata": {
        "id": "lNeuRPO0rYhx"
      },
      "source": [
        "Меня интересуют пассажиры из кают класса `2` и `3`:"
      ]
    },
    {
      "cell_type": "code",
      "execution_count": null,
      "metadata": {
        "id": "VV6rjqbErYhx"
      },
      "outputs": [],
      "source": [
        "class_23 = titanic[titanic[\"Pclass\"].isin([2, 3])]"
      ]
    },
    {
      "cell_type": "markdown",
      "metadata": {
        "id": "RWWtZiIVrYhy"
      },
      "source": [
        "Подобно условному выражению, [`isin()`](https://pandas.pydata.org/pandas-docs/stable/reference/api/pandas.Series.isin.html#pandas.Series.isin) возвращает `True` для каждой строки, значения которой находятся в предоставленном списке. \n",
        "\n",
        "Чтобы отфильтровать строки на основе такой функции, используйте функцию внутри скобок `[]`. \n",
        "\n",
        "Вышесказанное эквивалентно фильтрации по строкам, для которых класс равен `2` или `3`, и объединению двух операторов с помощью (или) `|` :"
      ]
    },
    {
      "cell_type": "code",
      "execution_count": null,
      "metadata": {
        "id": "E67S7meqrYhy"
      },
      "outputs": [],
      "source": [
        "class_23 = titanic[(titanic[\"Pclass\"] == 2) | (titanic[\"Pclass\"] == 3)]"
      ]
    },
    {
      "cell_type": "code",
      "execution_count": null,
      "metadata": {
        "id": "6BKI3pJlrYhz"
      },
      "outputs": [],
      "source": [
        "class_23.head()"
      ]
    },
    {
      "cell_type": "markdown",
      "metadata": {
        "id": "SCAhFKlFrYhz"
      },
      "source": [
        "См. Специальный раздел в [руководстве пользователя о булевой индексации](https://pandas.pydata.org/pandas-docs/stable/user_guide/indexing.html#indexing-boolean)."
      ]
    },
    {
      "cell_type": "markdown",
      "metadata": {
        "id": "VIRXy8H2rYhz"
      },
      "source": [
        "Я хочу работать с данными о пассажирах, для которых известен возраст:"
      ]
    },
    {
      "cell_type": "code",
      "execution_count": null,
      "metadata": {
        "id": "SU6YhpB7rYh0"
      },
      "outputs": [],
      "source": [
        "age_no_na = titanic[titanic[\"Age\"].notna()]"
      ]
    },
    {
      "cell_type": "code",
      "execution_count": null,
      "metadata": {
        "id": "egjD0eEhrYh0"
      },
      "outputs": [],
      "source": [
        "age_no_na.head()"
      ]
    },
    {
      "cell_type": "markdown",
      "metadata": {
        "id": "TcY2GlX1rYh0"
      },
      "source": [
        "[`notna()`](https://pandas.pydata.org/pandas-docs/stable/reference/api/pandas.Series.notna.html#pandas.Series.notna) возвращает `True` для каждой строки, значение которой отлично от `NA` (`np.NaN`). "
      ]
    },
    {
      "cell_type": "markdown",
      "metadata": {
        "id": "Fe27ONDtrYh1"
      },
      "source": [
        "Проверим, изменилась ли форма:"
      ]
    },
    {
      "cell_type": "code",
      "execution_count": null,
      "metadata": {
        "id": "FpQtrNXNrYh1"
      },
      "outputs": [],
      "source": [
        "age_no_na.shape"
      ]
    },
    {
      "cell_type": "markdown",
      "metadata": {
        "id": "nMZzb0NlrYh1"
      },
      "source": [
        "### Как выбрать определенные строки и столбцы из DataFrame?"
      ]
    },
    {
      "cell_type": "markdown",
      "metadata": {
        "id": "sKct4jfgrYh1"
      },
      "source": [
        "<img src=\"https://pandas.pydata.org/docs/_images/03_subset_columns_rows.svg\">"
      ]
    },
    {
      "cell_type": "markdown",
      "metadata": {
        "id": "sEGVbvvMrYh2"
      },
      "source": [
        "Меня интересуют имена пассажиров старше `35` лет:"
      ]
    },
    {
      "cell_type": "code",
      "execution_count": null,
      "metadata": {
        "id": "YgdWeEZMrYh2"
      },
      "outputs": [],
      "source": [
        "adult_names = titanic.loc[titanic[\"Age\"] > 35, \"Name\"]"
      ]
    },
    {
      "cell_type": "code",
      "execution_count": null,
      "metadata": {
        "id": "53jsVdZerYh2"
      },
      "outputs": [],
      "source": [
        "adult_names.head()"
      ]
    },
    {
      "cell_type": "markdown",
      "metadata": {
        "id": "3FGvom05rYh3"
      },
      "source": [
        "В этом случае подмножество строк и столбцов создается за один раз, и просто использование скобок выбора `[]` больше не достаточно. \n",
        "\n",
        "Операторы `loc` / `iloc` требуются перед скобками`[]`. \n",
        "\n",
        "При использовании `loc` / `iloc` часть перед запятой - это строки, которые вы хотите выбрать, а часть после запятой - это столбцы."
      ]
    },
    {
      "cell_type": "markdown",
      "metadata": {
        "id": "KMF1bR1UrYh3"
      },
      "source": [
        "При использовании имен столбцов, меток строк или условных выражений используйте оператор `loc` перед скобками выбора `[]`. \n",
        "\n",
        "Как для части до, так и после запятой можно использовать одну метку, список меток, часть меток, условное выражение или двоеточие. \n",
        "\n",
        "Используя особенности двоеточия, если хотите выбрать все строки или столбцы."
      ]
    },
    {
      "cell_type": "markdown",
      "metadata": {
        "id": "wfidjzrXrYh3"
      },
      "source": [
        "Меня интересуют строки с `9` по `24` и столбцы с `2` по `4`:"
      ]
    },
    {
      "cell_type": "code",
      "execution_count": null,
      "metadata": {
        "id": "YbkNEUpGrYh3"
      },
      "outputs": [],
      "source": [
        "titanic.iloc[9:25, 2:5]"
      ]
    },
    {
      "cell_type": "markdown",
      "metadata": {
        "id": "JBVDrRnZrYh4"
      },
      "source": [
        "Опять же, подмножество строк и столбцов создается за один раз, и просто использование скобок выбора `[]` больше не достаточно. \n",
        "\n",
        "Если вас интересуют определенные строки и/или столбцы в зависимости от их положения в таблице, используйте оператор `iloc` перед `[]`."
      ]
    },
    {
      "cell_type": "markdown",
      "metadata": {
        "id": "j5ZXOE4trYh4"
      },
      "source": [
        "При выборе определенных строк и/или столбцов с помощью `loc` или `iloc`, новым значениям могут быть назначены выбранные данные. \n",
        "\n",
        "Например, чтобы присвоить имя anonymous первым `3` элементам третьего столбца:"
      ]
    },
    {
      "cell_type": "code",
      "execution_count": null,
      "metadata": {
        "id": "LVceiaqTrYh4"
      },
      "outputs": [],
      "source": [
        "titanic.iloc[0:3, 3] = \"anonymous\""
      ]
    },
    {
      "cell_type": "code",
      "execution_count": null,
      "metadata": {
        "id": "Nw8VqfbXrYh4"
      },
      "outputs": [],
      "source": [
        "titanic.head()"
      ]
    },
    {
      "cell_type": "markdown",
      "metadata": {
        "id": "Fh2rlvGArYh5"
      },
      "source": [
        "Обратитесь к разделу [руководства пользователя по различным вариантам индексации](https://pandas.pydata.org/pandas-docs/stable/user_guide/indexing.html#indexing-choice), чтобы получить более полное представление об использовании `loc` и `iloc`."
      ]
    },
    {
      "cell_type": "markdown",
      "metadata": {
        "id": "GaBWYSZNrYh5"
      },
      "source": [
        "Полный обзор индексации представлен в [руководстве пользователя по индексированию и выбору данных](https://pandas.pydata.org/pandas-docs/stable/user_guide/indexing.html#indexing)."
      ]
    },
    {
      "cell_type": "markdown",
      "metadata": {
        "id": "FRrHtrwtrYh5"
      },
      "source": [
        "<a href=\"https://t.me/init_python\"><img src=\"https://dfedorov.spb.ru/pandas/logo-telegram.png\" width=\"35\" height=\"35\" alt=\"telegram\" align=\"left\"></a>"
      ]
    },
    {
      "cell_type": "code",
      "execution_count": null,
      "metadata": {
        "id": "1JtCypZIrYh5"
      },
      "outputs": [],
      "source": []
    }
  ],
  "metadata": {
    "kernelspec": {
      "display_name": "Python 3",
      "language": "python",
      "name": "python3"
    },
    "language_info": {
      "codemirror_mode": {
        "name": "ipython",
        "version": 3
      },
      "file_extension": ".py",
      "mimetype": "text/x-python",
      "name": "python",
      "nbconvert_exporter": "python",
      "pygments_lexer": "ipython3",
      "version": "3.8.2"
    },
    "colab": {
      "provenance": []
    }
  },
  "nbformat": 4,
  "nbformat_minor": 0
}