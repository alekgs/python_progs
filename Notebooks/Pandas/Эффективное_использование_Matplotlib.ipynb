{
  "cells": [
    {
      "cell_type": "markdown",
      "metadata": {
        "id": "PEx46CPbr412"
      },
      "source": [
        "# Эффективное использование Matplotlib\n",
        "\n",
        "<a href=\"https://t.me/init_python\"><img src=\"https://dfedorov.spb.ru/pandas/logo-telegram.png\" width=\"35\" height=\"35\" alt=\"telegram\" align=\"left\"></a>"
      ]
    },
    {
      "cell_type": "markdown",
      "metadata": {
        "id": "HCyd-QZMr41-"
      },
      "source": [
        "<a href=\"https://colab.research.google.com/github/dm-fedorov/pandas_basic/blob/master/быстрое%20введение%20в%20pandas/Эффективное%20использование%20Matplotlib.ipynb\"><img align=\"left\" src=\"https://colab.research.google.com/assets/colab-badge.svg\" alt=\"Open in Colab\" title=\"Open and Execute in Google Colaboratory\" target=\"_blank\"></a>"
      ]
    },
    {
      "cell_type": "markdown",
      "metadata": {
        "id": "OVYhKvKSr42A"
      },
      "source": [
        "# Введение\n",
        "\n",
        "Мир визуализации *Python* может разочаровать нового пользователя. Есть много разных вариантов, и выбрать подходящий - непростая задача. \n",
        "\n",
        "В этой статье будет показано, как я использую *matplotlib*, и предоставлены некоторые рекомендации для начинающих пользователей. Я твердо верю, что *matplotlib* является неотъемлемой частью стека науки о данных *Python*, и надеюсь, что эта статья поможет людям понять, как использовать его для собственных визуализаций.\n",
        "\n",
        "> Оригинал статьи Криса [тут](https://pbpython.com/effective-matplotlib.html)"
      ]
    },
    {
      "cell_type": "markdown",
      "metadata": {
        "id": "j8F44sDGr42C"
      },
      "source": [
        "## Откуда негатив по отношению к matplotlib?\n",
        "\n",
        "На мой взгляд, есть несколько причин, по которым сложно изучить *matplotlib*.\n",
        "\n",
        "Во-первых, у *matplotlib* два интерфейса. Первый основан на *MATLAB* и использует интерфейс на основе состояний. Второй вариант - это *объектно-ориентированный интерфейс*. Причины этого выходят за рамки публикации, но знание того, что есть два подхода, жизненно важно при построении графика с помощью *matplotlib*.\n",
        "\n",
        "Причина, по которой два интерфейса вызывают путаницу, заключается в том, что в мире *stack overflow* и информации, доступной через гугл, новые пользователи находят несколько похожих решений. \n",
        "\n",
        "Могу сказать из собственного опыта: оглядываясь назад на часть моего старого кода, существует мешанина из кода *matplotlib*, которая сбивает с толку (даже если я сам ее написал).\n",
        "\n",
        "> Новые пользователи *matplotlib* должны изучить и использовать объектно-ориентированный интерфейс.\n",
        "\n",
        "Еще одна историческая проблема с *matplotlib* заключается в том, что некоторые стили по умолчанию были довольно непривлекательными. В мире, где *R* мог генерировать несколько действительно крутых графиков с помощью *ggplot*, параметры *matplotlib* выглядели бледно. Хорошая новость заключается в том, что *matplotlib 3.3* имеет гораздо более [приятные возможности](https://matplotlib.org/gallery/index.html).\n",
        "\n",
        "Третья проблема, которую я вижу, заключается в том, что существует путаница относительно того, когда вы должны использовать чистый *matplotlib*, по сравнению с такими инструментами, как *pandas* или *seaborn*, которые построены поверх *matplotlib*. \n",
        "\n",
        "## Зачем использовать matplotlib?\n",
        "\n",
        "Несмотря на некоторые из этих проблем *matplotlib* чрезвычайно мощный инструмент. Библиотека позволяет создавать практически любую визуализацию, которую вы только можете себе представить. Кроме того, вокруг нее построена обширная экосистема инструментов *Python*, и многие из более продвинутых инструментов визуализации используют *matplotlib* в качестве базовой библиотеки. Если вы работаете в стеке науки о данных *Python*, вам необходимо получить базовые знания о том, как использовать *matplotlib*. \n",
        "\n",
        "## Основные предпосылки\n",
        "\n",
        "Рекомендую следующие шаги для изучения того, как использовать *matplotlib*:\n",
        "\n",
        "1. Изучите основную терминологию *matplotlib*, в частности, что такое `Figure` (фигура) и `Axes` (оси).\n",
        "2. Всегда используйте объектно-ориентированный интерфейс. Возьмите за привычку использовать его с самого начала анализа.\n",
        "3. Начните свои визуализации с простых графиков (*plotting*) в *pandas*.\n",
        "4. Используйте *seaborn* для более сложных статистических визуализаций.\n",
        "5. Используйте *matplotlib* для настройки визуализации *pandas* или *seaborn*.\n",
        "\n",
        "Следующий рисунок из [часто задаваемых вопросов о *matplotlib*](https://matplotlib.org/faq/usage_faq.html) - золотой. Держите его под рукой, чтобы понимать  терминологию графика (*plot*).\n",
        "\n",
        "![](https://github.com/dm-fedorov/pandas_basic/blob/master/pic/matplotlib-anatomy.png?raw=True)"
      ]
    },
    {
      "cell_type": "markdown",
      "metadata": {
        "id": "8fryqlvcr42F"
      },
      "source": [
        "Большинство терминов просты, но главное помнить, что `Figure` - это окончательное изображение, которое может содержать `1` или более *осей* (*axes*). \n",
        "\n",
        "`Axes` (оси) представляют собой отдельный график (*plot*). Как только вы поймете, что это такое и как получить к ним доступ через *объектно-ориентированный API*, остальная часть процесса станет на свои места.\n",
        "\n",
        "Другое преимущество этих знаний состоит в том, что у вас есть отправная точка, когда вы встречаете код в сети. \n",
        "\n",
        "Наконец, я не говорю, что вам следует избегать других хороших вариантов, таких как `ggplot` (aka `ggpy`), `bokeh`, `plotly` или `altair`. Я просто думаю, что для начала вам понадобится базовое понимание `matplotlib + pandas + seaborn`. Поняв базовый стек визуализации, вы сможете изучить другие варианты и сделать осознанный выбор в зависимости от ваших потребностей."
      ]
    },
    {
      "cell_type": "markdown",
      "metadata": {
        "id": "2zWlgflUr42J"
      },
      "source": [
        "## Начнем\n",
        "\n",
        "Остальная часть этого поста является руководством по созданию базовой визуализации в *pandas* и настройке наиболее распространенных элементов с помощью *matplotlib*. \n",
        "\n",
        "Я сосредоточился на наиболее распространенных задачах построения графиков, с которыми я сталкиваюсь, таких как маркировка осей (*labeling axes*), настройка пределов (*limits*), обновление заголовков графиков (*plot titles*), сохранение фигур (*figures*) и корректировка легенд (*legends*). \n",
        "\n",
        "Для начала я собираюсь настроить импорт и прочитать данные о продажах:"
      ]
    },
    {
      "cell_type": "code",
      "execution_count": null,
      "metadata": {
        "id": "fVbqVLUtr42L"
      },
      "outputs": [],
      "source": [
        "import pandas as pd\n",
        "import matplotlib.pyplot as plt\n",
        "from matplotlib.ticker import FuncFormatter\n",
        "\n",
        "%matplotlib inline"
      ]
    },
    {
      "cell_type": "code",
      "execution_count": null,
      "metadata": {
        "id": "5WMXGOmdr42M"
      },
      "outputs": [],
      "source": [
        "df = pd.read_excel(\"https://github.com/chris1610/pbpython/blob/master/data/sample-salesv3.xlsx?raw=true\")\n",
        "df.head()"
      ]
    },
    {
      "cell_type": "markdown",
      "metadata": {
        "id": "xDba-Frcr42O"
      },
      "source": [
        "Данные состоят из транзакций продаж за `2014` год. \n",
        "\n",
        "Чтобы сделать этот пост немного короче, я собираюсь обобщить данные, чтобы мы могли увидеть общее количество покупок и общие продажи для `10` крупнейших клиентов. \n",
        "\n",
        "Я также собираюсь переименовать столбцы для наглядности при построении графиков."
      ]
    },
    {
      "cell_type": "code",
      "execution_count": null,
      "metadata": {
        "id": "9t1kGwd0r42Q"
      },
      "outputs": [],
      "source": [
        "top_10 = (df.groupby('name')[['ext price', 'quantity']].agg({'ext price': 'sum', 'quantity': 'count'})\n",
        "          .sort_values(by='ext price', ascending=False))[:10].reset_index()"
      ]
    },
    {
      "cell_type": "code",
      "execution_count": null,
      "metadata": {
        "id": "d_RZ_zpDr42Q"
      },
      "outputs": [],
      "source": [
        "top_10.rename(columns={'name':'Name', \n",
        "                       'ext price':'Sales', \n",
        "                       'quantity':'Purchases'}, \n",
        "              inplace=True)"
      ]
    },
    {
      "cell_type": "markdown",
      "metadata": {
        "id": "Fdir065Cr42R"
      },
      "source": [
        "Вот как выглядят данные:"
      ]
    },
    {
      "cell_type": "code",
      "execution_count": null,
      "metadata": {
        "id": "BqJbd32jr42S"
      },
      "outputs": [],
      "source": [
        "top_10"
      ]
    },
    {
      "cell_type": "markdown",
      "metadata": {
        "id": "bsopXeQZr42S"
      },
      "source": [
        "Теперь, когда данные отформатированы в виде простой таблицы, давайте поговорим о представлении этих результатов в виде гистограммы (*bar chart*).\n",
        "\n",
        "Как я упоминал ранее, у *matplotlib* есть много разных стилей, доступных для отображения графиков (*plots*). Вы можете увидеть, какие из них доступны в вашей системе, используя `plt.style.available`:"
      ]
    },
    {
      "cell_type": "code",
      "execution_count": null,
      "metadata": {
        "id": "J4sZub2Qr42T"
      },
      "outputs": [],
      "source": [
        "plt.style.available"
      ]
    },
    {
      "cell_type": "markdown",
      "metadata": {
        "id": "DMcagZU5r42U"
      },
      "source": [
        "Использовать стиль просто:"
      ]
    },
    {
      "cell_type": "code",
      "execution_count": null,
      "metadata": {
        "id": "MA1a6mpcr42U"
      },
      "outputs": [],
      "source": [
        "plt.style.use('ggplot')"
      ]
    },
    {
      "cell_type": "markdown",
      "metadata": {
        "id": "wth49mWHr42V"
      },
      "source": [
        "Призываю вас поиграть с разными стилями и посмотреть, какие из них вам понравятся. \n",
        "\n",
        "Теперь, когда у нас есть более красивый стиль, первым делом нужно построить график данных с помощью стандартной функции построения (*plotting*) в *pandas*:"
      ]
    },
    {
      "cell_type": "code",
      "execution_count": null,
      "metadata": {
        "id": "4rWqgQBir42V"
      },
      "outputs": [],
      "source": [
        "top_10.plot(kind='barh', y=\"Sales\", x=\"Name\")"
      ]
    },
    {
      "cell_type": "markdown",
      "metadata": {
        "id": "1qWIfyher42W"
      },
      "source": [
        "Причина, по которой я рекомендую в первую очередь использовать построение (*plotting*) в *pandas*, заключается в том, что это быстрый и простой способ прототипирования визуализации. \n",
        "\n",
        "## Настройка графика\n",
        "\n",
        "Предполагая, что вы понимаете суть графика, следующим шагом будет его настройка. \n",
        "\n",
        "Некоторые настройки (например, добавление заголовков и меток) очень просты в функции *plot*. Однако в какой-то момент вам, вероятно, придется выйти за рамки этой функциональности. \n",
        "\n",
        "Вот почему я рекомендую выработать привычку делать следующее:"
      ]
    },
    {
      "cell_type": "code",
      "execution_count": null,
      "metadata": {
        "id": "EBOGPt51r42W"
      },
      "outputs": [],
      "source": [
        "fig, ax = plt.subplots()\n",
        "top_10.plot(kind='barh', y=\"Sales\", x=\"Name\", ax=ax)"
      ]
    },
    {
      "cell_type": "markdown",
      "metadata": {
        "id": "xOTI9owQr42X"
      },
      "source": [
        "Результирующий график выглядит точно так же, как и оригинальный, но мы добавили дополнительный вызов `plt.subplots()` и передали `ax` функции построения графика. \n",
        "\n",
        "Зачем это делать? Помните, я сказал, что очень важно получить доступ к *осям* (*axes*) и *фигурам* (*figures*) в *matplotlib*? Вот чего мы здесь добились. Любая дальнейшая настройка будет выполняться с помощью объектов `ax` или `fig`.\n",
        "\n",
        "Теперь у нас есть преимущества графиков *pandas* и доступ ко всей мощи *matplotlib*. \n",
        "\n",
        "Предположим, мы хотим настроить пределы `x` и изменить метки некоторых осей? Теперь, когда у нас есть оси в переменной `ax`, появилось множество возможностей для управления:"
      ]
    },
    {
      "cell_type": "code",
      "execution_count": null,
      "metadata": {
        "id": "T6wx5YRRr42Y"
      },
      "outputs": [],
      "source": [
        "fig, ax = plt.subplots()\n",
        "top_10.plot(kind='barh', y=\"Sales\", x=\"Name\", ax=ax)\n",
        "ax.set_xlim([-10000, 140000])\n",
        "ax.set_xlabel('Total Revenue')\n",
        "ax.set_ylabel('Customer');"
      ]
    },
    {
      "cell_type": "markdown",
      "metadata": {
        "id": "kTLq8APRr42Y"
      },
      "source": [
        "Вот еще один прием, который мы можем использовать для изменения заголовка и обеих меток:"
      ]
    },
    {
      "cell_type": "code",
      "execution_count": null,
      "metadata": {
        "id": "I7cX-Or3r42Z"
      },
      "outputs": [],
      "source": [
        "fig, ax = plt.subplots()\n",
        "top_10.plot(kind='barh', y=\"Sales\", x=\"Name\", ax=ax)\n",
        "ax.set_xlim([-10000, 140000])\n",
        "ax.set(title='2014 Revenue', xlabel='Total Revenue', ylabel='Customer')"
      ]
    },
    {
      "cell_type": "markdown",
      "metadata": {
        "id": "OVFUEkV-r42Z"
      },
      "source": [
        "Далее можем настроить размер изображения. \n",
        "\n",
        "Используя функцию `plt.subplots()`, можем определить `figsize` (размер файла) в дюймах, а также удалить легенду с помощью `ax.legend().set_visible(False)`:"
      ]
    },
    {
      "cell_type": "code",
      "execution_count": null,
      "metadata": {
        "id": "ROj8591pr42a"
      },
      "outputs": [],
      "source": [
        "fig, ax = plt.subplots(figsize=(5, 6))\n",
        "top_10.plot(kind='barh', y=\"Sales\", x=\"Name\", ax=ax)\n",
        "ax.set_xlim([-10000, 140000])\n",
        "ax.set(title='2014 Revenue', xlabel='Total Revenue')\n",
        "ax.legend().set_visible(False)"
      ]
    },
    {
      "cell_type": "markdown",
      "metadata": {
        "id": "JbmuxgObr42a"
      },
      "source": [
        "Есть много вещей, которые вы, вероятно, захотите сделать, чтобы очистить этот график. Одна из самых больших неприятностей - это форматирование чисел в `Total Revenue` (общего дохода). \n",
        "\n",
        "*Matplotlib* может помочь нам в этом с помощью `FuncFormatter`. Эта универсальная функция позволяет применять пользовательскую функцию к значению и возвращать красиво отформатированную строку для размещения на оси.\n",
        "\n",
        "Вот функция форматирования валюты для корректной обработки долларов США в диапазоне нескольких сотен тысяч:"
      ]
    },
    {
      "cell_type": "code",
      "execution_count": null,
      "metadata": {
        "id": "4th7oirir42a"
      },
      "outputs": [],
      "source": [
        "def currency(x, pos):\n",
        "    'Два аргумента - это значение и позиция отметки.'\n",
        "    if x >= 1000000:\n",
        "        return '${:1.1f}M'.format(x*1e-6)\n",
        "    return '${:1.0f}K'.format(x*1e-3)"
      ]
    },
    {
      "cell_type": "markdown",
      "metadata": {
        "id": "mYDv2AdYr42b"
      },
      "source": [
        "Теперь, когда у нас есть функция форматирования, нужно определить ее и применить к оси `x`. \n",
        "\n",
        "Вот полный код:"
      ]
    },
    {
      "cell_type": "code",
      "execution_count": null,
      "metadata": {
        "id": "Dk5N1ACPr42b"
      },
      "outputs": [],
      "source": [
        "fig, ax = plt.subplots()\n",
        "top_10.plot(kind='barh', y=\"Sales\", x=\"Name\", ax=ax)\n",
        "ax.set_xlim([-10000, 140000])\n",
        "ax.set(title='2014 Revenue', xlabel='Total Revenue', ylabel='Customer')\n",
        "formatter = FuncFormatter(currency)\n",
        "ax.xaxis.set_major_formatter(formatter)\n",
        "ax.legend().set_visible(False)"
      ]
    },
    {
      "cell_type": "markdown",
      "metadata": {
        "id": "gRGp-glor42b"
      },
      "source": [
        "Это намного приятнее и демонстрирует хороший пример гибкости, позволяющей найти собственное решение проблемы.\n",
        "\n",
        "Последняя функция настройки, которую я рассмотрю, - это возможность добавлять *аннотации* к графику. Чтобы нарисовать вертикальную линию, можно использовать `ax.axvline()`, а для добавления собственного текста - `ax.text()`.\n",
        "\n",
        "В этом примере мы нарисуем линию, показывающую среднее значение, и добавим метки, показывающие трех новых клиентов. \n",
        "\n",
        "Вот полный код с комментариями, чтобы собрать все воедино:"
      ]
    },
    {
      "cell_type": "code",
      "execution_count": null,
      "metadata": {
        "id": "z_lupTqzr42c"
      },
      "outputs": [],
      "source": [
        "# Создаем новую фигуру и оси\n",
        "fig, ax = plt.subplots()\n",
        "\n",
        "# График данных и усредненное значение\n",
        "top_10.plot(kind='barh', y=\"Sales\", x=\"Name\", ax=ax)\n",
        "avg = top_10['Sales'].mean()\n",
        "\n",
        "# Устанавливаем ограничения и метки\n",
        "ax.set_xlim([-10000, 140000])\n",
        "ax.set(title='2014 Revenue', xlabel='Total Revenue', ylabel='Customer')\n",
        "\n",
        "# Добавляем линию для среднего\n",
        "ax.axvline(x=avg, color='b', label='Average', linestyle='--', linewidth=1)\n",
        "\n",
        "# Указываем новых покупателей\n",
        "for cust in [3, 5, 8]:\n",
        "    ax.text(115000, cust, \"New Customer\")\n",
        "\n",
        "# Формат валюты\n",
        "formatter = FuncFormatter(currency)\n",
        "ax.xaxis.set_major_formatter(formatter)\n",
        "\n",
        "# Скрываем легенду\n",
        "ax.legend().set_visible(False)"
      ]
    },
    {
      "cell_type": "markdown",
      "metadata": {
        "id": "7z6aoZrCr42c"
      },
      "source": [
        "Хотя это не самый захватывающий график, он все же показывает, сколько у вас возможностей.\n",
        "\n",
        "## Фигуры и графики (Figures and Plots)\n",
        "\n",
        "До сих пор все изменения, которые мы вносили, касались отдельного графика. К счастью, у нас есть возможность добавить несколько графиков к фигуре, а также сохранить фигуру целиком, используя различные параметры.\n",
        "\n",
        "Если мы хотим нанести два графика на одну и ту же фигуру, то должно быть понимание того, как это сделать. \n",
        "\n",
        "Сначала создайте фигуру, потом оси, а затем нанесите все вместе. \n",
        "\n",
        "Можем сделать это с помощью `plt.subplots()`:"
      ]
    },
    {
      "cell_type": "code",
      "execution_count": null,
      "metadata": {
        "id": "hN0BW8P5r42c"
      },
      "outputs": [],
      "source": [
        "fig, (ax0, ax1) = plt.subplots(nrows=1, ncols=2, sharey=True, figsize=(7, 4))"
      ]
    },
    {
      "cell_type": "markdown",
      "metadata": {
        "id": "YVIEHQbTr42d"
      },
      "source": [
        "В этом примере я использую `nrows` и `ncols`, чтобы указать размер, потому что это понятно новому пользователю. \n",
        "\n",
        "В коде вы часто будете встречать значения, типа `1,2`. Я думаю, что использование именованных параметров будет легче интерпретировать позже, когда вы вернетесь к своему коду.\n",
        "\n",
        "Я также использую `sharey=True`, чтобы оси `y` использовали одни и те же метки.\n",
        "\n",
        "Этот пример довольно изящный, потому что различные оси распаковываются в `ax0` и `ax1`. \n",
        "\n",
        "Теперь, когда у нас есть эти оси, вы можете построить их, как в приведенных выше примерах, но поместите один график на `ax0`, а другой на `ax1`."
      ]
    },
    {
      "cell_type": "code",
      "execution_count": null,
      "metadata": {
        "id": "rMPWSO9jr42d"
      },
      "outputs": [],
      "source": [
        "# Получаем фигуру и оси\n",
        "fig, (ax0, ax1) = plt.subplots(nrows=1,ncols=2, sharey=True, figsize=(7, 4))\n",
        "top_10.plot(kind='barh', y=\"Sales\", x=\"Name\", ax=ax0)\n",
        "\n",
        "ax0.set_xlim([-10000, 140000])\n",
        "ax0.set(title='Revenue', xlabel='Total Revenue', ylabel='Customers')\n",
        "\n",
        "# Рисуем среднее, как вертикальную линию\n",
        "avg = top_10['Sales'].mean()\n",
        "ax0.axvline(x=avg, color='b', label='Average', linestyle='--', linewidth=1)\n",
        "\n",
        "# Повторите для отдельного графика\n",
        "top_10.plot(kind='barh', y=\"Purchases\", x=\"Name\", ax=ax1)\n",
        "avg = top_10['Purchases'].mean()\n",
        "\n",
        "ax1.set(title='Units', xlabel='Total Units', ylabel='')\n",
        "ax1.axvline(x=avg, color='b', label='Average', linestyle='--', linewidth=1)\n",
        "\n",
        "# Заголовок фигуры\n",
        "fig.suptitle('2014 Sales Analysis', fontsize=14, fontweight='bold');\n",
        "\n",
        "# Скрываем легенды\n",
        "ax1.legend().set_visible(False)\n",
        "ax0.legend().set_visible(False)"
      ]
    },
    {
      "cell_type": "markdown",
      "metadata": {
        "id": "qMys_woAr42d"
      },
      "source": [
        "До сих пор я полагался на *jupyter блокнот* для отображения с помощью встроенной директивы `%matplotlib inline`. \n",
        "\n",
        "Тем не менее, будет много случаев, когда вам понадобится сохранить фигуру в определенном формате и интегрировать ее с какой-либо другой презентацией.\n",
        "\n",
        "*Matplotlib* поддерживает множество различных форматов для сохранения файлов. Вы можете использовать `fig.canvas.get_supported_filetypes()`, чтобы узнать, что поддерживает ваша система:"
      ]
    },
    {
      "cell_type": "code",
      "execution_count": null,
      "metadata": {
        "id": "Zxi_hnr9r42e"
      },
      "outputs": [],
      "source": [
        "fig.canvas.get_supported_filetypes()"
      ]
    },
    {
      "cell_type": "markdown",
      "metadata": {
        "id": "W-YXQe2Sr42e"
      },
      "source": [
        "Поскольку у нас есть объект `fig`, мы можем сохранить фигуру, используя несколько вариантов:"
      ]
    },
    {
      "cell_type": "code",
      "execution_count": null,
      "metadata": {
        "id": "zCOILZm5r42e"
      },
      "outputs": [],
      "source": [
        "fig.savefig('sales.png', transparent=False, dpi=80, bbox_inches=\"tight\")"
      ]
    },
    {
      "cell_type": "markdown",
      "metadata": {
        "id": "lBnvBChFr42f"
      },
      "source": [
        "Эта версия сохраняет график в формате `png` с непрозрачным фоном. Я также указал `dpi` и `bbox_inches=\"tight\"`, чтобы убрать пустое пространство.\n",
        "\n",
        "## Заключение\n",
        "\n",
        "Надеюсь, этот процесс помог вам понять, как более эффективно использовать *matplotlib* в ежедневном анализе данных. Если вы привыкнете использовать этот подход при проведении анализа, вы сможете быстро узнать, как сделать все, что вам нужно, чтобы настроить график.\n",
        "\n",
        "В качестве последнего бонуса я добавляю краткое руководство по унификации всех концепций. Я надеюсь, что это поможет объединить этот пост и окажется полезным справочником для будущего использования.\n",
        "\n",
        "![](https://github.com/dm-fedorov/pandas_basic/blob/master/pic/matplotlib-pbpython-example.png?raw=True)"
      ]
    },
    {
      "cell_type": "markdown",
      "metadata": {
        "id": "fZoHOdPkr42f"
      },
      "source": [
        "<a href=\"https://t.me/init_python\"><img src=\"https://dfedorov.spb.ru/pandas/logo-telegram.png\" width=\"35\" height=\"35\" alt=\"telegram\" align=\"left\"></a>"
      ]
    },
    {
      "cell_type": "code",
      "execution_count": null,
      "metadata": {
        "id": "XlRzEJRur42f"
      },
      "outputs": [],
      "source": []
    }
  ],
  "metadata": {
    "kernelspec": {
      "display_name": "Python 3",
      "language": "python",
      "name": "python3"
    },
    "language_info": {
      "codemirror_mode": {
        "name": "ipython",
        "version": 3
      },
      "file_extension": ".py",
      "mimetype": "text/x-python",
      "name": "python",
      "nbconvert_exporter": "python",
      "pygments_lexer": "ipython3",
      "version": "3.8.3"
    },
    "colab": {
      "provenance": []
    }
  },
  "nbformat": 4,
  "nbformat_minor": 0
}