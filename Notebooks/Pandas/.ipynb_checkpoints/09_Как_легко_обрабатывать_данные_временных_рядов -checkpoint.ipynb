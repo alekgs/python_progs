{
 "cells": [
  {
   "cell_type": "markdown",
   "metadata": {
    "id": "wqFEIhBbrav4"
   },
   "source": [
    "<a href=\"https://colab.research.google.com/github/dm-fedorov/pandas_basic/blob/master/%D0%B1%D1%8B%D1%81%D1%82%D1%80%D0%BE%D0%B5%20%D0%B2%D0%B2%D0%B5%D0%B4%D0%B5%D0%BD%D0%B8%D0%B5%20%D0%B2%20pandas/09.%20%D0%9A%D0%B0%D0%BA%20%D0%BB%D0%B5%D0%B3%D0%BA%D0%BE%20%D0%BE%D0%B1%D1%80%D0%B0%D0%B1%D0%B0%D1%82%D1%8B%D0%B2%D0%B0%D1%82%D1%8C%20%D0%B4%D0%B0%D0%BD%D0%BD%D1%8B%D0%B5%20%D0%B2%D1%80%D0%B5%D0%BC%D0%B5%D0%BD%D0%BD%D1%8B%D1%85%20%D1%80%D1%8F%D0%B4%D0%BE%D0%B2%3F.ipynb\" target=\"_blank\"><img align=\"left\" src=\"https://colab.research.google.com/assets/colab-badge.svg\" alt=\"Open in Colab\" title=\"Open and Execute in Google Colaboratory\"></a>"
   ]
  },
  {
   "cell_type": "markdown",
   "metadata": {
    "id": "s4gt431Hrav8"
   },
   "source": [
    "<a href=\"https://t.me/init_python\"><img src=\"https://dfedorov.spb.ru/pandas/logo-telegram.png\" width=\"35\" height=\"35\" alt=\"telegram\" align=\"left\"></a>"
   ]
  },
  {
   "cell_type": "code",
   "execution_count": null,
   "metadata": {
    "id": "n2lQd_Ohrav9"
   },
   "outputs": [],
   "source": [
    "import pandas as pd\n",
    "import matplotlib.pyplot as plt"
   ]
  },
  {
   "cell_type": "markdown",
   "metadata": {
    "id": "T-hJiCMUrav-"
   },
   "source": [
    "Для этого урока используется набор данных `air_quality_no2_long.csv`."
   ]
  },
  {
   "cell_type": "code",
   "execution_count": null,
   "metadata": {
    "id": "jLFOWkNjrav-"
   },
   "outputs": [],
   "source": [
    "url = \"https://raw.githubusercontent.com/dm-fedorov/pandas_basic/master/%D0%B1%D1%8B%D1%81%D1%82%D1%80%D0%BE%D0%B5%20%D0%B2%D0%B2%D0%B5%D0%B4%D0%B5%D0%BD%D0%B8%D0%B5%20%D0%B2%20pandas/data/air_quality_no2_long.csv\""
   ]
  },
  {
   "cell_type": "code",
   "execution_count": null,
   "metadata": {
    "id": "1ucu96B1rav_"
   },
   "outputs": [],
   "source": [
    "air_quality = pd.read_csv(url)"
   ]
  },
  {
   "cell_type": "code",
   "execution_count": null,
   "metadata": {
    "id": "wFrHnsrcrav_"
   },
   "outputs": [],
   "source": [
    "air_quality = air_quality.rename(columns={\"date.utc\": \"datetime\"})"
   ]
  },
  {
   "cell_type": "code",
   "execution_count": null,
   "metadata": {
    "id": "BpOca3i8rawA"
   },
   "outputs": [],
   "source": [
    "air_quality.head()"
   ]
  },
  {
   "cell_type": "code",
   "execution_count": null,
   "metadata": {
    "id": "o1Ff0WsNrawB"
   },
   "outputs": [],
   "source": [
    "air_quality.city.unique()"
   ]
  },
  {
   "cell_type": "markdown",
   "metadata": {
    "id": "oDVaLr1MrawC"
   },
   "source": [
    "### Использование свойств даты и времени "
   ]
  },
  {
   "cell_type": "markdown",
   "metadata": {
    "id": "x6js0J7WrawD"
   },
   "source": [
    "Я хочу работать с датами в столбце `datetime` как объектами даты и времени вместо простого текста:"
   ]
  },
  {
   "cell_type": "code",
   "execution_count": null,
   "metadata": {
    "id": "BBieRqrnrawE"
   },
   "outputs": [],
   "source": [
    "air_quality[\"datetime\"] = pd.to_datetime(air_quality[\"datetime\"])"
   ]
  },
  {
   "cell_type": "code",
   "execution_count": null,
   "metadata": {
    "id": "aDcUoEjarawE"
   },
   "outputs": [],
   "source": [
    "air_quality[\"datetime\"]"
   ]
  },
  {
   "cell_type": "markdown",
   "metadata": {
    "id": "E-B4TEOarawF"
   },
   "source": [
    "Первоначально значения в `datetime` являются символьными строками и не предоставляют никаких операций даты и времени (например, извлечение года, дня недели и т.д.). Применяя функцию [`to_datetime`](https://pandas.pydata.org/pandas-docs/stable/reference/api/pandas.to_datetime.html), pandas интерпретирует строки и преобразует их в объекты `datetime` (т.е. `datetime64[ns, UTC]`). В `pandas` мы называем эти объекты аналогично стандартной библиотеке [`datetime.datetime pandas.Timestamp`](https://pandas.pydata.org/pandas-docs/stable/reference/api/pandas.Timestamp.html#pandas.Timestamp)."
   ]
  },
  {
   "cell_type": "markdown",
   "metadata": {
    "id": "7GjNDXudrawG"
   },
   "source": [
    "Поскольку многие наборы данных содержат информацию в формате `datetime` в одном из столбцов, функции [`pandas.read_csv()`](https://pandas.pydata.org/pandas-docs/stable/reference/api/pandas.read_csv.html#pandas.read_csv) и [`pandas.read_json()`](https://pandas.pydata.org/pandas-docs/stable/reference/api/pandas.read_json.html#pandas.read_json) могут выполнить преобразование к датам в момент чтения данных через использование параметра `parse_dates`:\n",
    "\n",
    "```Python\n",
    "pd.read_csv(\"../data/air_quality_no2_long.csv\", parse_dates=[\"datetime\"])\n",
    "```"
   ]
  },
  {
   "cell_type": "markdown",
   "metadata": {
    "id": "17oHQRBfrawI"
   },
   "source": [
    "Какая польза от объектов [`pandas.Timestamp`](https://pandas.pydata.org/pandas-docs/stable/reference/api/pandas.Timestamp.html#pandas.Timestamp)?\n",
    "\n",
    "С какой даты начинается и оканчивается набор данных?"
   ]
  },
  {
   "cell_type": "code",
   "execution_count": null,
   "metadata": {
    "id": "DwfdYpSDrawJ"
   },
   "outputs": [],
   "source": [
    "air_quality[\"datetime\"].min(), air_quality[\"datetime\"].max()"
   ]
  },
  {
   "cell_type": "markdown",
   "metadata": {
    "id": "0GLhZ7hsrawL"
   },
   "source": [
    "Использование [`pandas.Timestamp`](https://pandas.pydata.org/pandas-docs/stable/reference/api/pandas.Timestamp.html#pandas.Timestamp) для `datetime` позволяет нам производить расчеты с информацией о дате. Следовательно, мы можем использовать этот тип данных, чтобы получить длину временного ряда:"
   ]
  },
  {
   "cell_type": "code",
   "execution_count": null,
   "metadata": {
    "id": "HV_7B4AcrawM"
   },
   "outputs": [],
   "source": [
    "air_quality[\"datetime\"].max() - air_quality[\"datetime\"].min()"
   ]
  },
  {
   "cell_type": "markdown",
   "metadata": {
    "id": "aVzPrIpnrawN"
   },
   "source": [
    "В результате получается объект [`pandas.Timedelta`](https://pandas.pydata.org/pandas-docs/stable/reference/api/pandas.Timestamp.html#pandas.Timestamp), аналогичный `datetime.timedelta` в стандартной библиотеке Python и определяющий продолжительность времени."
   ]
  },
  {
   "cell_type": "markdown",
   "metadata": {
    "id": "G8kf2mBMrawN"
   },
   "source": [
    "Различные концепции времени, поддерживаемые `pandas`, объясняются в разделе [руководства пользователя о концепциях, связанных со временем](https://pandas.pydata.org/pandas-docs/stable/user_guide/timeseries.html#timeseries-overview)."
   ]
  },
  {
   "cell_type": "markdown",
   "metadata": {
    "id": "yu9LFcwmrawO"
   },
   "source": [
    "Я хочу добавить новый столбец, содержащий только месяц измерения:"
   ]
  },
  {
   "cell_type": "code",
   "execution_count": null,
   "metadata": {
    "id": "aldtrMqlrawO"
   },
   "outputs": [],
   "source": [
    "air_quality[\"month\"] = air_quality[\"datetime\"].dt.month"
   ]
  },
  {
   "cell_type": "code",
   "execution_count": null,
   "metadata": {
    "id": "2FiZl1nDrawP"
   },
   "outputs": [],
   "source": [
    "air_quality.head()"
   ]
  },
  {
   "cell_type": "markdown",
   "metadata": {
    "id": "xKo9ak5MrawQ"
   },
   "source": [
    "Используя объекты `Timestamp`, появляются многие связанные со временем свойства. Например `month`, `year`, `weekofyear`, `quarter`... Все эти свойства доступны по [аксессору `dt`](https://pandas.pydata.org/pandas-docs/stable/reference/api/pandas.Series.dt.html)."
   ]
  },
  {
   "cell_type": "markdown",
   "metadata": {
    "id": "SPiN-8ZBrawQ"
   },
   "source": [
    "Обзор существующих свойств даты приведен в [таблице](https://pandas.pydata.org/pandas-docs/stable/user_guide/timeseries.html#timeseries-components). "
   ]
  },
  {
   "cell_type": "markdown",
   "metadata": {
    "id": "LQPbQU_IrawQ"
   },
   "source": [
    "Какая средняя концентрация $NO_2$ для каждого дня недели и для каждого места измерения?"
   ]
  },
  {
   "cell_type": "code",
   "execution_count": null,
   "metadata": {
    "id": "INZgKBD3rawR"
   },
   "outputs": [],
   "source": [
    "air_quality.groupby([air_quality[\"datetime\"].dt.weekday, \"location\"])[\"value\"].mean()"
   ]
  },
  {
   "cell_type": "markdown",
   "metadata": {
    "id": "-HtXPP1QrawR"
   },
   "source": [
    "Здесь мы хотим вычислить статистику для каждого дня недели и для каждого места измерения. Для группировки по рабочим дням мы используем свойство `weekday` (с `Monday=0` и `Sunday=6`) для `Timestamp`, которое также доступно через `dt`. Группировка по местоположениям и по дням недели выполняется, чтобы разделить вычисление среднего значения для каждой из этих комбинаций."
   ]
  },
  {
   "cell_type": "markdown",
   "metadata": {
    "id": "V08x3fgHrawS"
   },
   "source": [
    "Типичный график для $NO_2$ в течение дня для всех станций. Другими словами, каково среднее значение для каждого часа дня?"
   ]
  },
  {
   "cell_type": "code",
   "execution_count": null,
   "metadata": {
    "id": "UmDxfVpurawS"
   },
   "outputs": [],
   "source": [
    "fig, axs = plt.subplots(figsize=(12, 4))\n",
    "air_quality.groupby(air_quality[\"datetime\"].dt.hour)[\"value\"].mean().plot(kind='bar', rot=0, ax=axs)\n",
    "\n",
    "plt.xlabel(\"Hour of the day\");  # произвольная метка для оси x\n",
    "plt.ylabel(\"$NO_2 (µg/m^3)$\");"
   ]
  },
  {
   "cell_type": "markdown",
   "metadata": {
    "id": "mtwV2OjQrawT"
   },
   "source": [
    "Как и в предыдущем случае, мы хотим вычислить данную статистику (например, среднее $NO_2$) для каждого часа дня, мы снова можем использовать [groupby метод разделения-применения-объединения](https://pandas.pydata.org/pandas-docs/stable/user_guide/groupby.html). "
   ]
  },
  {
   "cell_type": "markdown",
   "metadata": {
    "id": "it1OoCuxrawT"
   },
   "source": [
    "### Datetime как индекс "
   ]
  },
  {
   "cell_type": "markdown",
   "metadata": {
    "id": "brO-3-I2rawU"
   },
   "source": [
    "В блокноте [Как изменить раскладку таблиц](http://dfedorov.spb.ru/pandas/) [`pivot()`](https://pandas.pydata.org/pandas-docs/stable/reference/api/pandas.pivot.html#pandas.pivot) использовался, чтобы изменить таблицу данных с каждым из мест измерения в качестве отдельной колонки:"
   ]
  },
  {
   "cell_type": "code",
   "execution_count": null,
   "metadata": {
    "id": "c2HSCwucrawW"
   },
   "outputs": [],
   "source": [
    "no_2 = air_quality.pivot(index=\"datetime\", columns=\"location\", values=\"value\")"
   ]
  },
  {
   "cell_type": "code",
   "execution_count": null,
   "metadata": {
    "id": "jD8AXfOBrawW"
   },
   "outputs": [],
   "source": [
    "no_2.head()"
   ]
  },
  {
   "cell_type": "markdown",
   "metadata": {
    "id": "fvGj7BYgrawW"
   },
   "source": [
    "Поворачивая данные, информация о дате и времени стала индексом таблицы. Установка столбца в качестве индекса может быть достигнута функцией [`set_index`](https://pandas.pydata.org/pandas-docs/stable/reference/api/pandas.DataFrame.set_index.html)."
   ]
  },
  {
   "cell_type": "markdown",
   "metadata": {
    "id": "saVU-JRBrawX"
   },
   "source": [
    "Работа с индексом `datetime` (т.е. `DatetimeIndex`) обеспечивает мощные возможности. Например, нам не нужен метод `dt` для получения свойств временного ряда, но эти свойства доступны непосредственно в индексе:"
   ]
  },
  {
   "cell_type": "code",
   "execution_count": null,
   "metadata": {
    "id": "QznNDlffrawY"
   },
   "outputs": [],
   "source": [
    "no_2.index.year, no_2.index.weekday"
   ]
  },
  {
   "cell_type": "markdown",
   "metadata": {
    "id": "Y2UoA5kLrawY"
   },
   "source": [
    "Существуют другие преимущества: удобное подмножество периода времени или адаптированный масштаб времени на графиках. Давайте применим это к нашим данным."
   ]
  },
  {
   "cell_type": "markdown",
   "metadata": {
    "id": "yG4ro5GnrawY"
   },
   "source": [
    "Построим график показаний $NO_2$ на разных станциях с 20 мая до конца 21 мая:"
   ]
  },
  {
   "cell_type": "code",
   "execution_count": null,
   "metadata": {
    "id": "bzzis0xorawZ"
   },
   "outputs": [],
   "source": [
    "no_2[\"2019-05-20\":\"2019-05-21\"].plot();"
   ]
  },
  {
   "cell_type": "markdown",
   "metadata": {
    "id": "_acH1CtMrawZ"
   },
   "source": [
    "Предоставляя строку, которая анализирует дату и время, можно выбрать конкретное подмножество данных в `DatetimeIndex`."
   ]
  },
  {
   "cell_type": "markdown",
   "metadata": {
    "id": "7ThIX7rZrawb"
   },
   "source": [
    "Более подробная информация о `DatetimeIndex` приведена в [разделе, посвященном индексированию временных рядов](https://pandas.pydata.org/pandas-docs/stable/user_guide/timeseries.html#timeseries-datetimeindex)."
   ]
  },
  {
   "cell_type": "markdown",
   "metadata": {
    "id": "KmfwSR-7rawb"
   },
   "source": [
    "### Измените временной ряд на другую частоту"
   ]
  },
  {
   "cell_type": "markdown",
   "metadata": {
    "id": "E0-titGHrawc"
   },
   "source": [
    "Объедините текущие значения часовых временных рядов с максимальным месячным значением на каждой из станций с помощью метода [resample](https://pandas.pydata.org/pandas-docs/stable/reference/api/pandas.DataFrame.resample.html)."
   ]
  },
  {
   "cell_type": "code",
   "execution_count": null,
   "metadata": {
    "id": "QPb8vPKHrawc"
   },
   "outputs": [],
   "source": [
    "monthly_max = no_2.resample(\"M\").max()"
   ]
  },
  {
   "cell_type": "code",
   "execution_count": null,
   "metadata": {
    "id": "2iyu_vSarawc"
   },
   "outputs": [],
   "source": [
    "monthly_max"
   ]
  },
  {
   "cell_type": "markdown",
   "metadata": {
    "id": "cA03p1jYrawd"
   },
   "source": [
    "Очень мощный метод для временных рядов с индексом `datetime` - это возможность создавать повторную выборку [`resample()`](https://pandas.pydata.org/pandas-docs/stable/reference/api/pandas.Series.resample.html#pandas.Series.resample) временных рядов с другой частотой (например, преобразовывать данные в секундах в данные за 5 минут)."
   ]
  },
  {
   "cell_type": "markdown",
   "metadata": {
    "id": "YXhJDQ8Brawd"
   },
   "source": [
    "Метод [`resample()`](https://pandas.pydata.org/pandas-docs/stable/reference/api/pandas.Series.resample.html#pandas.Series.resample) похож на операцию `GroupBy`:\n",
    "\n",
    "- он обеспечивает группировку на основе времени, используя строку (например `M`, `5H`...), что определяет целевую частоту\n",
    "- он требует функции агрегации, таких как `mean`, `max`...\n",
    "\n",
    "Обзор псевдонимов, используемых для определения частот временных рядов, приведен в [таблице обзора псевдонимов смещения](https://pandas.pydata.org/pandas-docs/stable/user_guide/timeseries.html#timeseries-offset-aliases)."
   ]
  },
  {
   "cell_type": "markdown",
   "metadata": {
    "id": "lxsWU3fKrawe"
   },
   "source": [
    "Когда определено, частота временного ряда обеспечена атрибутом `freq`:"
   ]
  },
  {
   "cell_type": "code",
   "execution_count": null,
   "metadata": {
    "id": "8ImFAnrQrawe"
   },
   "outputs": [],
   "source": [
    "monthly_max.index.freq"
   ]
  },
  {
   "cell_type": "markdown",
   "metadata": {
    "id": "XEvN4ChJrawe"
   },
   "source": [
    "Постройте график ежедневной медианы значений $NO_2$ для каждой из станций."
   ]
  },
  {
   "cell_type": "code",
   "execution_count": null,
   "metadata": {
    "id": "lZUR6oeirawf"
   },
   "outputs": [],
   "source": [
    "no_2.resample(\"D\").mean().plot(style=\"-o\", figsize=(10, 5));"
   ]
  },
  {
   "cell_type": "markdown",
   "metadata": {
    "id": "fTFtGi3Xrawf"
   },
   "source": [
    "Более подробная информация о силе временных рядов resampling приведена в разделе [инструкции пользователя на передискретизацию](https://pandas.pydata.org/pandas-docs/stable/user_guide/timeseries.html#timeseries-resampling)."
   ]
  },
  {
   "cell_type": "markdown",
   "metadata": {
    "id": "HLrx_jTtrawf"
   },
   "source": [
    "Полный обзор временных рядов приведен на страницах, посвященных [временным рядам и функциям дат](https://pandas.pydata.org/pandas-docs/stable/user_guide/timeseries.html#timeseries)."
   ]
  },
  {
   "cell_type": "markdown",
   "metadata": {
    "id": "8gsJaudrrawg"
   },
   "source": [
    "<a href=\"https://t.me/init_python\"><img src=\"https://dfedorov.spb.ru/pandas/logo-telegram.png\" width=\"35\" height=\"35\" alt=\"telegram\" align=\"left\"></a>"
   ]
  },
  {
   "cell_type": "code",
   "execution_count": null,
   "metadata": {
    "id": "yT4yMhlYrawg"
   },
   "outputs": [],
   "source": []
  }
 ],
 "metadata": {
  "colab": {
   "provenance": []
  },
  "kernelspec": {
   "display_name": "Python 3 (ipykernel)",
   "language": "python",
   "name": "python3"
  },
  "language_info": {
   "codemirror_mode": {
    "name": "ipython",
    "version": 3
   },
   "file_extension": ".py",
   "mimetype": "text/x-python",
   "name": "python",
   "nbconvert_exporter": "python",
   "pygments_lexer": "ipython3",
   "version": "3.10.8"
  }
 },
 "nbformat": 4,
 "nbformat_minor": 1
}
