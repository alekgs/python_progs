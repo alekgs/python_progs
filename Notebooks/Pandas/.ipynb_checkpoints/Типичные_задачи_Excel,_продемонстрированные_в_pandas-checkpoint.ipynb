{
 "cells": [
  {
   "cell_type": "markdown",
   "metadata": {
    "id": "46ER9fZqrvVF"
   },
   "source": [
    "# Типичные задачи Excel, продемонстрированные в pandas\n",
    "\n",
    "<a href=\"https://t.me/init_python\"><img src=\"https://dfedorov.spb.ru/pandas/logo-telegram.png\" width=\"35\" height=\"35\" alt=\"telegram\" align=\"left\"></a>"
   ]
  },
  {
   "cell_type": "markdown",
   "metadata": {
    "id": "Il0QhcUIrvVH"
   },
   "source": [
    "<a href=\"https://colab.research.google.com/github/dm-fedorov/pandas_basic/blob/master/быстрое%20введение%20в%20pandas/Типичные%20задачи%20Excel%2C%20продемонстрированные%20в%20pandas.ipynb\" target=\"_blank\"><img align=\"left\" src=\"https://colab.research.google.com/assets/colab-badge.svg\" alt=\"Open in Colab\" title=\"Open and Execute in Google Colaboratory\"></a>"
   ]
  },
  {
   "cell_type": "markdown",
   "metadata": {
    "id": "KgA-pzCnrvVI"
   },
   "source": [
    "## Введение\n",
    "\n",
    "Цель этой статьи - показать ряд повседневных задач `Excel` и то, как они выполняются в `pandas`. Некоторые примеры тривиальны, но я думаю, важно представить как простые, так и более сложные функции. \n",
    "\n",
    "В качестве дополнительного бонуса я собираюсь выполнить нечеткое сопоставление строк (`fuzzy string matching`), чтобы продемонстрировать, как `pandas` могут использовать модули `Python`. \n",
    "\n",
    "> оригинал статьи Криса [тут](https://pbpython.com/excel-pandas-comp.html)\n",
    "\n",
    "Разберемся? Давайте начнем."
   ]
  },
  {
   "cell_type": "markdown",
   "metadata": {
    "id": "v37ozNLrrvVJ"
   },
   "source": [
    "## Добавление суммы в строку \n",
    "\n",
    "Первая задача, которую я покажу, - это суммирование нескольких столбцов для добавления итогового столбца.\n",
    "\n",
    "Начнем с импорта данных из `Excel` в кадр данных `pandas`:"
   ]
  },
  {
   "cell_type": "code",
   "execution_count": null,
   "metadata": {
    "id": "o39104qgrvVJ"
   },
   "outputs": [],
   "source": [
    "import pandas as pd\n",
    "import numpy as np\n",
    "\n",
    "df = pd.read_excel(\"https://github.com/dm-fedorov/pandas_basic/blob/master/%D0%B1%D1%8B%D1%81%D1%82%D1%80%D0%BE%D0%B5%20%D0%B2%D0%B2%D0%B5%D0%B4%D0%B5%D0%BD%D0%B8%D0%B5%20%D0%B2%20pandas/data/excel-comp-data.xlsx?raw=True\")\n",
    "df.head()"
   ]
  },
  {
   "cell_type": "markdown",
   "metadata": {
    "id": "V6CRQ0tCrvVK"
   },
   "source": [
    "Мы хотим добавить столбец с итогами, чтобы показать общие продажи за январь, февраль и март. Это просто сделать в `Excel` и в `pandas`. \n",
    "\n",
    "Для `Excel` я добавил формулу `SUM(G2:I2)` в столбец `J`. \n",
    "\n",
    "Вот как это выглядит:"
   ]
  },
  {
   "cell_type": "markdown",
   "metadata": {
    "id": "YyvJkrg8rvVL"
   },
   "source": [
    "![](https://raw.githubusercontent.com/dm-fedorov/pandas_basic/master/pic/excel-1.png)      "
   ]
  },
  {
   "cell_type": "markdown",
   "metadata": {
    "id": "WsKXNepRrvVM"
   },
   "source": [
    "Далее, вот как это делается в `pandas`:"
   ]
  },
  {
   "cell_type": "code",
   "execution_count": null,
   "metadata": {
    "id": "st5oCfXxrvVM"
   },
   "outputs": [],
   "source": [
    "df[\"total\"] = df[\"Jan\"] + df[\"Feb\"] + df[\"Mar\"]\n",
    "df.head()"
   ]
  },
  {
   "cell_type": "markdown",
   "metadata": {
    "id": "BYSjU6murvVN"
   },
   "source": [
    "Затем получим итоговые и некоторые другие значения за каждый месяц. \n",
    "\n",
    "Пытаемся сделать в `Excel`:"
   ]
  },
  {
   "cell_type": "markdown",
   "metadata": {
    "id": "axl13twSrvVO"
   },
   "source": [
    "![](https://raw.githubusercontent.com/dm-fedorov/pandas_basic/master/pic/excel-2.png)"
   ]
  },
  {
   "cell_type": "markdown",
   "metadata": {
    "id": "x3tCQSrQrvVP"
   },
   "source": [
    "Как видите, мы добавили `SUM(G2:G16)` в строку `17` в каждом столбце, чтобы получить итоги по месяцам. \n",
    "\n",
    "В `pandas` легко выполнять анализ на уровне столбцов. Вот пара примеров:"
   ]
  },
  {
   "cell_type": "code",
   "execution_count": null,
   "metadata": {
    "id": "X3ppwTdMrvVP"
   },
   "outputs": [],
   "source": [
    "df[\"Jan\"].sum(), df[\"Jan\"].mean(), df[\"Jan\"].min(), df[\"Jan\"].max()"
   ]
  },
  {
   "cell_type": "markdown",
   "metadata": {
    "id": "yw-kNqG-rvVQ"
   },
   "source": [
    "Теперь хотим в `pandas` сложить сумму по месяцам с итогом (`total`). \n",
    "\n",
    "Здесь `pandas` и `Excel` немного расходятся. В `Excel` очень просто складывать итоги в ячейках за каждый месяц. \n",
    "\n",
    "Поскольку `pandas` необходимо поддерживать целостность всего [`DataFrame`](https://pandas.pydata.org/pandas-docs/stable/reference/api/pandas.DataFrame.html), то придется добавить еще пару шагов.\n",
    "\n",
    "Сначала создайте сумму для столбцов по месяцам и итога (`total`)."
   ]
  },
  {
   "cell_type": "code",
   "execution_count": null,
   "metadata": {
    "id": "8Utul_earvVQ"
   },
   "outputs": [],
   "source": [
    "sum_row = df[[\"Jan\", \"Feb\", \"Mar\", \"total\"]].sum()\n",
    "sum_row"
   ]
  },
  {
   "cell_type": "markdown",
   "metadata": {
    "id": "dY44HiiUrvVQ"
   },
   "source": [
    "Интуитивно понятно, если вы хотите добавить итоги в виде строки, то нужно проделать некоторые незначительные манипуляции.\n",
    "\n",
    "Для начала - транспонировать данные и преобразовать [`Series`](https://pandas.pydata.org/pandas-docs/stable/reference/api/pandas.Series.html) в [`DataFrame`](https://pandas.pydata.org/pandas-docs/stable/reference/api/pandas.DataFrame.html), чтобы было проще объединить существующие данные. \n",
    "\n",
    "Атрибут [`T`](https://pandas.pydata.org/pandas-docs/stable/reference/api/pandas.DataFrame.T.html) позволяет преобразовать данные из строк в столбцы."
   ]
  },
  {
   "cell_type": "code",
   "execution_count": null,
   "metadata": {
    "id": "mrk2iMmLrvVR"
   },
   "outputs": [],
   "source": [
    "df_sum = pd.DataFrame(data=sum_row).T\n",
    "df_sum"
   ]
  },
  {
   "cell_type": "markdown",
   "metadata": {
    "id": "uLF826BfrvVR"
   },
   "source": [
    "Последнее, что нужно сделать перед суммированием итогов, - это добавить недостающие столбцы. \n",
    "\n",
    "Для этого используем функцию [`reindex`](https://pandas.pydata.org/pandas-docs/stable/reference/api/pandas.DataFrame.reindex.html). \n",
    "\n",
    "Хитрость заключается в том, чтобы добавить все наши столбцы, а затем разрешить `pandas` заполнить отсутствующие значения."
   ]
  },
  {
   "cell_type": "code",
   "execution_count": null,
   "metadata": {
    "id": "RCOiUhbCrvVR"
   },
   "outputs": [],
   "source": [
    "df_sum = df_sum.reindex(columns=df.columns)\n",
    "df_sum"
   ]
  },
  {
   "cell_type": "markdown",
   "metadata": {
    "id": "7udiRcVarvVS"
   },
   "source": [
    "Теперь, когда у нас есть красиво отформатированный `DataFrame`, можем добавить его к существующему, используя метод [`append`](https://pandas.pydata.org/pandas-docs/stable/reference/api/pandas.DataFrame.append.html):"
   ]
  },
  {
   "cell_type": "code",
   "execution_count": null,
   "metadata": {
    "id": "nplPSO_PrvVS"
   },
   "outputs": [],
   "source": [
    "df_final = df.append(df_sum, ignore_index=True)\n",
    "df_final.tail(3)"
   ]
  },
  {
   "cell_type": "markdown",
   "metadata": {
    "id": "v3VXLJH0rvVS"
   },
   "source": [
    "## Дополнительные преобразования данных\n",
    "\n",
    "В качестве примера попробуем добавить к набору данных аббревиатуру штата.\n",
    "\n",
    "С точки зрения `Excel`, самый простой способ - это добавить новый столбец, выполнить `vlookup` ([ВПР](https://support.microsoft.com/ru-ru/office/%D0%B2%D0%BF%D1%80-%D1%84%D1%83%D0%BD%D0%BA%D1%86%D0%B8%D1%8F-%D0%B2%D0%BF%D1%80-0bbc8083-26fe-4963-8ab8-93a18ad188a1)) по имени штата и заполнить аббревиатуру.\n",
    "\n",
    "Вот снимок того, как выглядят результаты:"
   ]
  },
  {
   "cell_type": "markdown",
   "metadata": {
    "id": "v24d3-VNrvVT"
   },
   "source": [
    "![](https://raw.githubusercontent.com/dm-fedorov/pandas_basic/master/pic/excel-3.png)"
   ]
  },
  {
   "cell_type": "markdown",
   "metadata": {
    "id": "Mm_IIzIfrvVT"
   },
   "source": [
    "Вы заметите, что после выполнения `vlookup` ряд значений отображаются неправильно. Это потому, что мы неправильно написали некоторые штаты. Обработать это в `Excel` для больших наборов данных сложно.\n",
    "\n",
    "В `pandas` у нас есть вся мощь экосистемы `Python`. Размышляя о том, как решить эту проблему с грязными данными, я подумал о попытке сопоставления нечеткого текста (`fuzzy text matching`), чтобы определить правильное значение."
   ]
  },
  {
   "cell_type": "markdown",
   "metadata": {
    "id": "on6lLlNLrvVT"
   },
   "source": [
    "К счастью, кто-то проделал большую работу в этом направлении. \n",
    "\n",
    "В библиотеке [`fuzzy wuzzy`](https://chairnerd.seatgeek.com/fuzzywuzzy-fuzzy-string-matching-in-python/) есть несколько довольно полезных функций для таких ситуаций.\n",
    "\n",
    "> fuzzywuzzy использует [расстояние Левенштейна](https://ru.wikipedia.org/wiki/%D0%A0%D0%B0%D1%81%D1%81%D1%82%D0%BE%D1%8F%D0%BD%D0%B8%D0%B5_%D0%9B%D0%B5%D0%B2%D0%B5%D0%BD%D1%88%D1%82%D0%B5%D0%B9%D0%BD%D0%B0) для вычисления различий между последовательностями.\n",
    "\n",
    "> см. [Применение библиотеки FuzzyWuzzy для нечёткого сравнения в Python](https://habr.com/ru/post/491448/) на Хабре"
   ]
  },
  {
   "cell_type": "code",
   "execution_count": null,
   "metadata": {
    "id": "GrhX73borvVU"
   },
   "outputs": [],
   "source": [
    "#!pip3 install fuzzywuzzy"
   ]
  },
  {
   "cell_type": "code",
   "execution_count": null,
   "metadata": {
    "id": "WTDFnFygrvVU"
   },
   "outputs": [],
   "source": [
    "#!pip install python-Levenshtein"
   ]
  },
  {
   "cell_type": "markdown",
   "metadata": {
    "id": "XaG9DS7zrvVU"
   },
   "source": [
    "Начнем с импорта соответствующих нечетких функций:"
   ]
  },
  {
   "cell_type": "code",
   "execution_count": null,
   "metadata": {
    "id": "f_89jw_MrvVU"
   },
   "outputs": [],
   "source": [
    "from fuzzywuzzy import fuzz\n",
    "from fuzzywuzzy import process"
   ]
  },
  {
   "cell_type": "markdown",
   "metadata": {
    "id": "ijmQHl7srvVV"
   },
   "source": [
    "Другой фрагмент кода, который нам нужен, - это отображение имени штата в аббревиатуру. Вместо того, чтобы пытаться напечатать его самостоятельно, небольшой поиск в Google подсказал следующий код:"
   ]
  },
  {
   "cell_type": "code",
   "execution_count": null,
   "metadata": {
    "id": "fy7RVxmPrvVV"
   },
   "outputs": [],
   "source": [
    "state_to_code = {\"VERMONT\": \"VT\", \"GEORGIA\": \"GA\", \"IOWA\": \"IA\", \"Armed Forces Pacific\": \"AP\", \"GUAM\": \"GU\",\n",
    "                 \"KANSAS\": \"KS\", \"FLORIDA\": \"FL\", \"AMERICAN SAMOA\": \"AS\", \"NORTH CAROLINA\": \"NC\", \"HAWAII\": \"HI\",\n",
    "                 \"NEW YORK\": \"NY\", \"CALIFORNIA\": \"CA\", \"ALABAMA\": \"AL\", \"IDAHO\": \"ID\", \"FEDERATED STATES OF MICRONESIA\": \"FM\",\n",
    "                 \"Armed Forces Americas\": \"AA\", \"DELAWARE\": \"DE\", \"ALASKA\": \"AK\", \"ILLINOIS\": \"IL\",\n",
    "                 \"Armed Forces Africa\": \"AE\", \"SOUTH DAKOTA\": \"SD\", \"CONNECTICUT\": \"CT\", \"MONTANA\": \"MT\", \"MASSACHUSETTS\": \"MA\",\n",
    "                 \"PUERTO RICO\": \"PR\", \"Armed Forces Canada\": \"AE\", \"NEW HAMPSHIRE\": \"NH\", \"MARYLAND\": \"MD\", \"NEW MEXICO\": \"NM\",\n",
    "                 \"MISSISSIPPI\": \"MS\", \"TENNESSEE\": \"TN\", \"PALAU\": \"PW\", \"COLORADO\": \"CO\", \"Armed Forces Middle East\": \"AE\",\n",
    "                 \"NEW JERSEY\": \"NJ\", \"UTAH\": \"UT\", \"MICHIGAN\": \"MI\", \"WEST VIRGINIA\": \"WV\", \"WASHINGTON\": \"WA\",\n",
    "                 \"MINNESOTA\": \"MN\", \"OREGON\": \"OR\", \"VIRGINIA\": \"VA\", \"VIRGIN ISLANDS\": \"VI\", \"MARSHALL ISLANDS\": \"MH\",\n",
    "                 \"WYOMING\": \"WY\", \"OHIO\": \"OH\", \"SOUTH CAROLINA\": \"SC\", \"INDIANA\": \"IN\", \"NEVADA\": \"NV\", \"LOUISIANA\": \"LA\",\n",
    "                 \"NORTHERN MARIANA ISLANDS\": \"MP\", \"NEBRASKA\": \"NE\", \"ARIZONA\": \"AZ\", \"WISCONSIN\": \"WI\", \"NORTH DAKOTA\": \"ND\",\n",
    "                 \"Armed Forces Europe\": \"AE\", \"PENNSYLVANIA\": \"PA\", \"OKLAHOMA\": \"OK\", \"KENTUCKY\": \"KY\", \"RHODE ISLAND\": \"RI\",\n",
    "                 \"DISTRICT OF COLUMBIA\": \"DC\", \"ARKANSAS\": \"AR\", \"MISSOURI\": \"MO\", \"TEXAS\": \"TX\", \"MAINE\": \"ME\"}"
   ]
  },
  {
   "cell_type": "markdown",
   "metadata": {
    "id": "_9uORjQDrvVV"
   },
   "source": [
    "Вот несколько примеров того, как работает функция сопоставления нечеткого текста:"
   ]
  },
  {
   "cell_type": "code",
   "execution_count": null,
   "metadata": {
    "id": "XT17kTGQrvVW"
   },
   "outputs": [],
   "source": [
    "process.extractOne(\"Minnesotta\", choices=state_to_code.keys())\n",
    "\n",
    "# ('результат', индекс сходства)"
   ]
  },
  {
   "cell_type": "code",
   "execution_count": null,
   "metadata": {
    "id": "5AfaWmYCrvVW"
   },
   "outputs": [],
   "source": [
    "process.extractOne(\"AlaBAMMazzz\", choices=state_to_code.keys(), score_cutoff=80)"
   ]
  },
  {
   "cell_type": "markdown",
   "metadata": {
    "id": "-BebizXvrvVX"
   },
   "source": [
    "Теперь, когда мы знаем, как это работает, создаем функцию, которая берет столбец штата и преобразует его в допустимое сокращение. \n",
    "\n",
    "Для этих данных используем *порог наилучшего результата совпадения* `score_cutoff=80`. Можете поиграть с этим значением, чтобы увидеть, какое число подходит для ваших данных. \n",
    "\n",
    "В функции мы либо возвращаем допустимое сокращение, либо `np.nan`, чтобы у нас были допустимые значения в поле."
   ]
  },
  {
   "cell_type": "code",
   "execution_count": null,
   "metadata": {
    "id": "KHAIPPenrvVX"
   },
   "outputs": [],
   "source": [
    "def convert_state(row):\n",
    "    if pd.notnull(row['state']):\n",
    "        abbrev = process.extractOne(row[\"state\"], choices=state_to_code.keys(), score_cutoff=80)\n",
    "        if abbrev:\n",
    "            return state_to_code[abbrev[0]]\n",
    "    return np.nan"
   ]
  },
  {
   "cell_type": "markdown",
   "metadata": {
    "id": "lBHGRdnRrvVX"
   },
   "source": [
    "Добавьте столбец в нужном месте и заполните его значениями `NaN`:"
   ]
  },
  {
   "cell_type": "code",
   "execution_count": null,
   "metadata": {
    "id": "OwBNuxhorvVY"
   },
   "outputs": [],
   "source": [
    "df_final.insert(6, \"abbrev\", np.nan)\n",
    "df_final.head()"
   ]
  },
  {
   "cell_type": "markdown",
   "metadata": {
    "id": "7W4450yqrvVY"
   },
   "source": [
    "Теперь используем [`apply`](https://pandas.pydata.org/pandas-docs/stable/reference/api/pandas.DataFrame.apply.html) для добавления сокращений в столбец `abbrev`:"
   ]
  },
  {
   "cell_type": "code",
   "execution_count": null,
   "metadata": {
    "id": "AAL-T_a8rvVY"
   },
   "outputs": [],
   "source": [
    "df_final['abbrev'] = df_final.apply(convert_state, axis=1)\n",
    "df_final.tail()"
   ]
  },
  {
   "cell_type": "markdown",
   "metadata": {
    "id": "SMPQPqaOrvVZ"
   },
   "source": [
    "Думаю, это круто! \n",
    "\n",
    "Мы разработали очень простой процесс для очистки данных. Очевидно, когда у вас 15 строк, это не имеет большого значения. Однако что, если бы у вас было 15 000? "
   ]
  },
  {
   "cell_type": "markdown",
   "metadata": {
    "id": "pEkdAQoGrvVZ"
   },
   "source": [
    "## Промежуточные итоги\n",
    "\n",
    "В последнем разделе этой статьи давайте рассмотрим промежуточные итоги (`subtotal`) по штатам.\n",
    "\n",
    "В `Excel` мы бы использовали инструмент `subtotal`:"
   ]
  },
  {
   "cell_type": "markdown",
   "metadata": {
    "id": "K3J8z2hSrvVZ"
   },
   "source": [
    "![](https://raw.githubusercontent.com/dm-fedorov/pandas_basic/master/pic/excel-4.png)"
   ]
  },
  {
   "cell_type": "markdown",
   "metadata": {
    "id": "QgXhoxswrvVZ"
   },
   "source": [
    "Результат будет выглядеть так:"
   ]
  },
  {
   "cell_type": "markdown",
   "metadata": {
    "id": "v9K7XD8ZrvVZ"
   },
   "source": [
    "![](https://pbpython.com/images/excel-5.png)"
   ]
  },
  {
   "cell_type": "markdown",
   "metadata": {
    "id": "HPF5j7pwrvVZ"
   },
   "source": [
    "Создание промежуточного итога в `pandas` выполняется с помощью метода [`groupby`](https://pandas.pydata.org/pandas-docs/stable/reference/api/pandas.DataFrame.groupby.html):"
   ]
  },
  {
   "cell_type": "code",
   "execution_count": null,
   "metadata": {
    "id": "J2-f_BnjrvVZ"
   },
   "outputs": [],
   "source": [
    "df_sub = df_final[[\"abbrev\", \"Jan\", \"Feb\", \"Mar\", \"total\"]].groupby('abbrev').sum()\n",
    "df_sub"
   ]
  },
  {
   "cell_type": "markdown",
   "metadata": {
    "id": "jdq70HWZrvVa"
   },
   "source": [
    "Затем хотим отобразить данные с обозначением валюты, используя [`applymap`](https://pandas.pydata.org/pandas-docs/stable/reference/api/pandas.DataFrame.applymap.html) для всех значений в кадре данных:"
   ]
  },
  {
   "cell_type": "code",
   "execution_count": null,
   "metadata": {
    "id": "1wSIBJlurvVa"
   },
   "outputs": [],
   "source": [
    "def money(x):\n",
    "    return \"${:,.0f}\".format(x)\n",
    "\n",
    "formatted_df = df_sub.applymap(money)\n",
    "formatted_df"
   ]
  },
  {
   "cell_type": "markdown",
   "metadata": {
    "id": "OlPZtihlrvVa"
   },
   "source": [
    "Форматирование выглядит неплохо, теперь можем получить итоговые значения, как раньше:"
   ]
  },
  {
   "cell_type": "code",
   "execution_count": null,
   "metadata": {
    "id": "O2WURi65rvVb"
   },
   "outputs": [],
   "source": [
    "sum_row = df_sub[[\"Jan\", \"Feb\", \"Mar\", \"total\"]].sum()\n",
    "sum_row"
   ]
  },
  {
   "cell_type": "markdown",
   "metadata": {
    "id": "atPVOBDKrvVb"
   },
   "source": [
    "Преобразуйте значения в столбцы и отформатируйте их:"
   ]
  },
  {
   "cell_type": "code",
   "execution_count": null,
   "metadata": {
    "id": "YdfZiOtFrvVb"
   },
   "outputs": [],
   "source": [
    "df_sub_sum = pd.DataFrame(data=sum_row).T\n",
    "df_sub_sum = df_sub_sum.applymap(money)\n",
    "df_sub_sum"
   ]
  },
  {
   "cell_type": "markdown",
   "metadata": {
    "id": "uaBKlqaRrvVc"
   },
   "source": [
    "Наконец, добавьте итоговое значение в `DataFrame`:"
   ]
  },
  {
   "cell_type": "code",
   "execution_count": null,
   "metadata": {
    "id": "fwBhYtTvrvVc"
   },
   "outputs": [],
   "source": [
    "final_table = formatted_df.append(df_sub_sum)\n",
    "final_table"
   ]
  },
  {
   "cell_type": "markdown",
   "metadata": {
    "id": "NqrQRY8RrvVc"
   },
   "source": [
    "Вы заметите, что для итоговой строки индекс равен `0`. \n",
    "\n",
    "Можем изменить это с помощью метода [`rename`](https://pandas.pydata.org/pandas-docs/stable/reference/api/pandas.DataFrame.rename.html):"
   ]
  },
  {
   "cell_type": "code",
   "execution_count": null,
   "metadata": {
    "id": "yYY0BfvLrvVc"
   },
   "outputs": [],
   "source": [
    "final_table = final_table.rename(index={0:\"Total\"})\n",
    "final_table"
   ]
  },
  {
   "cell_type": "markdown",
   "metadata": {
    "id": "lWeG23KWrvVd"
   },
   "source": [
    "> Модуль [`sidetable`](https://dfedorov.spb.ru/pandas/%D0%A1%D0%BE%D0%B7%D0%B4%D0%B0%D0%BD%D0%B8%D0%B5%20%D0%BF%D1%80%D0%BE%D1%81%D1%82%D1%8B%D1%85%20%D1%81%D0%B2%D0%BE%D0%B4%D0%BD%D1%8B%D1%85%20%D1%82%D0%B0%D0%B1%D0%BB%D0%B8%D1%86%20%D0%B2%20pandas%20%D1%81%20%D0%BF%D0%BE%D0%BC%D0%BE%D1%89%D1%8C%D1%8E%20sidetable.html) значительно упрощает этот процесс и делает его более надежным."
   ]
  },
  {
   "cell_type": "markdown",
   "metadata": {
    "id": "Gr3BxtQ2rvVd"
   },
   "source": [
    "## Заключение\n",
    "\n",
    "К настоящему времени большинство людей знают, что `pandas` умеет выполнять множество сложных манипуляций с данными подобно `Excel`. Изучая `pandas`, я все еще пытаюсь вспомнить, как это сделать в `Excel`. Понимаю, что это сравнение может быть не совсем справедливым - это разные инструменты. Однако я надеюсь достучаться до людей, которые знают `Excel` и хотят узнать, какие существуют альтернативы для их потребностей в обработке данных. Надеюсь, эти примеры помогут почувствовать уверенность в том, что можно заменить множество бесполезных манипуляций с данными в `Excel` с помощью pandas."
   ]
  },
  {
   "cell_type": "markdown",
   "metadata": {
    "id": "-QPlT_pFrvVd"
   },
   "source": [
    "> В качестве бонуса рекомендую видео [Excel is Evil - Why it has no place in research](https://youtu.be/-NuTlczV72Q)"
   ]
  },
  {
   "cell_type": "markdown",
   "metadata": {
    "id": "QSUmY_esrvVe"
   },
   "source": [
    "<a href=\"https://t.me/init_python\"><img src=\"https://dfedorov.spb.ru/pandas/logo-telegram.png\" width=\"35\" height=\"35\" alt=\"telegram\" align=\"left\"></a>"
   ]
  },
  {
   "cell_type": "code",
   "execution_count": null,
   "metadata": {
    "id": "Xx9-cYvdrvVe"
   },
   "outputs": [],
   "source": []
  }
 ],
 "metadata": {
  "colab": {
   "provenance": []
  },
  "kernelspec": {
   "display_name": "Python 3 (ipykernel)",
   "language": "python",
   "name": "python3"
  },
  "language_info": {
   "codemirror_mode": {
    "name": "ipython",
    "version": 3
   },
   "file_extension": ".py",
   "mimetype": "text/x-python",
   "name": "python",
   "nbconvert_exporter": "python",
   "pygments_lexer": "ipython3",
   "version": "3.10.8"
  }
 },
 "nbformat": 4,
 "nbformat_minor": 1
}
