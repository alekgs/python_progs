{
 "cells": [
  {
   "cell_type": "code",
   "execution_count": 71,
   "id": "ed9246ff",
   "metadata": {},
   "outputs": [
    {
     "name": "stdout",
     "output_type": "stream",
     "text": [
      "Гудцев Таймураз\n",
      "Харисов Артур\n",
      "Базиев Герман\n",
      "Макоев Руслан\n",
      "Найфонов Сослан\n",
      "Короев Аслан\n",
      "Дедегкаев Давид\n",
      "Уртаева Илина\n",
      "Бекузарова Фатима\n",
      "Акоева Лера\n",
      "Белов Глеб\n",
      "Букулова Диана\n",
      "Гусейнова Марьям\n",
      "Набокова Алиса\n",
      "Чередник Марк\n",
      "Перчиков Максим\n",
      "Идрисов Баграт\n",
      "Абаев Михаил\n",
      "Елькина Мария\n",
      "Кораев Давид\n",
      "Акоева Амина\n",
      "Денисов Тимофей\n",
      "Алдатов Сармат\n",
      "Зеленчук Александра\n",
      "Тарасов Станислав\n",
      "Гапбаев Герман\n",
      "Рыжая Ярослава\n",
      "Джикаев Таму\n",
      "Балаболка Вероника\n",
      "Гагиев Геор\n",
      "Козаев Роберт\n",
      "Габараев Артур\n",
      "Юлдашев Хандамир\n",
      "Кодзаев Георгий\n",
      "Дедегкаев Дамир\n",
      "Момотов Владислав\n",
      "Щербак Юрий\n",
      "Чуприков Максим\n",
      "Тиникашвили Давид\n",
      "Кораев Артур\n",
      "Цивинская Анна\n",
      "Солдатенков Илья\n",
      "Туткевич Юрий\n",
      "Маилян Кирилл\n",
      "Джиоева Марина\n",
      "Салбиев Максим\n",
      "Чен Владимир\n",
      "Капустин Егор\n",
      "Туаллагов Давид\n",
      "Губаев Герман\n",
      "Кузнецов Станислав\n",
      "Албегов Хетаг\n",
      "Битиев Сослан\n",
      "Мусиков Андраник\n",
      "Уртаева Дзера\n",
      "Гадзиев Георгий\n",
      "Епхиева Алика\n",
      "Шилин Александр\n"
     ]
    }
   ],
   "source": [
    "import pandas as pd\n",
    "\n",
    "df = pd.read_csv('meetings.csv')\n",
    "\n",
    "dt_mask = '%d.%m.%Y %H:%M'\n",
    "\n",
    "df['meeting_dt'] = df['meeting_date'] + ' ' + df['meeting_time']\n",
    "df['meeting_dt'] = pd.to_datetime(df['meeting_dt'], format=dt_mask)\n",
    "\n",
    "df['full_name'] = df['surname'] + ' ' + df['name']\n",
    "\n",
    "df = df.sort_values('meeting_dt')[['full_name']]\n",
    "\n",
    "print(*list(df['full_name'].values), sep='\\n')\n"
   ]
  },
  {
   "cell_type": "code",
   "execution_count": null,
   "id": "10cdaa00",
   "metadata": {},
   "outputs": [],
   "source": []
  },
  {
   "cell_type": "code",
   "execution_count": null,
   "id": "0f357357",
   "metadata": {},
   "outputs": [],
   "source": []
  }
 ],
 "metadata": {
  "kernelspec": {
   "display_name": "Python 3 (ipykernel)",
   "language": "python",
   "name": "python3"
  },
  "language_info": {
   "codemirror_mode": {
    "name": "ipython",
    "version": 3
   },
   "file_extension": ".py",
   "mimetype": "text/x-python",
   "name": "python",
   "nbconvert_exporter": "python",
   "pygments_lexer": "ipython3",
   "version": "3.10.8"
  }
 },
 "nbformat": 4,
 "nbformat_minor": 5
}
