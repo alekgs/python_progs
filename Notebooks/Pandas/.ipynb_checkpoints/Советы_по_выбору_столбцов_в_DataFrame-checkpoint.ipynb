{
 "cells": [
  {
   "cell_type": "markdown",
   "metadata": {
    "id": "rdYl2rQSrwTe"
   },
   "source": [
    "# Советы по выбору столбцов в DataFrame\n",
    "\n",
    "<a href=\"https://t.me/init_python\"><img src=\"https://dfedorov.spb.ru/pandas/logo-telegram.png\" width=\"35\" height=\"35\" alt=\"telegram\" align=\"left\"></a>"
   ]
  },
  {
   "cell_type": "markdown",
   "metadata": {
    "id": "xCqAVclKrwTg"
   },
   "source": [
    "<a href=\"https://colab.research.google.com/github/dm-fedorov/pandas_basic/blob/master/быстрое%20введение%20в%20pandas/Советы%20по%20выбору%20столбцов%20в%20DataFrame.ipynb\"><img align=\"left\" src=\"https://colab.research.google.com/assets/colab-badge.svg\" alt=\"Open in Colab\" title=\"Open and Execute in Google Colaboratory\" target=\"_blank\"></a>"
   ]
  },
  {
   "cell_type": "markdown",
   "metadata": {
    "id": "hdIyAhWMrwTh"
   },
   "source": [
    "## Введение\n",
    "\n",
    "В этом Блокноте мы обсудим несколько советов по использованию [`iloc`](https://pandas.pydata.org/pandas-docs/stable/reference/api/pandas.DataFrame.iloc.html) для работы с набором данных, содержащим большое количество столбцов. Даже если у вас есть некоторый опыт использования [`iloc`](https://pandas.pydata.org/pandas-docs/stable/reference/api/pandas.DataFrame.iloc.html), следует изучить пару полезных приемов, чтобы ускорить анализ и избежать ввода большого количества имен столбцов в коде.\n",
    "\n",
    "> Оригинал статьи Криса [тут](https://pbpython.com/selecting-columns.html)\n",
    "\n",
    "## Почему мы заботимся о выборе столбцов?\n",
    "\n",
    "Во многих стандартных примерах, встречающихся в науке о данных, относительно небольшое число столбцов. Например, в наборе данных `Titanic` их 8, у `Iris` - 4, а у `Boston Housing` - 14. Реальные же наборы данных - грязные и часто включают множество дополнительных (потенциально ненужных) столбцов.\n",
    "\n",
    "В процессе анализа данных вам может потребоваться выбрать подмножество столбцов по следующим причинам:\n",
    "\n",
    "- Фильтрация для включения отдельных столбцов позволяет уменьшить объем памяти и ускорить обработку данных.\n",
    "- Ограничение количества столбцов может уменьшить накладные расходы, связанные с хранением модели данных в вашей голове (см. [Магическое число семь плюс-минус два](https://ru.wikipedia.org/wiki/%D0%9C%D0%B0%D0%B3%D0%B8%D1%87%D0%B5%D1%81%D0%BA%D0%BE%D0%B5_%D1%87%D0%B8%D1%81%D0%BB%D0%BE_%D1%81%D0%B5%D0%BC%D1%8C_%D0%BF%D0%BB%D1%8E%D1%81-%D0%BC%D0%B8%D0%BD%D1%83%D1%81_%D0%B4%D0%B2%D0%B0)).\n",
    "- При изучении нового набора данных может потребоваться разбить задачу на управляемые части.\n",
    "- В некоторых случаях может потребоваться перебрать столбцы и выполнить вычисления или очистку, чтобы получить данные в формате, необходимом для дальнейшего анализа.\n",
    "- Ваши данные могут содержать лишнюю или повторяющуюся информацию.\n",
    "\n",
    "Описанные ниже приемы помогут сократить время, которое вы тратите на обработку столбцов данных.\n",
    "\n",
    "## Данные\n",
    "\n",
    "Чтобы проиллюстрировать некоторые примеры, я собираюсь использовать необычный [набор данных](https://data.cityofnewyork.us/Environment/2018-Central-Park-Squirrel-Census-Squirrel-Data/vfnx-vebw) из [переписи белок Центрального парка](https://www.thesquirrelcensus.com/). Да, видимо, в Центральном парке пытались подсчитать и занести в каталог белок. Я подумал, что это будет забавный пример для работы. \n",
    "\n",
    "Этот набор данных включает 3023 строки данных и 31 столбец. Хотя 31 столбец не является огромным количеством столбцов, это полезный пример для иллюстрации концепций, которые вы можете применить к данным с большим количеством столбцов.\n",
    "\n",
    "> *Прим. переводчика*: на сайте Центрального парка содержится [подробная инструкция](https://data.cityofnewyork.us/api/views/vfnx-vebw/files/038f2dd2-2eb6-4152-968a-b075705c9986?download=true&filename=User%20Guide%20_%20Central%20Park%20Squirrel%20Census%20Data%20Collection.docx) по работе с данными. Разберем ее подробно:\n",
    "\n",
    "В октябре 2018 года с помощью добровольцев-охотников за белками подсчитали количество белок в Центральном парке Нью-Йорка. В результате переписи белок был выпущен отчет. Параметры, включенные в отчет:\n",
    "\n",
    "- `X`: координата долготы точки наблюдения за белкой\n",
    "- `Y`: Координата широты точки наблюдения за белкой\n",
    "- `Unique Squirrel ID`: идентификационный ярлык для каждой обнаруженной белки. Тег состоит из `Hectare ID` + `Shift` + `Date` (MMDD) + `Hectare Squirrel Number`.\n",
    "- `Hectare`: ID тег, полученный из сетки гектаров, используемой для разделения и подсчета парковой зоны. Одна ось, которая проходит преимущественно с севера на юг, является числовой (1-42), а ось, которая проходит преимущественно с востока на запад, является алфавитной (A-I).\n",
    "- `Shift`: значение - `AM` или `PM`, чтобы указать, когда произошло наблюдение - утром или поздно вечером.\n",
    "- `Date`: объединение месяца, дня и года наблюдения (MMDDYYYY).\n",
    "- `Hectare Squirrel Number`: число в хронологической последовательности наблюдений за белками для отдельного наблюдения.\n",
    "- `Age`: значение `Adult` (Взрослый) or `Juvenile` (Несовершеннолетний).\n",
    "- `Primary Fur Color`: `Gray`, `Cinnamon` или `Black`.\n",
    "- `Highlight Fur Color`: дискретное значение или строковые значения, состоящие из `Gray`, `Cinnamon`, `Black` или `White`.\n",
    "- `Combination of Primary and Highlight Color`: комбинация двух предыдущих столбцов; в этом столбце приведены общие наблюдаемые перестановки основных цветов и оттенков.\n",
    "- `Color Notes`: иногда наблюдатели добавляли комментарии о состоянии беличьего меха. \n",
    "- `Location`: `Ground Plane` или `Above Ground`. Наблюдателям было дано указание отметить, где была белка, когда ее впервые заметили.\n",
    "- `Above Ground Sighter Measurement`: `FALSE` - для наблюдений за белками на плоскости земли.\n",
    "- `Specific Location`: Иногда наблюдатели добавляли комментарии о местонахождении белки.\n",
    "- `Running`: была замечена бегущая белка.\n",
    "- `Chasing`: белка, преследующая другую белку.\n",
    "- `Climbing`: белка, взбирающаяся на дерево или другой природный объект.\n",
    "- `Eating`: белка за едой.\n",
    "- `Foraging`: белка в поисках пищи.\n",
    "- `OtherActivities`: другая активность белки. \n",
    "- `Kuks`: веселое голосовое общение, используемое белками по разным причинам.\n",
    "- `Quaas`: удлиненное голосовое общение, которое может указывать на присутствие наземного хищника, такого как собака.\n",
    "- `Moans`: высокий голос, который может указывать на присутствие воздушного хищника, такого как ястреб.\n",
    "- `Tail Flags`: белка, ловящая хвост. Используется для увеличения размера белки и сбивания с толку соперников или хищников. \n",
    "- `Tail Twitches`: используется белкой для выражения интереса, любопытства.\n",
    "- `Approaches`: белка, приближающаяся к человеку в поисках еды.\n",
    "- `Indifferent`: белке было безразлично присутствие человека.\n",
    "- `Runs From`: белка убегает от людей, считая их угрозой.\n",
    "- `Other Interactions`: наблюдатель отмечает другие типы взаимодействий между белками и людьми.\n",
    "\n",
    "Уверен, теперь вы узнали много нового о поведении белок! \n",
    "\n",
    "Давайте начнем с чтения данных:"
   ]
  },
  {
   "cell_type": "code",
   "execution_count": 1,
   "metadata": {
    "id": "pR1P4dAXrwTj"
   },
   "outputs": [],
   "source": [
    "import pandas as pd\n",
    "import numpy as np"
   ]
  },
  {
   "cell_type": "code",
   "execution_count": 2,
   "metadata": {
    "id": "b1RKf7gerwTk"
   },
   "outputs": [],
   "source": [
    "# прямая ссылка на данные: 'https://data.cityofnewyork.us/api/views/vfnx-vebw/rows.csv?accessType=DOWNLOAD&bom=true&format=true'\n",
    "\n",
    "# скачал набор на случай изменений в исходном:\n",
    "df = pd.read_csv('https://raw.githubusercontent.com/dm-fedorov/pandas_basic/master/%D0%B1%D1%8B%D1%81%D1%82%D1%80%D0%BE%D0%B5%20%D0%B2%D0%B2%D0%B5%D0%B4%D0%B5%D0%BD%D0%B8%D0%B5%20%D0%B2%20pandas/data/2018_Central_Park_Squirrel_Census_-_Squirrel_Data.csv')"
   ]
  },
  {
   "cell_type": "code",
   "execution_count": 3,
   "metadata": {
    "id": "JF2ujtg_rwTl"
   },
   "outputs": [
    {
     "data": {
      "text/html": [
       "<div>\n",
       "<style scoped>\n",
       "    .dataframe tbody tr th:only-of-type {\n",
       "        vertical-align: middle;\n",
       "    }\n",
       "\n",
       "    .dataframe tbody tr th {\n",
       "        vertical-align: top;\n",
       "    }\n",
       "\n",
       "    .dataframe thead th {\n",
       "        text-align: right;\n",
       "    }\n",
       "</style>\n",
       "<table border=\"1\" class=\"dataframe\">\n",
       "  <thead>\n",
       "    <tr style=\"text-align: right;\">\n",
       "      <th></th>\n",
       "      <th>X</th>\n",
       "      <th>Y</th>\n",
       "      <th>Unique Squirrel ID</th>\n",
       "      <th>Hectare</th>\n",
       "      <th>Shift</th>\n",
       "      <th>Date</th>\n",
       "      <th>Hectare Squirrel Number</th>\n",
       "      <th>Age</th>\n",
       "      <th>Primary Fur Color</th>\n",
       "      <th>Highlight Fur Color</th>\n",
       "      <th>...</th>\n",
       "      <th>Kuks</th>\n",
       "      <th>Quaas</th>\n",
       "      <th>Moans</th>\n",
       "      <th>Tail flags</th>\n",
       "      <th>Tail twitches</th>\n",
       "      <th>Approaches</th>\n",
       "      <th>Indifferent</th>\n",
       "      <th>Runs from</th>\n",
       "      <th>Other Interactions</th>\n",
       "      <th>Lat/Long</th>\n",
       "    </tr>\n",
       "  </thead>\n",
       "  <tbody>\n",
       "    <tr>\n",
       "      <th>0</th>\n",
       "      <td>-73.956134</td>\n",
       "      <td>40.794082</td>\n",
       "      <td>37F-PM-1014-03</td>\n",
       "      <td>37F</td>\n",
       "      <td>PM</td>\n",
       "      <td>10142018</td>\n",
       "      <td>3</td>\n",
       "      <td>NaN</td>\n",
       "      <td>NaN</td>\n",
       "      <td>NaN</td>\n",
       "      <td>...</td>\n",
       "      <td>False</td>\n",
       "      <td>False</td>\n",
       "      <td>False</td>\n",
       "      <td>False</td>\n",
       "      <td>False</td>\n",
       "      <td>False</td>\n",
       "      <td>False</td>\n",
       "      <td>False</td>\n",
       "      <td>NaN</td>\n",
       "      <td>POINT (-73.9561344937861 40.7940823884086)</td>\n",
       "    </tr>\n",
       "    <tr>\n",
       "      <th>1</th>\n",
       "      <td>-73.957044</td>\n",
       "      <td>40.794851</td>\n",
       "      <td>37E-PM-1006-03</td>\n",
       "      <td>37E</td>\n",
       "      <td>PM</td>\n",
       "      <td>10062018</td>\n",
       "      <td>3</td>\n",
       "      <td>Adult</td>\n",
       "      <td>Gray</td>\n",
       "      <td>Cinnamon</td>\n",
       "      <td>...</td>\n",
       "      <td>False</td>\n",
       "      <td>False</td>\n",
       "      <td>False</td>\n",
       "      <td>False</td>\n",
       "      <td>False</td>\n",
       "      <td>False</td>\n",
       "      <td>False</td>\n",
       "      <td>True</td>\n",
       "      <td>me</td>\n",
       "      <td>POINT (-73.9570437717691 40.794850940803904)</td>\n",
       "    </tr>\n",
       "    <tr>\n",
       "      <th>2</th>\n",
       "      <td>-73.976831</td>\n",
       "      <td>40.766718</td>\n",
       "      <td>2E-AM-1010-03</td>\n",
       "      <td>02E</td>\n",
       "      <td>AM</td>\n",
       "      <td>10102018</td>\n",
       "      <td>3</td>\n",
       "      <td>Adult</td>\n",
       "      <td>Cinnamon</td>\n",
       "      <td>NaN</td>\n",
       "      <td>...</td>\n",
       "      <td>False</td>\n",
       "      <td>False</td>\n",
       "      <td>False</td>\n",
       "      <td>False</td>\n",
       "      <td>False</td>\n",
       "      <td>False</td>\n",
       "      <td>True</td>\n",
       "      <td>False</td>\n",
       "      <td>NaN</td>\n",
       "      <td>POINT (-73.9768311751004 40.76671780725581)</td>\n",
       "    </tr>\n",
       "    <tr>\n",
       "      <th>3</th>\n",
       "      <td>-73.975725</td>\n",
       "      <td>40.769703</td>\n",
       "      <td>5D-PM-1018-05</td>\n",
       "      <td>05D</td>\n",
       "      <td>PM</td>\n",
       "      <td>10182018</td>\n",
       "      <td>5</td>\n",
       "      <td>Juvenile</td>\n",
       "      <td>Gray</td>\n",
       "      <td>NaN</td>\n",
       "      <td>...</td>\n",
       "      <td>False</td>\n",
       "      <td>False</td>\n",
       "      <td>False</td>\n",
       "      <td>False</td>\n",
       "      <td>False</td>\n",
       "      <td>False</td>\n",
       "      <td>False</td>\n",
       "      <td>True</td>\n",
       "      <td>NaN</td>\n",
       "      <td>POINT (-73.9757249834141 40.7697032606755)</td>\n",
       "    </tr>\n",
       "    <tr>\n",
       "      <th>4</th>\n",
       "      <td>-73.959313</td>\n",
       "      <td>40.797533</td>\n",
       "      <td>39B-AM-1018-01</td>\n",
       "      <td>39B</td>\n",
       "      <td>AM</td>\n",
       "      <td>10182018</td>\n",
       "      <td>1</td>\n",
       "      <td>NaN</td>\n",
       "      <td>NaN</td>\n",
       "      <td>NaN</td>\n",
       "      <td>...</td>\n",
       "      <td>True</td>\n",
       "      <td>False</td>\n",
       "      <td>False</td>\n",
       "      <td>False</td>\n",
       "      <td>False</td>\n",
       "      <td>False</td>\n",
       "      <td>False</td>\n",
       "      <td>False</td>\n",
       "      <td>NaN</td>\n",
       "      <td>POINT (-73.9593126695714 40.797533370163)</td>\n",
       "    </tr>\n",
       "  </tbody>\n",
       "</table>\n",
       "<p>5 rows × 31 columns</p>\n",
       "</div>"
      ],
      "text/plain": [
       "           X          Y Unique Squirrel ID Hectare Shift      Date  \\\n",
       "0 -73.956134  40.794082     37F-PM-1014-03     37F    PM  10142018   \n",
       "1 -73.957044  40.794851     37E-PM-1006-03     37E    PM  10062018   \n",
       "2 -73.976831  40.766718      2E-AM-1010-03     02E    AM  10102018   \n",
       "3 -73.975725  40.769703      5D-PM-1018-05     05D    PM  10182018   \n",
       "4 -73.959313  40.797533     39B-AM-1018-01     39B    AM  10182018   \n",
       "\n",
       "   Hectare Squirrel Number       Age Primary Fur Color Highlight Fur Color  \\\n",
       "0                        3       NaN               NaN                 NaN   \n",
       "1                        3     Adult              Gray            Cinnamon   \n",
       "2                        3     Adult          Cinnamon                 NaN   \n",
       "3                        5  Juvenile              Gray                 NaN   \n",
       "4                        1       NaN               NaN                 NaN   \n",
       "\n",
       "   ...   Kuks  Quaas  Moans Tail flags Tail twitches  Approaches  Indifferent  \\\n",
       "0  ...  False  False  False      False         False       False        False   \n",
       "1  ...  False  False  False      False         False       False        False   \n",
       "2  ...  False  False  False      False         False       False         True   \n",
       "3  ...  False  False  False      False         False       False        False   \n",
       "4  ...   True  False  False      False         False       False        False   \n",
       "\n",
       "   Runs from  Other Interactions                                      Lat/Long  \n",
       "0      False                 NaN    POINT (-73.9561344937861 40.7940823884086)  \n",
       "1       True                  me  POINT (-73.9570437717691 40.794850940803904)  \n",
       "2      False                 NaN   POINT (-73.9768311751004 40.76671780725581)  \n",
       "3       True                 NaN    POINT (-73.9757249834141 40.7697032606755)  \n",
       "4      False                 NaN     POINT (-73.9593126695714 40.797533370163)  \n",
       "\n",
       "[5 rows x 31 columns]"
      ]
     },
     "execution_count": 3,
     "metadata": {},
     "output_type": "execute_result"
    }
   ],
   "source": [
    "df.head()"
   ]
  },
  {
   "cell_type": "markdown",
   "metadata": {
    "id": "iyeLtn4prwTl"
   },
   "source": [
    "Иногда бывает сложно запомнить имена всех столбцов и их индекс. \n",
    "\n",
    "Вот простое решение: "
   ]
  },
  {
   "cell_type": "code",
   "execution_count": 4,
   "metadata": {
    "id": "wK2GIdjxrwTm"
   },
   "outputs": [],
   "source": [
    "col_mapping = [f\"{c[0]}:{c[1]}\" for c in enumerate(df.columns)]"
   ]
  },
  {
   "cell_type": "markdown",
   "metadata": {
    "id": "0Jcl1CN6rwTn"
   },
   "source": [
    "Получился такой список:"
   ]
  },
  {
   "cell_type": "code",
   "execution_count": 5,
   "metadata": {
    "id": "VO17R7a8rwTn"
   },
   "outputs": [
    {
     "data": {
      "text/plain": [
       "['0:X',\n",
       " '1:Y',\n",
       " '2:Unique Squirrel ID',\n",
       " '3:Hectare',\n",
       " '4:Shift',\n",
       " '5:Date',\n",
       " '6:Hectare Squirrel Number',\n",
       " '7:Age',\n",
       " '8:Primary Fur Color',\n",
       " '9:Highlight Fur Color',\n",
       " '10:Combination of Primary and Highlight Color',\n",
       " '11:Color notes',\n",
       " '12:Location',\n",
       " '13:Above Ground Sighter Measurement',\n",
       " '14:Specific Location',\n",
       " '15:Running',\n",
       " '16:Chasing',\n",
       " '17:Climbing',\n",
       " '18:Eating',\n",
       " '19:Foraging',\n",
       " '20:Other Activities',\n",
       " '21:Kuks',\n",
       " '22:Quaas',\n",
       " '23:Moans',\n",
       " '24:Tail flags',\n",
       " '25:Tail twitches',\n",
       " '26:Approaches',\n",
       " '27:Indifferent',\n",
       " '28:Runs from',\n",
       " '29:Other Interactions',\n",
       " '30:Lat/Long']"
      ]
     },
     "execution_count": 5,
     "metadata": {},
     "output_type": "execute_result"
    }
   ],
   "source": [
    "col_mapping"
   ]
  },
  {
   "cell_type": "markdown",
   "metadata": {
    "id": "iW14HtG_rwTo"
   },
   "source": [
    "## Использование iloc\n",
    "\n",
    "Основная функция, которую мы рассмотрим, - это [`iloc`](https://pandas.pydata.org/pandas-docs/stable/reference/api/pandas.DataFrame.iloc.html). \n",
    "\n",
    "Она используется для индексации на основе целых чисел. Поскольку функции `iloc` и `loc` могут принимать в качестве входных данных логический массив, бывают случаи, когда эти функции производят одинаковый вывод. Однако в рамках этого Блокнота я сосредоточусь только на выборе столбца с помощью `iloc`.\n",
    "\n",
    "Вот простой рисунок, иллюстрирующий основное использование `iloc`:\n",
    "\n",
    "![](https://raw.githubusercontent.com/dm-fedorov/pandas_basic/master/pic/iloc.png)\n",
    "\n",
    "Например, если вы хотите посмотреть столбец данных `Unique Squirrel ID` для всех строк:"
   ]
  },
  {
   "cell_type": "code",
   "execution_count": 6,
   "metadata": {
    "id": "iVffEHFRrwTp"
   },
   "outputs": [
    {
     "data": {
      "text/plain": [
       "0       37F-PM-1014-03\n",
       "1       37E-PM-1006-03\n",
       "2        2E-AM-1010-03\n",
       "3        5D-PM-1018-05\n",
       "4       39B-AM-1018-01\n",
       "             ...      \n",
       "3018    30B-AM-1007-04\n",
       "3019    19A-PM-1013-05\n",
       "3020    22D-PM-1012-07\n",
       "3021    29B-PM-1010-02\n",
       "3022     5E-PM-1012-01\n",
       "Name: Unique Squirrel ID, Length: 3023, dtype: object"
      ]
     },
     "execution_count": 6,
     "metadata": {},
     "output_type": "execute_result"
    }
   ],
   "source": [
    "df.iloc[:, 2]"
   ]
  },
  {
   "cell_type": "markdown",
   "metadata": {
    "id": "OKUOklTZrwTq"
   },
   "source": [
    "Посмотреть в дополнение к `Unique Squirrel ID` местоположение `X` и `Y` :"
   ]
  },
  {
   "cell_type": "code",
   "execution_count": 7,
   "metadata": {
    "id": "bEhiiF53rwTq"
   },
   "outputs": [
    {
     "data": {
      "text/html": [
       "<div>\n",
       "<style scoped>\n",
       "    .dataframe tbody tr th:only-of-type {\n",
       "        vertical-align: middle;\n",
       "    }\n",
       "\n",
       "    .dataframe tbody tr th {\n",
       "        vertical-align: top;\n",
       "    }\n",
       "\n",
       "    .dataframe thead th {\n",
       "        text-align: right;\n",
       "    }\n",
       "</style>\n",
       "<table border=\"1\" class=\"dataframe\">\n",
       "  <thead>\n",
       "    <tr style=\"text-align: right;\">\n",
       "      <th></th>\n",
       "      <th>X</th>\n",
       "      <th>Y</th>\n",
       "      <th>Unique Squirrel ID</th>\n",
       "    </tr>\n",
       "  </thead>\n",
       "  <tbody>\n",
       "    <tr>\n",
       "      <th>0</th>\n",
       "      <td>-73.956134</td>\n",
       "      <td>40.794082</td>\n",
       "      <td>37F-PM-1014-03</td>\n",
       "    </tr>\n",
       "    <tr>\n",
       "      <th>1</th>\n",
       "      <td>-73.957044</td>\n",
       "      <td>40.794851</td>\n",
       "      <td>37E-PM-1006-03</td>\n",
       "    </tr>\n",
       "    <tr>\n",
       "      <th>2</th>\n",
       "      <td>-73.976831</td>\n",
       "      <td>40.766718</td>\n",
       "      <td>2E-AM-1010-03</td>\n",
       "    </tr>\n",
       "    <tr>\n",
       "      <th>3</th>\n",
       "      <td>-73.975725</td>\n",
       "      <td>40.769703</td>\n",
       "      <td>5D-PM-1018-05</td>\n",
       "    </tr>\n",
       "    <tr>\n",
       "      <th>4</th>\n",
       "      <td>-73.959313</td>\n",
       "      <td>40.797533</td>\n",
       "      <td>39B-AM-1018-01</td>\n",
       "    </tr>\n",
       "    <tr>\n",
       "      <th>...</th>\n",
       "      <td>...</td>\n",
       "      <td>...</td>\n",
       "      <td>...</td>\n",
       "    </tr>\n",
       "    <tr>\n",
       "      <th>3018</th>\n",
       "      <td>-73.963943</td>\n",
       "      <td>40.790868</td>\n",
       "      <td>30B-AM-1007-04</td>\n",
       "    </tr>\n",
       "    <tr>\n",
       "      <th>3019</th>\n",
       "      <td>-73.970402</td>\n",
       "      <td>40.782560</td>\n",
       "      <td>19A-PM-1013-05</td>\n",
       "    </tr>\n",
       "    <tr>\n",
       "      <th>3020</th>\n",
       "      <td>-73.966587</td>\n",
       "      <td>40.783678</td>\n",
       "      <td>22D-PM-1012-07</td>\n",
       "    </tr>\n",
       "    <tr>\n",
       "      <th>3021</th>\n",
       "      <td>-73.963994</td>\n",
       "      <td>40.789915</td>\n",
       "      <td>29B-PM-1010-02</td>\n",
       "    </tr>\n",
       "    <tr>\n",
       "      <th>3022</th>\n",
       "      <td>-73.975479</td>\n",
       "      <td>40.769640</td>\n",
       "      <td>5E-PM-1012-01</td>\n",
       "    </tr>\n",
       "  </tbody>\n",
       "</table>\n",
       "<p>3023 rows × 3 columns</p>\n",
       "</div>"
      ],
      "text/plain": [
       "              X          Y Unique Squirrel ID\n",
       "0    -73.956134  40.794082     37F-PM-1014-03\n",
       "1    -73.957044  40.794851     37E-PM-1006-03\n",
       "2    -73.976831  40.766718      2E-AM-1010-03\n",
       "3    -73.975725  40.769703      5D-PM-1018-05\n",
       "4    -73.959313  40.797533     39B-AM-1018-01\n",
       "...         ...        ...                ...\n",
       "3018 -73.963943  40.790868     30B-AM-1007-04\n",
       "3019 -73.970402  40.782560     19A-PM-1013-05\n",
       "3020 -73.966587  40.783678     22D-PM-1012-07\n",
       "3021 -73.963994  40.789915     29B-PM-1010-02\n",
       "3022 -73.975479  40.769640      5E-PM-1012-01\n",
       "\n",
       "[3023 rows x 3 columns]"
      ]
     },
     "execution_count": 7,
     "metadata": {},
     "output_type": "execute_result"
    }
   ],
   "source": [
    "df.iloc[:, [0, 1, 2]]"
   ]
  },
  {
   "cell_type": "markdown",
   "metadata": {
    "id": "XjExdxNbrwTq"
   },
   "source": [
    "Ввод всех столбцов не самый эффективный способ, поэтому можем использовать нотацию срезов:"
   ]
  },
  {
   "cell_type": "code",
   "execution_count": 8,
   "metadata": {
    "id": "WABf5vQwrwTr"
   },
   "outputs": [
    {
     "data": {
      "text/html": [
       "<div>\n",
       "<style scoped>\n",
       "    .dataframe tbody tr th:only-of-type {\n",
       "        vertical-align: middle;\n",
       "    }\n",
       "\n",
       "    .dataframe tbody tr th {\n",
       "        vertical-align: top;\n",
       "    }\n",
       "\n",
       "    .dataframe thead th {\n",
       "        text-align: right;\n",
       "    }\n",
       "</style>\n",
       "<table border=\"1\" class=\"dataframe\">\n",
       "  <thead>\n",
       "    <tr style=\"text-align: right;\">\n",
       "      <th></th>\n",
       "      <th>X</th>\n",
       "      <th>Y</th>\n",
       "      <th>Unique Squirrel ID</th>\n",
       "    </tr>\n",
       "  </thead>\n",
       "  <tbody>\n",
       "    <tr>\n",
       "      <th>0</th>\n",
       "      <td>-73.956134</td>\n",
       "      <td>40.794082</td>\n",
       "      <td>37F-PM-1014-03</td>\n",
       "    </tr>\n",
       "    <tr>\n",
       "      <th>1</th>\n",
       "      <td>-73.957044</td>\n",
       "      <td>40.794851</td>\n",
       "      <td>37E-PM-1006-03</td>\n",
       "    </tr>\n",
       "    <tr>\n",
       "      <th>2</th>\n",
       "      <td>-73.976831</td>\n",
       "      <td>40.766718</td>\n",
       "      <td>2E-AM-1010-03</td>\n",
       "    </tr>\n",
       "    <tr>\n",
       "      <th>3</th>\n",
       "      <td>-73.975725</td>\n",
       "      <td>40.769703</td>\n",
       "      <td>5D-PM-1018-05</td>\n",
       "    </tr>\n",
       "    <tr>\n",
       "      <th>4</th>\n",
       "      <td>-73.959313</td>\n",
       "      <td>40.797533</td>\n",
       "      <td>39B-AM-1018-01</td>\n",
       "    </tr>\n",
       "    <tr>\n",
       "      <th>...</th>\n",
       "      <td>...</td>\n",
       "      <td>...</td>\n",
       "      <td>...</td>\n",
       "    </tr>\n",
       "    <tr>\n",
       "      <th>3018</th>\n",
       "      <td>-73.963943</td>\n",
       "      <td>40.790868</td>\n",
       "      <td>30B-AM-1007-04</td>\n",
       "    </tr>\n",
       "    <tr>\n",
       "      <th>3019</th>\n",
       "      <td>-73.970402</td>\n",
       "      <td>40.782560</td>\n",
       "      <td>19A-PM-1013-05</td>\n",
       "    </tr>\n",
       "    <tr>\n",
       "      <th>3020</th>\n",
       "      <td>-73.966587</td>\n",
       "      <td>40.783678</td>\n",
       "      <td>22D-PM-1012-07</td>\n",
       "    </tr>\n",
       "    <tr>\n",
       "      <th>3021</th>\n",
       "      <td>-73.963994</td>\n",
       "      <td>40.789915</td>\n",
       "      <td>29B-PM-1010-02</td>\n",
       "    </tr>\n",
       "    <tr>\n",
       "      <th>3022</th>\n",
       "      <td>-73.975479</td>\n",
       "      <td>40.769640</td>\n",
       "      <td>5E-PM-1012-01</td>\n",
       "    </tr>\n",
       "  </tbody>\n",
       "</table>\n",
       "<p>3023 rows × 3 columns</p>\n",
       "</div>"
      ],
      "text/plain": [
       "              X          Y Unique Squirrel ID\n",
       "0    -73.956134  40.794082     37F-PM-1014-03\n",
       "1    -73.957044  40.794851     37E-PM-1006-03\n",
       "2    -73.976831  40.766718      2E-AM-1010-03\n",
       "3    -73.975725  40.769703      5D-PM-1018-05\n",
       "4    -73.959313  40.797533     39B-AM-1018-01\n",
       "...         ...        ...                ...\n",
       "3018 -73.963943  40.790868     30B-AM-1007-04\n",
       "3019 -73.970402  40.782560     19A-PM-1013-05\n",
       "3020 -73.966587  40.783678     22D-PM-1012-07\n",
       "3021 -73.963994  40.789915     29B-PM-1010-02\n",
       "3022 -73.975479  40.769640      5E-PM-1012-01\n",
       "\n",
       "[3023 rows x 3 columns]"
      ]
     },
     "execution_count": 8,
     "metadata": {},
     "output_type": "execute_result"
    }
   ],
   "source": [
    "df.iloc[:, 0:3] # df.iloc[:, :3]"
   ]
  },
  {
   "cell_type": "markdown",
   "metadata": {
    "id": "qzVLrTSnrwTr"
   },
   "source": [
    "Это даст тот же результат, что и выше.\n",
    "\n",
    "Если хочется объединить список целых чисел с нотацией среза? \n",
    "\n",
    "Можно попробовать что-то вроде такого:"
   ]
  },
  {
   "cell_type": "code",
   "execution_count": null,
   "metadata": {
    "id": "scImw-z8rwTr"
   },
   "outputs": [],
   "source": [
    "# произойдет ошибка: invalid syntax\n",
    "\n",
    "#df.iloc[:, [0:3, 15:19]]"
   ]
  },
  {
   "cell_type": "markdown",
   "metadata": {
    "id": "6eX3ajzPrwTr"
   },
   "source": [
    "или такого:"
   ]
  },
  {
   "cell_type": "code",
   "execution_count": null,
   "metadata": {
    "id": "cJ3kIXh6rwTs"
   },
   "outputs": [],
   "source": [
    "# произойдет ошибка: Too many indexers\n",
    "\n",
    "#df.iloc[:, 0:3,15:19]"
   ]
  },
  {
   "cell_type": "markdown",
   "metadata": {
    "id": "6TILoiF1rwTs"
   },
   "source": [
    "Хммм... очевидно, это не работает.\n",
    "\n",
    "К счастью, есть объект NumPy [`r_`](https://numpy.org/doc/stable/reference/generated/numpy.r_.html), который может нам помочь. \n",
    "\n",
    "Объект `r_` \"преобразует объекты срезов в конкатенацию по первой оси\". \n",
    "\n",
    "Вот немного более сложный пример, демонстрирующий, как это работает:"
   ]
  },
  {
   "cell_type": "code",
   "execution_count": null,
   "metadata": {
    "id": "E5vSbBcWrwTs"
   },
   "outputs": [],
   "source": [
    "np.r_[0:3, 15:19, 24, 25]"
   ]
  },
  {
   "cell_type": "markdown",
   "metadata": {
    "id": "ZtpPESU_rwTs"
   },
   "source": [
    "Это круто! \n",
    "\n",
    "Объект `r_` преобразовал комбинацию целочисленных списков и нотации срезов в единый список, который мы можем передать `iloc`:"
   ]
  },
  {
   "cell_type": "code",
   "execution_count": null,
   "metadata": {
    "id": "mAFYdF18rwTt"
   },
   "outputs": [],
   "source": [
    "df.iloc[:, np.r_[0:3, 15:19, 24, 25]]"
   ]
  },
  {
   "cell_type": "markdown",
   "metadata": {
    "id": "pfncIDzurwTt"
   },
   "source": [
    "Вот еще один совет: вы можете использовать эту нотацию при чтении данных с помощью `read_csv`:"
   ]
  },
  {
   "cell_type": "code",
   "execution_count": null,
   "metadata": {
    "id": "dDSZvQ6OrwTt"
   },
   "outputs": [],
   "source": [
    "df_2 = pd.read_csv(\n",
    "    'https://raw.githubusercontent.com/dm-fedorov/pandas_basic/master/%D0%B1%D1%8B%D1%81%D1%82%D1%80%D0%BE%D0%B5%20%D0%B2%D0%B2%D0%B5%D0%B4%D0%B5%D0%BD%D0%B8%D0%B5%20%D0%B2%20pandas/data/2018_Central_Park_Squirrel_Census_-_Squirrel_Data.csv',\n",
    "    usecols=np.r_[1, 2, 5:8, 15:25]\n",
    ")"
   ]
  },
  {
   "cell_type": "code",
   "execution_count": null,
   "metadata": {
    "id": "zXL1bS0QrwTt"
   },
   "outputs": [],
   "source": [
    "df_2.head()"
   ]
  },
  {
   "cell_type": "markdown",
   "metadata": {
    "id": "LDWm_rBjrwTu"
   },
   "source": [
    "Я считаю эту нотацию полезной, когда есть набор данных, в котором вы хотите оставить столбцы и не хотите вводить их полные имена.\n",
    "\n",
    "> Нужно быть осторожным при использовании нотации среза и помнить, что последнее число в диапазоне не включается в сгенерированный список чисел.\n",
    "\n",
    "Например, если мы укажем диапазон `2:4`, мы получим только список из `2` и `3`:"
   ]
  },
  {
   "cell_type": "code",
   "execution_count": null,
   "metadata": {
    "id": "UbLXb3KVrwTu"
   },
   "outputs": [],
   "source": [
    "np.r_[2:4]"
   ]
  },
  {
   "cell_type": "markdown",
   "metadata": {
    "id": "5joWxZherwTu"
   },
   "source": [
    "Если вы хотите включить индекс столбца `4`, используйте `np.r_[2:5]`.\n",
    "\n",
    "У `np.r_` есть необязательный аргумент `step`. \n",
    "\n",
    "В следующем примере можем указать, что список будет увеличиваться на 2:"
   ]
  },
  {
   "cell_type": "code",
   "execution_count": null,
   "metadata": {
    "id": "gJyuUrO7rwTv"
   },
   "outputs": [],
   "source": [
    "np.r_[2:10:2]"
   ]
  },
  {
   "cell_type": "markdown",
   "metadata": {
    "id": "udJx3UfgrwTv"
   },
   "source": [
    "## iloc и логические массивы\n",
    "\n",
    "Один из наиболее эффективных способов фильтрации столбцов - передать в `iloc` логический массив. \n",
    "\n",
    "Самая важная идея заключается в том, что мы не создаем логический массив вручную, а используем вывод другой функции pandas для генерации массива и передачи его в `iloc`.\n",
    "\n",
    "В данном случае можем использовать метод доступа `str` для индекса столбца, как и любой другой столбец данных pandas. Это сгенерирует необходимый логический массив, который ожидает `iloc`. \n",
    "\n",
    "Например, хотим увидеть, название каких столбцов содержит слово `run`:"
   ]
  },
  {
   "cell_type": "code",
   "execution_count": null,
   "metadata": {
    "id": "0tXnCWn8rwTv"
   },
   "outputs": [],
   "source": [
    "# https://pandas.pydata.org/pandas-docs/stable/reference/api/pandas.Series.str.contains.html\n",
    "\n",
    "run_cols = df.columns.str.contains('run', case=False) # не чувствительный к регистру\n",
    "run_cols"
   ]
  },
  {
   "cell_type": "markdown",
   "metadata": {
    "id": "tYw0Xn7CrwTw"
   },
   "source": [
    "Передадим новый массив логических значений в `iloc`, чтобы выбрать два столбца:"
   ]
  },
  {
   "cell_type": "code",
   "execution_count": null,
   "metadata": {
    "id": "Oid4mwbTrwTw"
   },
   "outputs": [],
   "source": [
    "df.iloc[:, run_cols].head()"
   ]
  },
  {
   "cell_type": "markdown",
   "metadata": {
    "id": "ilvYzF1TrwTw"
   },
   "source": [
    "На практике чаще используют лямбда-функцию:"
   ]
  },
  {
   "cell_type": "code",
   "execution_count": null,
   "metadata": {
    "id": "f0gEvjhJrwTw"
   },
   "outputs": [],
   "source": [
    "df.iloc[:, lambda df:df.columns.str.contains('run', \n",
    "                                             case=False)].head()"
   ]
  },
  {
   "cell_type": "markdown",
   "metadata": {
    "id": "LR5pXZhyrwTw"
   },
   "source": [
    "Преимущество в использовании функций `str` заключаются в том, что вы можете усложнить работу с потенциальными параметрами фильтрации. \n",
    "\n",
    "Например, если мы хотим, чтобы все столбцы содержали в названии `Color` или `Tail`:"
   ]
  },
  {
   "cell_type": "code",
   "execution_count": null,
   "metadata": {
    "id": "cV-0SIjorwTx"
   },
   "outputs": [],
   "source": [
    "df.iloc[:, lambda df: df.columns.str.contains('Color|Tail',\n",
    "                                              case=False)].head()"
   ]
  },
  {
   "cell_type": "markdown",
   "metadata": {
    "id": "eM2Q-QQ-rwTx"
   },
   "source": [
    "Мы можем объединить все эти концепции вместе, используя результаты логического массива для получения индекса, а затем использовать `np.r_` для объединения списков.\n",
    "\n",
    "> Пример ниже можно упростить, используя `filter`. \n",
    "\n",
    "Вот пример, в котором мы хотим получить все столбцы, связанные с `Color` или `Tail`, а также `Unique Squirrel ID` белки:"
   ]
  },
  {
   "cell_type": "code",
   "execution_count": null,
   "metadata": {
    "id": "oyg8O-7FrwTx"
   },
   "outputs": [],
   "source": [
    "color_cols = df.columns.str.contains('Color|Tail', case=False)\n",
    "color_cols"
   ]
  },
  {
   "cell_type": "code",
   "execution_count": null,
   "metadata": {
    "id": "qQRpALlhrwTx"
   },
   "outputs": [],
   "source": [
    "color_indices = [i for i, col in enumerate(color_cols) if col]\n",
    "color_indices"
   ]
  },
  {
   "cell_type": "code",
   "execution_count": null,
   "metadata": {
    "id": "cXuzP2l2rwTx"
   },
   "outputs": [],
   "source": [
    "df.iloc[:, np.r_[0:3, color_indices]].head()"
   ]
  },
  {
   "cell_type": "markdown",
   "metadata": {
    "id": "QE8ErmuKrwTx"
   },
   "source": [
    "## Фильтр\n",
    "\n",
    "В исходном Блокноте я не включил никакой информации об использовании [`filter`](https://pandas.pydata.org/pandas-docs/stable/reference/api/pandas.DataFrame.filter.html) для выбора столбцов. `filter` звучит так, будто его следует использовать для фильтрации данных, а не имен столбцов. К счастью, в pandas вы можете использовать `filter` для выбора столбцов!\n",
    "\n",
    "Если вы хотите выбрать столбцы, в названии которых встречается `Color`, то можете использовать следующий код:"
   ]
  },
  {
   "cell_type": "code",
   "execution_count": null,
   "metadata": {
    "id": "6BqM4G3FrwTy"
   },
   "outputs": [],
   "source": [
    "df.filter(like='Color')"
   ]
  },
  {
   "cell_type": "markdown",
   "metadata": {
    "id": "hoFUenR_rwTy"
   },
   "source": [
    "Вы можете использовать регулярное выражение, чтобы найти столбцы, содержащие один или несколько шаблонов:"
   ]
  },
  {
   "cell_type": "code",
   "execution_count": null,
   "metadata": {
    "id": "hSIH2W3frwTy"
   },
   "outputs": [],
   "source": [
    "df.filter(regex='ing|Date')"
   ]
  },
  {
   "cell_type": "markdown",
   "metadata": {
    "id": "GrfsOg1zrwTy"
   },
   "source": [
    "Пример, показанный выше, можно более лаконично записать с помощью `filter`:"
   ]
  },
  {
   "cell_type": "code",
   "execution_count": null,
   "metadata": {
    "id": "pmUjx7tHrwTz"
   },
   "outputs": [],
   "source": [
    "df.filter(regex='Color|Tail')"
   ]
  },
  {
   "cell_type": "markdown",
   "metadata": {
    "id": "o1q63MRxrwTz"
   },
   "source": [
    "> Предостережение: имейте в виду, что при изменении порядка следования столбцов могут возникнуть сложности при обработке данных показанным выше способом."
   ]
  },
  {
   "cell_type": "markdown",
   "metadata": {
    "id": "Oap7AnsOrwTz"
   },
   "source": [
    "<a href=\"https://t.me/init_python\"><img src=\"https://dfedorov.spb.ru/pandas/logo-telegram.png\" width=\"35\" height=\"35\" alt=\"telegram\" align=\"left\"></a>"
   ]
  },
  {
   "cell_type": "code",
   "execution_count": null,
   "metadata": {
    "id": "j2bR8OMQrwTz"
   },
   "outputs": [],
   "source": []
  }
 ],
 "metadata": {
  "colab": {
   "provenance": []
  },
  "kernelspec": {
   "display_name": "Python 3 (ipykernel)",
   "language": "python",
   "name": "python3"
  },
  "language_info": {
   "codemirror_mode": {
    "name": "ipython",
    "version": 3
   },
   "file_extension": ".py",
   "mimetype": "text/x-python",
   "name": "python",
   "nbconvert_exporter": "python",
   "pygments_lexer": "ipython3",
   "version": "3.10.8"
  }
 },
 "nbformat": 4,
 "nbformat_minor": 1
}
