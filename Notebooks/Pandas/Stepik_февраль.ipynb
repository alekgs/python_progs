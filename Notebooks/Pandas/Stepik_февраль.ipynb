{
 "cells": [
  {
   "cell_type": "code",
   "execution_count": 89,
   "id": "c86217ac",
   "metadata": {},
   "outputs": [
    {
     "name": "stdout",
     "output_type": "stream",
     "text": [
      "Гудцев Таймураз\n",
      "Харисов Артур\n",
      "Базиев Герман\n",
      "Макоев Руслан\n",
      "Найфонов Сослан\n",
      "Короев Аслан\n",
      "Дедегкаев Давид\n",
      "Уртаева Илина\n",
      "Бекузарова Фатима\n",
      "Акоева Лера\n",
      "Белов Глеб\n",
      "Букулова Диана\n",
      "Гусейнова Марьям\n",
      "Набокова Алиса\n",
      "Чередник Марк\n",
      "Перчиков Максим\n",
      "Идрисов Баграт\n",
      "Абаев Михаил\n",
      "Елькина Мария\n",
      "Кораев Давид\n",
      "Акоева Амина\n",
      "Денисов Тимофей\n",
      "Алдатов Сармат\n",
      "Зеленчук Александра\n",
      "Тарасов Станислав\n",
      "Гапбаев Герман\n",
      "Рыжая Ярослава\n",
      "Джикаев Таму\n",
      "Балаболка Вероника\n",
      "Гагиев Геор\n",
      "Козаев Роберт\n",
      "Габараев Артур\n",
      "Юлдашев Хандамир\n",
      "Кодзаев Георгий\n",
      "Дедегкаев Дамир\n",
      "Момотов Владислав\n",
      "Щербак Юрий\n",
      "Чуприков Максим\n",
      "Тиникашвили Давид\n",
      "Кораев Артур\n",
      "Цивинская Анна\n",
      "Солдатенков Илья\n",
      "Туткевич Юрий\n",
      "Маилян Кирилл\n",
      "Джиоева Марина\n",
      "Салбиев Максим\n",
      "Чен Владимир\n",
      "Капустин Егор\n",
      "Туаллагов Давид\n",
      "Губаев Герман\n",
      "Кузнецов Станислав\n",
      "Албегов Хетаг\n",
      "Битиев Сослан\n",
      "Мусиков Андраник\n",
      "Уртаева Дзера\n",
      "Гадзиев Георгий\n",
      "Епхиева Алика\n",
      "Шилин Александр\n"
     ]
    }
   ],
   "source": [
    "import pandas as pd\n",
    "\n",
    "df = pd.read_csv('meetings.csv')\n",
    "\n",
    "df['meeting_dt'] = df.meeting_date + df.meeting_time\n",
    "df.meeting_dt = pd.to_datetime(df.meeting_dt, format='%d.%m.%Y%H:%M')\n",
    "\n",
    "df.sort_values('meeting_dt', inplace=True)\n",
    "df['full_name'] = df.surname + ' ' + df.name\n",
    "\n",
    "print(*df.full_name, sep='\\n')\n"
   ]
  },
  {
   "cell_type": "code",
   "execution_count": null,
   "id": "aa1dfda5",
   "metadata": {},
   "outputs": [],
   "source": []
  },
  {
   "cell_type": "code",
   "execution_count": null,
   "id": "e91f484f",
   "metadata": {},
   "outputs": [],
   "source": []
  }
 ],
 "metadata": {
  "kernelspec": {
   "display_name": "Python 3 (ipykernel)",
   "language": "python",
   "name": "python3"
  },
  "language_info": {
   "codemirror_mode": {
    "name": "ipython",
    "version": 3
   },
   "file_extension": ".py",
   "mimetype": "text/x-python",
   "name": "python",
   "nbconvert_exporter": "python",
   "pygments_lexer": "ipython3",
   "version": "3.10.8"
  }
 },
 "nbformat": 4,
 "nbformat_minor": 5
}
