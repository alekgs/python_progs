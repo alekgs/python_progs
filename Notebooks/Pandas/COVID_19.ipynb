{
  "cells": [
    {
      "cell_type": "markdown",
      "metadata": {
        "id": "IRhw0xlfqhHd"
      },
      "source": [
        "### Где найти базы данных о коронавирусе COVID-19?\n",
        "\n",
        "Учёными и исследователями собираются многочисленные базы данных о коронавирусе, его генетической структуре, ходе распространения и научных исследованиях о нём. Значительные объёмы этих данных общедоступны.\n",
        "\n",
        "Подробности по [ссылке](https://covid19faq.ru/l/ru/article/f3sw02fiup-data)\n",
        "\n",
        "### Почему так сложно сделать хорошую математическую модель COVID-19?\n",
        "\n",
        "В это сложное время пандемии нам всем нужны ответы. Тысячи ученых, исследовательских центров и активистов по всему миру собирают данные и проводят исследования по теме «коронавирус» (COVID-19). Кажется, что уже должны существовать точные ответы. Эти ответы основаны на данных, но проблема в том, что данные повсюду и часто один источник противоречит другому.\n",
        "\n",
        "Подробности по [ссылке](https://covid19faq.ru/l/ru/article/dwmsq2i0ef-good-mathematical-model-covid-19)\n",
        "\n",
        "**Почему так сложно построить хороший прогноз по COVID-19? Как понять, сколько продлится карантин?** [Подробнее](https://vc.ru/flood/117032-pochemu-tak-slozhno-postroit-horoshiy-prognoz-po-covid-19-kak-ponyat-skolko-prodlitsya-karantin)\n",
        "\n",
        "### Где ведутся и публикуются исследования COVID-19?\n",
        "\n",
        "Исследования о COVID-19 ведутся в сотнях научных и исследовательских учреждений по всему миру. Здесь собраны ссылки на общедоступные исследования, базы научных публикаций и сообществ учёных.\n",
        "\n",
        "Подробности по [ссылке](https://covid19faq.ru/l/ru/article/5pqxj6az02-research)\n",
        "\n",
        "### Граф знаний COVID-19 \n",
        "\n",
        "Мы создаем граф знаний по COVID-19, который объединяет различные общедоступные наборы данных. Он включает в себя соответствующие публикации, статистику случаев, гены и функции, молекулярные данные и многое другое.\n",
        "\n",
        "Подробности по [ссылке](https://covidgraph.org)\n"
      ]
    },
    {
      "cell_type": "markdown",
      "metadata": {
        "id": "j8EevU3kqhHp"
      },
      "source": [
        "<a href=\"https://colab.research.google.com/github/dm-fedorov/pandas_basic/blob/master/быстрое%20введение%20в%20pandas/COVID-19.ipynb\"><img align=\"left\" src=\"https://colab.research.google.com/assets/colab-badge.svg\" alt=\"Open in Colab\" title=\"Open and Execute in Google Colaboratory\" target=\"_blank\"></a>"
      ]
    },
    {
      "cell_type": "code",
      "execution_count": null,
      "metadata": {
        "id": "vtPS3YJqqhHx"
      },
      "outputs": [],
      "source": [
        "import matplotlib.pyplot as plt\n",
        "import seaborn as sns\n",
        "sns.set()"
      ]
    },
    {
      "cell_type": "code",
      "execution_count": null,
      "metadata": {
        "id": "-wm5rxztqhH2"
      },
      "outputs": [],
      "source": [
        "import pandas as pd\n",
        "\n",
        "#Источник данных: https://github.com/datasets/covid-19\n",
        "\n",
        "url = \"https://raw.githubusercontent.com/datasets/covid-19/master/data/time-series-19-covid-combined.csv\"\n",
        "df = pd.read_csv(url, \n",
        "                 parse_dates=['Date'], \n",
        "                 index_col='Date', \n",
        "                 usecols=['Date','Country/Region', 'Confirmed', 'Recovered', 'Deaths'])\n",
        "df.sample(10)"
      ]
    },
    {
      "cell_type": "code",
      "execution_count": null,
      "metadata": {
        "id": "ArNKCqAEqhH7"
      },
      "outputs": [],
      "source": [
        "df.info()"
      ]
    },
    {
      "cell_type": "code",
      "execution_count": null,
      "metadata": {
        "scrolled": true,
        "id": "VCSYQjDkqhH9"
      },
      "outputs": [],
      "source": [
        "df['Country/Region'].unique()"
      ]
    },
    {
      "cell_type": "code",
      "execution_count": null,
      "metadata": {
        "id": "JAQKMCq2qhH_"
      },
      "outputs": [],
      "source": [
        "df.plot(alpha=0.5);"
      ]
    },
    {
      "cell_type": "markdown",
      "metadata": {
        "id": "1G2uImJ6qhIA"
      },
      "source": [
        "### Россия"
      ]
    },
    {
      "cell_type": "code",
      "execution_count": null,
      "metadata": {
        "id": "QFSbfq1aqhIB"
      },
      "outputs": [],
      "source": [
        "rus = df[df['Country/Region']=='Russia']\n",
        "rus.head()"
      ]
    },
    {
      "cell_type": "code",
      "execution_count": null,
      "metadata": {
        "id": "DUkj2NF2qhIC"
      },
      "outputs": [],
      "source": [
        "rus.describe()"
      ]
    },
    {
      "cell_type": "markdown",
      "metadata": {
        "id": "ti667zj6qhID"
      },
      "source": [
        "Округление:"
      ]
    },
    {
      "cell_type": "code",
      "execution_count": null,
      "metadata": {
        "id": "J1c8958yqhIE"
      },
      "outputs": [],
      "source": [
        "format = lambda x: f'{x:.2f}'\n",
        "rus.describe().applymap(format)"
      ]
    },
    {
      "cell_type": "code",
      "execution_count": null,
      "metadata": {
        "id": "3vGn6IK-qhIF"
      },
      "outputs": [],
      "source": [
        "rus.plot();"
      ]
    },
    {
      "cell_type": "code",
      "execution_count": null,
      "metadata": {
        "id": "NbCYjIYFqhIF"
      },
      "outputs": [],
      "source": [
        "rus.loc[\"2020-09-25\":\"2020-11-16\"].plot();"
      ]
    },
    {
      "cell_type": "code",
      "execution_count": null,
      "metadata": {
        "id": "lYjEI-FaqhIG"
      },
      "outputs": [],
      "source": [
        "rus.Confirmed.corr(rus.Recovered)"
      ]
    },
    {
      "cell_type": "markdown",
      "metadata": {
        "id": "1BOWBtMrqhIH"
      },
      "source": [
        "Коэффициент корреляции стремится к 1."
      ]
    },
    {
      "cell_type": "markdown",
      "metadata": {
        "id": "8iqpm_VjqhII"
      },
      "source": [
        "Вычисляем %-ное изменение с помощью метода [pct_change](https://pandas.pydata.org/pandas-docs/stable/reference/api/pandas.DataFrame.pct_change.html) для параметра Confirmed:"
      ]
    },
    {
      "cell_type": "code",
      "execution_count": null,
      "metadata": {
        "id": "XQk8VNysqhII"
      },
      "outputs": [],
      "source": [
        "data = rus.Confirmed.pct_change()\n",
        "data"
      ]
    },
    {
      "cell_type": "code",
      "execution_count": null,
      "metadata": {
        "id": "u9iDdNkcqhIL"
      },
      "outputs": [],
      "source": [
        "data[data.notna()]"
      ]
    },
    {
      "cell_type": "markdown",
      "metadata": {
        "id": "k7G1dHy-qhIL"
      },
      "source": [
        "Прирост:"
      ]
    },
    {
      "cell_type": "code",
      "execution_count": null,
      "metadata": {
        "id": "bAF6NMzeqhIL"
      },
      "outputs": [],
      "source": [
        "data[data.notna()].plot();"
      ]
    },
    {
      "cell_type": "code",
      "execution_count": null,
      "metadata": {
        "id": "kuC-6YaBqhIL"
      },
      "outputs": [],
      "source": [
        "data[data.notna()].plot(label=\"all\");\n",
        "data[data.notna()].rolling(10).mean().plot(label=\"rolling 10\");\n",
        "plt.legend();"
      ]
    },
    {
      "cell_type": "code",
      "execution_count": null,
      "metadata": {
        "id": "cQdJXIspqhIM"
      },
      "outputs": [],
      "source": [
        "data[data.notna()].plot(label=\"all\");\n",
        "data[data.notna()].rolling(10).mean().plot(label=\"rolling 10\");\n",
        "data[data.notna()].expanding().mean().plot(label=\"expanding\");\n",
        "plt.legend();"
      ]
    },
    {
      "cell_type": "code",
      "execution_count": null,
      "metadata": {
        "id": "-F3ROUpSqhIM"
      },
      "outputs": [],
      "source": [
        "rus.index"
      ]
    },
    {
      "cell_type": "code",
      "execution_count": null,
      "metadata": {
        "id": "ge99U8RKqhIN"
      },
      "outputs": [],
      "source": [
        "rus['2020-10':'2020-11'][:10]"
      ]
    },
    {
      "cell_type": "markdown",
      "metadata": {
        "id": "kh0DnOFuqhIN"
      },
      "source": [
        "### Передискретизация и преобразование частот"
      ]
    },
    {
      "cell_type": "code",
      "execution_count": null,
      "metadata": {
        "id": "O56t0OUnqhIN"
      },
      "outputs": [],
      "source": [
        "rus['2020-10':'2020-11'].plot();"
      ]
    },
    {
      "cell_type": "code",
      "execution_count": null,
      "metadata": {
        "id": "pnD5jOC-qhIP"
      },
      "outputs": [],
      "source": [
        "rus.Confirmed.plot();"
      ]
    },
    {
      "cell_type": "code",
      "execution_count": null,
      "metadata": {
        "id": "QkVfhvKkqhIP"
      },
      "outputs": [],
      "source": [
        "# среднее в месяц:\n",
        "rus.Confirmed.resample(\"M\").mean().plot(label='mean');\n",
        "rus.Confirmed.plot(label='all');\n",
        "plt.legend();"
      ]
    },
    {
      "cell_type": "code",
      "execution_count": null,
      "metadata": {
        "id": "P6L5lgluqhIP"
      },
      "outputs": [],
      "source": [
        "# среднее в месяц:\n",
        "rus.Confirmed.resample(\"M\", kind='period').mean()"
      ]
    },
    {
      "cell_type": "code",
      "execution_count": null,
      "metadata": {
        "id": "X3yHWnNdqhIQ"
      },
      "outputs": [],
      "source": [
        "# среднее в месяц:\n",
        "rus.Confirmed.resample(\"M\", kind='period').mean().plot();"
      ]
    },
    {
      "cell_type": "code",
      "execution_count": null,
      "metadata": {
        "id": "9LdSdAYDqhIQ"
      },
      "outputs": [],
      "source": [
        "rus.Confirmed.resample(\"M\", kind='period').mean().pct_change().plot();"
      ]
    },
    {
      "cell_type": "code",
      "execution_count": null,
      "metadata": {
        "id": "7D1xgZu1qhIQ"
      },
      "outputs": [],
      "source": []
    },
    {
      "cell_type": "markdown",
      "metadata": {
        "id": "yJsd90jfqhIR"
      },
      "source": [
        "### Италия"
      ]
    },
    {
      "cell_type": "code",
      "execution_count": null,
      "metadata": {
        "id": "qoB8WgPRqhIR"
      },
      "outputs": [],
      "source": [
        "it = df[df['Country/Region']=='Italy']\n",
        "it.head()"
      ]
    },
    {
      "cell_type": "code",
      "execution_count": null,
      "metadata": {
        "id": "pdKP5UOkqhIR"
      },
      "outputs": [],
      "source": [
        "it.plot();"
      ]
    },
    {
      "cell_type": "code",
      "execution_count": null,
      "metadata": {
        "id": "mMerrQuRqhIR"
      },
      "outputs": [],
      "source": [
        "it[it.Deaths<=1].tail()"
      ]
    },
    {
      "cell_type": "code",
      "execution_count": null,
      "metadata": {
        "id": "JJh8NPe2qhIS"
      },
      "outputs": [],
      "source": []
    }
  ],
  "metadata": {
    "kernelspec": {
      "display_name": "Python 3",
      "language": "python",
      "name": "python3"
    },
    "language_info": {
      "codemirror_mode": {
        "name": "ipython",
        "version": 3
      },
      "file_extension": ".py",
      "mimetype": "text/x-python",
      "name": "python",
      "nbconvert_exporter": "python",
      "pygments_lexer": "ipython3",
      "version": "3.8.3"
    },
    "colab": {
      "provenance": []
    }
  },
  "nbformat": 4,
  "nbformat_minor": 0
}