{
  "cells": [
    {
      "cell_type": "markdown",
      "metadata": {
        "id": "eMN-8z1Bqldx"
      },
      "source": [
        "# Регулярные выражения в Python и pandas"
      ]
    },
    {
      "cell_type": "markdown",
      "metadata": {
        "id": "qirF8PDWqldz"
      },
      "source": [
        "<a href=\"https://colab.research.google.com/github/dm-fedorov/pandas_basic/blob/master/кейсы%20по%20анализу%20данных/Регулярные_выражения_в_pandas.ipynb\" target=\"_blank\"><img align=\"left\" src=\"https://colab.research.google.com/assets/colab-badge.svg\" alt=\"Open in Colab\" title=\"Open and Execute in Google Colaboratory\"></a>"
      ]
    },
    {
      "cell_type": "markdown",
      "metadata": {
        "id": "F82EVYq1qld0"
      },
      "source": [
        "> Отрывок из прекрасной книги *Дейтел Пол, Дейтел Харви. Python: Искусственный интеллект, большие данные и облачные вычисления*. "
      ]
    },
    {
      "cell_type": "markdown",
      "metadata": {
        "id": "CFPokKk0qld1"
      },
      "source": [
        "Строка с регулярным выражением описывает шаблон для поиска совпадений в других строках."
      ]
    },
    {
      "cell_type": "markdown",
      "metadata": {
        "id": "49lFGP8pqld2"
      },
      "source": [
        "На веб-сайтах:\n",
        "- https://regex101.com\n",
        "- http://www.regexlib.com\n",
        "- https://www.regular-expressions.info\n",
        "\n",
        "имеются репозитории готовых регулярных выражений.\n",
        "\n",
        "> см. официальный документ [Regular Expression HOWTO](https://docs.python.org/3/howto/regex.html#regex-howto)"
      ]
    },
    {
      "cell_type": "code",
      "execution_count": null,
      "metadata": {
        "id": "CmfD9Qw3qld3"
      },
      "outputs": [],
      "source": [
        "# импортируем модуль для работы с регулярными выражениями: https://docs.python.org/3/library/re.html\n",
        "import re"
      ]
    },
    {
      "cell_type": "markdown",
      "metadata": {
        "id": "KURDphv8qld4"
      },
      "source": [
        "Одна из простейших функций регулярных выражений [`fullmatch`](https://docs.python.org/3/library/re.html#re.fullmatch) проверяет, совпадает ли шаблон, заданный первым аргументом, со всей строкой, заданной вторым аргументом."
      ]
    },
    {
      "cell_type": "markdown",
      "metadata": {
        "id": "eoMQUzS_qld5"
      },
      "source": [
        "Начнем с проверки совпадений для литеральных символов, то есть символов, которые совпадают сами с собой:"
      ]
    },
    {
      "cell_type": "code",
      "execution_count": null,
      "metadata": {
        "id": "005_bFJcqld5"
      },
      "outputs": [],
      "source": [
        "pattern = '02215'"
      ]
    },
    {
      "cell_type": "code",
      "execution_count": null,
      "metadata": {
        "id": "2H8Dwzr3qld6",
        "outputId": "56761ad2-503a-4aa9-f841-75c6b596a966"
      },
      "outputs": [
        {
          "data": {
            "text/plain": [
              "'Match'"
            ]
          },
          "execution_count": 3,
          "metadata": {},
          "output_type": "execute_result"
        }
      ],
      "source": [
        "# тернарный if\n",
        "'Match' if re.fullmatch(pattern, '02215') else 'No match'"
      ]
    },
    {
      "cell_type": "code",
      "execution_count": null,
      "metadata": {
        "id": "mi6IdTImqld7",
        "outputId": "804bed6b-ba76-43ac-a319-e5be4cd0b69d"
      },
      "outputs": [
        {
          "data": {
            "text/plain": [
              "'No match'"
            ]
          },
          "execution_count": 4,
          "metadata": {},
          "output_type": "execute_result"
        }
      ],
      "source": [
        "'Match' if re.fullmatch(pattern, '51220') else 'No match'"
      ]
    },
    {
      "cell_type": "markdown",
      "metadata": {
        "id": "-JamAWITqld8"
      },
      "source": [
        "Первым аргументом функции является регулярное выражение — шаблон, для которого проверяется совпадение в строке. Любая строка может быть регулярным выражением. Значение переменной `pattern` `'02215'` состоит из цифровых литералов, которые совпадают только сами с собой в заданном порядке. Во втором аргументе передается строка, с которой должен полностью совпасть шаблон. \n",
        "\n",
        "Если шаблон из первого аргумента совпадает со строкой из второго аргумента, `fullmatch` возвращает объект с текстом совпадения, который интерпретируется как `True`. \n",
        "\n",
        "Во фрагменте второй аргумент содержит те же цифры, но эти цифры следуют в другом порядке. Таким образом, совпадения нет, а `fullmatch` возвращает `None`, что интерпретируется как `False`."
      ]
    },
    {
      "cell_type": "markdown",
      "metadata": {
        "id": "rbtA9NAxqld9"
      },
      "source": [
        "Регулярные выражения обычно содержат различные специальные символы, которые называются метасимволами:\n",
        "\n",
        "`[] {} () \\ * + ^ $ ? . |` "
      ]
    },
    {
      "cell_type": "markdown",
      "metadata": {
        "id": "kLFMCHneqld-"
      },
      "source": [
        "С метасимвола `\\` начинается каждый из предварительно определенных *символьных классов*, каждый из которых совпадает с символом из конкретного набора. \n",
        "\n",
        "Проверим, что почтовый код состоит из пяти цифр:"
      ]
    },
    {
      "cell_type": "code",
      "execution_count": null,
      "metadata": {
        "id": "KXhtQ0MGqld-",
        "outputId": "d4382e2b-9676-4606-afe7-6ddbef0b5449"
      },
      "outputs": [
        {
          "data": {
            "text/plain": [
              "'Valid'"
            ]
          },
          "execution_count": 5,
          "metadata": {},
          "output_type": "execute_result"
        }
      ],
      "source": [
        "'Valid' if re.fullmatch(r'\\d{5}', '02215') else 'Invalid'"
      ]
    },
    {
      "cell_type": "code",
      "execution_count": null,
      "metadata": {
        "id": "govi6FERqld_",
        "outputId": "3b69e497-3db1-40f8-f2b1-29d0106fe876"
      },
      "outputs": [
        {
          "data": {
            "text/plain": [
              "'Invalid'"
            ]
          },
          "execution_count": 6,
          "metadata": {},
          "output_type": "execute_result"
        }
      ],
      "source": [
        "'Valid' if re.fullmatch(r'\\d{5}', '9876') else 'Invalid'"
      ]
    },
    {
      "cell_type": "markdown",
      "metadata": {
        "id": "YrG4wokxqld_"
      },
      "source": [
        "В регулярном выражении `\\d{5}` `\\d` является символьным классом, представляющим цифру `(0–9)`. \n",
        "\n",
        "*Символьный класс* — служебная последовательность в регулярном выражении, совпадающая с одним символом. Чтобы совпадение могло состоять из нескольких символов, за символьным классом следует указать *квантификатор*. \n",
        "\n",
        "Квантификатор `{5}` повторяет `\\d` пять раз, как если бы мы использовали запись `\\d\\d\\d\\d\\d` для совпадения с пятью последовательными цифрами. \n",
        "\n",
        "Во фрагменте `fullmatch` возвращает `None`, потому что `'9876'` совпадает только с четырьмя последовательными цифровыми символами."
      ]
    },
    {
      "cell_type": "markdown",
      "metadata": {
        "id": "Zvu9z5EoqleA"
      },
      "source": [
        "Ниже перечислены некоторые предопределенные символьные классы и группы символов, с которыми они совпадают. \n",
        "\n",
        "- `\\d` Любая цифра `(0–9)`\n",
        "- `\\D` Любой символ, кроме цифр\n",
        "- `\\s` Любой символ-пропуск (пробелы, табуляции, новые строки)\n",
        "- `\\S` Любой символ, кроме пропусков\n",
        "- `\\w` Любой символ слова (также называемый алфавитно-цифровым символом) — то есть любая буква верхнего или нижнего регистра, любая цифра или символ подчеркивания\n",
        "- `\\W` Любой символ, кроме символов слов\n",
        "\n",
        "Чтобы любой метасимвол совпадал со своим литеральным значением, поставьте перед ним символ `\\` (обратный слеш). Например, `\\\\` совпадает с обратным слешем `( \\ )`, а `\\$` совпадает со знаком `$`."
      ]
    },
    {
      "cell_type": "markdown",
      "metadata": {
        "id": "f6QeGyx5qleA"
      },
      "source": [
        "Квадратные скобки `[]` определяют *пользовательский символьный класс*, совпадающий с одним символом. Так, `[aeiou]` совпадает с гласной буквой нижнего регистра, `[A-Z]` — с буквой верхнего регистра, `[a-z]` — с буквой нижнего регистра и `[a-zA-Z]` — с любой буквой нижнего (верхнего) регистра. \n",
        "\n",
        "Выполним простую проверку имени — последовательности букв без пробелов или знаков препинания. Проверим, что последовательность начинается с буквы верхнего регистра `( A–Z )`, а за ней следует *произвольное количество* букв нижнего регистра `( a–z )`:"
      ]
    },
    {
      "cell_type": "code",
      "execution_count": null,
      "metadata": {
        "id": "WJw1Ba0RqleA",
        "outputId": "bfd1b54a-ca2b-4217-eaee-b464fe6f8f5f"
      },
      "outputs": [
        {
          "data": {
            "text/plain": [
              "'Valid'"
            ]
          },
          "execution_count": 7,
          "metadata": {},
          "output_type": "execute_result"
        }
      ],
      "source": [
        "'Valid' if re.fullmatch('[A-Z][a-z]*', 'Wally') else 'Invalid'"
      ]
    },
    {
      "cell_type": "code",
      "execution_count": null,
      "metadata": {
        "id": "winzsf6oqleB",
        "outputId": "575d6555-233c-429e-a3dc-d6d20c4744c0"
      },
      "outputs": [
        {
          "data": {
            "text/plain": [
              "'Invalid'"
            ]
          },
          "execution_count": 8,
          "metadata": {},
          "output_type": "execute_result"
        }
      ],
      "source": [
        "'Valid' if re.fullmatch('[A-Z][a-z]*', 'eva') else 'Invalid'"
      ]
    },
    {
      "cell_type": "markdown",
      "metadata": {
        "id": "L2ehYeATqleB"
      },
      "source": [
        "Имя может содержать неизвестное заранее количество букв. \n",
        "\n",
        "Квантификатор `*` совпадает с *нулем и более вхождениями* подвыражения, находящегося слева (в данном случае `[a-z]`). Таким образом, `[A-Z][a-z]*` совпадает с буквой верхнего регистра, за которой следует нуль и более букв нижнего регистра (например, `'Amanda'` , `'Bo'` и даже `'E'`). \n",
        "\n",
        "Если пользовательский символьный класс начинается с символа `^` (крышка), то класс совпадает с любым символом, который не подходит под определение из класса. Таким образом, `[^a-z]` совпадает с любым символом, который не является буквой нижнего регистра:"
      ]
    },
    {
      "cell_type": "code",
      "execution_count": null,
      "metadata": {
        "id": "a2Jy792gqleB",
        "outputId": "a8cc736b-6633-4bf9-9a3e-1939b10d755a"
      },
      "outputs": [
        {
          "data": {
            "text/plain": [
              "'Match'"
            ]
          },
          "execution_count": 9,
          "metadata": {},
          "output_type": "execute_result"
        }
      ],
      "source": [
        "'Match' if re.fullmatch('[^a-z]', 'A') else 'No match'"
      ]
    },
    {
      "cell_type": "code",
      "execution_count": null,
      "metadata": {
        "id": "o8ShM0dHqleB",
        "outputId": "93388c4e-b076-4678-cb0c-650ccda7608f"
      },
      "outputs": [
        {
          "data": {
            "text/plain": [
              "'No match'"
            ]
          },
          "execution_count": 10,
          "metadata": {},
          "output_type": "execute_result"
        }
      ],
      "source": [
        "'Match' if re.fullmatch('[^a-z]', 'a') else 'No match'"
      ]
    },
    {
      "cell_type": "markdown",
      "metadata": {
        "id": "npf8BdlkqleB"
      },
      "source": [
        "Метасимволы в пользовательском символьном классе интерпретируются как литеральные символы, то есть как сами символы, не имеющие специального смысла. \n",
        "\n",
        "Таким образом, символьный класс `[*+$]` совпадает с одним из символов `*` , `+` или `$`:"
      ]
    },
    {
      "cell_type": "code",
      "execution_count": null,
      "metadata": {
        "id": "6I1tBg4RqleC",
        "outputId": "da191274-cd14-4712-e830-8419d6616f65"
      },
      "outputs": [
        {
          "data": {
            "text/plain": [
              "'Match'"
            ]
          },
          "execution_count": 11,
          "metadata": {},
          "output_type": "execute_result"
        }
      ],
      "source": [
        "'Match' if re.fullmatch('[*+$]', '*') else 'No match'"
      ]
    },
    {
      "cell_type": "code",
      "execution_count": null,
      "metadata": {
        "id": "-v8bnplnqleC",
        "outputId": "349861db-30a6-484e-a07c-836a1bc145cf"
      },
      "outputs": [
        {
          "data": {
            "text/plain": [
              "'No match'"
            ]
          },
          "execution_count": 12,
          "metadata": {},
          "output_type": "execute_result"
        }
      ],
      "source": [
        "'Match' if re.fullmatch('[*+$]', '!') else 'No match'"
      ]
    },
    {
      "cell_type": "markdown",
      "metadata": {
        "id": "IYr36mn7qleC"
      },
      "source": [
        "Для того чтобы имя содержало хотя бы одну букву нижнего регистра, квантификатор `*` во фрагменте можно заменить знаком `+`, который совпадает по крайней мере с одним вхождением подвыражения:"
      ]
    },
    {
      "cell_type": "code",
      "execution_count": null,
      "metadata": {
        "id": "18QXcqMwqleD",
        "outputId": "671c06d4-98ee-4030-a204-4aa8f053c318"
      },
      "outputs": [
        {
          "data": {
            "text/plain": [
              "'Valid'"
            ]
          },
          "execution_count": 13,
          "metadata": {},
          "output_type": "execute_result"
        }
      ],
      "source": [
        "'Valid' if re.fullmatch('[A-Z][a-z]+', 'Wally') else 'Invalid'"
      ]
    },
    {
      "cell_type": "code",
      "execution_count": null,
      "metadata": {
        "id": "epexUe_7qleD",
        "outputId": "39e83e9f-0dd6-4733-8b9a-7614223c5e03"
      },
      "outputs": [
        {
          "data": {
            "text/plain": [
              "'Invalid'"
            ]
          },
          "execution_count": 14,
          "metadata": {},
          "output_type": "execute_result"
        }
      ],
      "source": [
        "'Valid' if re.fullmatch('[A-Z][a-z]+', 'E') else 'Invalid'"
      ]
    },
    {
      "cell_type": "markdown",
      "metadata": {
        "id": "pnIqA21HqleD"
      },
      "source": [
        "Квантификаторы `*` и `+` являются максимальными (*\"жадными\"*) — они совпадают с максимально возможным количеством символов. \n",
        "\n",
        "Таким образом, регулярные выражения `[A-Z][a-z]+` совпадают с именами `'Al'` , `'Eva'` , `'Samantha'` , `'Benjamin'` и любыми другими словами, начинающимися с буквы верхнего регистра, за которой следует хотя бы одна буква нижнего регистра."
      ]
    },
    {
      "cell_type": "markdown",
      "metadata": {
        "id": "4ORRE1FlqleD"
      },
      "source": [
        "Квантификатор `?` совпадает *с нулем или одним вхождением* подвыражения:"
      ]
    },
    {
      "cell_type": "code",
      "execution_count": null,
      "metadata": {
        "id": "OusC1u-hqleE",
        "outputId": "80361eb7-0831-4bbf-d51c-cfe5c34b7eda"
      },
      "outputs": [
        {
          "data": {
            "text/plain": [
              "'Match'"
            ]
          },
          "execution_count": 15,
          "metadata": {},
          "output_type": "execute_result"
        }
      ],
      "source": [
        "'Match' if re.fullmatch('labell?ed', 'labelled') else 'No match'"
      ]
    },
    {
      "cell_type": "code",
      "execution_count": null,
      "metadata": {
        "id": "e0SbSeS9qleE",
        "outputId": "8d0ce294-1e30-4ba0-c202-36f6aee3f750"
      },
      "outputs": [
        {
          "data": {
            "text/plain": [
              "'Match'"
            ]
          },
          "execution_count": 16,
          "metadata": {},
          "output_type": "execute_result"
        }
      ],
      "source": [
        "'Match' if re.fullmatch('labell?ed', 'labeled') else 'No match'"
      ]
    },
    {
      "cell_type": "code",
      "execution_count": null,
      "metadata": {
        "id": "wnqFyCduqleE",
        "outputId": "d6df7147-31ef-42c1-f895-2b7d17075e11"
      },
      "outputs": [
        {
          "data": {
            "text/plain": [
              "'No match'"
            ]
          },
          "execution_count": 17,
          "metadata": {},
          "output_type": "execute_result"
        }
      ],
      "source": [
        "'Match' if re.fullmatch('labell?ed', 'labellled') else 'No match'"
      ]
    },
    {
      "cell_type": "markdown",
      "metadata": {
        "id": "PFzz940iqleF"
      },
      "source": [
        "Регулярное выражение `labell?ed` совпадает со словами `labelled` и `labeled` , но не с ошибочно написанным словом `labellled`. В каждом из приведенных выше фрагментов первые пять литеральных символов регулярного выражения `( label )` совпадают с первыми пятью символами второго аргумента. Часть `l?` означает, что оставшимся литеральным символам `ed` может предшествовать нуль или один символ `l` .\n",
        "\n",
        "Квантификатор `{n,}` совпадает *не менее чем* с `n` вхождениями подвыражения. Следующее регулярное выражение совпадает со строками, содержащими не менее трех цифр:"
      ]
    },
    {
      "cell_type": "code",
      "execution_count": null,
      "metadata": {
        "id": "VFqcGQG1qleF",
        "outputId": "3e93882d-fbba-4b6d-81b0-e7f4652a651d"
      },
      "outputs": [
        {
          "data": {
            "text/plain": [
              "'Match'"
            ]
          },
          "execution_count": 18,
          "metadata": {},
          "output_type": "execute_result"
        }
      ],
      "source": [
        "'Match' if re.fullmatch(r'\\d{3,}', '123') else 'No match'"
      ]
    },
    {
      "cell_type": "code",
      "execution_count": null,
      "metadata": {
        "id": "0ZlWQJKuqleF",
        "outputId": "816166cd-564e-4d54-bef9-f8cbe34f4794"
      },
      "outputs": [
        {
          "data": {
            "text/plain": [
              "'Match'"
            ]
          },
          "execution_count": 19,
          "metadata": {},
          "output_type": "execute_result"
        }
      ],
      "source": [
        "'Match' if re.fullmatch(r'\\d{3,}', '1234567890') else 'No match'"
      ]
    },
    {
      "cell_type": "code",
      "execution_count": null,
      "metadata": {
        "id": "5QVsesszqleF",
        "outputId": "43464abc-194e-48a6-b17e-f6b864006e27"
      },
      "outputs": [
        {
          "data": {
            "text/plain": [
              "'No match'"
            ]
          },
          "execution_count": 20,
          "metadata": {},
          "output_type": "execute_result"
        }
      ],
      "source": [
        "'Match' if re.fullmatch(r'\\d{3,}', '12') else 'No match'"
      ]
    },
    {
      "cell_type": "markdown",
      "metadata": {
        "id": "Ln_l1AbdqleG"
      },
      "source": [
        "Чтобы совпадение включало от `n` до `m` (включительно) вхождений, используйте квантификатор `{n,m}`. Следующее регулярное выражение совпадает со строками, содержащими от `3` до `6` цифр:"
      ]
    },
    {
      "cell_type": "code",
      "execution_count": null,
      "metadata": {
        "id": "WH0sg_5GqleG",
        "outputId": "8655723a-b149-4ac0-d236-5cbc010ac62c"
      },
      "outputs": [
        {
          "data": {
            "text/plain": [
              "'Match'"
            ]
          },
          "execution_count": 21,
          "metadata": {},
          "output_type": "execute_result"
        }
      ],
      "source": [
        "'Match' if re.fullmatch(r'\\d{3,6}', '123') else 'No match'"
      ]
    },
    {
      "cell_type": "code",
      "execution_count": null,
      "metadata": {
        "id": "anfx4pTxqleH",
        "outputId": "1dd71721-6fa2-42a2-8286-ffe44ea55cfd"
      },
      "outputs": [
        {
          "data": {
            "text/plain": [
              "'Match'"
            ]
          },
          "execution_count": 22,
          "metadata": {},
          "output_type": "execute_result"
        }
      ],
      "source": [
        "'Match' if re.fullmatch(r'\\d{3,6}', '123456') else 'No match'"
      ]
    },
    {
      "cell_type": "code",
      "execution_count": null,
      "metadata": {
        "id": "hPkYbDdoqleH",
        "outputId": "d610fb10-3cc5-4e3f-97dd-4235d6229b27"
      },
      "outputs": [
        {
          "data": {
            "text/plain": [
              "'No match'"
            ]
          },
          "execution_count": 23,
          "metadata": {},
          "output_type": "execute_result"
        }
      ],
      "source": [
        "'Match' if re.fullmatch(r'\\d{3,6}', '1234567') else 'No match'"
      ]
    },
    {
      "cell_type": "code",
      "execution_count": null,
      "metadata": {
        "id": "qk8IslLmqleH",
        "outputId": "03d9df1d-8864-46e8-e543-b0681d7d9f9f"
      },
      "outputs": [
        {
          "data": {
            "text/plain": [
              "'No match'"
            ]
          },
          "execution_count": 24,
          "metadata": {},
          "output_type": "execute_result"
        }
      ],
      "source": [
        "'Match' if re.fullmatch(r'\\d{3,6}', '12') else 'No match'"
      ]
    },
    {
      "cell_type": "markdown",
      "metadata": {
        "id": "uumPas6QqleH"
      },
      "source": [
        "Модуль `re` предоставляет функцию [`sub`](https://docs.python.org/3/library/re.html#re.sub) для замены совпадений шаблона в строке, а также функцию [`split`](https://docs.python.org/3/library/re.html#re.Pattern.split) для разбиения строки на фрагменты на основании шаблонов."
      ]
    },
    {
      "cell_type": "markdown",
      "metadata": {
        "id": "Z42psetdqleI"
      },
      "source": [
        "По умолчанию функция `sub` модуля `re` заменяет все вхождения шаблона заданным текстом. \n",
        "\n",
        "Преобразуем строку, разделенную табуляциями, в формат с разделением запятыми:"
      ]
    },
    {
      "cell_type": "code",
      "execution_count": null,
      "metadata": {
        "id": "STG068wfqleI"
      },
      "outputs": [],
      "source": [
        "import re"
      ]
    },
    {
      "cell_type": "code",
      "execution_count": null,
      "metadata": {
        "id": "6cu60pIzqleI",
        "outputId": "b45b98eb-ad3b-4079-d56d-2beec19d5420"
      },
      "outputs": [
        {
          "data": {
            "text/plain": [
              "'1, 2, 3, 4'"
            ]
          },
          "execution_count": 26,
          "metadata": {},
          "output_type": "execute_result"
        }
      ],
      "source": [
        "re.sub(r'\\t', ', ', '1\\t2\\t3\\t4')"
      ]
    },
    {
      "cell_type": "markdown",
      "metadata": {
        "id": "p2qBXOuDqleI"
      },
      "source": [
        "Функция `sub` получает три обязательных аргумента:\n",
        "\n",
        "- шаблон для поиска (символ табуляции `'\\t'`);\n",
        "- текст замены ( `', '` );\n",
        "- строка, в которой ведется поиск ( `'1\\t2\\t3\\t4'` ),\n",
        "\n",
        "и возвращает новую строку. \n",
        "\n",
        "Ключевой аргумент `count` может использоваться для определения максимального количества замен:"
      ]
    },
    {
      "cell_type": "code",
      "execution_count": null,
      "metadata": {
        "id": "761yumPQqleJ",
        "outputId": "2377d2ba-715a-4903-9739-577d0530a6dd"
      },
      "outputs": [
        {
          "data": {
            "text/plain": [
              "'1, 2, 3\\t4'"
            ]
          },
          "execution_count": 27,
          "metadata": {},
          "output_type": "execute_result"
        }
      ],
      "source": [
        "re.sub(r'\\t', ', ', '1\\t2\\t3\\t4', count=2)"
      ]
    },
    {
      "cell_type": "markdown",
      "metadata": {
        "id": "6Dzct6gDqleJ"
      },
      "source": [
        "Функция `split` разбивает строку на лексемы, используя регулярное выражение для определения ограничителя, и возвращает список строк. \n",
        "\n",
        "Разобьем строку по запятым, за которыми следует `0` или более пропусков — для обозначения пропусков используется символьный класс `\\s` , а `*` обозначает `0` и более вхождений предшествующего подвыражения:"
      ]
    },
    {
      "cell_type": "code",
      "execution_count": null,
      "metadata": {
        "id": "c82uuhxMqleK",
        "outputId": "9ed4340e-57cf-4b2a-ad6e-681fc8e95e77"
      },
      "outputs": [
        {
          "data": {
            "text/plain": [
              "['1', '2', '3', '4', '5', '6', '7', '8']"
            ]
          },
          "execution_count": 28,
          "metadata": {},
          "output_type": "execute_result"
        }
      ],
      "source": [
        "re.split(r',\\s*', '1, 2, 3,4,        5,6,7,8')"
      ]
    },
    {
      "cell_type": "markdown",
      "metadata": {
        "id": "dKNBwXbvqleK"
      },
      "source": [
        "Ключевой аргумент `maxsplit` задает максимальное количество разбиений:"
      ]
    },
    {
      "cell_type": "code",
      "execution_count": null,
      "metadata": {
        "id": "NmbDXDSWqleK",
        "outputId": "ae4d4d3c-3ee9-4fcf-aa02-e58e9bd90e6c"
      },
      "outputs": [
        {
          "data": {
            "text/plain": [
              "['1', '2', '3', '4,            5,6,7,8']"
            ]
          },
          "execution_count": 29,
          "metadata": {},
          "output_type": "execute_result"
        }
      ],
      "source": [
        "re.split(r',\\s*', '1,   2, 3,4,            5,6,7,8', maxsplit=3)"
      ]
    },
    {
      "cell_type": "markdown",
      "metadata": {
        "id": "WVDX7OGOqleK"
      },
      "source": [
        "В данном случае после трех разбиений четвертая строка содержит остаток исходной строки."
      ]
    },
    {
      "cell_type": "markdown",
      "metadata": {
        "id": "OxAR2HCOqleL"
      },
      "source": [
        "Ранее мы использовали функцию `fullmatch` для определения того, совпала ли вся строка с регулярным выражением. Но существует и ряд других функций поиска совпадений. \n",
        "\n",
        "Функция [`search`](https://docs.python.org/3/library/re.html#re.Pattern.search) ищет в строке *первое вхождение подстроки*, совпадающей с регулярным выражением, и *возвращает объект совпадения* (типа [`SRE_Match`](https://docs.python.org/3/library/re.html#match-objects)), содержащий подстроку с совпадением. \n",
        "\n",
        "Метод [`group`](https://docs.python.org/3/library/re.html#re.Match.group) объекта совпадения возвращает эту подстроку:"
      ]
    },
    {
      "cell_type": "code",
      "execution_count": null,
      "metadata": {
        "id": "IspoGkCZqleL"
      },
      "outputs": [],
      "source": [
        "import re"
      ]
    },
    {
      "cell_type": "code",
      "execution_count": null,
      "metadata": {
        "id": "ApFcL68kqleL"
      },
      "outputs": [],
      "source": [
        "result = re.search('Python', 'Python is fun')"
      ]
    },
    {
      "cell_type": "code",
      "execution_count": null,
      "metadata": {
        "id": "u9elwvqQqleM",
        "outputId": "4f6f86f7-89f4-46bc-e936-1602d0125c06"
      },
      "outputs": [
        {
          "data": {
            "text/plain": [
              "'Python'"
            ]
          },
          "execution_count": 32,
          "metadata": {},
          "output_type": "execute_result"
        }
      ],
      "source": [
        "result.group() if result else 'not found'"
      ]
    },
    {
      "cell_type": "markdown",
      "metadata": {
        "id": "OrhmsPoKqleM"
      },
      "source": [
        "Функция [`match`](https://docs.python.org/3/library/re.html#re.Pattern.match) ищет совпадение только от начала строки."
      ]
    },
    {
      "cell_type": "markdown",
      "metadata": {
        "id": "6ranklHsqleM"
      },
      "source": [
        "Метасимвол `^` в начале регулярного выражения (и не в квадратных скобках) — якорь, указывающий, что *выражение совпадает только от начала строки*:"
      ]
    },
    {
      "cell_type": "code",
      "execution_count": null,
      "metadata": {
        "id": "i8lHpOC5qleM"
      },
      "outputs": [],
      "source": [
        "result = re.search('^Python', 'Python is fun')"
      ]
    },
    {
      "cell_type": "code",
      "execution_count": null,
      "metadata": {
        "id": "eomGxrCaqleN",
        "outputId": "b7f2c23c-acd7-4622-f008-23c22f60a911"
      },
      "outputs": [
        {
          "data": {
            "text/plain": [
              "'Python'"
            ]
          },
          "execution_count": 34,
          "metadata": {},
          "output_type": "execute_result"
        }
      ],
      "source": [
        "result.group() if result else 'not found'"
      ]
    },
    {
      "cell_type": "code",
      "execution_count": null,
      "metadata": {
        "id": "t6gYf4IhqleN"
      },
      "outputs": [],
      "source": [
        "result = re.search('^fun', 'Python is fun')"
      ]
    },
    {
      "cell_type": "code",
      "execution_count": null,
      "metadata": {
        "id": "LTA9_FPVqleN",
        "outputId": "d8755f9a-1017-4c25-d1c5-a8b06082dbff"
      },
      "outputs": [
        {
          "data": {
            "text/plain": [
              "'not found'"
            ]
          },
          "execution_count": 36,
          "metadata": {},
          "output_type": "execute_result"
        }
      ],
      "source": [
        "result.group() if result else 'not found'"
      ]
    },
    {
      "cell_type": "markdown",
      "metadata": {
        "id": "6u69KszCqleN"
      },
      "source": [
        "Аналогичным образом символ `$` в конце регулярного выражения является якорем, указывающим, что *выражение совпадает только в конце строки*:"
      ]
    },
    {
      "cell_type": "code",
      "execution_count": null,
      "metadata": {
        "id": "QuRkhhgKqleO"
      },
      "outputs": [],
      "source": [
        "result = re.search('Python$', 'Python is fun')"
      ]
    },
    {
      "cell_type": "code",
      "execution_count": null,
      "metadata": {
        "id": "-NF-Dhi2qleO",
        "outputId": "4a2f1715-584e-4536-9dc1-636d793fd875"
      },
      "outputs": [
        {
          "data": {
            "text/plain": [
              "'not found'"
            ]
          },
          "execution_count": 38,
          "metadata": {},
          "output_type": "execute_result"
        }
      ],
      "source": [
        "result.group() if result else 'not found'"
      ]
    },
    {
      "cell_type": "code",
      "execution_count": null,
      "metadata": {
        "id": "pOHAnRqzqleO"
      },
      "outputs": [],
      "source": [
        "result = re.search('fun$', 'Python is fun')"
      ]
    },
    {
      "cell_type": "code",
      "execution_count": null,
      "metadata": {
        "id": "p-41uFNkqleO",
        "outputId": "0069d9b1-0000-4797-89ee-4d35554fa7ce"
      },
      "outputs": [
        {
          "data": {
            "text/plain": [
              "'fun'"
            ]
          },
          "execution_count": 40,
          "metadata": {},
          "output_type": "execute_result"
        }
      ],
      "source": [
        "result.group() if result else 'not found'"
      ]
    },
    {
      "cell_type": "markdown",
      "metadata": {
        "id": "yCdbXVo_qleP"
      },
      "source": [
        "Функция [`findall`](https://docs.python.org/3/library/re.html#re.Pattern.findall) находит все совпадающие подстроки и возвращает список совпадений. \n",
        "\n",
        "Для примера извлечем все телефонные номера в строке, полагая, что телефонные номера записываются в форме `###-###-####` :"
      ]
    },
    {
      "cell_type": "code",
      "execution_count": null,
      "metadata": {
        "id": "scvTWRCWqleP"
      },
      "outputs": [],
      "source": [
        "contact = 'Wally White, Home: 555-555-1234, Work: 555-555-4321'"
      ]
    },
    {
      "cell_type": "code",
      "execution_count": null,
      "metadata": {
        "id": "5Gvkm1g5qleP",
        "outputId": "1364f508-fb4e-400d-d032-3e7c3469a204"
      },
      "outputs": [
        {
          "data": {
            "text/plain": [
              "['555-555-1234', '555-555-4321']"
            ]
          },
          "execution_count": 42,
          "metadata": {},
          "output_type": "execute_result"
        }
      ],
      "source": [
        "re.findall(r'\\d{3}-\\d{3}-\\d{4}', contact)"
      ]
    },
    {
      "cell_type": "markdown",
      "metadata": {
        "id": "O4Ngsso9qleP"
      },
      "source": [
        "Функция [`finditer`](https://docs.python.org/3/library/re.html#re.finditer) работает аналогично `findall` , но возвращает итерируемый объект, содержащий объекты совпадений, с отложенным вычислением. \n",
        "\n",
        "При большом количестве совпадений использование `finditer` позволит сэкономить память, потому что она возвращает по одному совпадению, тогда как `findall` возвращает все совпадения сразу:"
      ]
    },
    {
      "cell_type": "code",
      "execution_count": null,
      "metadata": {
        "id": "BpPI9bvqqleQ",
        "outputId": "0fd0a82e-ce2a-4504-d7e5-452e262377a4"
      },
      "outputs": [
        {
          "name": "stdout",
          "output_type": "stream",
          "text": [
            "555-555-1234\n",
            "555-555-4321\n"
          ]
        }
      ],
      "source": [
        "for phone in re.finditer(r'\\d{3}-\\d{3}-\\d{4}', contact):\n",
        "    print(phone.group())"
      ]
    },
    {
      "cell_type": "markdown",
      "metadata": {
        "id": "3gqcpkvsqleQ"
      },
      "source": [
        "Метасимволы `(` и `)` (круглые скобки) используются *для сохранения подстрок в совпадениях*. \n",
        "\n",
        "Для примера сохраним отдельно имя и адрес электронной почты в тексте строки:"
      ]
    },
    {
      "cell_type": "code",
      "execution_count": null,
      "metadata": {
        "id": "W2SGzxCnqleQ"
      },
      "outputs": [],
      "source": [
        "text = 'Charlie Cyan, e-mail: demo1@deitel.com'"
      ]
    },
    {
      "cell_type": "code",
      "execution_count": null,
      "metadata": {
        "id": "Z6y5BuMQqleQ"
      },
      "outputs": [],
      "source": [
        "pattern = r'([A-Z][a-z]+ [A-Z][a-z]+), e-mail: (\\w+@\\w+\\.\\w{3})'"
      ]
    },
    {
      "cell_type": "code",
      "execution_count": null,
      "metadata": {
        "id": "N6aVc8bKqleQ"
      },
      "outputs": [],
      "source": [
        "result = re.search(pattern, text)"
      ]
    },
    {
      "cell_type": "markdown",
      "metadata": {
        "id": "_LxFLixfqleR"
      },
      "source": [
        "Регулярное выражение задает две *сохраняемые подстроки*, заключенные в метасимволы `(` и `)` . Эти метасимволы не влияют на то, в каком месте текста строки будет найдено совпадение шаблона, — функция `match` возвращает объект совпадения только в том случае, если совпадение всего шаблона будет найдено в тексте строки. \n",
        "\n",
        "Рассмотрим регулярное выражение по частям:"
      ]
    },
    {
      "cell_type": "markdown",
      "metadata": {
        "id": "9NWT3xO8qleR"
      },
      "source": [
        "- `'([A-Z][a-z]+ [A-Z][a-z]+)'` совпадает с двумя словами, разделенными пробелом. Каждое слово должно начинаться с буквы верхнего регистра. \n",
        "-  `', e-mail: '` содержит литеральные символы, которые совпадают сами с собой.\n",
        "-  `(\\w+@\\w+\\.\\w{3})` совпадает с простым адресом электронной почты, состоящим из одного или нескольких алфавитно-цифровых символов ( `\\w+` ), символа `@` , одного или нескольких алфавитно-цифровых символов ( `\\w+` ), точки ( `\\.` ) и трех алфавитно-цифровых символов ( `\\w{3}` ). Перед точкой ставится символ `\\` , потому что точка ( `.` ) в регулярных выражениях является метасимволом, совпадающим с одним символом."
      ]
    },
    {
      "cell_type": "markdown",
      "metadata": {
        "id": "Q7QL52TzqleR"
      },
      "source": [
        "Метод `groups` объекта совпадения возвращает кортеж совпавших подстрок:"
      ]
    },
    {
      "cell_type": "code",
      "execution_count": null,
      "metadata": {
        "id": "uxjyF-qsqleR",
        "outputId": "0694fae4-f7e4-40f2-9ada-aba44a3f1fee"
      },
      "outputs": [
        {
          "data": {
            "text/plain": [
              "('Charlie Cyan', 'demo1@deitel.com')"
            ]
          },
          "execution_count": 47,
          "metadata": {},
          "output_type": "execute_result"
        }
      ],
      "source": [
        "result.groups()"
      ]
    },
    {
      "cell_type": "markdown",
      "metadata": {
        "id": "VtFwqWzqqleR"
      },
      "source": [
        "Вы можете обратиться к каждой сохраненной строке, передав целое число методу `group` . \n",
        "\n",
        "Нумерация сохраненных подстрок начинается с `1` (в отличие от индексов списков, которые начинаются с `0`):"
      ]
    },
    {
      "cell_type": "code",
      "execution_count": null,
      "metadata": {
        "id": "PuPD8FYyqleR",
        "outputId": "c3ed9db5-6852-496e-adc1-8a3f7fedcf95"
      },
      "outputs": [
        {
          "data": {
            "text/plain": [
              "'Charlie Cyan'"
            ]
          },
          "execution_count": 48,
          "metadata": {},
          "output_type": "execute_result"
        }
      ],
      "source": [
        "result.group(1)"
      ]
    },
    {
      "cell_type": "code",
      "execution_count": null,
      "metadata": {
        "id": "nKJ4XWiRqleS",
        "outputId": "efa2c1e5-4f8e-4640-d05b-6d30327aeebc"
      },
      "outputs": [
        {
          "data": {
            "text/plain": [
              "'demo1@deitel.com'"
            ]
          },
          "execution_count": 49,
          "metadata": {},
          "output_type": "execute_result"
        }
      ],
      "source": [
        "result.group(2)"
      ]
    },
    {
      "cell_type": "markdown",
      "metadata": {
        "id": "0pnPiUZCqleS"
      },
      "source": [
        "Рассмотрим использование регулярных выражений в процессе очистки данных.\n",
        "\n",
        "Начнем с создания коллекции `Series` почтовых кодов, состоящих из пяти цифр, на базе словаря пар \"название-города/почтовый-код-из-5-цифр\". Мы намеренно указали ошибочный индекс для Майами:"
      ]
    },
    {
      "cell_type": "code",
      "execution_count": null,
      "metadata": {
        "id": "d4QMiDKWqleS"
      },
      "outputs": [],
      "source": [
        "# импортируем pandas\n",
        "import pandas as pd"
      ]
    },
    {
      "cell_type": "code",
      "execution_count": null,
      "metadata": {
        "id": "24civ6aTqleS"
      },
      "outputs": [],
      "source": [
        "zips = pd.Series({'Boston': '02215', \n",
        "                  'Miami': '3310'})"
      ]
    },
    {
      "cell_type": "code",
      "execution_count": null,
      "metadata": {
        "id": "cjo1N8JDqleT",
        "outputId": "15440943-c98d-4d6d-e182-36e620d1796e"
      },
      "outputs": [
        {
          "data": {
            "text/plain": [
              "Boston    02215\n",
              "Miami      3310\n",
              "dtype: object"
            ]
          },
          "execution_count": 52,
          "metadata": {},
          "output_type": "execute_result"
        }
      ],
      "source": [
        "zips"
      ]
    },
    {
      "cell_type": "markdown",
      "metadata": {
        "id": "yHrt2QNfqleT"
      },
      "source": [
        "Для проверки данных можно воспользоваться регулярными выражениями с *pandas*. \n",
        "\n",
        "Атрибут `str` коллекции `Series` предоставляет средства обработки строк и различные методы регулярных выражений. Чтобы проверить правильность каждого отдельного почтового кода, воспользуемся методом `match` атрибута `str` :"
      ]
    },
    {
      "cell_type": "code",
      "execution_count": null,
      "metadata": {
        "id": "E-j37cjcqleT",
        "outputId": "5a657404-0110-44b5-ae8e-d34a2ba8008d"
      },
      "outputs": [
        {
          "data": {
            "text/plain": [
              "Boston     True\n",
              "Miami     False\n",
              "dtype: bool"
            ]
          },
          "execution_count": 53,
          "metadata": {},
          "output_type": "execute_result"
        }
      ],
      "source": [
        "zips.str.match(r'\\d{5}')"
      ]
    },
    {
      "cell_type": "markdown",
      "metadata": {
        "id": "QGc3FMbeqleT"
      },
      "source": [
        "Метод `match` применяет регулярное выражение `\\d{5}` к каждому элементу `Series` , чтобы убедиться в том, что элемент состоит ровно из пяти цифр. \n",
        "\n",
        "Явно перебирать все почтовые коды в цикле не нужно — [`match`](https://pandas.pydata.org/docs/reference/api/pandas.Series.str.match.html) сделает это за вас. Метод возвращает новую коллекцию `Series` , содержащую значение `True` для каждого действительного элемента. \n",
        "\n",
        "В данном случае почтовый код Майами проверку не прошел, поэтому его элемент равен `False` ."
      ]
    },
    {
      "cell_type": "markdown",
      "metadata": {
        "id": "OlFBI7PyqleU"
      },
      "source": [
        "Иногда вместо того, чтобы проверять на совпадение шаблона всю строку, требуется узнать, содержит ли значение подстроку, совпадающую с шаблоном. \n",
        "\n",
        "В этом случае следует использовать метод [`contains`](https://pandas.pydata.org/docs/reference/api/pandas.Series.str.contains.html) вместо `match` . \n",
        "\n",
        "Создадим коллекцию `Series` строк, каждая из которых содержит название города в США, штата и почтовый код, а затем определим, содержит ли каждая строку подстроку, совпадающую с шаблоном `' [A-Z]{2} '` (пробел, за которым следуют две буквы верхнего регистра, и еще один пробел):"
      ]
    },
    {
      "cell_type": "code",
      "execution_count": null,
      "metadata": {
        "id": "tj_G6uSXqleU"
      },
      "outputs": [],
      "source": [
        "cities = pd.Series(['Boston, MA 02215', \n",
        "                    'Miami, FL 33101'])"
      ]
    },
    {
      "cell_type": "code",
      "execution_count": null,
      "metadata": {
        "id": "SeZfmseJqleU",
        "outputId": "d5413df3-578e-4c26-d134-ab0d6f6a6917"
      },
      "outputs": [
        {
          "data": {
            "text/plain": [
              "0    Boston, MA 02215\n",
              "1     Miami, FL 33101\n",
              "dtype: object"
            ]
          },
          "execution_count": 55,
          "metadata": {},
          "output_type": "execute_result"
        }
      ],
      "source": [
        "cities"
      ]
    },
    {
      "cell_type": "code",
      "execution_count": null,
      "metadata": {
        "id": "1gF6AcauqleU",
        "outputId": "a3792c51-462b-4c4e-8b02-e9fe58525a21"
      },
      "outputs": [
        {
          "data": {
            "text/plain": [
              "0    True\n",
              "1    True\n",
              "dtype: bool"
            ]
          },
          "execution_count": 56,
          "metadata": {},
          "output_type": "execute_result"
        }
      ],
      "source": [
        "cities.str.contains(r' [A-Z]{2} ')"
      ]
    },
    {
      "cell_type": "code",
      "execution_count": null,
      "metadata": {
        "id": "2fN12-E9qleV",
        "outputId": "19131370-c889-4aba-d91c-9c6e3dfc7fae"
      },
      "outputs": [
        {
          "data": {
            "text/plain": [
              "0    False\n",
              "1    False\n",
              "dtype: bool"
            ]
          },
          "execution_count": 57,
          "metadata": {},
          "output_type": "execute_result"
        }
      ],
      "source": [
        "cities.str.match(r' [A-Z]{2} ')"
      ]
    },
    {
      "cell_type": "markdown",
      "metadata": {
        "id": "HKoWUzk8qleW"
      },
      "source": [
        "От очистки данных перейдем к первичной обработке данных в другой формат. \n",
        "\n",
        "Возьмем простой пример: допустим, приложение работает с телефонными номерами в формате `###-###-####` , с разделением групп цифр дефисами. При этом телефонные номера были предоставлены в виде строк из десяти цифр без дефисов. \n",
        "\n",
        "Создадим коллекцию `DataFrame` :"
      ]
    },
    {
      "cell_type": "code",
      "execution_count": null,
      "metadata": {
        "id": "sMU5jQWxqleX"
      },
      "outputs": [],
      "source": [
        "contacts = [['Mike Green', 'demo1@deitel.com', '5555555555'],\n",
        "            ['Sue Brown', 'demo2@deitel.com', '5555551234']]"
      ]
    },
    {
      "cell_type": "code",
      "execution_count": null,
      "metadata": {
        "id": "w5TWhxYnqleX",
        "outputId": "25e931fd-992f-4969-ac1d-9cbfb56cdcd0"
      },
      "outputs": [
        {
          "data": {
            "text/plain": [
              "[['Mike Green', 'demo1@deitel.com', '5555555555'],\n",
              " ['Sue Brown', 'demo2@deitel.com', '5555551234']]"
            ]
          },
          "execution_count": 59,
          "metadata": {},
          "output_type": "execute_result"
        }
      ],
      "source": [
        "contacts"
      ]
    },
    {
      "cell_type": "code",
      "execution_count": null,
      "metadata": {
        "id": "qZhG5DI2qleY"
      },
      "outputs": [],
      "source": [
        "contactsdf = pd.DataFrame(contacts,\n",
        "                          columns=['Name', 'Email', 'Phone'])"
      ]
    },
    {
      "cell_type": "code",
      "execution_count": null,
      "metadata": {
        "id": "WfsODIKIqleY",
        "outputId": "7ea39bae-319a-4d67-a9e2-d248b312ceec"
      },
      "outputs": [
        {
          "data": {
            "text/html": [
              "<div>\n",
              "<style scoped>\n",
              "    .dataframe tbody tr th:only-of-type {\n",
              "        vertical-align: middle;\n",
              "    }\n",
              "\n",
              "    .dataframe tbody tr th {\n",
              "        vertical-align: top;\n",
              "    }\n",
              "\n",
              "    .dataframe thead th {\n",
              "        text-align: right;\n",
              "    }\n",
              "</style>\n",
              "<table border=\"1\" class=\"dataframe\">\n",
              "  <thead>\n",
              "    <tr style=\"text-align: right;\">\n",
              "      <th></th>\n",
              "      <th>Name</th>\n",
              "      <th>Email</th>\n",
              "      <th>Phone</th>\n",
              "    </tr>\n",
              "  </thead>\n",
              "  <tbody>\n",
              "    <tr>\n",
              "      <th>0</th>\n",
              "      <td>Mike Green</td>\n",
              "      <td>demo1@deitel.com</td>\n",
              "      <td>5555555555</td>\n",
              "    </tr>\n",
              "    <tr>\n",
              "      <th>1</th>\n",
              "      <td>Sue Brown</td>\n",
              "      <td>demo2@deitel.com</td>\n",
              "      <td>5555551234</td>\n",
              "    </tr>\n",
              "  </tbody>\n",
              "</table>\n",
              "</div>"
            ],
            "text/plain": [
              "         Name             Email       Phone\n",
              "0  Mike Green  demo1@deitel.com  5555555555\n",
              "1   Sue Brown  demo2@deitel.com  5555551234"
            ]
          },
          "execution_count": 61,
          "metadata": {},
          "output_type": "execute_result"
        }
      ],
      "source": [
        "contactsdf"
      ]
    },
    {
      "cell_type": "markdown",
      "metadata": {
        "id": "sKZ3e1_JqleY"
      },
      "source": [
        "Теперь произведем первичную обработку данных с применением программирования в функциональном стиле. \n",
        "\n",
        "Телефонные номера можно перевести в правильный формат вызовом метода `map` коллекции `Series` для столбца `'Phone'` коллекции `DataFrame` . \n",
        "\n",
        "Аргументом метода `map` является функция, которая получает значение и возвращает отображенное (преобразованное) значение. Функция `get_formatted_phone` отображает десять последовательных цифр в формат `###-###-####` :"
      ]
    },
    {
      "cell_type": "code",
      "execution_count": null,
      "metadata": {
        "id": "ZN7E6J6vqleY"
      },
      "outputs": [],
      "source": [
        "import re"
      ]
    },
    {
      "cell_type": "code",
      "execution_count": null,
      "metadata": {
        "id": "mdA6JcFpqleZ"
      },
      "outputs": [],
      "source": [
        "def get_formatted_phone(value):\n",
        "    result = re.fullmatch(r'(\\d{3})(\\d{3})(\\d{4})', value)\n",
        "    return '-'.join(result.groups()) if result else value"
      ]
    },
    {
      "cell_type": "markdown",
      "metadata": {
        "id": "ayxOK30MqleZ"
      },
      "source": [
        "Регулярное выражение в первой команде блока совпадает только с первыми десятью последовательно идущими цифрами. Оно сохраняет подстроки, которые содержат первые три цифры, следующие три цифры и последние четыре цифры. Команда `return` работает следующим образом:\n",
        "- Если результат равен `None` , то значение просто возвращается в неизменном виде.\n",
        "- В противном случае вызывается метод `result.groups()` для получения кортежа, содержащего сохраненные подстроки. Кортеж передается методу `join` строк для выполнения конкатенации элементов, с разделением элементов символом `'-'` для формирования преобразованного телефонного номера.\n",
        "\n",
        "Метод `map` коллекции `Series` создает новую коллекцию `Series` , которая содержит результаты вызова ее функции-аргумента для каждого значения в столбце. \n",
        "\n",
        "Фрагмент выводит результаты, включающие имя и тип столбца:"
      ]
    },
    {
      "cell_type": "code",
      "execution_count": null,
      "metadata": {
        "id": "iyKkK1zKqleZ"
      },
      "outputs": [],
      "source": [
        "formatted_phone = contactsdf['Phone'].map(get_formatted_phone)"
      ]
    },
    {
      "cell_type": "code",
      "execution_count": null,
      "metadata": {
        "id": "Z6xRObNSqleZ",
        "outputId": "d53e6748-2feb-46e0-b030-f1141ca402ae"
      },
      "outputs": [
        {
          "data": {
            "text/plain": [
              "0    555-555-5555\n",
              "1    555-555-1234\n",
              "Name: Phone, dtype: object"
            ]
          },
          "execution_count": 65,
          "metadata": {},
          "output_type": "execute_result"
        }
      ],
      "source": [
        "formatted_phone"
      ]
    },
    {
      "cell_type": "markdown",
      "metadata": {
        "id": "Qcu6CbkAqleZ"
      },
      "source": [
        "Убедившись в том, что данные имеют правильный формат, можно обновить их в исходной коллекции `DataFrame` , присвоив новую коллекцию `Series` столбцу `'Phone'` :"
      ]
    },
    {
      "cell_type": "code",
      "execution_count": null,
      "metadata": {
        "id": "0q_7rKrtqlea"
      },
      "outputs": [],
      "source": [
        "contactsdf['Phone'] = formatted_phone"
      ]
    },
    {
      "cell_type": "code",
      "execution_count": null,
      "metadata": {
        "id": "4Oih7t5Zqlea",
        "outputId": "be4fcaf8-ab03-4514-b0da-98441e153735"
      },
      "outputs": [
        {
          "data": {
            "text/html": [
              "<div>\n",
              "<style scoped>\n",
              "    .dataframe tbody tr th:only-of-type {\n",
              "        vertical-align: middle;\n",
              "    }\n",
              "\n",
              "    .dataframe tbody tr th {\n",
              "        vertical-align: top;\n",
              "    }\n",
              "\n",
              "    .dataframe thead th {\n",
              "        text-align: right;\n",
              "    }\n",
              "</style>\n",
              "<table border=\"1\" class=\"dataframe\">\n",
              "  <thead>\n",
              "    <tr style=\"text-align: right;\">\n",
              "      <th></th>\n",
              "      <th>Name</th>\n",
              "      <th>Email</th>\n",
              "      <th>Phone</th>\n",
              "    </tr>\n",
              "  </thead>\n",
              "  <tbody>\n",
              "    <tr>\n",
              "      <th>0</th>\n",
              "      <td>Mike Green</td>\n",
              "      <td>demo1@deitel.com</td>\n",
              "      <td>555-555-5555</td>\n",
              "    </tr>\n",
              "    <tr>\n",
              "      <th>1</th>\n",
              "      <td>Sue Brown</td>\n",
              "      <td>demo2@deitel.com</td>\n",
              "      <td>555-555-1234</td>\n",
              "    </tr>\n",
              "  </tbody>\n",
              "</table>\n",
              "</div>"
            ],
            "text/plain": [
              "         Name             Email         Phone\n",
              "0  Mike Green  demo1@deitel.com  555-555-5555\n",
              "1   Sue Brown  demo2@deitel.com  555-555-1234"
            ]
          },
          "execution_count": 67,
          "metadata": {},
          "output_type": "execute_result"
        }
      ],
      "source": [
        "contactsdf"
      ]
    },
    {
      "cell_type": "markdown",
      "metadata": {
        "id": "XHCqjK9pqlea"
      },
      "source": [
        "## Задания\n",
        "\n",
        "1. Реализуйте с использованием регулярных выражений функцию `get_url_count`, которая принимает на вход имя HTML-файла, расположенного в сети Интернет, и возвращает количество URL-адресов веб-сайтов, начинающихся с префиксов `http://` или `https://`\n",
        "\n",
        "```Python\n",
        ">>> get_url_count('https://dfedorov.spb.ru/python3/')\n",
        "19\n",
        "```"
      ]
    },
    {
      "cell_type": "markdown",
      "metadata": {
        "id": "fn63EAvCqlea"
      },
      "source": [
        "<a href=\"https://t.me/init_python\"><img src=\"https://dfedorov.spb.ru/pandas/logo-telegram.png\" width=\"35\" height=\"35\" alt=\"telegram\" align=\"left\"></a>"
      ]
    },
    {
      "cell_type": "markdown",
      "metadata": {
        "id": "riHtRrnGqlea"
      },
      "source": [
        "## Дополнительная литература\n",
        "\n",
        "- [Регулярные выражения для сетевых инженеров](https://pyneng.readthedocs.io/ru/latest/book/Part_III.html)"
      ]
    },
    {
      "cell_type": "code",
      "execution_count": null,
      "metadata": {
        "id": "5B_Ks3z5qleb"
      },
      "outputs": [],
      "source": []
    }
  ],
  "metadata": {
    "kernelspec": {
      "display_name": "Python 3",
      "language": "python",
      "name": "python3"
    },
    "language_info": {
      "codemirror_mode": {
        "name": "ipython",
        "version": 3
      },
      "file_extension": ".py",
      "mimetype": "text/x-python",
      "name": "python",
      "nbconvert_exporter": "python",
      "pygments_lexer": "ipython3",
      "version": "3.8.2"
    },
    "colab": {
      "provenance": []
    }
  },
  "nbformat": 4,
  "nbformat_minor": 0
}