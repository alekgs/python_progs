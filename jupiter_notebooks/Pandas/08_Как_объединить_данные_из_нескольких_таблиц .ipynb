{
  "cells": [
    {
      "cell_type": "markdown",
      "metadata": {
        "id": "KgKPnz0Braah"
      },
      "source": [
        "<a href=\"https://colab.research.google.com/github/dm-fedorov/pandas_basic/blob/master/%D0%B1%D1%8B%D1%81%D1%82%D1%80%D0%BE%D0%B5%20%D0%B2%D0%B2%D0%B5%D0%B4%D0%B5%D0%BD%D0%B8%D0%B5%20%D0%B2%20pandas/08.%20%D0%9A%D0%B0%D0%BA%20%D0%BE%D0%B1%D1%8A%D0%B5%D0%B4%D0%B8%D0%BD%D0%B8%D1%82%D1%8C%20%D0%B4%D0%B0%D0%BD%D0%BD%D1%8B%D0%B5%20%D0%B8%D0%B7%20%D0%BD%D0%B5%D1%81%D0%BA%D0%BE%D0%BB%D1%8C%D0%BA%D0%B8%D1%85%20%D1%82%D0%B0%D0%B1%D0%BB%D0%B8%D1%86%3F.ipynb\"><img align=\"left\" src=\"https://colab.research.google.com/assets/colab-badge.svg\" alt=\"Open in Colab\" title=\"Open and Execute in Google Colaboratory\" target=\"_blank\"></a>"
      ]
    },
    {
      "cell_type": "markdown",
      "metadata": {
        "id": "4jFmJ4TLraam"
      },
      "source": [
        "<a href=\"https://t.me/init_python\"><img src=\"https://dfedorov.spb.ru/pandas/logo-telegram.png\" width=\"35\" height=\"35\" alt=\"telegram\" align=\"left\"></a>"
      ]
    },
    {
      "cell_type": "code",
      "execution_count": null,
      "metadata": {
        "id": "yPrgNFELraan"
      },
      "outputs": [],
      "source": [
        "import pandas as pd"
      ]
    },
    {
      "cell_type": "markdown",
      "metadata": {
        "id": "EMrHYgRRraaq"
      },
      "source": [
        "Для этого урока используется данные о качестве воздуха $NO_2$, данные предоставляются организацией [`openaq`](https://openaq.org/) и загружается с помощью модуля [`py-openaq`](http://dhhagan.github.io/py-openaq/index.html).\n",
        "\n",
        "<img src=\"https://newdaynews.ru/pict/arts1/66/19/661966_b.jpg\" height=\"400px\" width=\"500px\" >\n",
        "\n",
        "Набор данных `air_quality_no2_long.csv` содержит значения $NO_2$ для измерительных станций `FR04014`, `BETR801` и `London Westminster` соответственно в Париже, Антверпене и Лондоне."
      ]
    },
    {
      "cell_type": "code",
      "execution_count": null,
      "metadata": {
        "id": "Alde2IKrraas"
      },
      "outputs": [],
      "source": [
        "url = \"https://raw.githubusercontent.com/dm-fedorov/pandas_basic/master/%D0%B1%D1%8B%D1%81%D1%82%D1%80%D0%BE%D0%B5%20%D0%B2%D0%B2%D0%B5%D0%B4%D0%B5%D0%BD%D0%B8%D0%B5%20%D0%B2%20pandas/data/air_quality_no2_long.csv\""
      ]
    },
    {
      "cell_type": "code",
      "execution_count": null,
      "metadata": {
        "id": "XzJDD8pnraas"
      },
      "outputs": [],
      "source": [
        "air_quality_no2 = pd.read_csv(url,\n",
        "                              parse_dates=True)"
      ]
    },
    {
      "cell_type": "code",
      "execution_count": null,
      "metadata": {
        "id": "PHJXKcn1raat"
      },
      "outputs": [],
      "source": [
        "air_quality_no2 = air_quality_no2[[\"date.utc\", \"location\",\n",
        "                                    \"parameter\", \"value\"]]"
      ]
    },
    {
      "cell_type": "code",
      "execution_count": null,
      "metadata": {
        "id": "rSFd2Y3vraau"
      },
      "outputs": [],
      "source": [
        "air_quality_no2.head()"
      ]
    },
    {
      "cell_type": "markdown",
      "metadata": {
        "id": "ROTVAUWCraav"
      },
      "source": [
        "Для этого урока также используются данные о качестве воздуха для твердых частиц размером менее 2,5 микрометров, данные предоставляются организацией [`openaq`](https://openaq.org/) и загружается с помощью модуля [`py-openaq`](http://dhhagan.github.io/py-openaq/index.html).\n",
        "\n",
        "см. [Частицы РМ2.5: что это, откуда и почему об этом все говорят](https://habr.com/ru/company/tion/blog/396111/)\n",
        "\n",
        "<img src=\"https://habrastorage.org/files/9b1/c66/b89/9b1c66b89f85464b8365b77c9ecbe781.jpg\" height=\"500px\" width=\"600px\" >\n",
        "\n",
        "Набор данных `air_quality_pm25_long.csv` содержит значения $PM_{2.5}$ для измерительных станций `FR04014`, `BETR801` и `London Westminster` соответственно в Париже, Антверпене и Лондоне."
      ]
    },
    {
      "cell_type": "code",
      "execution_count": null,
      "metadata": {
        "id": "B4wdoBe0raaw"
      },
      "outputs": [],
      "source": [
        "url = \"https://raw.githubusercontent.com/dm-fedorov/pandas_basic/master/%D0%B1%D1%8B%D1%81%D1%82%D1%80%D0%BE%D0%B5%20%D0%B2%D0%B2%D0%B5%D0%B4%D0%B5%D0%BD%D0%B8%D0%B5%20%D0%B2%20pandas/data/air_quality_pm25_long.csv\""
      ]
    },
    {
      "cell_type": "code",
      "execution_count": null,
      "metadata": {
        "id": "mXXMtxPJraay"
      },
      "outputs": [],
      "source": [
        "air_quality_pm25 = pd.read_csv(url,\n",
        "                               parse_dates=True)"
      ]
    },
    {
      "cell_type": "code",
      "execution_count": null,
      "metadata": {
        "id": "HTfs4F_7raay"
      },
      "outputs": [],
      "source": [
        "air_quality_pm25 = air_quality_pm25[[\"date.utc\", \"location\",\n",
        "                                     \"parameter\", \"value\"]]"
      ]
    },
    {
      "cell_type": "code",
      "execution_count": null,
      "metadata": {
        "id": "7BmhwIacraa0"
      },
      "outputs": [],
      "source": [
        "air_quality_pm25.head()"
      ]
    },
    {
      "cell_type": "markdown",
      "metadata": {
        "id": "u9XqR1caraa0"
      },
      "source": [
        "### Как объединить данные из нескольких таблиц? "
      ]
    },
    {
      "cell_type": "markdown",
      "metadata": {
        "id": "tQP5CtV2rabC"
      },
      "source": [
        "<img src=\"https://pandas.pydata.org/docs/_images/08_concat_row.svg\" >"
      ]
    },
    {
      "cell_type": "markdown",
      "metadata": {
        "id": "0Sd_SWeyrabD"
      },
      "source": [
        "Я хочу объединить измерения $NO_2$ и $PM_{2.5}$ с похожей структурой в одну таблицу:"
      ]
    },
    {
      "cell_type": "code",
      "execution_count": null,
      "metadata": {
        "id": "3ohsDhUgrabF"
      },
      "outputs": [],
      "source": [
        "air_quality = pd.concat([air_quality_pm25, air_quality_no2], axis=0)"
      ]
    },
    {
      "cell_type": "code",
      "execution_count": null,
      "metadata": {
        "id": "UsZUXJ0XrabF"
      },
      "outputs": [],
      "source": [
        "air_quality.head()"
      ]
    },
    {
      "cell_type": "markdown",
      "metadata": {
        "id": "BxoPUa9WrabF"
      },
      "source": [
        "Функция [`concat()`](https://pandas.pydata.org/pandas-docs/stable/reference/api/pandas.concat.html#pandas.concat) выполняет операцию конкатенации нескольких таблиц вдоль одной оси (по строкам или столбцам)."
      ]
    },
    {
      "cell_type": "markdown",
      "metadata": {
        "id": "rsdGUKLtrabG"
      },
      "source": [
        "По умолчанию конкатенация происходит вдоль `оси 0`, поэтому результирующая таблица объединяет строки входных таблиц. Давайте проверим форму исходных и составных таблиц, чтобы проверить операцию:"
      ]
    },
    {
      "cell_type": "code",
      "execution_count": null,
      "metadata": {
        "id": "L-RpMJ9WrabH"
      },
      "outputs": [],
      "source": [
        "print('Shape of the `air_quality_pm25` table: ', air_quality_pm25.shape)"
      ]
    },
    {
      "cell_type": "code",
      "execution_count": null,
      "metadata": {
        "id": "-n3KXkuTrabI"
      },
      "outputs": [],
      "source": [
        "print('Shape of the `air_quality_no2` table: ', air_quality_no2.shape)"
      ]
    },
    {
      "cell_type": "code",
      "execution_count": null,
      "metadata": {
        "id": "qdAohKzIrabI"
      },
      "outputs": [],
      "source": [
        "print('Shape of the resulting `air_quality` table: ', air_quality.shape)"
      ]
    },
    {
      "cell_type": "markdown",
      "metadata": {
        "id": "wq9ElBFfrabJ"
      },
      "source": [
        "Следовательно, результирующая таблица имеет `3178 = 1110 + 2068` строк."
      ]
    },
    {
      "cell_type": "markdown",
      "metadata": {
        "id": "A4onRv99rabJ"
      },
      "source": [
        "Аргумент `axis` встречается в ряде методов, которые могут применяться вдоль оси. `DataFrame` имеет две соответствующие оси: первая, проходящая вертикально вниз по строкам (`ось 0`), и вторая, проходящая горизонтально по столбцам (`ось 1`). Большинство операций, таких как конкатенация или сводная статистика, по умолчанию выполняются по строкам (`ось 0`), но также могут применяться к столбцам."
      ]
    },
    {
      "cell_type": "markdown",
      "metadata": {
        "id": "R_DRRSQZrabK"
      },
      "source": [
        "Сортировка таблицы по дате и времени иллюстрирует также комбинацию обеих таблиц, причем столбец `parameter` определяет источник таблицы (либо `no2` из таблицы `air_quality_no2`, либо `pm25` из таблицы `air_quality_pm25`):"
      ]
    },
    {
      "cell_type": "code",
      "execution_count": null,
      "metadata": {
        "id": "F7kKWxtmrabL"
      },
      "outputs": [],
      "source": [
        "air_quality = air_quality.sort_values(\"date.utc\")"
      ]
    },
    {
      "cell_type": "code",
      "execution_count": null,
      "metadata": {
        "id": "WA55xVq2rabM"
      },
      "outputs": [],
      "source": [
        "air_quality.head()"
      ]
    },
    {
      "cell_type": "markdown",
      "metadata": {
        "id": "lCXUzwMErabM"
      },
      "source": [
        "В этом примере столбец `parameter`, позволяет идентифицировать каждую из исходных таблиц. Это не всегда так, функция `concat` предоставляет удобное решение с аргументом `keys`, добавляя дополнительный (иерархический) индекс строки. Например:"
      ]
    },
    {
      "cell_type": "code",
      "execution_count": null,
      "metadata": {
        "id": "lsVOoFGYrabM"
      },
      "outputs": [],
      "source": [
        "air_quality_ = pd.concat([air_quality_pm25, air_quality_no2],\n",
        "                         keys=[\"PM25\", \"NO2\"])"
      ]
    },
    {
      "cell_type": "code",
      "execution_count": null,
      "metadata": {
        "id": "W0sFcZoWrabM"
      },
      "outputs": [],
      "source": [
        "air_quality_.head()"
      ]
    },
    {
      "cell_type": "markdown",
      "metadata": {
        "id": "LfGfXxsorabN"
      },
      "source": [
        "Существование нескольких индексов строк/столбцов одновременно не упоминалось ранее. Иерархическая индексация или `MultiIndex` - это продвинутая и мощная функция `pandas` для анализа многомерных данных.\n",
        "\n",
        "На данный момент помните, что функцию `reset_index` можно использовать для преобразования любого уровня индекса в столбец, например, \n",
        "\n",
        "```Python\n",
        "air_quality.reset_index(level=0)\n",
        "```"
      ]
    },
    {
      "cell_type": "markdown",
      "metadata": {
        "id": "5P9JwD7xrabN"
      },
      "source": [
        "Не стесняйтесь погрузиться в мир мультииндексирования в [разделе руководства пользователя по расширенной индексации](https://pandas.pydata.org/pandas-docs/stable/user_guide/advanced.html#advanced)."
      ]
    },
    {
      "cell_type": "markdown",
      "metadata": {
        "id": "qndVpS9vrabO"
      },
      "source": [
        "Дополнительные параметры конкатенации таблиц (с точки зрения строк и столбцов) и того, как `concat` можно использовать для определения логики (объединения или пересечения) индексов на других осях, представлены в [разделе о конкатенации объектов](https://pandas.pydata.org/pandas-docs/stable/user_guide/merging.html#merging-concat)."
      ]
    },
    {
      "cell_type": "markdown",
      "metadata": {
        "id": "K_65-wOCrabO"
      },
      "source": [
        "### Объединяйте таблицы, используя общий идентификатор"
      ]
    },
    {
      "cell_type": "markdown",
      "metadata": {
        "id": "aWzy4vqOrabP"
      },
      "source": [
        "<img src=\"https://pandas.pydata.org/pandas-docs/stable/_images/08_merge_left.svg\">"
      ]
    },
    {
      "cell_type": "markdown",
      "metadata": {
        "id": "9RDMUTYWrabP"
      },
      "source": [
        "Координаты станции измерения качества воздуха хранятся в файле данных `air_quality_stations.csv`."
      ]
    },
    {
      "cell_type": "code",
      "execution_count": null,
      "metadata": {
        "id": "AzJSPHPMrabP"
      },
      "outputs": [],
      "source": [
        "url = \"https://raw.githubusercontent.com/dm-fedorov/pandas_basic/master/%D0%B1%D1%8B%D1%81%D1%82%D1%80%D0%BE%D0%B5%20%D0%B2%D0%B2%D0%B5%D0%B4%D0%B5%D0%BD%D0%B8%D0%B5%20%D0%B2%20pandas/data/air_quality_stations.csv\""
      ]
    },
    {
      "cell_type": "code",
      "execution_count": null,
      "metadata": {
        "id": "u07QcQdBrabP"
      },
      "outputs": [],
      "source": [
        "stations_coord = pd.read_csv(url)\n",
        "stations_coord.head()"
      ]
    },
    {
      "cell_type": "markdown",
      "metadata": {
        "id": "4nddZDcDrabQ"
      },
      "source": [
        "Станции, используемые в этом примере (`FR04014`, `BETR801` и `London Westminster`) - это всего лишь три записи в таблице метаданных. Мы хотим добавить координаты этих станций в таблицу измерений, каждая из которых находится в соответствующих строках таблицы `air_quality`."
      ]
    },
    {
      "cell_type": "code",
      "execution_count": null,
      "metadata": {
        "id": "-40jFhhMrabS"
      },
      "outputs": [],
      "source": [
        "air_quality.head()"
      ]
    },
    {
      "cell_type": "markdown",
      "metadata": {
        "id": "lyXhEWDMrabU"
      },
      "source": [
        "Добавим координаты станции, предоставленные в таблице метаданных станций, в соответствующие строки таблицы измерений:"
      ]
    },
    {
      "cell_type": "code",
      "execution_count": null,
      "metadata": {
        "id": "ZpCAZX57rabU"
      },
      "outputs": [],
      "source": [
        "air_quality = pd.merge(air_quality, stations_coord,\n",
        "                       how='left', on='location')\n",
        "air_quality.head()"
      ]
    },
    {
      "cell_type": "markdown",
      "metadata": {
        "id": "LOXzA7U8rabY"
      },
      "source": [
        "Используя функцию [`merge()`](https://pandas.pydata.org/pandas-docs/stable/reference/api/pandas.merge.html#pandas.merge), для каждой строки таблицы `air_quality` добавляются соответствующие координаты из таблицы `air_quality_stations_coord`. Обе таблицы имеют общий столбец `location`, который используется в качестве ключа для объединения информации. Выбрав объединение `left`, в результирующей таблице `air_quality` окажутся только местоположения, доступные в (левой) таблице, например `FR04014`, `BETR801` и `London Westminster`. В функции merge поддерживает несколько опции, подобных операциям из базы данных."
      ]
    },
    {
      "cell_type": "markdown",
      "metadata": {
        "id": "VJuE9igPrabZ"
      },
      "source": [
        "Добавим описание и имя параметра, предоставленные таблицей метаданных, в таблицу измерений:"
      ]
    },
    {
      "cell_type": "markdown",
      "metadata": {
        "id": "3SU4nqI0raba"
      },
      "source": [
        "Метаданные параметров о качестве воздуха хранятся в файле `air_quality_parameters.csv`."
      ]
    },
    {
      "cell_type": "code",
      "execution_count": null,
      "metadata": {
        "id": "cRRZ-rPWraba"
      },
      "outputs": [],
      "source": [
        "url = \"https://raw.githubusercontent.com/dm-fedorov/pandas_basic/master/%D0%B1%D1%8B%D1%81%D1%82%D1%80%D0%BE%D0%B5%20%D0%B2%D0%B2%D0%B5%D0%B4%D0%B5%D0%BD%D0%B8%D0%B5%20%D0%B2%20pandas/data/air_quality_parameters.csv\""
      ]
    },
    {
      "cell_type": "code",
      "execution_count": null,
      "metadata": {
        "id": "s78R6kjWraba"
      },
      "outputs": [],
      "source": [
        "air_quality_parameters = pd.read_csv(url)\n",
        "air_quality_parameters.head()"
      ]
    },
    {
      "cell_type": "code",
      "execution_count": null,
      "metadata": {
        "id": "QLjTJMMMraba"
      },
      "outputs": [],
      "source": [
        "air_quality = pd.merge(air_quality, air_quality_parameters,\n",
        "                       how='left', left_on='parameter', right_on='id')\n",
        "air_quality.head()"
      ]
    },
    {
      "cell_type": "markdown",
      "metadata": {
        "id": "OHpJmWt9rabc"
      },
      "source": [
        "По сравнению с предыдущим примером нет общего имени столбца. Однако столбец parameter в таблице `air_quality` и `столбец id` в `air_quality_parameters` содержат переменную в общем формате. Аргументы `left_on` и `right_on` используются, чтобы сделать связь между двумя таблицами."
      ]
    },
    {
      "cell_type": "markdown",
      "metadata": {
        "id": "FI0xQNWVrabc"
      },
      "source": [
        "pandas поддерживают внутренние, внешние и правые соединения. Более подробная информация о `join/merge` таблиц представлена в [разделе руководства пользователя по объединению таблиц в стиле базы данных](https://pandas.pydata.org/pandas-docs/stable/user_guide/merging.html#merging-join). Или взгляните на [страницу сравнения с SQL](https://pandas.pydata.org/pandas-docs/stable/getting_started/comparison/comparison_with_sql.html#compare-with-sql-join)."
      ]
    },
    {
      "cell_type": "markdown",
      "metadata": {
        "id": "f9ioCU36rabe"
      },
      "source": [
        "См. Руководство пользователя для [полного описания различных средств для объединения таблиц данных](https://pandas.pydata.org/pandas-docs/stable/user_guide/merging.html#merging)."
      ]
    },
    {
      "cell_type": "markdown",
      "metadata": {
        "id": "dFMqG34erabf"
      },
      "source": [
        "<a href=\"https://t.me/init_python\"><img src=\"https://dfedorov.spb.ru/pandas/logo-telegram.png\" width=\"35\" height=\"35\" alt=\"telegram\" align=\"left\"></a>"
      ]
    },
    {
      "cell_type": "code",
      "execution_count": null,
      "metadata": {
        "id": "ktRot-IRrabg"
      },
      "outputs": [],
      "source": []
    }
  ],
  "metadata": {
    "kernelspec": {
      "display_name": "Python 3",
      "language": "python",
      "name": "python3"
    },
    "language_info": {
      "codemirror_mode": {
        "name": "ipython",
        "version": 3
      },
      "file_extension": ".py",
      "mimetype": "text/x-python",
      "name": "python",
      "nbconvert_exporter": "python",
      "pygments_lexer": "ipython3",
      "version": "3.8.2"
    },
    "colab": {
      "provenance": []
    }
  },
  "nbformat": 4,
  "nbformat_minor": 0
}