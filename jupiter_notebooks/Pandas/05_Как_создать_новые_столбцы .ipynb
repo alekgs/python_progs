{
 "cells": [
  {
   "cell_type": "markdown",
   "metadata": {
    "id": "cNGtE4LcrZqn"
   },
   "source": [
    "<a href=\"https://colab.research.google.com/github/dm-fedorov/pandas_basic/blob/master/%D0%B1%D1%8B%D1%81%D1%82%D1%80%D0%BE%D0%B5%20%D0%B2%D0%B2%D0%B5%D0%B4%D0%B5%D0%BD%D0%B8%D0%B5%20%D0%B2%20pandas/05.%20%D0%9A%D0%B0%D0%BA%20%D1%81%D0%BE%D0%B7%D0%B4%D0%B0%D1%82%D1%8C%20%D0%BD%D0%BE%D0%B2%D1%8B%D0%B5%20%D1%81%D1%82%D0%BE%D0%BB%D0%B1%D1%86%D1%8B%3F.ipynb\"><img align=\"left\" src=\"https://colab.research.google.com/assets/colab-badge.svg\" alt=\"Open in Colab\" title=\"Open and Execute in Google Colaboratory\" target=\"_blank\"></a>"
   ]
  },
  {
   "cell_type": "markdown",
   "metadata": {
    "id": "fVAMefKJrZqp"
   },
   "source": [
    "<a href=\"https://t.me/init_python\"><img src=\"https://dfedorov.spb.ru/pandas/logo-telegram.png\" width=\"35\" height=\"35\" alt=\"telegram\" align=\"left\"></a>"
   ]
  },
  {
   "cell_type": "code",
   "execution_count": null,
   "metadata": {
    "id": "f1zpP_fMrZqr"
   },
   "outputs": [],
   "source": [
    "import pandas as pd"
   ]
  },
  {
   "cell_type": "code",
   "execution_count": null,
   "metadata": {
    "id": "dap4YbjfrZqt"
   },
   "outputs": [],
   "source": [
    "url = \"https://raw.githubusercontent.com/dm-fedorov/pandas_basic/master/%D0%B1%D1%8B%D1%81%D1%82%D1%80%D0%BE%D0%B5%20%D0%B2%D0%B2%D0%B5%D0%B4%D0%B5%D0%BD%D0%B8%D0%B5%20%D0%B2%20pandas/data/air_quality_no2.csv\""
   ]
  },
  {
   "cell_type": "code",
   "execution_count": null,
   "metadata": {
    "id": "PgogNAa_rZqu"
   },
   "outputs": [],
   "source": [
    "air_quality = pd.read_csv(url,\n",
    "                          index_col=0, \n",
    "                          parse_dates=True)\n",
    "air_quality.head()"
   ]
  },
  {
   "cell_type": "markdown",
   "metadata": {
    "id": "Csvq4FCUrZqv"
   },
   "source": [
    "### Как создать новые столбцы, полученные из существующих столбцов?"
   ]
  },
  {
   "cell_type": "markdown",
   "metadata": {
    "id": "AnXVHtUSrZqw"
   },
   "source": [
    "<img src=\"https://pandas.pydata.org/pandas-docs/stable/_images/05_newcolumn_1.svg\">"
   ]
  },
  {
   "cell_type": "markdown",
   "metadata": {
    "id": "tGaUW254rZqy"
   },
   "source": [
    "Я хочу выразить концентрацию $NO_2$ в Лондоне в $мг/м^3$. Если мы примем температуру 25 градусов по Цельсию и давление `1013 гПа`, то коэффициент преобразования составит `1,882`."
   ]
  },
  {
   "cell_type": "code",
   "execution_count": null,
   "metadata": {
    "id": "2cVYmn-mrZqy"
   },
   "outputs": [],
   "source": [
    "air_quality[\"london_mg_per_cubic\"] = air_quality[\"station_london\"] * 1.882"
   ]
  },
  {
   "cell_type": "code",
   "execution_count": null,
   "metadata": {
    "id": "nDNkL32lrZqz"
   },
   "outputs": [],
   "source": [
    "air_quality.head()"
   ]
  },
  {
   "cell_type": "markdown",
   "metadata": {
    "id": "CIA-re1vrZqz"
   },
   "source": [
    "Чтобы создать новый столбец, используйте скобки `[]` с новым именем столбца в левой части присваивания."
   ]
  },
  {
   "cell_type": "markdown",
   "metadata": {
    "id": "OP5RI_YCrZq1"
   },
   "source": [
    "Расчет значений осуществляется по элементам. Это означает, что все значения в данном столбце умножаются на `1.882` за один раз. Вам не нужно использовать цикл для итерации по каждой строке!"
   ]
  },
  {
   "cell_type": "markdown",
   "metadata": {
    "id": "bamG4WSArZq1"
   },
   "source": [
    "<img src=\"https://pandas.pydata.org/docs/_images/05_newcolumn_2.svg\">"
   ]
  },
  {
   "cell_type": "markdown",
   "metadata": {
    "id": "U7T8VVqvrZq1"
   },
   "source": [
    "Я хочу проверить соотношение значений в Париже и Антверпене и сохранить результат в новом столбце:"
   ]
  },
  {
   "cell_type": "code",
   "execution_count": null,
   "metadata": {
    "id": "9zR5YkxerZq1"
   },
   "outputs": [],
   "source": [
    "air_quality[\"ratio_paris_antwerp\"] = \\\n",
    "        air_quality[\"station_paris\"] / air_quality[\"station_antwerp\"]"
   ]
  },
  {
   "cell_type": "code",
   "execution_count": null,
   "metadata": {
    "id": "U0CDWhjMrZq2"
   },
   "outputs": [],
   "source": [
    "air_quality.head()"
   ]
  },
  {
   "cell_type": "markdown",
   "metadata": {
    "id": "XX7XRMGSrZq2"
   },
   "source": [
    "Расчет снова поэлементный, поэтому `/` применяется в каждой строки."
   ]
  },
  {
   "cell_type": "markdown",
   "metadata": {
    "id": "LgMckA8UrZq3"
   },
   "source": [
    "Также другие математические операторы (`+`, `-`, `*`, `/`) или логические операторы (`<`, `>`, `=`, …) работают по элементам. "
   ]
  },
  {
   "cell_type": "markdown",
   "metadata": {
    "id": "7ZiuP2mJrZq3"
   },
   "source": [
    "Я хочу переименовать столбцы данных в соответствующие идентификаторы станций, используемые сообществом openAQ."
   ]
  },
  {
   "cell_type": "code",
   "execution_count": null,
   "metadata": {
    "id": "3F9H6c84rZq3"
   },
   "outputs": [],
   "source": [
    "air_quality_renamed = air_quality.rename(\n",
    "                            columns={\"station_antwerp\": \"BETR801\",\n",
    "                                     \"station_paris\": \"FR04014\",\n",
    "                                     \"station_london\": \"London Westminster\"})"
   ]
  },
  {
   "cell_type": "code",
   "execution_count": null,
   "metadata": {
    "id": "9FGdZQGnrZq4"
   },
   "outputs": [],
   "source": [
    "air_quality_renamed.head()"
   ]
  },
  {
   "cell_type": "markdown",
   "metadata": {
    "id": "HjsVx0ZGrZq4"
   },
   "source": [
    "Функция [`rename()`](https://pandas.pydata.org/pandas-docs/stable/reference/api/pandas.DataFrame.rename.html#pandas.DataFrame.rename) может быть использована как для меток строк и названий столбцов."
   ]
  },
  {
   "cell_type": "markdown",
   "metadata": {
    "id": "AEFUfCiirZq4"
   },
   "source": [
    "Отображение не должно ограничиваться только фиксированными именами, но может быть функцией отображения. \n",
    "\n",
    "Например, преобразование имен столбцов в строчные буквы также можно выполнить с помощью функции:"
   ]
  },
  {
   "cell_type": "code",
   "execution_count": null,
   "metadata": {
    "id": "tHDX2YetrZq5"
   },
   "outputs": [],
   "source": [
    "air_quality_renamed = air_quality_renamed.rename(columns=str.lower)"
   ]
  },
  {
   "cell_type": "code",
   "execution_count": null,
   "metadata": {
    "id": "p2atGJ4ErZq6"
   },
   "outputs": [],
   "source": [
    "air_quality_renamed.head()"
   ]
  },
  {
   "cell_type": "markdown",
   "metadata": {
    "id": "_M0KFOm3rZq7"
   },
   "source": [
    "Подробная информация о [переименовании меток](https://pandas.pydata.org/docs/user_guide/basics.html#basics-rename) столбцов или строк приведена в разделе руководства пользователя по [переименованию меток](https://pandas.pydata.org/docs/user_guide/basics.html#basics-rename)."
   ]
  },
  {
   "cell_type": "markdown",
   "metadata": {
    "id": "uOxA7WBkrZq7"
   },
   "source": [
    "Руководство пользователя содержит отдельный раздел о [добавлении и удалении столбцов](https://pandas.pydata.org/docs/user_guide/dsintro.html#basics-dataframe-sel-add-del)."
   ]
  },
  {
   "cell_type": "markdown",
   "metadata": {
    "id": "tXQ8fjkLrZq7"
   },
   "source": [
    "<a href=\"https://t.me/init_python\"><img src=\"https://dfedorov.spb.ru/pandas/logo-telegram.png\" width=\"35\" height=\"35\" alt=\"telegram\" align=\"left\"></a>"
   ]
  },
  {
   "cell_type": "code",
   "execution_count": null,
   "metadata": {
    "id": "M0yLGDvVrZq8"
   },
   "outputs": [],
   "source": []
  }
 ],
 "metadata": {
  "colab": {
   "provenance": []
  },
  "kernelspec": {
   "display_name": "Python 3 (ipykernel)",
   "language": "python",
   "name": "python3"
  },
  "language_info": {
   "codemirror_mode": {
    "name": "ipython",
    "version": 3
   },
   "file_extension": ".py",
   "mimetype": "text/x-python",
   "name": "python",
   "nbconvert_exporter": "python",
   "pygments_lexer": "ipython3",
   "version": "3.10.8"
  }
 },
 "nbformat": 4,
 "nbformat_minor": 1
}
