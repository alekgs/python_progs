{
  "cells": [
    {
      "cell_type": "markdown",
      "metadata": {
        "id": "Cww12k1XqwOr"
      },
      "source": [
        "# Разбираем проект по анализу данных: исследуем средний вес новорожденных"
      ]
    },
    {
      "cell_type": "markdown",
      "metadata": {
        "id": "UUcN1LTRqwOt"
      },
      "source": [
        "<a href=\"https://colab.research.google.com/github/dm-fedorov/pandas_basic/blob/master/кейсы%20по%20анализу%20данных/downey/Исследуем%20средний%20вес%20новорожденных.ipynb\"><img align=\"left\" src=\"https://colab.research.google.com/assets/colab-badge.svg\" alt=\"Open in Colab\" title=\"Open and Execute in Google Colaboratory\" target=\"_blank\"></a>"
      ]
    },
    {
      "cell_type": "markdown",
      "metadata": {
        "tags": [],
        "id": "NVDHSiGuqwOu"
      },
      "source": [
        "*Copyright* [Allen B. Downey](https://allendowney.com)\n",
        "\n",
        "> [оригинал статьи](https://nbviewer.jupyter.org/github/AllenDowney/ElementsOfDataScience/blob/master/07_dataframes.ipynb)\n",
        "\n",
        "*License:* [Creative Commons Attribution-NonCommercial-ShareAlike 4.0 International](https://creativecommons.org/licenses/by-nc-sa/4.0/)"
      ]
    },
    {
      "cell_type": "markdown",
      "metadata": {
        "id": "WMZL2-koqwOv"
      },
      "source": [
        "<a href=\"https://t.me/init_python\"><img src=\"https://dfedorov.spb.ru/pandas/logo-telegram.png\" width=\"35\" height=\"35\" alt=\"telegram\" align=\"left\"></a>"
      ]
    },
    {
      "cell_type": "markdown",
      "metadata": {
        "id": "MABxRw5ZqwOw"
      },
      "source": [
        "Этот пример демонстрирует важные шаги практически в любом проекте по анализу данных:\n",
        "\n",
        "1. Определение данных, которые помогут ответить на вопрос.\n",
        "\n",
        "2. Получение данных и их загрузка в Python.\n",
        "\n",
        "3. Проверка данных и устранение ошибок.\n",
        "\n",
        "4. Выбор соответствующих подмножеств из данных.\n",
        "\n",
        "5. Использование гистограмм для визуализации распределения значений.\n",
        "\n",
        "6. Использование сводной статистики для описания данных таким образом, чтобы наилучшим образом ответить на вопрос.\n",
        "\n",
        "7. Рассмотрение возможных источников ошибок и ограничений в наших выводах.\n",
        "\n",
        "Начнем с получения данных."
      ]
    },
    {
      "cell_type": "markdown",
      "metadata": {
        "id": "g_gF4udFqwO0"
      },
      "source": [
        "## Чтение данных\n",
        "\n",
        "Мы будем использовать данные [Национального исследования роста семьи](https://www.cdc.gov/nchs/nsfg/index.htm) (*NSFG*).\n",
        "\n",
        "> Это исследование, проведенное отделом Статистики здравоохранения Центра по контролю и профилактике заболеваний, чтобы понять тенденции, связанные с фертильностью, структурой семьи и демографией в Соединенных Штатах.\n",
        "\n",
        "Чтобы загрузить данные, вы должны принять [Пользовательское соглашение](https://www.cdc.gov/nchs/data_access/ftp_dua.htm).\n",
        "Вам следует внимательно прочитать эти условия, но позвольте обратить ваше внимание на то, что я считаю наиболее важным:\n",
        "\n",
        "> Не пытайтесь узнать личность какого-либо лица или учреждения, включенного в эти данные.\n",
        "\n",
        "Респонденты *NSFG* дают честные ответы на вопросы самого личного характера, ожидая, что их личности не будут раскрыты.\n",
        "Как специалисты по этическим данным, мы должны уважать их конфиденциальность и соблюдать условия использования."
      ]
    },
    {
      "cell_type": "markdown",
      "metadata": {
        "id": "2fzjxjCSqwO3"
      },
      "source": [
        "Респонденты *NSFG* предоставляют общую информацию о себе, которая хранится в *файле респондентов*, и информацию о каждой беременности, которая хранится в *файле о беременности*.\n",
        "\n",
        "Мы будем работать с файлом беременности, который содержит по одной строке для каждой беременности и `248` переменных.\n",
        "Каждая переменная представляет собой ответы на вопрос анкеты *NSFG*."
      ]
    },
    {
      "cell_type": "markdown",
      "metadata": {
        "id": "4WHEbcDjqwO3"
      },
      "source": [
        "Данные хранятся в [формате фиксированной ширины](https://www.ibm.com/docs/en/baw/19.x?topic=formats-fixed-width-format) (*fixed-width format*), это означает, что каждая строка имеет одинаковую длину и каждая переменная охватывает фиксированный диапазон столбцов.\n",
        "\n",
        "В дополнение к файлу данных (`2015_2017_FemPregData.dat`) нам также понадобится словарь данных (`2015_2017_FemPregSetup.dct`), который включает имена переменных и указывает диапазон столбцов, в которых появляется каждая переменная."
      ]
    },
    {
      "cell_type": "code",
      "execution_count": null,
      "metadata": {
        "id": "QVGGCLQgqwO3"
      },
      "outputs": [],
      "source": [
        "dict_file = '2015_2017_FemPregSetup.dct'\n",
        "data_file = '2015_2017_FemPregData.dat'"
      ]
    },
    {
      "cell_type": "markdown",
      "metadata": {
        "tags": [],
        "id": "rsAbOLYsqwO4"
      },
      "source": [
        "После того, как вы согласились с условиями, вы можете использовать следующие ячейки для загрузки данных:"
      ]
    },
    {
      "cell_type": "code",
      "execution_count": null,
      "metadata": {
        "tags": [],
        "id": "0XZ7QpnPqwO6"
      },
      "outputs": [],
      "source": [
        "from os.path import basename, exists\n",
        "\n",
        "def download(url):\n",
        "    filename = basename(url)\n",
        "    if not exists(filename):\n",
        "        from urllib.request import urlretrieve\n",
        "        local, _ = urlretrieve(url, filename)\n",
        "        print('Downloaded ' + local)"
      ]
    },
    {
      "cell_type": "code",
      "execution_count": null,
      "metadata": {
        "tags": [],
        "id": "A1IA-yV2qwO6"
      },
      "outputs": [],
      "source": [
        "download('https://ftp.cdc.gov/pub/health_statistics/nchs/' +\n",
        "         'datasets/NSFG/stata/' + dict_file)"
      ]
    },
    {
      "cell_type": "code",
      "execution_count": null,
      "metadata": {
        "tags": [],
        "id": "84pmWnvEqwO6"
      },
      "outputs": [],
      "source": [
        "download('https://ftp.cdc.gov/pub/health_statistics/nchs/' +\n",
        "         'datasets/NSFG/' + data_file)"
      ]
    },
    {
      "cell_type": "markdown",
      "metadata": {
        "id": "Z9FvZTNUqwO6"
      },
      "source": [
        "Pandas может читать данные в наиболее распространенных форматах, включая *CSV*, *Excel* и *формате фиксированной ширины*, но не может читать словарь данных, который находится в формате *Stata*.\n",
        "\n",
        "Для этого мы будем использовать библиотеку Python под названием [`parse_stata_dict`](https://github.com/atudomain/statadict)."
      ]
    },
    {
      "cell_type": "markdown",
      "metadata": {
        "tags": [],
        "id": "8cV9lptuqwO7"
      },
      "source": [
        "Следующая ячейка при необходимости устанавливает `parse_stata_dict`."
      ]
    },
    {
      "cell_type": "code",
      "execution_count": null,
      "metadata": {
        "tags": [],
        "id": "3QVzatTlqwO7"
      },
      "outputs": [],
      "source": [
        "try:\n",
        "    from statadict import parse_stata_dict\n",
        "except ImportError:\n",
        "    !pip install statadict"
      ]
    },
    {
      "cell_type": "markdown",
      "metadata": {
        "id": "CGVkgSNiqwO7"
      },
      "source": [
        "Из `parse_stata_dict` мы импортируем функцию `parse_stata_dict`, которая читает словарь данных."
      ]
    },
    {
      "cell_type": "code",
      "execution_count": null,
      "metadata": {
        "id": "SyRKWk-iqwO8"
      },
      "outputs": [],
      "source": [
        "from statadict import parse_stata_dict\n",
        "\n",
        "stata_dict = parse_stata_dict(dict_file)\n",
        "stata_dict"
      ]
    },
    {
      "cell_type": "markdown",
      "metadata": {
        "id": "kovRde-5qwO8"
      },
      "source": [
        "В результате получается объект, содержащий атрибуты\n",
        "\n",
        "* `names`, который представляет собой список имен переменных, и\n",
        "\n",
        "* `colspecs`, который представляет собой список кортежей.\n",
        "\n",
        "Каждый кортеж в `colspecs` определяет первый и последний столбцы, в которых появляется переменная.\n",
        "\n",
        "Эти значения - именно те аргументы, которые нам нужны для использования [`read_fwf`](https://pandas.pydata.org/docs/reference/api/pandas.read_fwf.html), функции Pandas, считывающей файл в *формате фиксированной ширины*."
      ]
    },
    {
      "cell_type": "code",
      "execution_count": null,
      "metadata": {
        "id": "F-IJk0XtqwO8"
      },
      "outputs": [],
      "source": [
        "import pandas as pd\n",
        "\n",
        "nsfg = pd.read_fwf(data_file, \n",
        "                   names=stata_dict.names, \n",
        "                   colspecs=stata_dict.colspecs)\n",
        "type(nsfg)"
      ]
    },
    {
      "cell_type": "markdown",
      "metadata": {
        "id": "QZr8iuCzqwO9"
      },
      "source": [
        "Результатом вызова `read_hdf()` стал `DataFrame`, который является основным типом Pandas для хранения данных.\n",
        "\n",
        "В `DataFrame` есть метод `head()`, который показывает первые `5` строк:"
      ]
    },
    {
      "cell_type": "code",
      "execution_count": null,
      "metadata": {
        "id": "btpLXQHzqwO-"
      },
      "outputs": [],
      "source": [
        "nsfg.head()"
      ]
    },
    {
      "cell_type": "markdown",
      "metadata": {
        "id": "iwSiYvX7qwO-"
      },
      "source": [
        "Первый столбец - это `CASEID`, который представляет собой уникальный идентификатор для каждого респондента.\n",
        "\n",
        "Первые три строки содержат один и тот же `CASEID`, поэтому респондентка сообщила информацию о трех беременностях.\n",
        "\n",
        "Второй столбец - это `PREGORDR`, который указывает порядок беременностей для каждой респондентки, начиная с `1`.\n",
        "\n",
        "Мы узнаем больше о других переменных по мере исследования."
      ]
    },
    {
      "cell_type": "markdown",
      "metadata": {
        "id": "XVjj3AFEqwO_"
      },
      "source": [
        "В дополнение к таким методам, как `head`, `nsfg` имеет несколько **атрибутов**, которые представляют собой переменные, связанные с определенным типом. \n",
        "\n",
        "Например, у `nsfg` есть атрибут под названием `shape`, который представляет собой количество строк и столбцов:"
      ]
    },
    {
      "cell_type": "code",
      "execution_count": null,
      "metadata": {
        "id": "qiDQk1tgqwPA"
      },
      "outputs": [],
      "source": [
        "nsfg.shape"
      ]
    },
    {
      "cell_type": "markdown",
      "metadata": {
        "id": "VEG9OllnqwPA"
      },
      "source": [
        "В этом наборе данных `9553` строки, по одной для каждой беременности, и `248` столбцов, по одной для каждой переменной.\n",
        "\n",
        "`nsfg` также имеет атрибут под названием `columns`, который содержит имена столбцов:"
      ]
    },
    {
      "cell_type": "code",
      "execution_count": null,
      "metadata": {
        "id": "d7huX0I7qwPA"
      },
      "outputs": [],
      "source": [
        "nsfg.columns"
      ]
    },
    {
      "cell_type": "markdown",
      "metadata": {
        "id": "rwxVJtUsqwPA"
      },
      "source": [
        "Имена столбцов хранятся в `Index`, который является типом Pandas, похожим на список."
      ]
    },
    {
      "cell_type": "code",
      "execution_count": null,
      "metadata": {
        "tags": [],
        "id": "QV4OXceXqwPB"
      },
      "outputs": [],
      "source": [
        "type(nsfg.columns)"
      ]
    },
    {
      "cell_type": "markdown",
      "metadata": {
        "id": "jrSpr2cNqwPB"
      },
      "source": [
        "Основываясь на именах столбцов, вы можете догадаться, что это за переменные, но в целом вам необходимо прочитать документацию."
      ]
    },
    {
      "cell_type": "markdown",
      "metadata": {
        "id": "DZuwv_bpqwPB"
      },
      "source": [
        "Когда вы работаете с наборами данных, такими как *NSFG*, важно внимательно читать документацию. Если вы интерпретируете переменную неправильно, вы можете получить бессмысленные результаты и никогда этого не осознать. Итак, прежде чем мы начнем рассматривать данные, давайте познакомимся с кодовой книгой *NSFG*, которая описывает каждую переменную.\n",
        "\n",
        "До недавнего времени кодовая книга *NSFG* была доступна в интерактивном онлайн-формате.\n",
        "К сожалению, она больше не доступна, поэтому необходимо использовать [этот PDF-файл](https://github.com/AllenDowney/ElementsOfDataScience/raw/master/data/2015-2017_NSFG_FemPregFile_Codebook-508.pdf), который содержит краткое описание каждой переменной.\n",
        "\n",
        "Если вы выполните поиск в этом документе по запросу *\"weigh at birth\"*, вы должны найти эти переменные, связанные с массой тела при рождении.\n",
        "\n",
        "* `BIRTHWGT_LB1`: масса тела при рождении в фунтах (*Pounds*) - первый ребенок от этой беременности.\n",
        "\n",
        "* `BIRTHWGT_OZ1`: вес при рождении в унциях (*Ounces*) - первый ребенок от этой беременности.\n",
        "\n",
        "Подобные переменные существуют для 2-го или 3-го ребенка, в случае двойни или тройни.\n",
        "Сейчас мы сосредоточимся на первом ребенке от каждой беременности и вернемся к вопросу о многоплодных родах."
      ]
    },
    {
      "cell_type": "markdown",
      "metadata": {
        "id": "LnVb6OV1qwPB"
      },
      "source": [
        "## Series\n",
        "\n",
        "Во многих отношениях `DataFrame` похож на словарь Python, где имена столбцов являются ключами, а столбцы - значениями. Вы можете выбрать столбец из `DataFrame` с помощью оператора скобок со строкой в качестве ключа."
      ]
    },
    {
      "cell_type": "code",
      "execution_count": null,
      "metadata": {
        "id": "h1ObQXUaqwPB"
      },
      "outputs": [],
      "source": [
        "pounds = nsfg['BIRTHWGT_LB1']\n",
        "type(pounds)"
      ]
    },
    {
      "cell_type": "markdown",
      "metadata": {
        "id": "s3y77jo-qwPC"
      },
      "source": [
        "Результатом будет `Series`, который является еще одним типом данных Pandas.\n",
        "В этом случае `Series` содержат массу тела в фунтах для каждого рожденного.\n",
        "\n",
        "`head` показывает первые пять значений в серии, имя серии и тип данных:"
      ]
    },
    {
      "cell_type": "code",
      "execution_count": null,
      "metadata": {
        "id": "FfE4KRLiqwPC"
      },
      "outputs": [],
      "source": [
        "pounds.head()"
      ]
    },
    {
      "cell_type": "markdown",
      "metadata": {
        "id": "WTsxBj7gqwPC"
      },
      "source": [
        "Одно из значений - `NaN`, что означает *\"Not a Number\"*. \n",
        "\n",
        "`NaN` - это специальное значение, используемое для обозначения недопустимых или отсутствующих данных. В этом примере беременность не закончилась рождением, поэтому вес при рождении неприменим."
      ]
    },
    {
      "cell_type": "markdown",
      "metadata": {
        "id": "xNFWSbhrqwPC"
      },
      "source": [
        "**Упражнение:** Переменная `BIRTHWGT_OZ1` содержит часть веса при рождении в унциях.\n",
        "\n",
        "Выберите столбец `'BIRTHWGT_OZ1'` из фрейма данных `nsfg` и присвойте его новой переменной с именем `ounces`. Затем отобразите первые пять элементов `ounces`."
      ]
    },
    {
      "cell_type": "code",
      "execution_count": null,
      "metadata": {
        "id": "_DoOgbS3qwPD"
      },
      "outputs": [],
      "source": [
        "# Решение идет здесь"
      ]
    },
    {
      "cell_type": "markdown",
      "metadata": {
        "id": "UvmHapI4qwPD"
      },
      "source": [
        "**Упражнение:** Вы можете найти документацию по типам данных Pandas по адресам:\n",
        "\n",
        "* [DataFrame](https://pandas.pydata.org/pandas-docs/stable/reference/api/pandas.DataFrame.html)\n",
        "\n",
        "* [Index](https://pandas.pydata.org/pandas-docs/stable/reference/api/pandas.Index.html)\n",
        "\n",
        "* [Series](https://pandas.pydata.org/pandas-docs/stable/reference/api/pandas.Series.html)\n",
        "\n",
        "Эта документация может быть огромной; Не рекомендую пытаться читать все это сейчас. Но вы можете просмотреть, чтобы знать, где искать позже."
      ]
    },
    {
      "cell_type": "markdown",
      "metadata": {
        "id": "Ia6bqe17qwPE"
      },
      "source": [
        "## Проверка\n",
        "\n",
        "На этом этапе мы определили столбцы, которые нам нужны для ответа на вопрос, и присвоили их переменным с именами `pounds` и `ounces`."
      ]
    },
    {
      "cell_type": "code",
      "execution_count": null,
      "metadata": {
        "id": "XKamMOL5qwPE"
      },
      "outputs": [],
      "source": [
        "pounds = nsfg['BIRTHWGT_LB1']\n",
        "ounces = nsfg['BIRTHWGT_OZ1']"
      ]
    },
    {
      "cell_type": "markdown",
      "metadata": {
        "id": "i__KTIuwqwPE"
      },
      "source": [
        "Прежде чем что-либо делать с этими данными, мы должны их проверить (*validate*). Одна часть проверки - это подтверждение того, что мы правильно интерпретируем данные.\n",
        "\n",
        "Мы можем использовать метод `value_counts`, чтобы увидеть, какие значения появляются в `pounds` и сколько раз появляется каждое значение."
      ]
    },
    {
      "cell_type": "code",
      "execution_count": null,
      "metadata": {
        "tags": [],
        "id": "4LBCi95iqwPE"
      },
      "outputs": [],
      "source": [
        "pounds.value_counts()"
      ]
    },
    {
      "cell_type": "markdown",
      "metadata": {
        "id": "YoMeFR_RqwPE"
      },
      "source": [
        "По умолчанию результаты сортируются сначала по наиболее частому значению, но вместо этого мы можем использовать `sort_index`, чтобы отсортировать их:"
      ]
    },
    {
      "cell_type": "code",
      "execution_count": null,
      "metadata": {
        "id": "UdmKLe1yqwPF"
      },
      "outputs": [],
      "source": [
        "pounds.value_counts().sort_index()"
      ]
    },
    {
      "cell_type": "markdown",
      "metadata": {
        "id": "UL-HcH8NqwPF"
      },
      "source": [
        "Как и следовало ожидать, наиболее частыми значениями являются `6-8` фунтов, но есть несколько очень легких детей, несколько очень тяжелых детей и два специальных значения, `98` и `99`. Согласно кодовой книге, эти значения указывают на то, что респондент отказался отвечать на вопрос (`98`) или не знал (`99`).\n",
        "\n",
        "Мы можем проверить результаты, сравнив их с кодовой книгой, в которой перечислены значения и их частота.\n",
        "\n",
        "| Значение | Метка | Итого |\n",
        "| ------- | ---------------- | ------- |\n",
        "| . | НЕПРИМЕНИМО (INAPPLICABLE) | 2863 |\n",
        "| 0-5 | ДО 6 ФУНТОВ | 901 |\n",
        "| 6 | 6 ФУНТОВ | 1644 |\n",
        "| 7 | 7 ФУНТОВ | 2268 |\n",
        "| 8 | 8 ФУНТОВ | 1287 |\n",
        "| 9-95 | 9 ФУНТОВ ИЛИ БОЛЬШЕ | 499 |\n",
        "| 98 | Отказано (Refused) | 2 |\n",
        "| 99 | Не знаю | 89 |\n",
        "| | Итого | 9553 |\n",
        "\n",
        "Результаты от `value_counts` согласуются с кодовой книгой, поэтому у нас есть некоторая уверенность в том, что мы читаем и интерпретируем данные правильно."
      ]
    },
    {
      "cell_type": "markdown",
      "metadata": {
        "id": "uyL-izO_qwPF"
      },
      "source": [
        "**Упражнение:** В фрейме данных `nsfg` столбец `'OUTCOME'` кодирует исход каждой беременности, как показано ниже:\n",
        "\n",
        "| Значение | Смысл |\n",
        "| --- | --- |\n",
        "| 1 | Рождение (Live birth) |\n",
        "| 2 | Искусственный аборт (Induced abortion) |\n",
        "| 3 | Мертворождение (Stillbirth) |\n",
        "| 4 | Выкидыш (Miscarriage) |\n",
        "| 5 | Внематочная беременность (Ectopic pregnancy) |\n",
        "| 6 | Текущая беременность (Current pregnancy) |\n",
        "\n",
        "Используйте `value_counts`, чтобы отобразить значения в этом столбце и сколько раз появляется каждое значение. Соответствуют ли результаты [кодовой книге](https://github.com/AllenDowney/ElementsOfDataScience/raw/master/data/2015-2017_NSFG_FemPregFile_Codebook-508.pdf)?"
      ]
    },
    {
      "cell_type": "code",
      "execution_count": null,
      "metadata": {
        "id": "RHB9Q7QhqwPG"
      },
      "outputs": [],
      "source": [
        "# Решение идет здесь"
      ]
    },
    {
      "cell_type": "markdown",
      "metadata": {
        "id": "tDE0heD_qwPG"
      },
      "source": [
        "## Сводные статистические данные\n",
        "\n",
        "Другой способ проверить данные - это `describe`, который вычисляет сводную статистику, такую как *среднее значение*, *стандартное отклонение*, *минимум* и *максимум*.\n",
        "\n",
        "Вот результаты для `pounds`."
      ]
    },
    {
      "cell_type": "code",
      "execution_count": null,
      "metadata": {
        "id": "irFwdUkXqwPG"
      },
      "outputs": [],
      "source": [
        "pounds.describe()"
      ]
    },
    {
      "cell_type": "markdown",
      "metadata": {
        "id": "RwV-ewQ3qwPG"
      },
      "source": [
        "`count` - это количество значений, не считая `NaN`. Для этой переменной есть `6690` значений, отличных от `NaN`.\n",
        "\n",
        "`mean` и `std` - это *среднее значение* и *стандартное отклонение*.\n",
        "\n",
        "`min` и `max` - это минимальное и максимальное значения, а между ними - `25`, `50` и `75` процентили. `50`-й процентиль - это *медиана*.\n",
        "\n",
        "Среднее значение составляет около `8.05`, но это мало что значит, потому что оно включает специальные значения `98` и `99`. Прежде чем мы действительно сможем вычислить среднее значение, мы *должны заменить эти значения* на `NaN`, чтобы идентифицировать их как отсутствующие данные.\n",
        "\n",
        "Метод `replace()` делает то, что мы хотим:"
      ]
    },
    {
      "cell_type": "code",
      "execution_count": null,
      "metadata": {
        "id": "DZXk3Wd1qwPG"
      },
      "outputs": [],
      "source": [
        "import numpy as np\n",
        "\n",
        "pounds_clean = pounds.replace([98, 99], np.nan)"
      ]
    },
    {
      "cell_type": "markdown",
      "metadata": {
        "id": "BDhyjlMxqwPG"
      },
      "source": [
        "`replace` принимает список значений, которые мы хотим заменить, и значение, которым мы хотим их заменить. \n",
        "\n",
        "`np.nan` означает, что мы получаем специальное значение `NaN` из библиотеки NumPy, которая импортируется как `np`.\n",
        "\n",
        "Результатом `replace()` является новая серия, которую я присваиваю переменной `pounds_clean`.\n",
        "\n",
        "Если мы снова запустим `describe`, мы увидим, что `count` включает только допустимые значения."
      ]
    },
    {
      "cell_type": "code",
      "execution_count": null,
      "metadata": {
        "id": "_gGYHftMqwPH"
      },
      "outputs": [],
      "source": [
        "pounds_clean.describe()"
      ]
    },
    {
      "cell_type": "markdown",
      "metadata": {
        "id": "RC2soUxiqwPH"
      },
      "source": [
        "Средний вес новой серии составляет около `6,7` фунтов.\n",
        "Помните, что среднее значение оригинальной серии было более `8` фунтов.\n",
        "Это имеет большое значение, когда вы убираете несколько `99`-фунтовых младенцев!"
      ]
    },
    {
      "cell_type": "markdown",
      "metadata": {
        "id": "RB1B0pTbqwPH"
      },
      "source": [
        "**Упражнение:** Используйте `describe`, чтобы суммировать `ounces`.\n",
        "\n",
        "Затем используйте `replace`, чтобы заменить специальные значения `98` и `99` на `NaN`, и присвойте результат переменной `ounces_clean`.\n",
        "\n",
        "Снова запустите `describe`. Насколько эта очистка влияет на результат?"
      ]
    },
    {
      "cell_type": "code",
      "execution_count": null,
      "metadata": {
        "id": "VQHjBJM9qwPH"
      },
      "outputs": [],
      "source": [
        "# Решение идет здесь"
      ]
    },
    {
      "cell_type": "code",
      "execution_count": null,
      "metadata": {
        "id": "yep-iDiZqwPI"
      },
      "outputs": [],
      "source": [
        "# Решение идет здесь"
      ]
    },
    {
      "cell_type": "code",
      "execution_count": null,
      "metadata": {
        "id": "pU5yEaKLqwPI"
      },
      "outputs": [],
      "source": [
        "# Решение идет здесь"
      ]
    },
    {
      "cell_type": "markdown",
      "metadata": {
        "id": "H9joasG9qwPI"
      },
      "source": [
        "## Арифметика с сериями\n",
        "\n",
        "Теперь мы хотим объединить `pounds` и `ounces` в одну серию, содержащую общий вес при рождении.\n",
        "Арифметические операторы работают с объектами `Series`; так, например, чтобы преобразовать `pounds` в унции, мы могли бы написать\n",
        "\n",
        "`pounds * 16`\n",
        "\n",
        "Затем мы могли бы добавить `ounces` вот так\n",
        "\n",
        "`pounds * 16 + ounces`\n"
      ]
    },
    {
      "cell_type": "markdown",
      "metadata": {
        "id": "fuUN0grdqwPI"
      },
      "source": [
        "**Упражнение:** Используйте `pounds_clean` и `ounces_clean`, чтобы вычислить общий вес при рождении, выраженный в килограммах (это примерно `2,2` фунта на килограмм). Какой средний вес при рождении в килограммах?"
      ]
    },
    {
      "cell_type": "code",
      "execution_count": null,
      "metadata": {
        "id": "OXV1UL7hqwPJ"
      },
      "outputs": [],
      "source": [
        "# Решение идет здесь"
      ]
    },
    {
      "cell_type": "markdown",
      "metadata": {
        "id": "-v0OiOaoqwPK"
      },
      "source": [
        "**Упражнение:** Для каждой беременности в наборе данных *NSFG* переменная `'AGECON'` кодирует возраст респондента на момент зачатия, а `'AGEPREG'` - возраст респондента в конце беременности.\n",
        "\n",
        "Обе переменные записываются как целые числа с двумя неявными десятичными знаками, поэтому значение `2575` означает, что возраст респондента был `25.75`.\n",
        "\n",
        "- Прочтите документацию по этим переменным. Есть ли какие-то особые значения, с которыми нам приходится иметь дело?\n",
        "\n",
        "- Выберите `'AGECON'` и `'AGEPREG'`, разделите их на `100` и присвойте их переменным с именами `agecon` и `agepreg`.\n",
        "\n",
        "- Вычислите разницу, которая является оценкой продолжительности беременности.\n",
        "\n",
        "- Используйте `.describe()` для вычисления средней продолжительности и другой сводной статистики.\n",
        "\n",
        "Если средняя продолжительность беременности кажется короткой, помните, что этот набор данных включает все беременности, а не только те, которые закончились рождением."
      ]
    },
    {
      "cell_type": "code",
      "execution_count": null,
      "metadata": {
        "id": "d4PKZGGgqwPK"
      },
      "outputs": [],
      "source": [
        "# Решение идет здесь"
      ]
    },
    {
      "cell_type": "markdown",
      "metadata": {
        "id": "24bJeJiKqwPK"
      },
      "source": [
        "## Гистограммы\n",
        "\n",
        "Вернемся к первоначальному вопросу: каков средний вес новорожденных в США?\n",
        "В качестве ответа мы *могли бы* взять результаты из предыдущего раздела и вычислить среднее значение:"
      ]
    },
    {
      "cell_type": "code",
      "execution_count": null,
      "metadata": {
        "id": "XNdBuOMtqwPK"
      },
      "outputs": [],
      "source": [
        "pounds_clean = pounds.replace([98, 99], np.nan)\n",
        "ounces_clean = ounces.replace([98, 99], np.nan)\n",
        "\n",
        "birth_weight = pounds_clean + ounces_clean / 16\n",
        "birth_weight.mean()"
      ]
    },
    {
      "cell_type": "markdown",
      "metadata": {
        "id": "qZEEA_LlqwPK"
      },
      "source": [
        "Но вычислять сводную статистику, например среднее значение, до того, как мы рассмотрим все распределение значений, рискованно.\n",
        "\n",
        "**Распределение** - это набор возможных значений и их частот. Одним из способов визуализации распределения является *гистограмма*, которая показывает значения по оси `x` и их частоты по оси `y`.\n",
        "\n",
        "`Series` предоставляет метод `hist`, который строит гистограммы. И мы можем использовать `Matplotlib` для маркировки осей."
      ]
    },
    {
      "cell_type": "code",
      "execution_count": null,
      "metadata": {
        "id": "MkTiqGEdqwPL"
      },
      "outputs": [],
      "source": [
        "import matplotlib.pyplot as plt\n",
        "\n",
        "birth_weight.hist(bins=30)\n",
        "plt.xlabel('Вес при рождении в фунтах')\n",
        "plt.ylabel('Количество рожденных')\n",
        "plt.title('Распределение веса при рождении в США');"
      ]
    },
    {
      "cell_type": "markdown",
      "metadata": {
        "id": "_OeXYl0oqwPM"
      },
      "source": [
        "Ключевой аргумент `bins`, указывает `hist` разделить диапазон весов на `30` интервалов, называемых **bins**, и подсчитать, сколько значений попадает в каждую ячейку.\n",
        "\n",
        "По оси `x` отложена масса тела при рождении в фунтах; ось `y` - это количество рождений в каждой ячейке (*bin*).\n",
        "\n",
        "Распределение немного похоже на колоколообразную кривую, но хвост слева длиннее, чем справа; то есть легких младенцев больше, чем тяжелых.\n",
        "\n",
        "В этом есть смысл, потому что в распределение включены некоторые недоношенные дети."
      ]
    },
    {
      "cell_type": "markdown",
      "metadata": {
        "id": "K9DsoJJ4qwPM"
      },
      "source": [
        "**Упражнение:** `hist` принимает ключевые аргументы, которые определяют тип и внешний вид гистограммы.\n",
        "\n",
        "[Найдите документацию](https://pandas.pydata.org/docs/reference/api/pandas.Series.hist.html) по `hist` и посмотрите, сможете ли вы выяснить, как построить гистограмму в виде [незаполненной линии](https://matplotlib.org/stable/api/_as_gen/matplotlib.pyplot.hist.html) (unfilled line)."
      ]
    },
    {
      "cell_type": "code",
      "execution_count": null,
      "metadata": {
        "id": "bDIqtGlPqwPN"
      },
      "outputs": [],
      "source": [
        "# Решение идет здесь"
      ]
    },
    {
      "cell_type": "markdown",
      "metadata": {
        "id": "6s7WywiJqwPO"
      },
      "source": [
        "**Упражнение:** Как мы видели в предыдущем упражнении, набор данных *NSFG* включает столбец под названием `AGECON`, в котором записывается возраст на момент зачатия для каждой беременности.\n",
        "\n",
        "- Выберите этот столбец в `DataFrame` и разделите на `100`, чтобы преобразовать его в годы.\n",
        "\n",
        "- Постройте гистограмму этих значений с `20` ячейками (*bins*).\n",
        "\n",
        "- Обозначьте оси `x` и `y` соответствующим образом."
      ]
    },
    {
      "cell_type": "code",
      "execution_count": null,
      "metadata": {
        "id": "R1pUL7bZqwPO"
      },
      "outputs": [],
      "source": [
        "# Решение идет здесь"
      ]
    },
    {
      "cell_type": "markdown",
      "metadata": {
        "id": "_qvUDAtsqwPQ"
      },
      "source": [
        "## Логическая серия (boolean series)\n",
        "\n",
        "Мы видели, что распределение веса при рождении **смещено** влево; то есть легких младенцев больше, чем тяжелых, и они дальше от средних. Это потому, что недоношенные дети, как правило, легче. \n",
        "\n",
        "Наиболее частая продолжительность беременности составляет `39 недель`, что является \"доношенной\"; \"недоношенность\" обычно определяется как срок менее `37 недель`.\n",
        "\n",
        "Чтобы узнать, какие дети недоношены, мы можем использовать `PRGLNGTH`, который содержит продолжительность беременности в неделях и вычисляет ее как `37`."
      ]
    },
    {
      "cell_type": "code",
      "execution_count": null,
      "metadata": {
        "id": "t1lM4SJZqwPQ"
      },
      "outputs": [],
      "source": [
        "preterm = (nsfg['PRGLNGTH'] < 37)\n",
        "preterm.dtype"
      ]
    },
    {
      "cell_type": "markdown",
      "metadata": {
        "id": "nPSBGaSgqwPR"
      },
      "source": [
        "Когда вы сравниваете `Series` со значением, результатом является логическая серия; то есть каждый элемент является логическим значением `True` или `False`. В этом случае для каждого недоношенного ребенка - это `True`, в противном случае - `False`. Мы можем использовать `head`, чтобы увидеть первые `5` элементов."
      ]
    },
    {
      "cell_type": "code",
      "execution_count": null,
      "metadata": {
        "id": "Wt2F8iJaqwPR"
      },
      "outputs": [],
      "source": [
        "preterm.head()"
      ]
    },
    {
      "cell_type": "markdown",
      "metadata": {
        "id": "5uiO88GbqwPR"
      },
      "source": [
        "Если вы вычисляете сумму логической серии, она обрабатывает `True` как `1` и `False` как `0`, поэтому сумма представляет собой количество значений `True`, то есть количество недоношенных детей, около `3700`."
      ]
    },
    {
      "cell_type": "code",
      "execution_count": null,
      "metadata": {
        "id": "r0CX3Hq5qwPR"
      },
      "outputs": [],
      "source": [
        "preterm.sum()"
      ]
    },
    {
      "cell_type": "markdown",
      "metadata": {
        "id": "8aZskNOKqwPR"
      },
      "source": [
        "Если вы вычисляете среднее значение логической серии, вы получаете *долю* (*fraction*) от значений `True`.\n",
        "В данном случае это около `0,38`; то есть около `38%` беременностей длится менее `37 недель`."
      ]
    },
    {
      "cell_type": "code",
      "execution_count": null,
      "metadata": {
        "id": "tTp5zrsFqwPS"
      },
      "outputs": [],
      "source": [
        "preterm.mean()"
      ]
    },
    {
      "cell_type": "markdown",
      "metadata": {
        "id": "gTJCeb1WqwPS"
      },
      "source": [
        "Однако этот результат может вводить в заблуждение, поскольку он включает все исходы беременности, а не только рождения.\n",
        "Мы можем создать еще одну логическую серию, чтобы указать, какие беременности закончились рождением:"
      ]
    },
    {
      "cell_type": "code",
      "execution_count": null,
      "metadata": {
        "id": "ytK0_zrXqwPU"
      },
      "outputs": [],
      "source": [
        "live = (nsfg['OUTCOME'] == 1)\n",
        "live.mean()"
      ]
    },
    {
      "cell_type": "markdown",
      "metadata": {
        "id": "VBREtTjyqwPU"
      },
      "source": [
        "Теперь мы можем использовать логический оператор `&` для определения беременностей, результатом которых являются преждевременные роды:"
      ]
    },
    {
      "cell_type": "code",
      "execution_count": null,
      "metadata": {
        "id": "T8EqLdcxqwPU"
      },
      "outputs": [],
      "source": [
        "live_preterm = (live & preterm)\n",
        "live_preterm.mean()"
      ]
    },
    {
      "cell_type": "markdown",
      "metadata": {
        "id": "BNaL2beNqwPV"
      },
      "source": [
        "**Упражнение:** Какая часть всех рождений является недоношенными?"
      ]
    },
    {
      "cell_type": "code",
      "execution_count": null,
      "metadata": {
        "id": "Uk5NzMpeqwPV"
      },
      "outputs": [],
      "source": [
        "# Решение идет здесь"
      ]
    },
    {
      "cell_type": "markdown",
      "metadata": {
        "id": "qFXZ3y6dqwPV"
      },
      "source": [
        "Другие распространенные логические операторы:\n",
        "    \n",
        "* `|`, который является оператором ИЛИ; например `live | preterm` - истина, если либо `live` - истина, либо `preterm` - истина, либо и то, и другое.\n",
        "\n",
        "* `~`, который является оператором НЕ; например, `~live` истинно, если `live` ложно или `NaN`.\n",
        "\n",
        "Логические операторы обрабатывают `NaN` так же, как `False`. Таким образом, вы должны быть осторожны при использовании оператора НЕ с серией, содержащей значения `NaN`.\n",
        "\n",
        "Например, `~preterm` будут включать не только доношенные беременности, но и беременности с неизвестной продолжительностью."
      ]
    },
    {
      "cell_type": "markdown",
      "metadata": {
        "id": "y-fICtZ0qwPW"
      },
      "source": [
        "**Упражнение:** Какая доля всех беременностей является доношенной, то есть `37` недель или более? Какая доля всех рожденных является доношенными?"
      ]
    },
    {
      "cell_type": "code",
      "execution_count": null,
      "metadata": {
        "id": "rFwv0IytqwPW"
      },
      "outputs": [],
      "source": [
        "# Решение идет здесь"
      ]
    },
    {
      "cell_type": "code",
      "execution_count": null,
      "metadata": {
        "id": "AZsuZi_MqwPW"
      },
      "outputs": [],
      "source": [
        "# Решение идет здесь"
      ]
    },
    {
      "cell_type": "markdown",
      "metadata": {
        "id": "wcyQPBgoqwPW"
      },
      "source": [
        "## Фильтрация\n",
        "\n",
        "Мы можем использовать логическую серию в качестве фильтра; то есть мы можем выбрать только те строки, которые удовлетворяют условию или удовлетворяют некоторому критерию.\n",
        "\n",
        "Например, мы можем использовать `preterm` и оператор скобки для выбора значений из `birth_weight`, так что `preterm_weight` получает вес при рождении для недоношенных детей."
      ]
    },
    {
      "cell_type": "code",
      "execution_count": null,
      "metadata": {
        "id": "TPwInpsBqwPW"
      },
      "outputs": [],
      "source": [
        "preterm_weight = birth_weight[preterm]\n",
        "preterm_weight.mean()"
      ]
    },
    {
      "cell_type": "markdown",
      "metadata": {
        "id": "tsl4aw1UqwPW"
      },
      "source": [
        "Чтобы выбрать доношенных детей, мы можем создать логическую серию следующим образом:"
      ]
    },
    {
      "cell_type": "code",
      "execution_count": null,
      "metadata": {
        "id": "w1w9sfWkqwPW"
      },
      "outputs": [],
      "source": [
        "fullterm = (nsfg['PRGLNGTH'] >= 37)"
      ]
    },
    {
      "cell_type": "markdown",
      "metadata": {
        "id": "Gk0mITOwqwPX"
      },
      "source": [
        "Для выбора веса при рождении доношенных детей используйте:"
      ]
    },
    {
      "cell_type": "code",
      "execution_count": null,
      "metadata": {
        "id": "YoISjLTeqwPX"
      },
      "outputs": [],
      "source": [
        "full_term_weight = birth_weight[fullterm]\n",
        "full_term_weight.mean()"
      ]
    },
    {
      "cell_type": "markdown",
      "metadata": {
        "id": "ch-EKpHhqwPX"
      },
      "source": [
        "Как и ожидалось, доношенные дети в среднем тяжелее недоношенных.\n",
        "Чтобы быть более точным, мы также можем ограничить результаты рождением, например:"
      ]
    },
    {
      "cell_type": "code",
      "execution_count": null,
      "metadata": {
        "id": "BJk4bLh4qwPZ"
      },
      "outputs": [],
      "source": [
        "full_term_weight = birth_weight[live & fullterm]\n",
        "full_term_weight.mean()"
      ]
    },
    {
      "cell_type": "markdown",
      "metadata": {
        "id": "q1U2mzd8qwPa"
      },
      "source": [
        "Но в этом случае мы получаем тот же результат, потому что `birth_weight` действителен только для рожденных."
      ]
    },
    {
      "cell_type": "markdown",
      "metadata": {
        "id": "FNi7_X4nqwPb"
      },
      "source": [
        "**Упражнение:** Давайте посмотрим, есть ли разница в весе между одноплодными и многоплодными родами (двойняшки, тройни и т. д.).\n",
        "\n",
        "Переменная `NBRNALIV` представляет количество детей, рожденных живыми от одной беременности."
      ]
    },
    {
      "cell_type": "code",
      "execution_count": null,
      "metadata": {
        "id": "fypgtNR0qwPc"
      },
      "outputs": [],
      "source": [
        "nbrnaliv = nsfg['NBRNALIV']\n",
        "nbrnaliv.value_counts()"
      ]
    },
    {
      "cell_type": "markdown",
      "metadata": {
        "id": "o9XOB8OzqwPc"
      },
      "source": [
        "Используйте `nbrnaliv` и `live`, чтобы создать логический ряд под названием `multiple`, который является верным для множественных рождений. \n",
        "\n",
        "Какая доля всех рождений приходится на многоплодие?"
      ]
    },
    {
      "cell_type": "code",
      "execution_count": null,
      "metadata": {
        "id": "0KNwp60iqwPc"
      },
      "outputs": [],
      "source": [
        "# Решение идет здесь"
      ]
    },
    {
      "cell_type": "code",
      "execution_count": null,
      "metadata": {
        "id": "GmU0nBRKqwPc"
      },
      "outputs": [],
      "source": [
        "# Решение идет здесь"
      ]
    },
    {
      "cell_type": "markdown",
      "metadata": {
        "id": "rpMnrsyjqwPc"
      },
      "source": [
        "**Упражнение:** Создайте логический ряд под названием `single`, который подходит для одноплодных рождений. \n",
        "\n",
        "Какая часть всех одноплодных родов является преждевременными? \n",
        "\n",
        "Какая часть всех родов являются преждевременными?"
      ]
    },
    {
      "cell_type": "code",
      "execution_count": null,
      "metadata": {
        "id": "-moiDexSqwPc"
      },
      "outputs": [],
      "source": [
        "# Решение идет здесь"
      ]
    },
    {
      "cell_type": "code",
      "execution_count": null,
      "metadata": {
        "id": "xAzGdifZqwPd"
      },
      "outputs": [],
      "source": [
        "# Решение идет здесь"
      ]
    },
    {
      "cell_type": "code",
      "execution_count": null,
      "metadata": {
        "id": "I-CBbMrpqwPd"
      },
      "outputs": [],
      "source": [
        "# Решение идет здесь"
      ]
    },
    {
      "cell_type": "markdown",
      "metadata": {
        "id": "7HahKgdGqwPd"
      },
      "source": [
        "**Упражнение:** Каков средний вес при рождении живыми (*live*), одноплодными (*single*) и доношенными (*full-term births*)?"
      ]
    },
    {
      "cell_type": "code",
      "execution_count": null,
      "metadata": {
        "id": "ixjK7wX1qwPd"
      },
      "outputs": [],
      "source": [
        "# Решение идет здесь"
      ]
    },
    {
      "cell_type": "markdown",
      "metadata": {
        "id": "zFPiw8E-qwPe"
      },
      "source": [
        "## Средневзвешенное значение\n",
        "\n",
        "Мы почти готовы вычислить средний вес при рождении, но нам нужно решить еще одну проблему: *передискретизацию* (*oversampling*).\n",
        "\n",
        "*NSFG* не совсем репрезентативен для населения США. По замыслу, некоторые группы чаще появляются в выборке, чем другие; то есть они **передискретизированы** (*oversampled*). Передискретизация помогает гарантировать, что у вас будет достаточно людей в каждой подгруппе для получения надежной статистики, но это немного усложняет анализ данных.\n",
        "\n",
        "Каждая беременность в наборе данных имеет **вес выборки** (*sampling weight*), который указывает, сколько беременностей она представляет. В `nsfg` вес выборки хранится в столбце с именем `wgt2015_2017`. Вот как это выглядит."
      ]
    },
    {
      "cell_type": "code",
      "execution_count": null,
      "metadata": {
        "id": "1WnoIi8ZqwPe"
      },
      "outputs": [],
      "source": [
        "sampling_weight = nsfg['WGT2015_2017']\n",
        "sampling_weight.describe()"
      ]
    },
    {
      "cell_type": "markdown",
      "metadata": {
        "id": "iCmmIOZPqwPe"
      },
      "source": [
        "Среднее значение (`50`-й процентиль) в этом столбце составляет около `7292`, что означает, что беременность с таким весом представляет собой `7292` беременностей в популяции.\n",
        "\n",
        "Но диапазон значений широк, поэтому некоторые строки представляют намного больше беременностей, чем другие.\n",
        "\n",
        "Чтобы учесть эти веса, мы можем вычислить **среднее арифметическое взвешенное** (*weighted mean*). \n",
        "\n",
        "Вот шаги:\n",
        "\n",
        "1. Умножьте вес при рождении для каждой беременности на веса выборки и сложите произведения.\n",
        "\n",
        "2. Сложите выборочные веса.\n",
        "\n",
        "3. Разделите первую сумму на вторую.\n",
        "\n",
        "Чтобы сделать это правильно, мы должны быть осторожны с пропущенными (*missing*) данными.\n",
        "Чтобы помочь с этим, мы будем использовать два метода `Series`: `isna` и `notna`.\n",
        "\n",
        "`isna` возвращает логическое значение `Series`, равное `True`, где соответствующее значение - `NaN`."
      ]
    },
    {
      "cell_type": "code",
      "execution_count": null,
      "metadata": {
        "id": "TSfAWpYJqwPe"
      },
      "outputs": [],
      "source": [
        "missing = birth_weight.isna()\n",
        "missing.sum()"
      ]
    },
    {
      "cell_type": "markdown",
      "metadata": {
        "id": "hkug5BViqwPe"
      },
      "source": [
        "В `birth_weight` `3013` пропущенных значений (в основном для беременностей, которые не закончились рождением).\n",
        "\n",
        "`notna` возвращает логическое значение `Series`, которое имеет значение `True`, где соответствующее значение *не* `NaN`."
      ]
    },
    {
      "cell_type": "code",
      "execution_count": null,
      "metadata": {
        "id": "vUTI5JeXqwPf"
      },
      "outputs": [],
      "source": [
        "valid = birth_weight.notna()\n",
        "valid.sum()"
      ]
    },
    {
      "cell_type": "markdown",
      "metadata": {
        "id": "d2o58a-gqwPf"
      },
      "source": [
        "Мы можем комбинировать `valid` с другими вычисленными нами логическими `Series`, чтобы идентифицировать одноплодные (*single*), доношенные рождения с допустимым весом при рождении."
      ]
    },
    {
      "cell_type": "code",
      "execution_count": null,
      "metadata": {
        "id": "Ru3ikEBHqwPg"
      },
      "outputs": [],
      "source": [
        "single = (nbrnaliv == 1)\n",
        "selected = valid & live & single & fullterm\n",
        "selected.sum()"
      ]
    },
    {
      "cell_type": "markdown",
      "metadata": {
        "id": "1HSX2db7qwPg"
      },
      "source": [
        "**Упражнение:** Используйте `selected`, `birth_weight` и `sampling_weight`, чтобы вычислить средневзвешенное значение веса при рождении для живых (*live*), одноплодных (*single*) и доношенных детей (*full term*).\n",
        "\n",
        "Вы должны обнаружить, что взвешенное среднее немного больше невзвешенного среднего, которое мы вычислили в предыдущем разделе. Это связано с тем, что группы, для которых в *NSFG* представлена избыточная выборка (*oversampled*), как правило, в среднем рожают более легких детей."
      ]
    },
    {
      "cell_type": "code",
      "execution_count": null,
      "metadata": {
        "id": "7aU7fNwuqwPg"
      },
      "outputs": [],
      "source": [
        "# Решение идет здесь"
      ]
    },
    {
      "cell_type": "code",
      "execution_count": null,
      "metadata": {
        "id": "4g8-da9qqwPg"
      },
      "outputs": [],
      "source": [
        "# Решение идет здесь"
      ]
    },
    {
      "cell_type": "markdown",
      "metadata": {
        "id": "Q2atHJ5DqwPg"
      },
      "source": [
        "## Резюме\n",
        "\n",
        "В этом Блокноте задается, казалось бы, простой вопрос: каков средний вес новорожденных в Соединенных Штатах?\n",
        "\n",
        "Чтобы ответить на него, мы нашли подходящий набор данных и прочитали файлы. Затем мы проверили данные и обработали специальные значения, отсутствующие данные и ошибки.\n",
        "\n",
        "Чтобы исследовать данные, мы использовали `value_counts`, `hist`, `describe` и другие методы Pandas.\n",
        "А для выбора релевантных данных мы использовали логическое значение `Series`.\n",
        "\n",
        "Попутно нам пришлось больше думать над этим вопросом. Что мы подразумеваем под \"средним\" и каких младенцев мы должны включать? Должны ли мы включать всех родившихся или исключать недоношенных или многоплодных детей?\n",
        "\n",
        "И нам нужно было подумать о процессе *семплирования* (*sampling process*). По замыслу респонденты *NSFG* не являются репрезентативными для населения США, но мы можем использовать *веса выборки*, чтобы скорректировать этот эффект.\n",
        "\n",
        "Даже простой вопрос может стать сложным проектом в области науки о данных."
      ]
    },
    {
      "cell_type": "markdown",
      "metadata": {
        "id": "5ot_7MXkqwPh"
      },
      "source": [
        "<a href=\"https://t.me/init_python\"><img src=\"https://dfedorov.spb.ru/pandas/logo-telegram.png\" width=\"35\" height=\"35\" alt=\"telegram\" align=\"left\"></a>"
      ]
    },
    {
      "cell_type": "code",
      "execution_count": null,
      "metadata": {
        "id": "A6hXy6tnqwPh"
      },
      "outputs": [],
      "source": []
    }
  ],
  "metadata": {
    "celltoolbar": "Tags",
    "kernelspec": {
      "display_name": "Python 3",
      "language": "python",
      "name": "python3"
    },
    "language_info": {
      "codemirror_mode": {
        "name": "ipython",
        "version": 3
      },
      "file_extension": ".py",
      "mimetype": "text/x-python",
      "name": "python",
      "nbconvert_exporter": "python",
      "pygments_lexer": "ipython3",
      "version": "3.8.2"
    },
    "colab": {
      "provenance": []
    }
  },
  "nbformat": 4,
  "nbformat_minor": 0
}