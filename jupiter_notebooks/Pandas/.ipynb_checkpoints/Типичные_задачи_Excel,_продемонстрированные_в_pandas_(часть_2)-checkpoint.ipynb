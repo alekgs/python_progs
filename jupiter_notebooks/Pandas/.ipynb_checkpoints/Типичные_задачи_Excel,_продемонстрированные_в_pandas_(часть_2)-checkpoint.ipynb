{
 "cells": [
  {
   "cell_type": "markdown",
   "metadata": {
    "id": "OFAgvwUNrvg7"
   },
   "source": [
    "# Типичные задачи Excel, продемонстрированные в pandas (часть 2)\n",
    "\n",
    "<a href=\"https://t.me/init_python\"><img src=\"https://dfedorov.spb.ru/pandas/logo-telegram.png\" width=\"35\" height=\"35\" alt=\"telegram\" align=\"left\"></a>"
   ]
  },
  {
   "cell_type": "markdown",
   "metadata": {
    "id": "LUkEf_tprvg9"
   },
   "source": [
    "<a href=\"https://colab.research.google.com/github/dm-fedorov/pandas_basic/blob/master/быстрое%20введение%20в%20pandas/Типичные%20задачи%20Excel%2C%20продемонстрированные%20в%20pandas%20(часть%202).ipynb\"><img align=\"left\" src=\"https://colab.research.google.com/assets/colab-badge.svg\" alt=\"Open in Colab\" title=\"Open and Execute in Google Colaboratory\" target=\"_blank\"></a>"
   ]
  },
  {
   "cell_type": "markdown",
   "metadata": {
    "id": "i7sS5uKnrvg-"
   },
   "source": [
    "## Введение\n",
    "\n",
    "В [первой статье](https://dfedorov.spb.ru/pandas/%D0%A2%D0%B8%D0%BF%D0%B8%D1%87%D0%BD%D1%8B%D0%B5%20%D0%B7%D0%B0%D0%B4%D0%B0%D1%87%D0%B8%20Excel,%20%D0%BF%D1%80%D0%BE%D0%B4%D0%B5%D0%BC%D0%BE%D0%BD%D1%81%D1%82%D1%80%D0%B8%D1%80%D0%BE%D0%B2%D0%B0%D0%BD%D0%BD%D1%8B%D0%B5%20%D0%B2%20pandas.html) я сосредоточился на распространенных математических задачах, выполняемых в Excel, и их аналогах в pandas. В этой статье я сосредоточусь на некоторых типичных задачах выбора и фильтрации и покажу, как сделать то же самое в pandas.\n",
    "\n",
    "> Оригинал статьи Криса по [ссылке](https://pbpython.com/excel-pandas-comp-2.html)."
   ]
  },
  {
   "cell_type": "markdown",
   "metadata": {
    "id": "9cWZjkj-rvhC"
   },
   "source": [
    "## Подготовка к настройке \n",
    "\n",
    "Импортируйте модули pandas и numpy:"
   ]
  },
  {
   "cell_type": "code",
   "execution_count": null,
   "metadata": {
    "id": "xqNULh6srvhC"
   },
   "outputs": [],
   "source": [
    "import pandas as pd\n",
    "import numpy as np"
   ]
  },
  {
   "cell_type": "markdown",
   "metadata": {
    "id": "15spMfgsrvhD"
   },
   "source": [
    "Загрузите данные в формате Excel, представляющие годовой объем продаж компании:"
   ]
  },
  {
   "cell_type": "code",
   "execution_count": null,
   "metadata": {
    "id": "CCzUQCdTrvhE"
   },
   "outputs": [],
   "source": [
    "df = pd.read_excel(\"https://github.com/dm-fedorov/pandas_basic/blob/master/%D0%B1%D1%8B%D1%81%D1%82%D1%80%D0%BE%D0%B5%20%D0%B2%D0%B2%D0%B5%D0%B4%D0%B5%D0%BD%D0%B8%D0%B5%20%D0%B2%20pandas/data/sample-salesv3.xlsx?raw=True\")\n",
    "df.head()"
   ]
  },
  {
   "cell_type": "markdown",
   "metadata": {
    "id": "Bw7bl8TkrvhE"
   },
   "source": [
    "Взгляните на типы данных, чтобы убедиться, что все прошло должным образом:"
   ]
  },
  {
   "cell_type": "code",
   "execution_count": null,
   "metadata": {
    "id": "yi5zXZD9rvhF"
   },
   "outputs": [],
   "source": [
    "df.dtypes"
   ]
  },
  {
   "cell_type": "markdown",
   "metadata": {
    "id": "RtpZqu__rvhG"
   },
   "source": [
    "Видим, что столбец `date` отображается как `object`, т.е. как строка. Преобразуем его в `datetime`, чтобы упростить себе задачу в дальнейшем:"
   ]
  },
  {
   "cell_type": "code",
   "execution_count": null,
   "metadata": {
    "id": "ygbidururvhH"
   },
   "outputs": [],
   "source": [
    "df['date'] = pd.to_datetime(df['date'])\n",
    "df.head()"
   ]
  },
  {
   "cell_type": "code",
   "execution_count": null,
   "metadata": {
    "id": "Sz-tBjVKrvhJ"
   },
   "outputs": [],
   "source": [
    "df.dtypes"
   ]
  },
  {
   "cell_type": "markdown",
   "metadata": {
    "id": "LBJI9T2IrvhJ"
   },
   "source": [
    "## Фильтрация данных\n",
    "\n",
    "Думаю, что одна из самых удобных функций Excel - это фильтр. Полагаю, что каждый раз, когда кто-то получает Excel файл любого размера и хочет отфильтровать данные, он пользуется функцией `filter`.\n",
    "\n",
    "Вот изображение ее использования для представленного набора данных:"
   ]
  },
  {
   "cell_type": "markdown",
   "metadata": {
    "id": "aZw0UIddrvhK"
   },
   "source": [
    "![](https://github.com/dm-fedorov/pandas_basic/blob/master/pic/excel-filter.png?raw=True)"
   ]
  },
  {
   "cell_type": "markdown",
   "metadata": {
    "id": "tjFOSjgJrvhK"
   },
   "source": [
    "Подобно функции фильтрации в Excel, вы можете использовать pandas для фильтрации и выбора определенных подмножеств данных.\n",
    "\n",
    "Например, если мы хотим просто увидеть конкретный номер учетной записи, то можем легко сделать это с помощью Excel или pandas.\n",
    "\n",
    "Вот решение для фильтрации в Excel:"
   ]
  },
  {
   "cell_type": "markdown",
   "metadata": {
    "id": "Nlh6fznurvhL"
   },
   "source": [
    "![](https://github.com/dm-fedorov/pandas_basic/blob/master/pic/excel-filter2.png?raw=True)"
   ]
  },
  {
   "cell_type": "markdown",
   "metadata": {
    "id": "O8EJyjt2rvhL"
   },
   "source": [
    "В pandas это сделать относительно просто. \n",
    "\n",
    "Обратите внимание, что я использую функцию `head` для показа верхних результатов. Это сделано исключительно для того, чтобы статья выглядела короче:"
   ]
  },
  {
   "cell_type": "code",
   "execution_count": null,
   "metadata": {
    "id": "hNeXx1fqrvhM"
   },
   "outputs": [],
   "source": [
    "df[df[\"account number\"] == 307599].head()"
   ]
  },
  {
   "cell_type": "markdown",
   "metadata": {
    "id": "f2WRA0l9rvhM"
   },
   "source": [
    "Вы также можете выполнить фильтрацию на основе числовых значений. Я не собираюсь больше приводить примеры в Excel. Уверен, что вы уловили идею."
   ]
  },
  {
   "cell_type": "code",
   "execution_count": null,
   "metadata": {
    "id": "HUc9N_8OrvhN"
   },
   "outputs": [],
   "source": [
    "df[df[\"quantity\"] > 22].head()"
   ]
  },
  {
   "cell_type": "markdown",
   "metadata": {
    "id": "MbXlHjLorvhO"
   },
   "source": [
    "Если мы хотим выполнить более сложную фильтрацию, то можем использовать функцию `map` для фильтрации по различным критериям. \n",
    "\n",
    "В следующем примере давайте поищем товары с артикулами, начинающимися с `B1`:"
   ]
  },
  {
   "cell_type": "code",
   "execution_count": null,
   "metadata": {
    "id": "yKgfomEnrvhP"
   },
   "outputs": [],
   "source": [
    "df[df[\"sku\"].map(lambda x: x.startswith('B1'))].head()"
   ]
  },
  {
   "cell_type": "markdown",
   "metadata": {
    "id": "87FHEzRcrvhQ"
   },
   "source": [
    "С помощью `&` легко связать два или более операторов в цепочку:"
   ]
  },
  {
   "cell_type": "code",
   "execution_count": null,
   "metadata": {
    "id": "VwmLy1GTrvhQ"
   },
   "outputs": [],
   "source": [
    "df[df[\"sku\"].map(lambda x: x.startswith('B1')) & (df[\"quantity\"] > 22)].head()"
   ]
  },
  {
   "cell_type": "markdown",
   "metadata": {
    "id": "DvHQ24horvhQ"
   },
   "source": [
    "Еще одна полезная функция, которую поддерживает pandas, называется `isin`. Она позволяет определить список значений, которые мы хотим найти.\n",
    "\n",
    "Далее мы ищем все записи, которые включают два номера счетов:"
   ]
  },
  {
   "cell_type": "code",
   "execution_count": null,
   "metadata": {
    "id": "kIPi12xsrvhQ"
   },
   "outputs": [],
   "source": [
    "df[df[\"account number\"].isin([714466, 218895])].head()"
   ]
  },
  {
   "cell_type": "markdown",
   "metadata": {
    "id": "J99vXbSVrvhQ"
   },
   "source": [
    "Pandas поддерживает другую функцию, называемую `query`, которая позволяет эффективно выбирать подмножества данных. Она требует установки [`numexpr`](https://github.com/pydata/numexpr), поэтому убедитесь, что этот модуль установлен, прежде чем пытаться выполнить следующий шаг.\n",
    "\n",
    "Если вы хотите получить список клиентов по имени, то можете сделать это с помощью запроса (`query`), аналогичного синтаксису Python, показанному выше:"
   ]
  },
  {
   "cell_type": "code",
   "execution_count": null,
   "metadata": {
    "id": "pVjqV3KjrvhQ"
   },
   "outputs": [],
   "source": [
    "df.query('name == [\"Kulas Inc\",\"Barton LLC\"]').head()"
   ]
  },
  {
   "cell_type": "markdown",
   "metadata": {
    "id": "Zh1ESJHFrvhR"
   },
   "source": [
    "Функция `query` позволяет сделать значительно больше, чем показано в этом простом примере.\n",
    "\n",
    "## Работа с датами \n",
    "\n",
    "Используя pandas, вы можете выполнять сложную фильтрацию по датам. Прежде чем делать что-либо с датами, я рекомендую отсортировать их по столбцу даты, чтобы убедиться, что результаты возвращают то, что вы ожидаете:"
   ]
  },
  {
   "cell_type": "code",
   "execution_count": null,
   "metadata": {
    "id": "i1yAk-R3rvhR"
   },
   "outputs": [],
   "source": [
    "df = df.sort_values(by=['date'])\n",
    "df.head()"
   ]
  },
  {
   "cell_type": "markdown",
   "metadata": {
    "id": "bpsD9iLmrvhS"
   },
   "source": [
    "Синтаксис фильтрации Python, показанный ранее, работает с датами:"
   ]
  },
  {
   "cell_type": "code",
   "execution_count": null,
   "metadata": {
    "id": "SnXO-wMorvhS"
   },
   "outputs": [],
   "source": [
    "df[df['date'] >='20140905'].head()"
   ]
  },
  {
   "cell_type": "markdown",
   "metadata": {
    "id": "pTVpDAjvrvhT"
   },
   "source": [
    "Одна из действительно полезных особенностей pandas - это то, что он понимает даты, что позволяет нам выполнять частичную фильтрацию. \n",
    "\n",
    "Если хотим найти данные, начиная с определенного месяца:"
   ]
  },
  {
   "cell_type": "code",
   "execution_count": null,
   "metadata": {
    "id": "1muKRaWgrvhT"
   },
   "outputs": [],
   "source": [
    "df[df['date'] >='2014-03'].head()"
   ]
  },
  {
   "cell_type": "markdown",
   "metadata": {
    "id": "R8KuhdKArvhT"
   },
   "source": [
    "Конечно, можно объединить критерии фильтрации:"
   ]
  },
  {
   "cell_type": "code",
   "execution_count": null,
   "metadata": {
    "id": "4hpttVRErvhU"
   },
   "outputs": [],
   "source": [
    "df[(df['date'] >='20140701') & (df['date'] <= '20140715')].head()"
   ]
  },
  {
   "cell_type": "markdown",
   "metadata": {
    "id": "iaK3MmUbrvhU"
   },
   "source": [
    "Поскольку pandas понимает столбцы с датами, то вы можете выразить значение даты в разных форматах:"
   ]
  },
  {
   "cell_type": "code",
   "execution_count": null,
   "metadata": {
    "id": "4Ftv36ixrvhU"
   },
   "outputs": [],
   "source": [
    "df[df['date'] >= 'Oct-2014'].head()"
   ]
  },
  {
   "cell_type": "code",
   "execution_count": null,
   "metadata": {
    "id": "9jyFj0WqrvhU"
   },
   "outputs": [],
   "source": [
    "df[df['date'] >= '10-10-2014'].head()"
   ]
  },
  {
   "cell_type": "markdown",
   "metadata": {
    "id": "Ag2YTyuHrvhV"
   },
   "source": [
    "При работе с временными рядами, если мы установим даты в качестве индекса, то можем выполнить еще несколько видов фильтрации.\n",
    "\n",
    "Установите новый индекс с помощью функции `set_index`:"
   ]
  },
  {
   "cell_type": "code",
   "execution_count": null,
   "metadata": {
    "id": "HC1rsH3FrvhV"
   },
   "outputs": [],
   "source": [
    "df2 = df.set_index(['date'])\n",
    "df2.head()"
   ]
  },
  {
   "cell_type": "markdown",
   "metadata": {
    "id": "AXkk9PbVrvhW"
   },
   "source": [
    "Выполним срез (`slic`), чтобы получить диапазон:"
   ]
  },
  {
   "cell_type": "code",
   "execution_count": null,
   "metadata": {
    "id": "0-Howdr8rvhW"
   },
   "outputs": [],
   "source": [
    "df2[\"20140101\":\"20140201\"].head()"
   ]
  },
  {
   "cell_type": "markdown",
   "metadata": {
    "id": "RKijIU5BrvhW"
   },
   "source": [
    "Еще раз, мы можем использовать различные представления даты, чтобы устранить любую двусмысленность в соглашениях об именах дат:"
   ]
  },
  {
   "cell_type": "code",
   "execution_count": null,
   "metadata": {
    "id": "eLuvUYfkrvhW"
   },
   "outputs": [],
   "source": [
    "df2[\"2014-Jan-1\":\"2014-Feb-1\"].head()"
   ]
  },
  {
   "cell_type": "code",
   "execution_count": null,
   "metadata": {
    "id": "4WZJhw-nrvhW"
   },
   "outputs": [],
   "source": [
    "df2[\"2014-Jan-1\":\"2014-Feb-1\"].tail()"
   ]
  },
  {
   "cell_type": "code",
   "execution_count": null,
   "metadata": {
    "id": "eX8k-MbxrvhX"
   },
   "outputs": [],
   "source": [
    "df2.loc[\"2014\"].head()"
   ]
  },
  {
   "cell_type": "code",
   "execution_count": null,
   "metadata": {
    "id": "mQagngwKrvhX"
   },
   "outputs": [],
   "source": [
    "df2.loc[\"2014-Dec\"].head()"
   ]
  },
  {
   "cell_type": "markdown",
   "metadata": {
    "id": "xrdnDccVrvhX"
   },
   "source": [
    "Как видите, существует множество вариантов сортировки и фильтрации по датам."
   ]
  },
  {
   "cell_type": "markdown",
   "metadata": {
    "id": "lMpp-JbsrvhY"
   },
   "source": [
    "## Дополнительные строковые функции\n",
    "\n",
    "Pandas также поддерживает векторизованные строковые функции.\n",
    "\n",
    "Если мы хотим идентифицировать все артикулы (`sku`), содержащие определенное значение, то можем использовать `str.contains`. В этом случае мы знаем, что артикул всегда представлен одинаково, поэтому `B1` отображается только перед артикулом:"
   ]
  },
  {
   "cell_type": "code",
   "execution_count": null,
   "metadata": {
    "id": "4sWstOtWrvhY"
   },
   "outputs": [],
   "source": [
    "df[df['sku'].str.contains('B1')].head()"
   ]
  },
  {
   "cell_type": "markdown",
   "metadata": {
    "id": "MlU9WHY9rvha"
   },
   "source": [
    "Мы можем объединить запросы и использовать `sort_values` для управления порядком данных:"
   ]
  },
  {
   "cell_type": "code",
   "execution_count": null,
   "metadata": {
    "id": "bb-GIFfBrvhd"
   },
   "outputs": [],
   "source": [
    "df[(df['sku'].str.contains('B1-531')) & (df['quantity']>40)].sort_values(by=['quantity','name'],ascending=[0,1])"
   ]
  },
  {
   "cell_type": "markdown",
   "metadata": {
    "id": "14BdpqUxrvhe"
   },
   "source": [
    "## Бонусная задача \n",
    "\n",
    "Я часто пытаюсь получить список уникальных элементов в виде длинного списка в Excel. Это многоступенчатый процесс в Excel, но в pandas это довольно просто. \n",
    "\n",
    "Вот один из способов сделать это с помощью расширенного фильтра в Excel:\n",
    "\n",
    "![](https://github.com/dm-fedorov/pandas_basic/blob/master/pic/excel-filter3.png?raw=True)"
   ]
  },
  {
   "cell_type": "markdown",
   "metadata": {
    "id": "NjzqWSO1rvhe"
   },
   "source": [
    "В pandas используем функцию `unique` для столбца, чтобы получить список:"
   ]
  },
  {
   "cell_type": "code",
   "execution_count": null,
   "metadata": {
    "id": "cEVYV9slrvhf"
   },
   "outputs": [],
   "source": [
    "df[\"name\"].unique()"
   ]
  },
  {
   "cell_type": "markdown",
   "metadata": {
    "id": "Y1g2TYjfrvhf"
   },
   "source": [
    "Если бы мы хотели включить `account number` (номер учетной записи), то могли бы использовать [`drop_duplicates`](https://pandas.pydata.org/pandas-docs/stable/reference/api/pandas.DataFrame.drop_duplicates.html):"
   ]
  },
  {
   "cell_type": "code",
   "execution_count": null,
   "metadata": {
    "id": "cFlzQwyYrvhg"
   },
   "outputs": [],
   "source": [
    "df.drop_duplicates(subset=[\"account number\",\"name\"]).head()"
   ]
  },
  {
   "cell_type": "markdown",
   "metadata": {
    "id": "5JS92dQdrvhh"
   },
   "source": [
    "Очевидно, что мы собираем больше данных, чем нам нужно, и получаем некоторую бесполезную информацию, поэтому выберите только первый и второй столбцы с помощью `iloc`:"
   ]
  },
  {
   "cell_type": "code",
   "execution_count": null,
   "metadata": {
    "id": "Myluh94Srvhh"
   },
   "outputs": [],
   "source": [
    "df.drop_duplicates(subset=[\"account number\",\"name\"]).iloc[:,[0,1]]"
   ]
  },
  {
   "cell_type": "markdown",
   "metadata": {
    "id": "IkqMBIe2rvhi"
   },
   "source": [
    "Думаю, что эту команду легче сохранить, чем пытаться каждый раз запоминать шаги Excel."
   ]
  },
  {
   "cell_type": "markdown",
   "metadata": {
    "id": "Q8esUotGrvhj"
   },
   "source": [
    "## Заключение\n",
    "\n",
    "После того, как я опубликовал свою первую статью, Дэйв Проффер (Dave Proffer) ретвитнул мой пост и сказал: «Хорошие советы избавляют нас от #excel зависимости». Я думаю, что это точный способ описать, как часто используется Excel сегодня. Множество людей сразу тянутся к Excel, не осознавая, насколько это может быть ограничивающим. Я надеюсь, что эта серия статей поможет людям понять, что существуют альтернатива и `python + pandas - чрезвычайно мощная комбинация`."
   ]
  },
  {
   "cell_type": "markdown",
   "metadata": {
    "id": "0APvdzI8rvhj"
   },
   "source": [
    "<a href=\"https://t.me/init_python\"><img src=\"https://dfedorov.spb.ru/pandas/logo-telegram.png\" width=\"35\" height=\"35\" alt=\"telegram\" align=\"left\"></a>"
   ]
  },
  {
   "cell_type": "code",
   "execution_count": null,
   "metadata": {
    "id": "e8m9A3ubrvhk"
   },
   "outputs": [],
   "source": []
  }
 ],
 "metadata": {
  "colab": {
   "provenance": []
  },
  "kernelspec": {
   "display_name": "Python 3 (ipykernel)",
   "language": "python",
   "name": "python3"
  },
  "language_info": {
   "codemirror_mode": {
    "name": "ipython",
    "version": 3
   },
   "file_extension": ".py",
   "mimetype": "text/x-python",
   "name": "python",
   "nbconvert_exporter": "python",
   "pygments_lexer": "ipython3",
   "version": "3.10.8"
  }
 },
 "nbformat": 4,
 "nbformat_minor": 1
}
