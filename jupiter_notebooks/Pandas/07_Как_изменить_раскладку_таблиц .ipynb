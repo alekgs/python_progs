{
  "cells": [
    {
      "cell_type": "markdown",
      "metadata": {
        "id": "OEJmET-HraZc"
      },
      "source": [
        "<a href=\"https://colab.research.google.com/github/dm-fedorov/pandas_basic/blob/master/%D0%B1%D1%8B%D1%81%D1%82%D1%80%D0%BE%D0%B5%20%D0%B2%D0%B2%D0%B5%D0%B4%D0%B5%D0%BD%D0%B8%D0%B5%20%D0%B2%20pandas/07.%20%D0%9A%D0%B0%D0%BA%20%D0%B8%D0%B7%D0%BC%D0%B5%D0%BD%D0%B8%D1%82%D1%8C%20%D1%80%D0%B0%D1%81%D0%BA%D0%BB%D0%B0%D0%B4%D0%BA%D1%83%20%D1%82%D0%B0%D0%B1%D0%BB%D0%B8%D1%86%3F.ipynb\" target=\"_blank\"><img align=\"left\" src=\"https://colab.research.google.com/assets/colab-badge.svg\" alt=\"Open in Colab\" title=\"Open and Execute in Google Colaboratory\"></a>"
      ]
    },
    {
      "cell_type": "markdown",
      "metadata": {
        "id": "oOu08C2iraZ3"
      },
      "source": [
        "<a href=\"https://t.me/init_python\"><img src=\"https://dfedorov.spb.ru/pandas/logo-telegram.png\" width=\"35\" height=\"35\" alt=\"telegram\" align=\"left\"></a>"
      ]
    },
    {
      "cell_type": "code",
      "execution_count": null,
      "metadata": {
        "id": "Jl5yU9LjraZ5"
      },
      "outputs": [],
      "source": [
        "import pandas as pd"
      ]
    },
    {
      "cell_type": "code",
      "execution_count": null,
      "metadata": {
        "id": "Hwrk9qpFraZ6"
      },
      "outputs": [],
      "source": [
        "url = \"https://raw.githubusercontent.com/dm-fedorov/pandas_basic/master/%D0%B1%D1%8B%D1%81%D1%82%D1%80%D0%BE%D0%B5%20%D0%B2%D0%B2%D0%B5%D0%B4%D0%B5%D0%BD%D0%B8%D0%B5%20%D0%B2%20pandas/data/titanic.csv\""
      ]
    },
    {
      "cell_type": "code",
      "execution_count": null,
      "metadata": {
        "id": "CHyra8YBraZ7"
      },
      "outputs": [],
      "source": [
        "titanic = pd.read_csv(url)\n",
        "titanic.head()"
      ]
    },
    {
      "cell_type": "markdown",
      "metadata": {
        "id": "MYf1C8A7raaB"
      },
      "source": [
        "<img src=\"http://loveopium.ru/content/2012/04/titanic/06.jpg\" width=\"250\" height=\"200\">"
      ]
    },
    {
      "cell_type": "markdown",
      "metadata": {
        "id": "yKUibvZBraaB"
      },
      "source": [
        "### Сортировать строки таблицы"
      ]
    },
    {
      "cell_type": "markdown",
      "metadata": {
        "id": "6kJ47qbHraaC"
      },
      "source": [
        "Я хочу отсортировать данные по возрасту пассажиров:"
      ]
    },
    {
      "cell_type": "code",
      "execution_count": null,
      "metadata": {
        "id": "EW3i0ZQgraaH"
      },
      "outputs": [],
      "source": [
        "titanic.sort_values(by=\"Age\").head()"
      ]
    },
    {
      "cell_type": "markdown",
      "metadata": {
        "id": "m6OOmG8JraaJ"
      },
      "source": [
        "Я хочу отсортировать данные по классу каюты и возрасту в порядке убывания:"
      ]
    },
    {
      "cell_type": "code",
      "execution_count": null,
      "metadata": {
        "id": "flSQd7UlraaL"
      },
      "outputs": [],
      "source": [
        "titanic.sort_values(by=['Pclass', 'Age'], ascending=False).head()"
      ]
    },
    {
      "cell_type": "markdown",
      "metadata": {
        "id": "d5XwABeQraaP"
      },
      "source": [
        "[`Series.sort_values()`](https://pandas.pydata.org/pandas-docs/stable/reference/api/pandas.Series.sort_values.html#pandas.Series.sort_values) приводит к тому, что строки в таблице сортируются в соответствии с определенными столбцами. Индекс будет следовать порядку строк."
      ]
    },
    {
      "cell_type": "markdown",
      "metadata": {
        "id": "afWOmSBdraaQ"
      },
      "source": [
        "Более подробная информация о сортировке таблиц приведена в разделе [руководства по использованию для сортировки данных](https://pandas.pydata.org/docs/user_guide/basics.html#basics-sorting)."
      ]
    },
    {
      "cell_type": "markdown",
      "metadata": {
        "id": "n9qo_ay6raaR"
      },
      "source": [
        "### Перевод таблицы из длинного формата в широкий  "
      ]
    },
    {
      "cell_type": "markdown",
      "metadata": {
        "id": "Xb8Lq6qxraaS"
      },
      "source": [
        "Этот блокнот использует данные о содержании в воздухе $NO_2$ и твердых частиц размером менее 2,5 микрометров, предоставленные организацией [`openaq`](https://openaq.org/) и использующие модуль [`py-openaq`](http://dhhagan.github.io/py-openaq/index.html). \n",
        "\n",
        "см. [Частицы РМ2.5: что это, откуда и почему об этом все говорят](https://habr.com/ru/company/tion/blog/396111/)\n",
        "\n",
        "см. [Города и взвеси: концентрация вредных частиц в Москве повысилась](https://iz.ru/825489/vitalii-volovatov/goroda-i-vzvesi-kontcentratciia-vrednykh-chastitc-v-moskve-povysilas)\n",
        "\n",
        "Набор данных `air_quality_long.csv` содержит значения $NO_2$ и $PM_{2.5}$ для измерительных станций `FR04014`, `BETR801` и `London Westminster` соответственно в Париже, Антверпене и Лондоне.\n",
        "\n",
        "Набор данных о качестве воздуха имеет следующие столбцы:\n",
        "\n",
        "- *city*: город, в котором используется датчик (Париж, Антверпен или Лондон)\n",
        "- *country*: страна, в которой используется датчик (FR, BE или GB)\n",
        "- *location*: идентификатор датчика (FR04014 , BETR801 или Лондон Вестминстер)\n",
        "- *parameter*: параметр, измеряемый датчиком ($NO_2$ или твердые частицы)\n",
        "- *value*: измеренное значение\n",
        "- *unit*: единица измеряемого параметра, в данном случае $мкг/м^3$ и индекс в виде datetime.\n",
        "\n",
        "Данные о качестве воздуха предоставляются в длинном формате (`long format`), где каждое наблюдение находится в отдельной строке, а каждая переменная - в отдельном столбце таблицы данных. `long/narrow` формат также известен как [формат аккуратных данных (`tidy data format`)](https://www.jstatsoft.org/article/view/v059i10)."
      ]
    },
    {
      "cell_type": "code",
      "execution_count": null,
      "metadata": {
        "id": "lOlVkQ7SraaU"
      },
      "outputs": [],
      "source": [
        "url = \"https://raw.githubusercontent.com/dm-fedorov/pandas_basic/master/%D0%B1%D1%8B%D1%81%D1%82%D1%80%D0%BE%D0%B5%20%D0%B2%D0%B2%D0%B5%D0%B4%D0%B5%D0%BD%D0%B8%D0%B5%20%D0%B2%20pandas/data/air_quality_long.csv\""
      ]
    },
    {
      "cell_type": "code",
      "execution_count": null,
      "metadata": {
        "id": "G0ipct9fraaU"
      },
      "outputs": [],
      "source": [
        "air_quality = pd.read_csv(url,\n",
        "                          index_col=\"date.utc\", \n",
        "                          parse_dates=True)\n",
        "air_quality.head()"
      ]
    },
    {
      "cell_type": "markdown",
      "metadata": {
        "id": "nyldPZklraaV"
      },
      "source": [
        "Давайте использовать небольшое подмножество данных о качестве воздуха. Мы ориентируемся на данные $NO_2$ и используем только первые два измерения каждого местоположения (т.е. заголовок каждой группы). Подмножество данных будет называться `no2_subset`:"
      ]
    },
    {
      "cell_type": "code",
      "execution_count": null,
      "metadata": {
        "id": "AS3gUhGKraaW"
      },
      "outputs": [],
      "source": [
        "# filter for no2 data only\n",
        "no2 = air_quality[air_quality[\"parameter\"] == \"no2\"]"
      ]
    },
    {
      "cell_type": "code",
      "execution_count": null,
      "metadata": {
        "id": "Fwkw6BclraaW"
      },
      "outputs": [],
      "source": [
        "# use 2 measurements (head) for each location (groupby)\n",
        "no2_subset = no2.sort_index().groupby([\"location\"]).head(2)\n",
        "\n",
        "# https://pandas.pydata.org/pandas-docs/stable/reference/api/pandas.DataFrame.sort_index.html"
      ]
    },
    {
      "cell_type": "code",
      "execution_count": null,
      "metadata": {
        "id": "afRb3L9braaY"
      },
      "outputs": [],
      "source": [
        "no2_subset"
      ]
    },
    {
      "cell_type": "markdown",
      "metadata": {
        "id": "jp9morzPraaY"
      },
      "source": [
        "<img src=\"https://pandas.pydata.org/pandas-docs/stable/_images/07_pivot.svg\" >"
      ]
    },
    {
      "cell_type": "markdown",
      "metadata": {
        "id": "OGV6RxHOraaZ"
      },
      "source": [
        "Я хочу, чтобы значения для трех станций были отдельными столбцами рядом друг с другом."
      ]
    },
    {
      "cell_type": "code",
      "execution_count": null,
      "metadata": {
        "id": "wpEbo2FPraaZ"
      },
      "outputs": [],
      "source": [
        "no2_subset.pivot(columns=\"location\", values=\"value\")"
      ]
    },
    {
      "cell_type": "markdown",
      "metadata": {
        "id": "noKHo3CTraaa"
      },
      "source": [
        "Функция [`pivot_table()`](https://pandas.pydata.org/pandas-docs/stable/reference/api/pandas.pivot_table.html#pandas.pivot_table) изменяет форму данных: требуется одно значение для каждой комбинации индекса/столбца."
      ]
    },
    {
      "cell_type": "markdown",
      "metadata": {
        "id": "tm5YMM5xraab"
      },
      "source": [
        "Поскольку `pandas` поддерживает построение графика для нескольких столбцов, преобразование из длинного (`long`) формата таблицы в широкий (`wide`) позволяет одновременно отображать различные временные ряды:"
      ]
    },
    {
      "cell_type": "code",
      "execution_count": null,
      "metadata": {
        "id": "r-9nQBhuraab"
      },
      "outputs": [],
      "source": [
        "no2.head()"
      ]
    },
    {
      "cell_type": "code",
      "execution_count": null,
      "metadata": {
        "id": "A0RO0AIMraab"
      },
      "outputs": [],
      "source": [
        "no2.pivot(columns=\"location\", values=\"value\").plot();"
      ]
    },
    {
      "cell_type": "markdown",
      "metadata": {
        "id": "W0POfxXzraad"
      },
      "source": [
        "Если параметр `index` не определен, используется существующий индекс (метки строк)."
      ]
    },
    {
      "cell_type": "markdown",
      "metadata": {
        "id": "6o0O5TDzraad"
      },
      "source": [
        "Для получения дополнительной информации о функции [`pivot()`](https://pandas.pydata.org/pandas-docs/stable/reference/api/pandas.DataFrame.pivot.html#pandas.DataFrame.pivot) см. [Раздел руководства пользователя по повороту объектов DataFrame](https://pandas.pydata.org/pandas-docs/stable/user_guide/reshaping.html#reshaping-reshaping)."
      ]
    },
    {
      "cell_type": "markdown",
      "metadata": {
        "id": "a2fCPNslraad"
      },
      "source": [
        "### Сводная таблица"
      ]
    },
    {
      "cell_type": "markdown",
      "metadata": {
        "id": "yjdFuyA1raad"
      },
      "source": [
        "<img src=\"https://pandas.pydata.org/pandas-docs/stable/_images/07_pivot_table.svg\">"
      ]
    },
    {
      "cell_type": "markdown",
      "metadata": {
        "id": "uwFllCq-raae"
      },
      "source": [
        "Я хочу узнать среднюю концентрацию $NO_2$ и $PM_{2.5}$ для каждой из станций в виде таблицы:"
      ]
    },
    {
      "cell_type": "code",
      "execution_count": null,
      "metadata": {
        "id": "nc9IPo0hraae"
      },
      "outputs": [],
      "source": [
        "air_quality.pivot_table(values=\"value\", index=\"location\",\n",
        "                        columns=\"parameter\", aggfunc=\"mean\")"
      ]
    },
    {
      "cell_type": "markdown",
      "metadata": {
        "id": "seYrOux9raaf"
      },
      "source": [
        "В случае [`pivot()`](https://pandas.pydata.org/pandas-docs/stable/reference/api/pandas.DataFrame.pivot.html#pandas.DataFrame.pivot) данные только переставляются. \n",
        "\n",
        "Когда необходимо агрегировать несколько значений (в данном конкретном случае значения на разных временных шагах) [`pivot_table()`](https://pandas.pydata.org/pandas-docs/stable/reference/api/pandas.DataFrame.pivot_table.html#pandas.DataFrame.pivot_table) предоставляет функцию агрегации (например, `mean`), объединяющую эти значения."
      ]
    },
    {
      "cell_type": "markdown",
      "metadata": {
        "id": "ZjvOBJNdraaf"
      },
      "source": [
        "Сводная таблица является хорошо известной концепцией в программах для работы с электронными таблицами. Если вас интересуют сводные столбцы для каждой переменной в отдельности, задайте параметр `margins=True`:"
      ]
    },
    {
      "cell_type": "code",
      "execution_count": null,
      "metadata": {
        "id": "WURCs6Y3raaf"
      },
      "outputs": [],
      "source": [
        "air_quality.pivot_table(values=\"value\", index=\"location\",\n",
        "                        columns=\"parameter\", aggfunc=\"mean\",\n",
        "                        margins=True)"
      ]
    },
    {
      "cell_type": "markdown",
      "metadata": {
        "id": "OPemqzb8raag"
      },
      "source": [
        "Для получения дополнительной информации о [`pivot_table()`](https://pandas.pydata.org/pandas-docs/stable/reference/api/pandas.DataFrame.pivot_table.html#pandas.DataFrame.pivot_table) см. [Раздел руководства пользователя по сводным таблицам](https://pandas.pydata.org/pandas-docs/stable/user_guide/reshaping.html#reshaping-pivot)."
      ]
    },
    {
      "cell_type": "markdown",
      "metadata": {
        "id": "9Ro4-Li4raag"
      },
      "source": [
        "[`pivot_table()`](https://pandas.pydata.org/pandas-docs/stable/reference/api/pandas.DataFrame.pivot_table.html#pandas.DataFrame.pivot_table) напрямую связан с [`groupby()`](https://pandas.pydata.org/pandas-docs/stable/reference/api/pandas.DataFrame.groupby.html#pandas.DataFrame.groupby). Тот же результат может быть получен путем группировки `parameter` и `location`:\n",
        "```Python\n",
        "air_quality.groupby([\"parameter\", \"location\"]).mean()\n",
        "```"
      ]
    },
    {
      "cell_type": "markdown",
      "metadata": {
        "id": "NyveP6nrraag"
      },
      "source": [
        "Посмотрите [`groupby()`](https://pandas.pydata.org/pandas-docs/stable/reference/api/pandas.DataFrame.groupby.html#pandas.DataFrame.groupby) в сочетании с [`unstack()`](https://pandas.pydata.org/pandas-docs/stable/reference/api/pandas.DataFrame.unstack.html#pandas.DataFrame.unstack) в [руководстве пользователя](https://pandas.pydata.org/pandas-docs/stable/user_guide/reshaping.html#reshaping-combine-with-groupby)."
      ]
    },
    {
      "cell_type": "markdown",
      "metadata": {
        "id": "X9B3BHiTraag"
      },
      "source": [
        "### От широкого к длинному формату"
      ]
    },
    {
      "cell_type": "markdown",
      "metadata": {
        "id": "Ok71CHsFraah"
      },
      "source": [
        "Начинем с широкоформатной (`wide`) таблицы, созданной в предыдущем разделе:"
      ]
    },
    {
      "cell_type": "code",
      "execution_count": null,
      "metadata": {
        "id": "0Zmea_Xyraah"
      },
      "outputs": [],
      "source": [
        "no2_pivoted = no2.pivot(columns=\"location\", values=\"value\").reset_index()\n",
        "\n",
        "# https://pandas.pydata.org/pandas-docs/stable/reference/api/pandas.DataFrame.reset_index.html"
      ]
    },
    {
      "cell_type": "code",
      "execution_count": null,
      "metadata": {
        "id": "YjYOds9_raah"
      },
      "outputs": [],
      "source": [
        "no2_pivoted.head()"
      ]
    },
    {
      "cell_type": "markdown",
      "metadata": {
        "id": "YTGAvW7Lraai"
      },
      "source": [
        "<img src=\"https://pandas.pydata.org/docs/_images/07_melt.svg\" >"
      ]
    },
    {
      "cell_type": "markdown",
      "metadata": {
        "id": "gN6szy2qraai"
      },
      "source": [
        "Я хочу собрать все измерения качества воздуха $NO_2$  в одном столбце (`long format`):"
      ]
    },
    {
      "cell_type": "code",
      "execution_count": null,
      "metadata": {
        "id": "BmFb36B9raaj"
      },
      "outputs": [],
      "source": [
        "no_2 = no2_pivoted.melt(id_vars=\"date.utc\")"
      ]
    },
    {
      "cell_type": "code",
      "execution_count": null,
      "metadata": {
        "id": "0u4ey2wwraaj"
      },
      "outputs": [],
      "source": [
        "no_2.head()"
      ]
    },
    {
      "cell_type": "markdown",
      "metadata": {
        "id": "JGYY3zQBraak"
      },
      "source": [
        "Метод [`pandas.melt()`](https://pandas.pydata.org/pandas-docs/stable/reference/api/pandas.melt.html#pandas.melt) преобразует таблицу данных из широкого формата в длинный формат. Заголовки столбцов становятся именами переменных во вновь созданном столбце.\n",
        "\n",
        "<img src=\"https://raw.githubusercontent.com/dm-fedorov/pandas_basic/master/%D1%81%D0%BB%D0%BE%D0%B6%D0%BD%D1%8B%D0%B5%20%D1%82%D0%B5%D0%BC%D1%8B%20pandas/pic/melt.png\">"
      ]
    },
    {
      "cell_type": "markdown",
      "metadata": {
        "id": "ar1hvSPsraak"
      },
      "source": [
        "Решение является краткой версией применения [`pandas.melt()`](https://pandas.pydata.org/pandas-docs/stable/reference/api/pandas.melt.html#pandas.melt). Метод будет растворять все столбцы, не упомянутые в `id_vars` вместе в две колонки: колонки `A` с именами заголовков столбцов и столбца с самим значениями. Последний столбец получает имя по умолчанию `value`.\n",
        "\n",
        "Метод `pandas.melt()` более подробно:"
      ]
    },
    {
      "cell_type": "code",
      "execution_count": null,
      "metadata": {
        "id": "RqfL7AJ7raal"
      },
      "outputs": [],
      "source": [
        "no_2 = no2_pivoted.melt(id_vars=\"date.utc\",\n",
        "                        value_vars=[\"BETR801\",\n",
        "                                    \"FR04014\",\n",
        "                                    \"London Westminster\"],\n",
        "                        value_name=\"NO_2\",\n",
        "                        var_name=\"id_location\")"
      ]
    },
    {
      "cell_type": "code",
      "execution_count": null,
      "metadata": {
        "id": "0SfnOXW0raam"
      },
      "outputs": [],
      "source": [
        "no_2.head()"
      ]
    },
    {
      "cell_type": "markdown",
      "metadata": {
        "id": "m7jxVRyNraaq"
      },
      "source": [
        "Результат такой же, но более детально определенный:\n",
        "\n",
        "- `value_vars` - четко определяет, какие столбцы смешивать вместе;\n",
        "- `value_name` - предоставляет настраиваемое имя столбца для столбца значений вместо имени столбца по умолчанию `value`;\n",
        "- `var_name` - предоставляет настраиваемое имя столбца для столбцов, собирающих имена заголовков столбцов. В противном случае он принимает имя индекса или значение по умолчанию `variable`.\n",
        "\n",
        "Следовательно, аргументы `value_name` и `var_name` являются просто пользовательскими именами для двух сгенерированных столбцов. Столбцы для растворения определяются параметрами `id_vars` и `value_vars`."
      ]
    },
    {
      "cell_type": "markdown",
      "metadata": {
        "id": "f4IxAYnCraas"
      },
      "source": [
        "Преобразование из широкого формата в длинный с `pandas.melt()` объясняется в разделе [руководства пользователя по изменению формы расплавом](https://pandas.pydata.org/pandas-docs/stable/user_guide/reshaping.html#reshaping-melt)."
      ]
    },
    {
      "cell_type": "markdown",
      "metadata": {
        "id": "PEkQOjiLraat"
      },
      "source": [
        "Полный обзор доступен в [руководстве пользователя на страницах об изменении формы и повороте](https://pandas.pydata.org/pandas-docs/stable/user_guide/reshaping.html#reshaping)."
      ]
    },
    {
      "cell_type": "markdown",
      "metadata": {
        "id": "XdqYE870raat"
      },
      "source": [
        "<a href=\"https://t.me/init_python\"><img src=\"https://dfedorov.spb.ru/pandas/logo-telegram.png\" width=\"35\" height=\"35\" alt=\"telegram\" align=\"left\"></a>"
      ]
    },
    {
      "cell_type": "code",
      "execution_count": null,
      "metadata": {
        "id": "Sa3NWSeuraau"
      },
      "outputs": [],
      "source": []
    }
  ],
  "metadata": {
    "kernelspec": {
      "display_name": "Python 3",
      "language": "python",
      "name": "python3"
    },
    "language_info": {
      "codemirror_mode": {
        "name": "ipython",
        "version": 3
      },
      "file_extension": ".py",
      "mimetype": "text/x-python",
      "name": "python",
      "nbconvert_exporter": "python",
      "pygments_lexer": "ipython3",
      "version": "3.8.2"
    },
    "colab": {
      "provenance": []
    }
  },
  "nbformat": 4,
  "nbformat_minor": 0
}