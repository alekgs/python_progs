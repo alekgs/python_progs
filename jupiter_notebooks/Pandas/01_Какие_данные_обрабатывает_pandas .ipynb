{
  "cells": [
    {
      "cell_type": "markdown",
      "metadata": {
        "id": "AE44wTH5rX8P"
      },
      "source": [
        "<img src=\"https://camo.githubusercontent.com/5cb734f6fc37f645dc900e35559c60d91cc6b550/68747470733a2f2f6465762e70616e6461732e696f2f7374617469632f696d672f70616e6461732e737667\" height=\"300px\" width=\"500px\" >\n",
        "\n",
        "<a href=\"https://t.me/init_python\"><img src=\"https://dfedorov.spb.ru/pandas/logo-telegram.png\" width=\"35\" height=\"35\" alt=\"telegram\" align=\"left\"></a>"
      ]
    },
    {
      "cell_type": "markdown",
      "metadata": {
        "id": "NW1wnSTxrX8S"
      },
      "source": [
        "<a href=\"https://colab.research.google.com/github/dm-fedorov/pandas_basic/blob/master/%D0%B1%D1%8B%D1%81%D1%82%D1%80%D0%BE%D0%B5%20%D0%B2%D0%B2%D0%B5%D0%B4%D0%B5%D0%BD%D0%B8%D0%B5%20%D0%B2%20pandas/01.%20%D0%9A%D0%B0%D0%BA%D0%B8%D0%B5%20%D0%B4%D0%B0%D0%BD%D0%BD%D1%8B%D0%B5%20%D0%BE%D0%B1%D1%80%D0%B0%D0%B1%D0%B0%D1%82%D1%8B%D0%B2%D0%B0%D0%B5%D1%82%20pandas%3F.ipynb\"><img align=\"left\" src=\"https://colab.research.google.com/assets/colab-badge.svg\" alt=\"Open in Colab\" title=\"Open and Execute in Google Colaboratory\" target=\"_blank\"></a>"
      ]
    },
    {
      "cell_type": "markdown",
      "metadata": {
        "id": "OBKh0DqKrX8T"
      },
      "source": [
        "Импортируем модуль `pandas`:"
      ]
    },
    {
      "cell_type": "code",
      "execution_count": null,
      "metadata": {
        "id": "103nh61crX8U"
      },
      "outputs": [],
      "source": [
        "import pandas as pd"
      ]
    },
    {
      "cell_type": "markdown",
      "metadata": {
        "id": "wDAOOhfPrX8V"
      },
      "source": [
        "В основе работы `pandas` лежит табличное представление данных:\n",
        "\n",
        "<img src=\"https://pandas.pydata.org/docs/_images/01_table_dataframe.svg\">"
      ]
    },
    {
      "cell_type": "markdown",
      "metadata": {
        "id": "3kts5z8crX8W"
      },
      "source": [
        "В качестве примера рассмотрим данные о пассажирах Титаника. \n",
        "\n",
        "<img src=\"https://avatars.mds.yandex.net/get-kinopoisk-post-img/1374145/6aae47e9a525adfb3c9c433be10e62df/1920x1080\" height=\"300px\" width=\"500px\" >\n",
        "\n",
        "Для ряда пассажиров я знаю имя (символы), возраст (целые числа) и пол (мужской / женский)."
      ]
    },
    {
      "cell_type": "code",
      "execution_count": null,
      "metadata": {
        "id": "D09ek07nrX8X"
      },
      "outputs": [],
      "source": [
        "df = pd.DataFrame({\n",
        "            \"Name\": [\"Braund, Mr. Owen Harris\",\n",
        "                     \"Allen, Mr. William Henry\",\n",
        "                     \"Bonnell, Miss. Elizabeth\"],\n",
        "             \"Age\": [22, 35, 58],\n",
        "             \"Sex\": [\"male\", \"male\", \"female\"]}\n",
        "                )"
      ]
    },
    {
      "cell_type": "code",
      "execution_count": null,
      "metadata": {
        "id": "rACGvGQarX8Y"
      },
      "outputs": [],
      "source": [
        "df"
      ]
    },
    {
      "cell_type": "markdown",
      "metadata": {
        "id": "sStaIM_xrX8Z"
      },
      "source": [
        "Полученная структура данных называется [`DataFrame`](https://pandas.pydata.org/pandas-docs/stable/reference/api/pandas.DataFrame.html#pandas.DataFrame).\n",
        "\n",
        "Напоминает обычные таблицы:"
      ]
    },
    {
      "cell_type": "markdown",
      "metadata": {
        "id": "CCH9fFtCrX8Z"
      },
      "source": [
        "<img src=\"https://pandas.pydata.org/pandas-docs/stable/_images/01_table_spreadsheet.png\" height=\"200px\" width=\"400px\" >"
      ]
    },
    {
      "cell_type": "markdown",
      "metadata": {
        "id": "HSqWfoCQrX8a"
      },
      "source": [
        "Каждый столбец в структуре `DataFrame` является типом [`Series`](https://pandas.pydata.org/pandas-docs/stable/reference/api/pandas.Series.html#pandas.Series):\n",
        "\n",
        "<img src=\"https://pandas.pydata.org/pandas-docs/stable/_images/01_table_series.svg\">"
      ]
    },
    {
      "cell_type": "markdown",
      "metadata": {
        "id": "0svjLnKlrX8b"
      },
      "source": [
        "Выбрать столбец из таблицы: "
      ]
    },
    {
      "cell_type": "code",
      "execution_count": null,
      "metadata": {
        "id": "AmlQ4atbrX8b"
      },
      "outputs": [],
      "source": [
        "df[\"Age\"]"
      ]
    },
    {
      "cell_type": "markdown",
      "metadata": {
        "id": "m73eVqoRrX8d"
      },
      "source": [
        "Внешне очень напоминает питоновский [словарь](https://docs.python.org/3/tutorial/datastructures.html#tut-dictionaries)."
      ]
    },
    {
      "cell_type": "markdown",
      "metadata": {
        "id": "0zXAzdKDrX8d"
      },
      "source": [
        "Вы также можете создать `Series` с нуля:"
      ]
    },
    {
      "cell_type": "code",
      "execution_count": null,
      "metadata": {
        "id": "WmlPN4tOrX8d"
      },
      "outputs": [],
      "source": [
        "ages = pd.Series([22, 35, 58], name=\"Age\")"
      ]
    },
    {
      "cell_type": "code",
      "execution_count": null,
      "metadata": {
        "id": "aJFykYpGrX8d"
      },
      "outputs": [],
      "source": [
        "ages"
      ]
    },
    {
      "cell_type": "markdown",
      "metadata": {
        "id": "NO66u3EerX8e"
      },
      "source": [
        "### Сделайте что-нибудь с DataFrame или Series"
      ]
    },
    {
      "cell_type": "markdown",
      "metadata": {
        "id": "9eIkv4V5rX8e"
      },
      "source": [
        "Я хочу узнать максимальный возраст пассажиров, применив функцию `max()` к столбцу таблицы:"
      ]
    },
    {
      "cell_type": "code",
      "execution_count": null,
      "metadata": {
        "id": "vFJU1Si1rX8e"
      },
      "outputs": [],
      "source": [
        "df[\"Age\"].max()"
      ]
    },
    {
      "cell_type": "markdown",
      "metadata": {
        "id": "5Kdyx9DorX8f"
      },
      "source": [
        "или к типу данных `Series`:"
      ]
    },
    {
      "cell_type": "code",
      "execution_count": null,
      "metadata": {
        "id": "kOOi8NwurX8f"
      },
      "outputs": [],
      "source": [
        "ages.max()"
      ]
    },
    {
      "cell_type": "markdown",
      "metadata": {
        "id": "RD_dPA80rX8g"
      },
      "source": [
        "Помимо поиска максимального в `pandas` существует [большой набор функций](https://pandas.pydata.org/docs/user_guide/basics.html?highlight=describe#descriptive-statistics)."
      ]
    },
    {
      "cell_type": "markdown",
      "metadata": {
        "id": "-6oKPVmbrX8g"
      },
      "source": [
        "Если интересует некоторая базовая статистика числовых данных:"
      ]
    },
    {
      "cell_type": "code",
      "execution_count": null,
      "metadata": {
        "id": "kB736LfwrX8g"
      },
      "outputs": [],
      "source": [
        "df.describe()"
      ]
    },
    {
      "cell_type": "markdown",
      "metadata": {
        "id": "g6_3AhzArX8h"
      },
      "source": [
        "[`describe()`](https://pandas.pydata.org/docs/user_guide/basics.html?highlight=describe#summarizing-data-describe) метод обеспечивает краткий обзор численных данных в `DataFrame`. \n",
        "\n",
        "Так как столбцы `Name` и `Sex` состоят из текстовых данных, то они не учитываются в `describe()`.\n",
        "\n",
        "Многие операции в `pandas` возвращают `DataFrame` или `Series`. "
      ]
    },
    {
      "cell_type": "markdown",
      "metadata": {
        "id": "whLmNlO_rX8h"
      },
      "source": [
        "<a href=\"https://t.me/init_python\"><img src=\"https://dfedorov.spb.ru/pandas/logo-telegram.png\" width=\"35\" height=\"35\" alt=\"telegram\" align=\"left\"></a>"
      ]
    },
    {
      "cell_type": "code",
      "execution_count": null,
      "metadata": {
        "id": "BWpVqHbvrX8h"
      },
      "outputs": [],
      "source": []
    }
  ],
  "metadata": {
    "kernelspec": {
      "display_name": "Python 3",
      "language": "python",
      "name": "python3"
    },
    "language_info": {
      "codemirror_mode": {
        "name": "ipython",
        "version": 3
      },
      "file_extension": ".py",
      "mimetype": "text/x-python",
      "name": "python",
      "nbconvert_exporter": "python",
      "pygments_lexer": "ipython3",
      "version": "3.8.2"
    },
    "colab": {
      "provenance": []
    }
  },
  "nbformat": 4,
  "nbformat_minor": 0
}