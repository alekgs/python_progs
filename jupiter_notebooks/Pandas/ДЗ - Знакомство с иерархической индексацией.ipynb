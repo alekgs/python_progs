{
 "cells": [
  {
   "cell_type": "markdown",
   "id": "5caec950",
   "metadata": {},
   "source": [
    "# Домашнее задание по мультииндексам"
   ]
  },
  {
   "cell_type": "code",
   "execution_count": 2,
   "id": "2139a7f9",
   "metadata": {},
   "outputs": [],
   "source": [
    "import pandas as pd\n",
    "import numpy as np"
   ]
  },
  {
   "cell_type": "markdown",
   "id": "63441a2f",
   "metadata": {},
   "source": [
    "## Задание 1\n",
    "### Постройте датафрейм заполненный нулями так, как это показано в ячейке ниже. Первые две колонки являются мультииндексом. Для заполнения датафрейма нулями воспользуйтесь функцией zeros из библиотеки numpy"
   ]
  },
  {
   "cell_type": "raw",
   "id": "371dd699",
   "metadata": {},
   "source": [
    "                  0    1    2    3    4\n",
    "Группа 1 Альфа  0.0  0.0  0.0  0.0  0.0\n",
    "         Бета   0.0  0.0  0.0  0.0  0.0\n",
    "Группа 2 Альфа  0.0  0.0  0.0  0.0  0.0\n",
    "         Бета   0.0  0.0  0.0  0.0  0.0"
   ]
  },
  {
   "cell_type": "code",
   "execution_count": 12,
   "id": "36f5f293",
   "metadata": {},
   "outputs": [],
   "source": [
    "task1_df = pd.DataFrame(np.zeros((4, 5)), index=[['Группа 1'] * 2 + ['Группа 2'] * 2, ['Альфа','Бета'] * 2])"
   ]
  },
  {
   "cell_type": "code",
   "execution_count": 13,
   "id": "d02d72b7",
   "metadata": {},
   "outputs": [
    {
     "data": {
      "text/html": [
       "<div>\n",
       "<style scoped>\n",
       "    .dataframe tbody tr th:only-of-type {\n",
       "        vertical-align: middle;\n",
       "    }\n",
       "\n",
       "    .dataframe tbody tr th {\n",
       "        vertical-align: top;\n",
       "    }\n",
       "\n",
       "    .dataframe thead th {\n",
       "        text-align: right;\n",
       "    }\n",
       "</style>\n",
       "<table border=\"1\" class=\"dataframe\">\n",
       "  <thead>\n",
       "    <tr style=\"text-align: right;\">\n",
       "      <th></th>\n",
       "      <th></th>\n",
       "      <th>0</th>\n",
       "      <th>1</th>\n",
       "      <th>2</th>\n",
       "      <th>3</th>\n",
       "      <th>4</th>\n",
       "    </tr>\n",
       "  </thead>\n",
       "  <tbody>\n",
       "    <tr>\n",
       "      <th rowspan=\"2\" valign=\"top\">Группа 1</th>\n",
       "      <th>Альфа</th>\n",
       "      <td>0.0</td>\n",
       "      <td>0.0</td>\n",
       "      <td>0.0</td>\n",
       "      <td>0.0</td>\n",
       "      <td>0.0</td>\n",
       "    </tr>\n",
       "    <tr>\n",
       "      <th>Бета</th>\n",
       "      <td>0.0</td>\n",
       "      <td>0.0</td>\n",
       "      <td>0.0</td>\n",
       "      <td>0.0</td>\n",
       "      <td>0.0</td>\n",
       "    </tr>\n",
       "    <tr>\n",
       "      <th rowspan=\"2\" valign=\"top\">Группа 2</th>\n",
       "      <th>Альфа</th>\n",
       "      <td>0.0</td>\n",
       "      <td>0.0</td>\n",
       "      <td>0.0</td>\n",
       "      <td>0.0</td>\n",
       "      <td>0.0</td>\n",
       "    </tr>\n",
       "    <tr>\n",
       "      <th>Бета</th>\n",
       "      <td>0.0</td>\n",
       "      <td>0.0</td>\n",
       "      <td>0.0</td>\n",
       "      <td>0.0</td>\n",
       "      <td>0.0</td>\n",
       "    </tr>\n",
       "  </tbody>\n",
       "</table>\n",
       "</div>"
      ],
      "text/plain": [
       "                  0    1    2    3    4\n",
       "Группа 1 Альфа  0.0  0.0  0.0  0.0  0.0\n",
       "         Бета   0.0  0.0  0.0  0.0  0.0\n",
       "Группа 2 Альфа  0.0  0.0  0.0  0.0  0.0\n",
       "         Бета   0.0  0.0  0.0  0.0  0.0"
      ]
     },
     "execution_count": 13,
     "metadata": {},
     "output_type": "execute_result"
    }
   ],
   "source": [
    "task1_df"
   ]
  },
  {
   "cell_type": "markdown",
   "id": "731017ce",
   "metadata": {},
   "source": [
    "### Получившися датафрейм сохраните в csv файл и загрузите на степик"
   ]
  },
  {
   "cell_type": "code",
   "execution_count": null,
   "id": "1cc342ea",
   "metadata": {},
   "outputs": [],
   "source": [
    "task1_df.to_csv('result_task1_df.csv')"
   ]
  },
  {
   "cell_type": "markdown",
   "id": "c63c3fea",
   "metadata": {},
   "source": [
    "## Задание 2\n",
    "### Загрузите файл task2.csv в котором содержится сводная информация о велопарковках в Москве"
   ]
  },
  {
   "cell_type": "code",
   "execution_count": 34,
   "id": "ceea6600",
   "metadata": {},
   "outputs": [],
   "source": [
    "task2_df = pd.read_csv('task2.csv', index_col=[0, 1]) # не редактируйте"
   ]
  },
  {
   "cell_type": "markdown",
   "id": "c9a8477f",
   "metadata": {},
   "source": [
    "### По каждому району (District) и типу (cost_type) содержится количество парковок (count) и суммарное количество мест на этих парковках (sum)"
   ]
  },
  {
   "cell_type": "code",
   "execution_count": 24,
   "id": "b951a8de",
   "metadata": {},
   "outputs": [
    {
     "data": {
      "text/html": [
       "<div>\n",
       "<style scoped>\n",
       "    .dataframe tbody tr th:only-of-type {\n",
       "        vertical-align: middle;\n",
       "    }\n",
       "\n",
       "    .dataframe tbody tr th {\n",
       "        vertical-align: top;\n",
       "    }\n",
       "\n",
       "    .dataframe thead th {\n",
       "        text-align: right;\n",
       "    }\n",
       "</style>\n",
       "<table border=\"1\" class=\"dataframe\">\n",
       "  <thead>\n",
       "    <tr style=\"text-align: right;\">\n",
       "      <th></th>\n",
       "      <th></th>\n",
       "      <th>count</th>\n",
       "      <th>sum</th>\n",
       "    </tr>\n",
       "    <tr>\n",
       "      <th>District</th>\n",
       "      <th>cost_type</th>\n",
       "      <th></th>\n",
       "      <th></th>\n",
       "    </tr>\n",
       "  </thead>\n",
       "  <tbody>\n",
       "    <tr>\n",
       "      <th rowspan=\"2\" valign=\"top\">Академический район</th>\n",
       "      <th>Бесплатная</th>\n",
       "      <td>3</td>\n",
       "      <td>19</td>\n",
       "    </tr>\n",
       "    <tr>\n",
       "      <th>Платная</th>\n",
       "      <td>1</td>\n",
       "      <td>8</td>\n",
       "    </tr>\n",
       "    <tr>\n",
       "      <th rowspan=\"2\" valign=\"top\">Алексеевский район</th>\n",
       "      <th>Бесплатная</th>\n",
       "      <td>9</td>\n",
       "      <td>88</td>\n",
       "    </tr>\n",
       "    <tr>\n",
       "      <th>Платная</th>\n",
       "      <td>7</td>\n",
       "      <td>64</td>\n",
       "    </tr>\n",
       "    <tr>\n",
       "      <th>Алтуфьевский район</th>\n",
       "      <th>Бесплатная</th>\n",
       "      <td>2</td>\n",
       "      <td>20</td>\n",
       "    </tr>\n",
       "    <tr>\n",
       "      <th>...</th>\n",
       "      <th>...</th>\n",
       "      <td>...</td>\n",
       "      <td>...</td>\n",
       "    </tr>\n",
       "    <tr>\n",
       "      <th>район Южное Тушино</th>\n",
       "      <th>Платная</th>\n",
       "      <td>5</td>\n",
       "      <td>44</td>\n",
       "    </tr>\n",
       "    <tr>\n",
       "      <th rowspan=\"2\" valign=\"top\">район Якиманка</th>\n",
       "      <th>Бесплатная</th>\n",
       "      <td>6</td>\n",
       "      <td>18</td>\n",
       "    </tr>\n",
       "    <tr>\n",
       "      <th>Платная</th>\n",
       "      <td>4</td>\n",
       "      <td>16</td>\n",
       "    </tr>\n",
       "    <tr>\n",
       "      <th rowspan=\"2\" valign=\"top\">район Ясенево</th>\n",
       "      <th>Бесплатная</th>\n",
       "      <td>9</td>\n",
       "      <td>66</td>\n",
       "    </tr>\n",
       "    <tr>\n",
       "      <th>Платная</th>\n",
       "      <td>4</td>\n",
       "      <td>38</td>\n",
       "    </tr>\n",
       "  </tbody>\n",
       "</table>\n",
       "<p>235 rows × 2 columns</p>\n",
       "</div>"
      ],
      "text/plain": [
       "                                count  sum\n",
       "District            cost_type             \n",
       "Академический район Бесплатная      3   19\n",
       "                    Платная         1    8\n",
       "Алексеевский район  Бесплатная      9   88\n",
       "                    Платная         7   64\n",
       "Алтуфьевский район  Бесплатная      2   20\n",
       "...                               ...  ...\n",
       "район Южное Тушино  Платная         5   44\n",
       "район Якиманка      Бесплатная      6   18\n",
       "                    Платная         4   16\n",
       "район Ясенево       Бесплатная      9   66\n",
       "                    Платная         4   38\n",
       "\n",
       "[235 rows x 2 columns]"
      ]
     },
     "execution_count": 24,
     "metadata": {},
     "output_type": "execute_result"
    }
   ],
   "source": [
    "task2_df"
   ]
  },
  {
   "cell_type": "markdown",
   "id": "1ed3cb89",
   "metadata": {},
   "source": [
    "### Выполните преобразование таким образом чтобы получился новый датафрейм, где строки будут всё так же районы, а по колонкам будет идти суммарное количество мест на парковке в разбивке платные/бесплатные "
   ]
  },
  {
   "cell_type": "raw",
   "id": "20115f6c",
   "metadata": {},
   "source": [
    "cost_type               Бесплатная  Платная\n",
    "District                                   \n",
    "Академический район           19.0      8.0\n",
    "Алексеевский район            88.0     64.0\n",
    "Алтуфьевский район            20.0     30.0\n",
    "Бабушкинский район            62.0     77.0\n",
    "Басманный район              116.0    109.0\n",
    "...                            ...      ...\n",
    "район Южное Бутово            36.0     92.0\n",
    "район Южное Медведково        60.0     18.0\n",
    "район Южное Тушино            12.0     44.0\n",
    "район Якиманка                18.0     16.0\n",
    "район Ясенево                 66.0     38.0"
   ]
  },
  {
   "cell_type": "code",
   "execution_count": 40,
   "id": "cb8fcb2d",
   "metadata": {},
   "outputs": [],
   "source": [
    "task2_df = task2_df['sum'].unstack()"
   ]
  },
  {
   "cell_type": "code",
   "execution_count": 41,
   "id": "4772938b",
   "metadata": {},
   "outputs": [
    {
     "data": {
      "text/html": [
       "<div>\n",
       "<style scoped>\n",
       "    .dataframe tbody tr th:only-of-type {\n",
       "        vertical-align: middle;\n",
       "    }\n",
       "\n",
       "    .dataframe tbody tr th {\n",
       "        vertical-align: top;\n",
       "    }\n",
       "\n",
       "    .dataframe thead th {\n",
       "        text-align: right;\n",
       "    }\n",
       "</style>\n",
       "<table border=\"1\" class=\"dataframe\">\n",
       "  <thead>\n",
       "    <tr style=\"text-align: right;\">\n",
       "      <th>cost_type</th>\n",
       "      <th>Бесплатная</th>\n",
       "      <th>Платная</th>\n",
       "    </tr>\n",
       "    <tr>\n",
       "      <th>District</th>\n",
       "      <th></th>\n",
       "      <th></th>\n",
       "    </tr>\n",
       "  </thead>\n",
       "  <tbody>\n",
       "    <tr>\n",
       "      <th>Академический район</th>\n",
       "      <td>19.0</td>\n",
       "      <td>8.0</td>\n",
       "    </tr>\n",
       "    <tr>\n",
       "      <th>Алексеевский район</th>\n",
       "      <td>88.0</td>\n",
       "      <td>64.0</td>\n",
       "    </tr>\n",
       "    <tr>\n",
       "      <th>Алтуфьевский район</th>\n",
       "      <td>20.0</td>\n",
       "      <td>30.0</td>\n",
       "    </tr>\n",
       "    <tr>\n",
       "      <th>Бабушкинский район</th>\n",
       "      <td>62.0</td>\n",
       "      <td>77.0</td>\n",
       "    </tr>\n",
       "    <tr>\n",
       "      <th>Басманный район</th>\n",
       "      <td>116.0</td>\n",
       "      <td>109.0</td>\n",
       "    </tr>\n",
       "    <tr>\n",
       "      <th>...</th>\n",
       "      <td>...</td>\n",
       "      <td>...</td>\n",
       "    </tr>\n",
       "    <tr>\n",
       "      <th>район Южное Бутово</th>\n",
       "      <td>36.0</td>\n",
       "      <td>92.0</td>\n",
       "    </tr>\n",
       "    <tr>\n",
       "      <th>район Южное Медведково</th>\n",
       "      <td>60.0</td>\n",
       "      <td>18.0</td>\n",
       "    </tr>\n",
       "    <tr>\n",
       "      <th>район Южное Тушино</th>\n",
       "      <td>12.0</td>\n",
       "      <td>44.0</td>\n",
       "    </tr>\n",
       "    <tr>\n",
       "      <th>район Якиманка</th>\n",
       "      <td>18.0</td>\n",
       "      <td>16.0</td>\n",
       "    </tr>\n",
       "    <tr>\n",
       "      <th>район Ясенево</th>\n",
       "      <td>66.0</td>\n",
       "      <td>38.0</td>\n",
       "    </tr>\n",
       "  </tbody>\n",
       "</table>\n",
       "<p>125 rows × 2 columns</p>\n",
       "</div>"
      ],
      "text/plain": [
       "cost_type               Бесплатная  Платная\n",
       "District                                   \n",
       "Академический район           19.0      8.0\n",
       "Алексеевский район            88.0     64.0\n",
       "Алтуфьевский район            20.0     30.0\n",
       "Бабушкинский район            62.0     77.0\n",
       "Басманный район              116.0    109.0\n",
       "...                            ...      ...\n",
       "район Южное Бутово            36.0     92.0\n",
       "район Южное Медведково        60.0     18.0\n",
       "район Южное Тушино            12.0     44.0\n",
       "район Якиманка                18.0     16.0\n",
       "район Ясенево                 66.0     38.0\n",
       "\n",
       "[125 rows x 2 columns]"
      ]
     },
     "execution_count": 41,
     "metadata": {},
     "output_type": "execute_result"
    }
   ],
   "source": [
    "task2_df"
   ]
  },
  {
   "cell_type": "markdown",
   "id": "d1de2b1d",
   "metadata": {},
   "source": [
    "### Cохраните в csv файл и загрузите на Stepik"
   ]
  },
  {
   "cell_type": "code",
   "execution_count": 30,
   "id": "9c6b8487",
   "metadata": {},
   "outputs": [],
   "source": [
    "task2_df.to_csv('result_task2_df.csv')"
   ]
  },
  {
   "cell_type": "markdown",
   "id": "22124e17",
   "metadata": {},
   "source": [
    "## Задание 3\n",
    "### Снова загружаем датафрейм с прошлого степа"
   ]
  },
  {
   "cell_type": "code",
   "execution_count": 98,
   "id": "365205fe",
   "metadata": {},
   "outputs": [],
   "source": [
    "task3_df = pd.read_csv('task2.csv', index_col=[0, 1]) # не редактируйте"
   ]
  },
  {
   "cell_type": "code",
   "execution_count": 103,
   "id": "c622b017",
   "metadata": {},
   "outputs": [
    {
     "data": {
      "text/html": [
       "<div>\n",
       "<style scoped>\n",
       "    .dataframe tbody tr th:only-of-type {\n",
       "        vertical-align: middle;\n",
       "    }\n",
       "\n",
       "    .dataframe tbody tr th {\n",
       "        vertical-align: top;\n",
       "    }\n",
       "\n",
       "    .dataframe thead th {\n",
       "        text-align: right;\n",
       "    }\n",
       "</style>\n",
       "<table border=\"1\" class=\"dataframe\">\n",
       "  <thead>\n",
       "    <tr style=\"text-align: right;\">\n",
       "      <th></th>\n",
       "      <th></th>\n",
       "      <th>count</th>\n",
       "      <th>sum</th>\n",
       "    </tr>\n",
       "    <tr>\n",
       "      <th>District</th>\n",
       "      <th>cost_type</th>\n",
       "      <th></th>\n",
       "      <th></th>\n",
       "    </tr>\n",
       "  </thead>\n",
       "  <tbody>\n",
       "    <tr>\n",
       "      <th rowspan=\"2\" valign=\"top\">Академический район</th>\n",
       "      <th>Бесплатная</th>\n",
       "      <td>3</td>\n",
       "      <td>19</td>\n",
       "    </tr>\n",
       "    <tr>\n",
       "      <th>Платная</th>\n",
       "      <td>1</td>\n",
       "      <td>8</td>\n",
       "    </tr>\n",
       "    <tr>\n",
       "      <th rowspan=\"2\" valign=\"top\">Алексеевский район</th>\n",
       "      <th>Бесплатная</th>\n",
       "      <td>9</td>\n",
       "      <td>88</td>\n",
       "    </tr>\n",
       "    <tr>\n",
       "      <th>Платная</th>\n",
       "      <td>7</td>\n",
       "      <td>64</td>\n",
       "    </tr>\n",
       "    <tr>\n",
       "      <th>Алтуфьевский район</th>\n",
       "      <th>Бесплатная</th>\n",
       "      <td>2</td>\n",
       "      <td>20</td>\n",
       "    </tr>\n",
       "    <tr>\n",
       "      <th>...</th>\n",
       "      <th>...</th>\n",
       "      <td>...</td>\n",
       "      <td>...</td>\n",
       "    </tr>\n",
       "    <tr>\n",
       "      <th>район Южное Тушино</th>\n",
       "      <th>Платная</th>\n",
       "      <td>5</td>\n",
       "      <td>44</td>\n",
       "    </tr>\n",
       "    <tr>\n",
       "      <th rowspan=\"2\" valign=\"top\">район Якиманка</th>\n",
       "      <th>Бесплатная</th>\n",
       "      <td>6</td>\n",
       "      <td>18</td>\n",
       "    </tr>\n",
       "    <tr>\n",
       "      <th>Платная</th>\n",
       "      <td>4</td>\n",
       "      <td>16</td>\n",
       "    </tr>\n",
       "    <tr>\n",
       "      <th rowspan=\"2\" valign=\"top\">район Ясенево</th>\n",
       "      <th>Бесплатная</th>\n",
       "      <td>9</td>\n",
       "      <td>66</td>\n",
       "    </tr>\n",
       "    <tr>\n",
       "      <th>Платная</th>\n",
       "      <td>4</td>\n",
       "      <td>38</td>\n",
       "    </tr>\n",
       "  </tbody>\n",
       "</table>\n",
       "<p>235 rows × 2 columns</p>\n",
       "</div>"
      ],
      "text/plain": [
       "                                count  sum\n",
       "District            cost_type             \n",
       "Академический район Бесплатная      3   19\n",
       "                    Платная         1    8\n",
       "Алексеевский район  Бесплатная      9   88\n",
       "                    Платная         7   64\n",
       "Алтуфьевский район  Бесплатная      2   20\n",
       "...                               ...  ...\n",
       "район Южное Тушино  Платная         5   44\n",
       "район Якиманка      Бесплатная      6   18\n",
       "                    Платная         4   16\n",
       "район Ясенево       Бесплатная      9   66\n",
       "                    Платная         4   38\n",
       "\n",
       "[235 rows x 2 columns]"
      ]
     },
     "execution_count": 103,
     "metadata": {},
     "output_type": "execute_result"
    }
   ],
   "source": [
    "task3_df"
   ]
  },
  {
   "cell_type": "markdown",
   "id": "00dd98ea",
   "metadata": {},
   "source": [
    "### Отберите информацию о велопарковках в районах: \n",
    "#### - Алексеевский район\n",
    "#### - район Южное Тушино\n",
    "#### - район Ясенево"
   ]
  },
  {
   "cell_type": "code",
   "execution_count": 53,
   "id": "92da7363",
   "metadata": {},
   "outputs": [
    {
     "data": {
      "text/plain": [
       "cost_type\n",
       "Бесплатная    20\n",
       "Платная       16\n",
       "dtype: int64"
      ]
     },
     "execution_count": 53,
     "metadata": {},
     "output_type": "execute_result"
    }
   ],
   "source": [
    "task3_df.loc[['Алексеевский район','район Южное Тушино','район Ясенево']]['count'].unstack().sum()"
   ]
  },
  {
   "cell_type": "markdown",
   "id": "bc784de0",
   "metadata": {},
   "source": [
    "### Посчитайте суммарное количество парковок в разрезе по платным и бесплатным\n",
    "#### Для начала выполните преобразование как в прошлом задании, а потом вспомните, что мы проходили функцию суммирования по строкам и колонкам. Попробуй применить ее. На степик в поле с ответом введите 2 числа через пробел: количество по бесплатным и количество по платным\n",
    "#### Например: 10 15"
   ]
  },
  {
   "cell_type": "code",
   "execution_count": null,
   "id": "feef278a",
   "metadata": {},
   "outputs": [],
   "source": []
  },
  {
   "cell_type": "markdown",
   "id": "9aa320ba",
   "metadata": {},
   "source": [
    "## Задание 4. \n",
    "### Загрузите файл task4.csv в котором содержится сводная информация о велопарковках в Москве"
   ]
  },
  {
   "cell_type": "code",
   "execution_count": 54,
   "id": "34f64982",
   "metadata": {},
   "outputs": [],
   "source": [
    "task4_df = pd.read_csv('task4.csv', index_col=[0, 1, 2]) # не редактируйте"
   ]
  },
  {
   "cell_type": "markdown",
   "id": "9fd74bbe",
   "metadata": {},
   "source": [
    "### По каждому административному округу (AdmArea), району (District) и типу (cost_type) содержится количество парковок (count) и суммарное количество мест на этих парковках (sum)"
   ]
  },
  {
   "cell_type": "code",
   "execution_count": 55,
   "id": "3393bd40",
   "metadata": {},
   "outputs": [
    {
     "data": {
      "text/html": [
       "<div>\n",
       "<style scoped>\n",
       "    .dataframe tbody tr th:only-of-type {\n",
       "        vertical-align: middle;\n",
       "    }\n",
       "\n",
       "    .dataframe tbody tr th {\n",
       "        vertical-align: top;\n",
       "    }\n",
       "\n",
       "    .dataframe thead th {\n",
       "        text-align: right;\n",
       "    }\n",
       "</style>\n",
       "<table border=\"1\" class=\"dataframe\">\n",
       "  <thead>\n",
       "    <tr style=\"text-align: right;\">\n",
       "      <th></th>\n",
       "      <th></th>\n",
       "      <th></th>\n",
       "      <th>count</th>\n",
       "      <th>sum</th>\n",
       "    </tr>\n",
       "    <tr>\n",
       "      <th>AdmArea</th>\n",
       "      <th>District</th>\n",
       "      <th>cost_type</th>\n",
       "      <th></th>\n",
       "      <th></th>\n",
       "    </tr>\n",
       "  </thead>\n",
       "  <tbody>\n",
       "    <tr>\n",
       "      <th rowspan=\"5\" valign=\"top\">Восточный административный округ</th>\n",
       "      <th>Нижегородский район</th>\n",
       "      <th>Бесплатная</th>\n",
       "      <td>1</td>\n",
       "      <td>6</td>\n",
       "    </tr>\n",
       "    <tr>\n",
       "      <th rowspan=\"2\" valign=\"top\">район Богородское</th>\n",
       "      <th>Бесплатная</th>\n",
       "      <td>2</td>\n",
       "      <td>14</td>\n",
       "    </tr>\n",
       "    <tr>\n",
       "      <th>Платная</th>\n",
       "      <td>1</td>\n",
       "      <td>8</td>\n",
       "    </tr>\n",
       "    <tr>\n",
       "      <th rowspan=\"2\" valign=\"top\">район Вешняки</th>\n",
       "      <th>Бесплатная</th>\n",
       "      <td>5</td>\n",
       "      <td>35</td>\n",
       "    </tr>\n",
       "    <tr>\n",
       "      <th>Платная</th>\n",
       "      <td>3</td>\n",
       "      <td>17</td>\n",
       "    </tr>\n",
       "    <tr>\n",
       "      <th>...</th>\n",
       "      <th>...</th>\n",
       "      <th>...</th>\n",
       "      <td>...</td>\n",
       "      <td>...</td>\n",
       "    </tr>\n",
       "    <tr>\n",
       "      <th rowspan=\"5\" valign=\"top\">Южный административный округ</th>\n",
       "      <th>район Чертаново Северное</th>\n",
       "      <th>Платная</th>\n",
       "      <td>2</td>\n",
       "      <td>20</td>\n",
       "    </tr>\n",
       "    <tr>\n",
       "      <th rowspan=\"2\" valign=\"top\">район Чертаново Центральное</th>\n",
       "      <th>Бесплатная</th>\n",
       "      <td>7</td>\n",
       "      <td>68</td>\n",
       "    </tr>\n",
       "    <tr>\n",
       "      <th>Платная</th>\n",
       "      <td>3</td>\n",
       "      <td>21</td>\n",
       "    </tr>\n",
       "    <tr>\n",
       "      <th rowspan=\"2\" valign=\"top\">район Чертаново Южное</th>\n",
       "      <th>Бесплатная</th>\n",
       "      <td>9</td>\n",
       "      <td>86</td>\n",
       "    </tr>\n",
       "    <tr>\n",
       "      <th>Платная</th>\n",
       "      <td>4</td>\n",
       "      <td>36</td>\n",
       "    </tr>\n",
       "  </tbody>\n",
       "</table>\n",
       "<p>247 rows × 2 columns</p>\n",
       "</div>"
      ],
      "text/plain": [
       "                                                                         count  \\\n",
       "AdmArea                          District                    cost_type           \n",
       "Восточный административный округ Нижегородский район         Бесплатная      1   \n",
       "                                 район Богородское           Бесплатная      2   \n",
       "                                                             Платная         1   \n",
       "                                 район Вешняки               Бесплатная      5   \n",
       "                                                             Платная         3   \n",
       "...                                                                        ...   \n",
       "Южный административный округ     район Чертаново Северное    Платная         2   \n",
       "                                 район Чертаново Центральное Бесплатная      7   \n",
       "                                                             Платная         3   \n",
       "                                 район Чертаново Южное       Бесплатная      9   \n",
       "                                                             Платная         4   \n",
       "\n",
       "                                                                         sum  \n",
       "AdmArea                          District                    cost_type        \n",
       "Восточный административный округ Нижегородский район         Бесплатная    6  \n",
       "                                 район Богородское           Бесплатная   14  \n",
       "                                                             Платная       8  \n",
       "                                 район Вешняки               Бесплатная   35  \n",
       "                                                             Платная      17  \n",
       "...                                                                      ...  \n",
       "Южный административный округ     район Чертаново Северное    Платная      20  \n",
       "                                 район Чертаново Центральное Бесплатная   68  \n",
       "                                                             Платная      21  \n",
       "                                 район Чертаново Южное       Бесплатная   86  \n",
       "                                                             Платная      36  \n",
       "\n",
       "[247 rows x 2 columns]"
      ]
     },
     "execution_count": 55,
     "metadata": {},
     "output_type": "execute_result"
    }
   ],
   "source": [
    "task4_df"
   ]
  },
  {
   "cell_type": "markdown",
   "id": "d7aff86c",
   "metadata": {},
   "source": [
    "### Посчитайте среднее количество бесплатных парковок в Южном административном округе. Ответ округлите вниз до целого числа. Ответ загрузите на степик."
   ]
  },
  {
   "cell_type": "code",
   "execution_count": 72,
   "id": "58bcb13b",
   "metadata": {},
   "outputs": [
    {
     "data": {
      "text/plain": [
       "4"
      ]
     },
     "execution_count": 72,
     "metadata": {},
     "output_type": "execute_result"
    }
   ],
   "source": [
    "task4_df.loc[['Южный административный округ']]['count'].unstack()['Бесплатная'].mean().astype('int')\n"
   ]
  },
  {
   "cell_type": "markdown",
   "id": "60fb2927",
   "metadata": {},
   "source": [
    "## Задание 5. \n",
    "### Загрузите файл task4.csv в котором содержится сводная информация о велопарковках в Москве"
   ]
  },
  {
   "cell_type": "code",
   "execution_count": 91,
   "id": "01409c6a",
   "metadata": {},
   "outputs": [],
   "source": [
    "task5_df = pd.read_csv('task4.csv', index_col=[0, 1, 2]) # не редактируйте"
   ]
  },
  {
   "cell_type": "markdown",
   "id": "0a696a3f",
   "metadata": {},
   "source": [
    "### По каждому административному округу (AdmArea), району (District) и типу (cost_type) содержится количество парковок (count) и суммарное количество мест на этих парковках (sum)"
   ]
  },
  {
   "cell_type": "code",
   "execution_count": 92,
   "id": "9e0ac530",
   "metadata": {},
   "outputs": [
    {
     "data": {
      "text/html": [
       "<div>\n",
       "<style scoped>\n",
       "    .dataframe tbody tr th:only-of-type {\n",
       "        vertical-align: middle;\n",
       "    }\n",
       "\n",
       "    .dataframe tbody tr th {\n",
       "        vertical-align: top;\n",
       "    }\n",
       "\n",
       "    .dataframe thead th {\n",
       "        text-align: right;\n",
       "    }\n",
       "</style>\n",
       "<table border=\"1\" class=\"dataframe\">\n",
       "  <thead>\n",
       "    <tr style=\"text-align: right;\">\n",
       "      <th></th>\n",
       "      <th></th>\n",
       "      <th></th>\n",
       "      <th>count</th>\n",
       "      <th>sum</th>\n",
       "    </tr>\n",
       "    <tr>\n",
       "      <th>AdmArea</th>\n",
       "      <th>District</th>\n",
       "      <th>cost_type</th>\n",
       "      <th></th>\n",
       "      <th></th>\n",
       "    </tr>\n",
       "  </thead>\n",
       "  <tbody>\n",
       "    <tr>\n",
       "      <th rowspan=\"5\" valign=\"top\">Восточный административный округ</th>\n",
       "      <th>Нижегородский район</th>\n",
       "      <th>Бесплатная</th>\n",
       "      <td>1</td>\n",
       "      <td>6</td>\n",
       "    </tr>\n",
       "    <tr>\n",
       "      <th rowspan=\"2\" valign=\"top\">район Богородское</th>\n",
       "      <th>Бесплатная</th>\n",
       "      <td>2</td>\n",
       "      <td>14</td>\n",
       "    </tr>\n",
       "    <tr>\n",
       "      <th>Платная</th>\n",
       "      <td>1</td>\n",
       "      <td>8</td>\n",
       "    </tr>\n",
       "    <tr>\n",
       "      <th rowspan=\"2\" valign=\"top\">район Вешняки</th>\n",
       "      <th>Бесплатная</th>\n",
       "      <td>5</td>\n",
       "      <td>35</td>\n",
       "    </tr>\n",
       "    <tr>\n",
       "      <th>Платная</th>\n",
       "      <td>3</td>\n",
       "      <td>17</td>\n",
       "    </tr>\n",
       "    <tr>\n",
       "      <th>...</th>\n",
       "      <th>...</th>\n",
       "      <th>...</th>\n",
       "      <td>...</td>\n",
       "      <td>...</td>\n",
       "    </tr>\n",
       "    <tr>\n",
       "      <th rowspan=\"5\" valign=\"top\">Южный административный округ</th>\n",
       "      <th>район Чертаново Северное</th>\n",
       "      <th>Платная</th>\n",
       "      <td>2</td>\n",
       "      <td>20</td>\n",
       "    </tr>\n",
       "    <tr>\n",
       "      <th rowspan=\"2\" valign=\"top\">район Чертаново Центральное</th>\n",
       "      <th>Бесплатная</th>\n",
       "      <td>7</td>\n",
       "      <td>68</td>\n",
       "    </tr>\n",
       "    <tr>\n",
       "      <th>Платная</th>\n",
       "      <td>3</td>\n",
       "      <td>21</td>\n",
       "    </tr>\n",
       "    <tr>\n",
       "      <th rowspan=\"2\" valign=\"top\">район Чертаново Южное</th>\n",
       "      <th>Бесплатная</th>\n",
       "      <td>9</td>\n",
       "      <td>86</td>\n",
       "    </tr>\n",
       "    <tr>\n",
       "      <th>Платная</th>\n",
       "      <td>4</td>\n",
       "      <td>36</td>\n",
       "    </tr>\n",
       "  </tbody>\n",
       "</table>\n",
       "<p>247 rows × 2 columns</p>\n",
       "</div>"
      ],
      "text/plain": [
       "                                                                         count  \\\n",
       "AdmArea                          District                    cost_type           \n",
       "Восточный административный округ Нижегородский район         Бесплатная      1   \n",
       "                                 район Богородское           Бесплатная      2   \n",
       "                                                             Платная         1   \n",
       "                                 район Вешняки               Бесплатная      5   \n",
       "                                                             Платная         3   \n",
       "...                                                                        ...   \n",
       "Южный административный округ     район Чертаново Северное    Платная         2   \n",
       "                                 район Чертаново Центральное Бесплатная      7   \n",
       "                                                             Платная         3   \n",
       "                                 район Чертаново Южное       Бесплатная      9   \n",
       "                                                             Платная         4   \n",
       "\n",
       "                                                                         sum  \n",
       "AdmArea                          District                    cost_type        \n",
       "Восточный административный округ Нижегородский район         Бесплатная    6  \n",
       "                                 район Богородское           Бесплатная   14  \n",
       "                                                             Платная       8  \n",
       "                                 район Вешняки               Бесплатная   35  \n",
       "                                                             Платная      17  \n",
       "...                                                                      ...  \n",
       "Южный административный округ     район Чертаново Северное    Платная      20  \n",
       "                                 район Чертаново Центральное Бесплатная   68  \n",
       "                                                             Платная      21  \n",
       "                                 район Чертаново Южное       Бесплатная   86  \n",
       "                                                             Платная      36  \n",
       "\n",
       "[247 rows x 2 columns]"
      ]
     },
     "execution_count": 92,
     "metadata": {},
     "output_type": "execute_result"
    }
   ],
   "source": [
    "task5_df"
   ]
  },
  {
   "cell_type": "markdown",
   "id": "1b110329",
   "metadata": {},
   "source": [
    "### Найдите в каком районе восточного административного округа больше всего мест на бесплатных парковках. Правильный район выберите из списка на степике."
   ]
  },
  {
   "cell_type": "code",
   "execution_count": 97,
   "id": "c616c3dc",
   "metadata": {},
   "outputs": [
    {
     "data": {
      "text/plain": [
       "AdmArea                           District     \n",
       "Восточный административный округ  район Вешняки    5.0\n",
       "                                  район Перово     5.0\n",
       "Name: Бесплатная, dtype: float64"
      ]
     },
     "execution_count": 97,
     "metadata": {},
     "output_type": "execute_result"
    }
   ],
   "source": [
    "task5_df.loc[['Восточный административный округ']]['count'].unstack()['Бесплатная'].nlargest(1, keep='all')"
   ]
  },
  {
   "cell_type": "code",
   "execution_count": null,
   "id": "ff39148e",
   "metadata": {},
   "outputs": [],
   "source": []
  }
 ],
 "metadata": {
  "kernelspec": {
   "display_name": "Python 3 (ipykernel)",
   "language": "python",
   "name": "python3"
  },
  "language_info": {
   "codemirror_mode": {
    "name": "ipython",
    "version": 3
   },
   "file_extension": ".py",
   "mimetype": "text/x-python",
   "name": "python",
   "nbconvert_exporter": "python",
   "pygments_lexer": "ipython3",
   "version": "3.10.8"
  }
 },
 "nbformat": 4,
 "nbformat_minor": 5
}
