{
  "cells": [
    {
      "cell_type": "markdown",
      "metadata": {
        "id": "R2T5NmdVrZFS"
      },
      "source": [
        "<a href=\"https://colab.research.google.com/github/dm-fedorov/pandas_basic/blob/master/%D0%B1%D1%8B%D1%81%D1%82%D1%80%D0%BE%D0%B5%20%D0%B2%D0%B2%D0%B5%D0%B4%D0%B5%D0%BD%D0%B8%D0%B5%20%D0%B2%20pandas/04.%20%D0%9A%D0%B0%D0%BA%20%D1%81%D1%82%D1%80%D0%BE%D0%B8%D1%82%D1%8C%20%D0%B3%D1%80%D0%B0%D1%84%D0%B8%D0%BA%20%D0%B2%20pandas%3F.ipynb\"><img align=\"left\" src=\"https://colab.research.google.com/assets/colab-badge.svg\" alt=\"Open in Colab\" title=\"Open and Execute in Google Colaboratory\" target=\"_blank\"></a>"
      ]
    },
    {
      "cell_type": "markdown",
      "metadata": {
        "id": "u7JZ0X0frZFU"
      },
      "source": [
        "<a href=\"https://t.me/init_python\"><img src=\"https://dfedorov.spb.ru/pandas/logo-telegram.png\" width=\"35\" height=\"35\" alt=\"telegram\" align=\"left\"></a>"
      ]
    },
    {
      "cell_type": "code",
      "execution_count": null,
      "metadata": {
        "id": "FcUMB2yQrZFV"
      },
      "outputs": [],
      "source": [
        "import pandas as pd\n",
        "\n",
        "import matplotlib.pyplot as plt"
      ]
    },
    {
      "cell_type": "markdown",
      "metadata": {
        "id": "4LTAHDpMrZFW"
      },
      "source": [
        "Для этого урока используются данные о качестве воздуха (наличие оксида озота в атмосфере). \n",
        "\n",
        "<img src=\"https://openaq.org/assets/graphics/meta/default-meta-image.png\" height=\"300px\" width=\"500px\">\n",
        "\n",
        "[Источник данных](https://openaq.org), для получения используется модуль [py-openaq](http://dhhagan.github.io/py-openaq/index.html).\n",
        "\n",
        "Набор данных `air_quality_no2.csv` содержит значения оксида озота ($NO_2$) для измерительных станций `FR04014`, `BETR801` и `London Westminster` соответственно в Париже, Антверпене и Лондоне.\n",
        "\n",
        "В России сведения не собирают, см. [карту](https://openaq.org/#/map?_k=6k578s)"
      ]
    },
    {
      "cell_type": "code",
      "execution_count": null,
      "metadata": {
        "id": "ujtf081zrZFX"
      },
      "outputs": [],
      "source": [
        "url = \"https://raw.githubusercontent.com/dm-fedorov/pandas_basic/master/%D0%B1%D1%8B%D1%81%D1%82%D1%80%D0%BE%D0%B5%20%D0%B2%D0%B2%D0%B5%D0%B4%D0%B5%D0%BD%D0%B8%D0%B5%20%D0%B2%20pandas/data/air_quality_no2.csv\""
      ]
    },
    {
      "cell_type": "code",
      "execution_count": null,
      "metadata": {
        "id": "3kSSXmczrZFX"
      },
      "outputs": [],
      "source": [
        "air_quality = pd.read_csv(url,\n",
        "                          index_col=0, \n",
        "                          parse_dates=True)\n",
        "air_quality.head()"
      ]
    },
    {
      "cell_type": "markdown",
      "metadata": {
        "id": "GYUs17TorZFY"
      },
      "source": [
        "Использование параметров `index_col` и `parse_dates` функции `read_csv` для определения первого (0-го) столбца в качестве индекса `DataFrame` и преобразование значений индекса в объекты типа [`Timestamp`](https://pandas.pydata.org/pandas-docs/stable/reference/api/pandas.Timestamp.html#pandas.Timestamp) соотвественно."
      ]
    },
    {
      "cell_type": "markdown",
      "metadata": {
        "id": "Ia7xSdQMrZFa"
      },
      "source": [
        "<img src=\"https://pandas.pydata.org/docs/_images/04_plot_overview.svg\" >"
      ]
    },
    {
      "cell_type": "markdown",
      "metadata": {
        "id": "ufZn7Jb3rZFb"
      },
      "source": [
        "Я хочу быстро получить визуальное представление данных:"
      ]
    },
    {
      "cell_type": "code",
      "execution_count": null,
      "metadata": {
        "id": "mf8u0ZkxrZFd"
      },
      "outputs": [],
      "source": [
        "air_quality.plot();"
      ]
    },
    {
      "cell_type": "markdown",
      "metadata": {
        "id": "jp0fPgEUrZFe"
      },
      "source": [
        "По умолчанию создается один линейный график для каждого из столбцов таблицы с числовыми данными."
      ]
    },
    {
      "cell_type": "markdown",
      "metadata": {
        "id": "DwAzb8gcrZFf"
      },
      "source": [
        "Я хочу построить график только для столбцов с данными из Парижа:"
      ]
    },
    {
      "cell_type": "code",
      "execution_count": null,
      "metadata": {
        "id": "dPFIq8qtrZFf"
      },
      "outputs": [],
      "source": [
        "air_quality[\"station_paris\"].plot();"
      ]
    },
    {
      "cell_type": "markdown",
      "metadata": {
        "id": "KBF_HnIarZFf"
      },
      "source": [
        "Чтобы построить график для конкретного столбца таблицы, используйте методы выбора данных подмножеств в сочетании с методом [`plot()`](https://pandas.pydata.org/pandas-docs/stable/reference/api/pandas.DataFrame.plot.html#pandas.DataFrame.plot). \n",
        "\n",
        "`plot()` работает для `Series` и `DataFrame`."
      ]
    },
    {
      "cell_type": "markdown",
      "metadata": {
        "id": "UXBsM0D2rZFg"
      },
      "source": [
        "Я хочу визуально сопоставить значения $NO_2$ в Лондоне и Парижа."
      ]
    },
    {
      "cell_type": "code",
      "execution_count": null,
      "metadata": {
        "id": "RsEIkSwGrZFg"
      },
      "outputs": [],
      "source": [
        "# https://matplotlib.org/3.2.1/api/_as_gen/matplotlib.pyplot.scatter.html\n",
        "\n",
        "air_quality.plot.scatter(x=\"station_london\",\n",
        "                         y=\"station_paris\",\n",
        "                         alpha=0.5); "
      ]
    },
    {
      "cell_type": "markdown",
      "metadata": {
        "id": "dNf9NUaQrZFh"
      },
      "source": [
        "Помимо линейного графика по умолчанию при использовании функции `plot` существует ряд альтернатив. \n",
        "\n",
        "Давайте используем стандартный Python, чтобы получить обзор доступных методов для построения графика:"
      ]
    },
    {
      "cell_type": "code",
      "execution_count": null,
      "metadata": {
        "id": "yECtltJ_rZFh"
      },
      "outputs": [],
      "source": [
        "[method_name for method_name in dir(air_quality.plot) if not method_name.startswith(\"_\")]"
      ]
    },
    {
      "cell_type": "markdown",
      "metadata": {
        "id": "oAsP200MrZFi"
      },
      "source": [
        "В `jupyter notebook` используйте кнопку `TAB`, чтобы получить обзор доступных методов, например `air_quality.plot.+ TAB`."
      ]
    },
    {
      "cell_type": "markdown",
      "metadata": {
        "id": "Y5LeildirZFi"
      },
      "source": [
        "Пример [`DataFrame.plot.box()`](https://pandas.pydata.org/pandas-docs/stable/reference/api/pandas.DataFrame.plot.box.html#pandas.DataFrame.plot.box):"
      ]
    },
    {
      "cell_type": "code",
      "execution_count": null,
      "metadata": {
        "id": "Ncuk0UEHrZFi"
      },
      "outputs": [],
      "source": [
        "air_quality.plot.box();"
      ]
    },
    {
      "cell_type": "markdown",
      "metadata": {
        "id": "9pOdZByUrZFj"
      },
      "source": [
        "Для ознакомления с графиками, отличными от линейного, см. [Раздел руководства пользователя о поддерживаемых стилях графиков](https://pandas.pydata.org/pandas-docs/stable/user_guide/visualization.html#visualization-other)."
      ]
    },
    {
      "cell_type": "markdown",
      "metadata": {
        "id": "DLSRGXmjrZFj"
      },
      "source": [
        "Я хочу, чтобы каждый из столбцов отображался в отдельном графике:"
      ]
    },
    {
      "cell_type": "code",
      "execution_count": null,
      "metadata": {
        "id": "HVEV3SiDrZFj"
      },
      "outputs": [],
      "source": [
        "axs = air_quality.plot.area(figsize=(12, 4), subplots=True)"
      ]
    },
    {
      "cell_type": "markdown",
      "metadata": {
        "id": "zQWJ1Z41rZFj"
      },
      "source": [
        "Отдельные подграфики для каждого из столбцов данных поддерживаются аргументом `subplots` функции `plot`."
      ]
    },
    {
      "cell_type": "markdown",
      "metadata": {
        "id": "QupSvjjZrZFk"
      },
      "source": [
        "Некоторые дополнительные параметры форматирования описаны в разделе [руководства пользователя по форматированию графиков](https://pandas.pydata.org/pandas-docs/stable/user_guide/visualization.html#visualization-formatting)."
      ]
    },
    {
      "cell_type": "markdown",
      "metadata": {
        "id": "1yvtOBCVrZFk"
      },
      "source": [
        "Я хочу дополнительно настроить, расширить или сохранить полученный график:"
      ]
    },
    {
      "cell_type": "code",
      "execution_count": null,
      "metadata": {
        "id": "5dATdoZQrZFk"
      },
      "outputs": [],
      "source": [
        "fig, axs = plt.subplots(figsize=(12, 4)); \n",
        "air_quality.plot.area(ax=axs); \n",
        "axs.set_ylabel(\"NO$_2$ concentration\"); \n",
        "fig.savefig(\"no2_concentrations.png\")  "
      ]
    },
    {
      "cell_type": "markdown",
      "metadata": {
        "id": "4LRe9d3-rZFl"
      },
      "source": [
        "Каждый из графических объектов, созданных `pandas`, является объектом [`matplotlib`](https://matplotlib.org/). Поскольку `Matplotlib` предоставляет множество опций для настройки графиков, прямая связь между `pandas` и `Matplotlib` позволяет использовать всю мощь `matplotlib` для графика. "
      ]
    },
    {
      "cell_type": "markdown",
      "metadata": {
        "id": "sdmgw9DUrZFl"
      },
      "source": [
        "Полный обзор представлен на страницах [визуализации в `pandas`](https://pandas.pydata.org/pandas-docs/stable/user_guide/visualization.html#visualization)."
      ]
    },
    {
      "cell_type": "markdown",
      "metadata": {
        "id": "M2wJdAB5rZFl"
      },
      "source": [
        "<a href=\"https://t.me/init_python\"><img src=\"https://dfedorov.spb.ru/pandas/logo-telegram.png\" width=\"35\" height=\"35\" alt=\"telegram\" align=\"left\"></a>"
      ]
    },
    {
      "cell_type": "code",
      "execution_count": null,
      "metadata": {
        "id": "Z0l5A9UxrZFl"
      },
      "outputs": [],
      "source": []
    }
  ],
  "metadata": {
    "kernelspec": {
      "display_name": "Python 3",
      "language": "python",
      "name": "python3"
    },
    "language_info": {
      "codemirror_mode": {
        "name": "ipython",
        "version": 3
      },
      "file_extension": ".py",
      "mimetype": "text/x-python",
      "name": "python",
      "nbconvert_exporter": "python",
      "pygments_lexer": "ipython3",
      "version": "3.8.2"
    },
    "colab": {
      "provenance": []
    }
  },
  "nbformat": 4,
  "nbformat_minor": 0
}