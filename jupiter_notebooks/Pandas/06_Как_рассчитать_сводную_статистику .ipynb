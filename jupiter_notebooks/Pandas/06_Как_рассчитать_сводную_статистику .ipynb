{
 "cells": [
  {
   "cell_type": "markdown",
   "metadata": {
    "id": "KMKbWK_6raM0"
   },
   "source": [
    "### Как рассчитать сводную статистику?"
   ]
  },
  {
   "cell_type": "markdown",
   "metadata": {
    "id": "3_y200SIraM2"
   },
   "source": [
    "<a href=\"https://t.me/init_python\"><img src=\"https://dfedorov.spb.ru/pandas/logo-telegram.png\" width=\"35\" height=\"35\" alt=\"telegram\" align=\"left\"></a>"
   ]
  },
  {
   "cell_type": "markdown",
   "metadata": {
    "id": "4tafAhqVraM3"
   },
   "source": [
    "<a href=\"https://colab.research.google.com/github/dm-fedorov/pandas_basic/blob/master/%D0%B1%D1%8B%D1%81%D1%82%D1%80%D0%BE%D0%B5%20%D0%B2%D0%B2%D0%B5%D0%B4%D0%B5%D0%BD%D0%B8%D0%B5%20%D0%B2%20pandas/06.%20%D0%9A%D0%B0%D0%BA%20%D1%80%D0%B0%D1%81%D1%81%D1%87%D0%B8%D1%82%D0%B0%D1%82%D1%8C%20%D1%81%D0%B2%D0%BE%D0%B4%D0%BD%D1%83%D1%8E%20%D1%81%D1%82%D0%B0%D1%82%D0%B8%D1%81%D1%82%D0%B8%D0%BA%D1%83%3F.ipynb\" target=\"_blank\"><img align=\"left\" src=\"https://colab.research.google.com/assets/colab-badge.svg\" alt=\"Open in Colab\" title=\"Open and Execute in Google Colaboratory\"></a>"
   ]
  },
  {
   "cell_type": "code",
   "execution_count": null,
   "metadata": {
    "id": "DMf4PDXuraM9"
   },
   "outputs": [],
   "source": [
    "import pandas as pd"
   ]
  },
  {
   "cell_type": "code",
   "execution_count": null,
   "metadata": {
    "id": "dit0HT3praM_"
   },
   "outputs": [],
   "source": [
    "url = \"https://raw.githubusercontent.com/dm-fedorov/pandas_basic/master/%D0%B1%D1%8B%D1%81%D1%82%D1%80%D0%BE%D0%B5%20%D0%B2%D0%B2%D0%B5%D0%B4%D0%B5%D0%BD%D0%B8%D0%B5%20%D0%B2%20pandas/data/titanic.csv\""
   ]
  },
  {
   "cell_type": "code",
   "execution_count": null,
   "metadata": {
    "id": "O2j6vwKkraNA"
   },
   "outputs": [],
   "source": [
    "titanic = pd.read_csv(url)\n",
    "titanic"
   ]
  },
  {
   "cell_type": "markdown",
   "metadata": {
    "id": "D5KQ3n5GraNB"
   },
   "source": [
    "### Сводная статистика "
   ]
  },
  {
   "cell_type": "markdown",
   "metadata": {
    "id": "e3eBhdqCraNB"
   },
   "source": [
    "<img src=\"https://pandas.pydata.org/pandas-docs/stable/_images/06_aggregate.svg\" >"
   ]
  },
  {
   "cell_type": "markdown",
   "metadata": {
    "id": "Fgvc6inwraNC"
   },
   "source": [
    "Каков средний возраст пассажиров?"
   ]
  },
  {
   "cell_type": "code",
   "execution_count": null,
   "metadata": {
    "id": "fZt2WedzraND"
   },
   "outputs": [],
   "source": [
    "titanic[\"Age\"].mean()"
   ]
  },
  {
   "cell_type": "markdown",
   "metadata": {
    "id": "neQlbLzeraND"
   },
   "source": [
    "В `pandas` доступны различные статистические данные, которые могут быть применены к столбцам с числовыми значениями. \n",
    "\n",
    "Операции исключают отсутствующие данные и по умолчанию работают со строками в таблице."
   ]
  },
  {
   "cell_type": "markdown",
   "metadata": {
    "id": "7fZAJg4eraNF"
   },
   "source": [
    "<img src=\"https://pandas.pydata.org/pandas-docs/stable/_images/06_reduction.svg\">"
   ]
  },
  {
   "cell_type": "markdown",
   "metadata": {
    "id": "hOd5pR0NraNK"
   },
   "source": [
    "Каков средний возраст и стоимость билета для пассажиров?"
   ]
  },
  {
   "cell_type": "code",
   "execution_count": null,
   "metadata": {
    "id": "s1WE82KsraNR"
   },
   "outputs": [],
   "source": [
    "titanic[[\"Age\", \"Fare\"]].median()"
   ]
  },
  {
   "cell_type": "markdown",
   "metadata": {
    "id": "YtNdw4A2raNS"
   },
   "source": [
    "<img src=\"https://upload.wikimedia.org/wikipedia/commons/5/59/Titanic_surviving_officers.jpg\" width=\"250\" height=\"200\">\n",
    "На фото четыре спасшихся во время крушения офицера \"Титаника\""
   ]
  },
  {
   "cell_type": "markdown",
   "metadata": {
    "id": "O4s56gXdraNZ"
   },
   "source": [
    "Статистика, примененная к нескольким столбцам `DataFrame`, рассчитывается для каждого из числовых столбцов."
   ]
  },
  {
   "cell_type": "markdown",
   "metadata": {
    "id": "s8CIR-ycraNa"
   },
   "source": [
    "Агрегирующая статистика может быть рассчитана для нескольких столбцов одновременно:"
   ]
  },
  {
   "cell_type": "code",
   "execution_count": null,
   "metadata": {
    "id": "fL1br5_0raNb"
   },
   "outputs": [],
   "source": [
    "titanic[[\"Age\", \"Fare\"]].describe()"
   ]
  },
  {
   "cell_type": "markdown",
   "metadata": {
    "id": "Nr91CphwraNb"
   },
   "source": [
    "С помощью метода [`DataFrame.agg()`](https://pandas.pydata.org/pandas-docs/stable/reference/api/pandas.DataFrame.agg.html#pandas.DataFrame.agg) могут быть определены комбинации статистики для заданных столбцов:"
   ]
  },
  {
   "cell_type": "code",
   "execution_count": null,
   "metadata": {
    "id": "Wdkan4EGraNc"
   },
   "outputs": [],
   "source": [
    "titanic.agg({'Age': ['min', 'max', 'median', 'skew'],\n",
    "             'Fare': ['min', 'max', 'median', 'mean']})"
   ]
  },
  {
   "cell_type": "markdown",
   "metadata": {
    "id": "BmlYgWIPraNc"
   },
   "source": [
    "Подробная информация об описательной статистике представлена в [разделе руководства пользователя по описательной статистике](https://pandas.pydata.org/docs/user_guide/basics.html?highlight=describe#descriptive-statistics)."
   ]
  },
  {
   "cell_type": "markdown",
   "metadata": {
    "id": "Xkjg4DdhraNe"
   },
   "source": [
    "### Агрегирование статистических данных, сгруппированных по категориям"
   ]
  },
  {
   "cell_type": "markdown",
   "metadata": {
    "id": "o0yN8JAKraNe"
   },
   "source": [
    "<img src=\"https://pandas.pydata.org/docs/_images/06_groupby.svg\">"
   ]
  },
  {
   "cell_type": "markdown",
   "metadata": {
    "id": "MQtkgT13raNf"
   },
   "source": [
    "Каков средний возраст мужчин и женщин пассажиров?"
   ]
  },
  {
   "cell_type": "code",
   "execution_count": null,
   "metadata": {
    "id": "gnEnK-34raNl"
   },
   "outputs": [],
   "source": [
    "titanic[[\"Sex\", \"Age\"]].groupby(\"Sex\").mean()"
   ]
  },
  {
   "cell_type": "markdown",
   "metadata": {
    "id": "mt2VeUUuraNm"
   },
   "source": [
    "Поскольку интерес представляет средний возраст для каждого пола, сначала делается выборка по этим двум столбцам: `titanic[[\"Sex\", \"Age\"]]`.\n",
    "\n",
    "Затем метод [`groupby()`](https://pandas.pydata.org/pandas-docs/stable/reference/api/pandas.DataFrame.groupby.html#pandas.DataFrame.groupby) применяется к столбцу `Sex` для создания группы по категориям. \n",
    "\n",
    "Затем рассчитывается и возвращается средний возраст для каждого пола."
   ]
  },
  {
   "cell_type": "markdown",
   "metadata": {
    "id": "jqKJ6cUnraNm"
   },
   "source": [
    "Вычисление заданной статистики (например, `mean` для возраста) для каждой категории в столбце (например, `male`/`female` в столбце `Sex`) является обычной моделью. Метод `groupby` используется для поддержки этого типа операций. В более общем плане это соответствует схеме `split-apply-combine`:\n",
    "\n",
    "- **Разделить** данные на группы\n",
    "- **Применить** функцию независимо к каждой группе \n",
    "- **Объединить** результаты в структуру данных\n",
    "\n",
    "Этапы применения и объединения обычно выполняются в `pandas` вместе.\n",
    "\n",
    "В предыдущем примере мы сначала явно выбрали `2` столбца. Если нет, то метод `mean` применяется к каждому столбцу, содержащему числа:"
   ]
  },
  {
   "cell_type": "code",
   "execution_count": null,
   "metadata": {
    "id": "ydW_Ar_GraNm"
   },
   "outputs": [],
   "source": [
    "titanic.groupby(\"Sex\").mean()"
   ]
  },
  {
   "cell_type": "markdown",
   "metadata": {
    "id": "SiuRFFLSraNn"
   },
   "source": [
    "Не имеет смысла получать среднее значение для столбца `Pclass` (тип каюты). \n",
    "\n",
    "Если нас интересует только средний возраст для каждого пола, то выбор столбцов поддерживается и для сгруппированных данных:"
   ]
  },
  {
   "cell_type": "code",
   "execution_count": null,
   "metadata": {
    "id": "wE7S91okraNn"
   },
   "outputs": [],
   "source": [
    "titanic.groupby(\"Sex\")[\"Age\"].mean()"
   ]
  },
  {
   "cell_type": "markdown",
   "metadata": {
    "id": "6Z9Ega9jraNo"
   },
   "source": [
    "<img src=\"https://pandas.pydata.org/pandas-docs/stable/_images/06_groupby_select_detail.svg\" >"
   ]
  },
  {
   "cell_type": "markdown",
   "metadata": {
    "id": "E3WncM8iraNo"
   },
   "source": [
    "Столбец `Pclass` содержит числовые данные, но на самом деле представляет собой `3` категории (или фактора), соответственно метки `\"1\"`, `\"2\"` и `\"3\"`. Расчет статистики по ним не имеет большого смысла. \n",
    "`pandas` предоставляет тип данных `Categorical` для обработки подобных значений. Более подробная информация представлена в руководстве пользователя в разделе [Категориальные данные](https://pandas.pydata.org/pandas-docs/stable/user_guide/categorical.html#categorical)."
   ]
  },
  {
   "cell_type": "markdown",
   "metadata": {
    "id": "jgWDvEBBraNo"
   },
   "source": [
    "Какова средняя цена билета для каждой комбинации пола и типа каюты?"
   ]
  },
  {
   "cell_type": "code",
   "execution_count": null,
   "metadata": {
    "id": "xrZfAHiJraNp"
   },
   "outputs": [],
   "source": [
    "titanic.groupby([\"Sex\", \"Pclass\"])[\"Fare\"].mean()"
   ]
  },
  {
   "cell_type": "markdown",
   "metadata": {
    "id": "HYFLPl_draNp"
   },
   "source": [
    "Группировка может выполняться по нескольким столбцам одновременно. Укажите имена столбцов в виде списка для метода [`groupby()`](https://pandas.pydata.org/pandas-docs/stable/reference/api/pandas.DataFrame.groupby.html#pandas.DataFrame.groupby)."
   ]
  },
  {
   "cell_type": "markdown",
   "metadata": {
    "id": "vUaH8srWraNp"
   },
   "source": [
    "Полное описание подхода разделения-применения-объединения приведено в разделе [руководства пользователя по групповым операциям](https://pandas.pydata.org/pandas-docs/stable/user_guide/groupby.html#groupby)."
   ]
  },
  {
   "cell_type": "markdown",
   "metadata": {
    "id": "K1BHJu6DraNq"
   },
   "source": [
    "### Подсчитать количество записей по категориям"
   ]
  },
  {
   "cell_type": "markdown",
   "metadata": {
    "id": "RDmnkagLraNq"
   },
   "source": [
    "<img src=\"https://pandas.pydata.org/pandas-docs/stable/_images/06_valuecounts.svg\" >"
   ]
  },
  {
   "cell_type": "markdown",
   "metadata": {
    "id": "Q8NM55jNraNq"
   },
   "source": [
    "Какое количество пассажиров в каждом из типов кают?"
   ]
  },
  {
   "cell_type": "code",
   "execution_count": null,
   "metadata": {
    "id": "X6woozH-raNr"
   },
   "outputs": [],
   "source": [
    "titanic[\"Pclass\"].value_counts()"
   ]
  },
  {
   "cell_type": "markdown",
   "metadata": {
    "id": "qpAEB3Y5raOC"
   },
   "source": [
    "Метод [`value_counts()`](https://pandas.pydata.org/pandas-docs/stable/reference/api/pandas.Series.value_counts.html#pandas.Series.value_counts) подсчитывает количество записей для каждой категории в колонке."
   ]
  },
  {
   "cell_type": "markdown",
   "metadata": {
    "id": "dxtEyxfmraOC"
   },
   "source": [
    "На самом деле, за этой функцией скрывается групповая операция в сочетании с подсчетом количества записей в каждой группе:"
   ]
  },
  {
   "cell_type": "code",
   "execution_count": null,
   "metadata": {
    "id": "tXFSg7x2raOH"
   },
   "outputs": [],
   "source": [
    "titanic.groupby(\"Pclass\")[\"Pclass\"].count()"
   ]
  },
  {
   "cell_type": "markdown",
   "metadata": {
    "id": "5wV--3kLraOP"
   },
   "source": [
    "<img src=\"https://upload.wikimedia.org/wikipedia/commons/a/ab/B-58.jpg\" width=\"250\" height=\"200\">\n",
    "\n",
    "На фото каюта Титаника \"В-58\""
   ]
  },
  {
   "cell_type": "markdown",
   "metadata": {
    "id": "hC2MAFQzraOQ"
   },
   "source": [
    "В сочетании с `groupby` могут быть использованы `size` и `count`. \n",
    "\n",
    "В то время как `size` включает в себя `NaN` значения и просто предоставляет количество строк (размер таблицы), `count` исключает отсутствующие значения. \n",
    "\n",
    "В методе `value_counts` используйте `dropna` аргумент для включения или исключения `NaN` значений."
   ]
  },
  {
   "cell_type": "markdown",
   "metadata": {
    "id": "ltOv-2_QraOQ"
   },
   "source": [
    "В руководстве пользователя есть специальный раздел `value_counts`, см. [Страницу о дискретизации](https://pandas.pydata.org/docs/user_guide/basics.html#basics-discretization)."
   ]
  },
  {
   "cell_type": "markdown",
   "metadata": {
    "id": "QjWoiA7NraOQ"
   },
   "source": [
    "Полное описание `подхода разделения-применения-объединения` приведено на страницах [руководства пользователя по групповым операциям](https://pandas.pydata.org/pandas-docs/stable/user_guide/groupby.html#groupby)."
   ]
  },
  {
   "cell_type": "markdown",
   "metadata": {
    "id": "6YJ0R7S0raOQ"
   },
   "source": [
    "<a href=\"https://t.me/init_python\"><img src=\"https://dfedorov.spb.ru/pandas/logo-telegram.png\" width=\"35\" height=\"35\" alt=\"telegram\" align=\"left\"></a>"
   ]
  },
  {
   "cell_type": "code",
   "execution_count": null,
   "metadata": {
    "id": "ste6Ia9XraOR"
   },
   "outputs": [],
   "source": []
  }
 ],
 "metadata": {
  "colab": {
   "provenance": []
  },
  "kernelspec": {
   "display_name": "Python 3 (ipykernel)",
   "language": "python",
   "name": "python3"
  },
  "language_info": {
   "codemirror_mode": {
    "name": "ipython",
    "version": 3
   },
   "file_extension": ".py",
   "mimetype": "text/x-python",
   "name": "python",
   "nbconvert_exporter": "python",
   "pygments_lexer": "ipython3",
   "version": "3.10.8"
  }
 },
 "nbformat": 4,
 "nbformat_minor": 1
}
